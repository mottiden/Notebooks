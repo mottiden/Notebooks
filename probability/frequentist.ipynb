{
 "metadata": {
  "name": "",
  "signature": "sha256:fbcefd575c64b6885e7224401c16f81465e8dfdf569b029ecf8cb1349e8c1991"
 },
 "nbformat": 3,
 "nbformat_minor": 0,
 "worksheets": [
  {
   "cells": [
    {
     "cell_type": "markdown",
     "metadata": {},
     "source": [
      "#Are male profiles funded faster than female profiles, or vice-versa?"
     ]
    },
    {
     "cell_type": "markdown",
     "metadata": {},
     "source": [
      "I will try to answer the question\n",
      "\n",
      "> For a Kickstarter-like company, is there a difference in the number of hours to fully fund a male profile, and the number of hours to fully fund a female profile?\n",
      "\n",
      "and in the process, I will go through:\n",
      "\n",
      "* means and medians\n",
      "* the Central Limit Theorem and the Law of Large Numbers\n",
      "* confidence intervals\n",
      "* p-values and how to correctly interpret them\n",
      "* parametric and non-parametric signficance tests\n",
      "* data transformations (like the Richter scale for earthquakes)\n",
      "* the difference between (Bayesian) direct probability statements and (Frequentist) statements on the frequency of an observation"
     ]
    },
    {
     "cell_type": "markdown",
     "metadata": {},
     "source": [
      "The sections are:\n",
      "1. [The Law of Large Numbers and the Central Limit Theorem](#The-Law-of-Large-Numbers-and-the-Central-Limit-Theorem) \n",
      "2. [Data Transformations](#Data-Transformations)\n",
      "3. [Why is there a difference? Do males have profiles asking for more money?](#Why-is-there-a-difference?-Do-males-have-profiles-asking-for-more-money?)\n",
      "4. [Non-parametric tests: Wilcoxon Rank Sum test](#Non-parametric-tests:-Wilcoxon-Rank-Sum-test)\n",
      "5. [Conclusion](#Conclusion)\n",
      "6. [Next steps](#Next-steps)"
     ]
    },
    {
     "cell_type": "code",
     "collapsed": false,
     "input": [
      "%matplotlib inline\n",
      "import pandas as pd\n",
      "from scipy import stats\n",
      "import seaborn as sns\n",
      "sns.set_palette('Set2')\n",
      "sns.set_context('paper', font_scale=2.0)\n",
      "from numpy import sqrt\n",
      "from matplotlib import pyplot as plt\n",
      "import numpy as np\n",
      "from scipy.stats.mstats import normaltest\n",
      "from IPython.core.pylabtools import figsize\n",
      "figsize(20,6)"
     ],
     "language": "python",
     "metadata": {},
     "outputs": [],
     "prompt_number": 1
    },
    {
     "cell_type": "code",
     "collapsed": false,
     "input": [
      "df = pd.read_csv('data.csv')"
     ],
     "language": "python",
     "metadata": {},
     "outputs": [],
     "prompt_number": 2
    },
    {
     "cell_type": "markdown",
     "metadata": {},
     "source": [
      "My eventual goal is to create a machine learning model to predict how long it takes to fully fund a profile. But first, let's do some exploratory data analysis and basic inferential statistics to see if there are differences in the time it takes to fund a profile by sex."
     ]
    },
    {
     "cell_type": "markdown",
     "metadata": {},
     "source": [
      "##Histograms\n",
      "If we look at the distributions, they are heavily right-skewed."
     ]
    },
    {
     "cell_type": "code",
     "collapsed": false,
     "input": [
      "fig, axs = plt.subplots(1, 2, sharey=True)\n",
      "\n",
      "df.hrs_to_fund[df.gender == 'male'].hist(ax=axs[0], bins=50)\n",
      "axs[0].set_title('Male')\n",
      "axs[0].set_ylabel('Number of profiles')\n",
      "axs[0].set_xlabel('Hours to fund profile (binned)')\n",
      "#axs[0].vlines(df.hrs_to_fund[df.gender == 'male'].mean(), 0, 150, color=\"k\", linestyles=\"--\", lw=1)\n",
      "#axs[0].vlines(df.hrs_to_fund[df.gender == 'male'].quantile(.34), 0, 150, color=\"k\", linestyles=\"--\", lw=1)\n",
      "#axs[0].vlines(df.hrs_to_fund[df.gender == 'male'].quantile(.68), 0, 150, color=\"k\", linestyles=\"--\", lw=1)\n",
      "\n",
      "#axs[0].vlines(df.hrs_to_fund[df.gender == 'male'].median(), 0, 150, color=\"b\", lw=1)\n",
      "\n",
      "\n",
      "df.hrs_to_fund[df.gender == 'female'].hist(ax=axs[1], bins=50)\n",
      "axs[1].set_title('Female')\n",
      "axs[1].set_xlabel('Hours to fund profile (binned)')\n",
      "#axs[1].vlines(df.hrs_to_fund[df.gender == 'female'].mean(), 0, 150, color=\"k\", linestyles=\"--\", lw=1)"
     ],
     "language": "python",
     "metadata": {},
     "outputs": [
      {
       "metadata": {},
       "output_type": "pyout",
       "prompt_number": 3,
       "text": [
        "<matplotlib.text.Text at 0x108a674d0>"
       ]
      },
      {
       "metadata": {},
       "output_type": "display_data",
       "png": "[encoded data removed]",
       "text": [
        "<matplotlib.figure.Figure at 0x108bff7d0>"
       ]
      }
     ],
     "prompt_number": 3
    },
    {
     "cell_type": "code",
     "collapsed": false,
     "input": [
      "to_print1 = df.hrs_to_fund[df.gender == 'male'].mean() - df.hrs_to_fund[df.gender == 'female'].mean()\n",
      "print 'The difference between the average number of hours to fund a male profile and a female profile is {:.2f} hours.'.format(to_print1)"
     ],
     "language": "python",
     "metadata": {},
     "outputs": [
      {
       "output_type": "stream",
       "stream": "stdout",
       "text": [
        "The difference between the average number of hours to fund a male profile and a female profile is 23.21 hours.\n"
       ]
      }
     ],
     "prompt_number": 4
    },
    {
     "cell_type": "code",
     "collapsed": false,
     "input": [
      "to_print2 = df.hrs_to_fund[df.gender == 'male'].median() - df.hrs_to_fund[df.gender == 'female'].median()\n",
      "print 'The difference between the median hours to fund a male profile and a female profile is {:.2f} hours.'.format(to_print2)"
     ],
     "language": "python",
     "metadata": {},
     "outputs": [
      {
       "output_type": "stream",
       "stream": "stdout",
       "text": [
        "The difference between the median hours to fund a male profile and a female profile is 10.93 hours.\n"
       ]
      }
     ],
     "prompt_number": 5
    },
    {
     "cell_type": "markdown",
     "metadata": {},
     "source": [
      "Are the differences significant, considering that some profiles took 300 hours or more to fully fund?"
     ]
    },
    {
     "cell_type": "code",
     "collapsed": false,
     "input": [
      "df.hrs_to_fund[df.gender == 'male'].describe()"
     ],
     "language": "python",
     "metadata": {},
     "outputs": [
      {
       "metadata": {},
       "output_type": "pyout",
       "prompt_number": 6,
       "text": [
        "count    524.000000\n",
        "mean      92.255041\n",
        "std      110.905534\n",
        "min        0.017220\n",
        "25%       12.484800\n",
        "50%       52.284285\n",
        "75%      132.231703\n",
        "max      749.074778\n",
        "dtype: float64"
       ]
      }
     ],
     "prompt_number": 6
    },
    {
     "cell_type": "code",
     "collapsed": false,
     "input": [
      "df.hrs_to_fund[df.gender == 'female'].describe()"
     ],
     "language": "python",
     "metadata": {},
     "outputs": [
      {
       "metadata": {},
       "output_type": "pyout",
       "prompt_number": 7,
       "text": [
        "count    584.000000\n",
        "mean      69.045949\n",
        "std       84.293141\n",
        "min        0.038295\n",
        "25%       14.914516\n",
        "50%       41.353936\n",
        "75%       95.263354\n",
        "max      859.515890\n",
        "dtype: float64"
       ]
      }
     ],
     "prompt_number": 7
    },
    {
     "cell_type": "markdown",
     "metadata": {},
     "source": [
      "## Before we begin: what kinds of statements can we make?\n",
      "\n",
      "Whether or not the population is normally distributed, we can make statements like:\n",
      "\n",
      ">The probability that a profile gets funded before 4 days is X%.\n",
      "\n",
      "We can also compare the two distribution means and medians:\n",
      "\n",
      ">The average number of hours to fund a male profile is 23 hours greater than for a female profile.\n",
      "\n",
      ">The median number of hours to fund a male profile is 11 hours greater than for a female profile.\n",
      "\n",
      "But we can't do any confidence intervals or parametric significance tests. They require a Normal- or t-distribution. We can't make any statements like:\n",
      "\n",
      ">The average number of hours to fund a male profile is between $a$ and $b$ with $X\\%$ confidence, and the average number of hours to fund a female profile is between $c$ and $d$ with $X\\%$ confidence.\n",
      "\n",
      ">The average number of hours to fund a male profile is statistically significantly different than for a female profile (at the significance level $\\alpha = 0.05$)."
     ]
    },
    {
     "cell_type": "heading",
     "level": 1,
     "metadata": {},
     "source": [
      "The Law of Large Numbers and the Central Limit Theorem"
     ]
    },
    {
     "cell_type": "markdown",
     "metadata": {},
     "source": [
      "Because our distributions are not Normal, we can't use parametric significance tests to detect a possible difference between their averages. Let's use the Central Limit Theorem to create Normal distributions, then apply the signficance tests.\n",
      "\n",
      "Let's take a random sample out of our `male` distribution, of size $n$. Let's find the mean $\\bar X$ for that sample. Let's do this for multiple samples, and plot a histogram of those $\\bar X$s. Our resulting histogram will have a Normal distribution via the Central Limit Theorem. It will also have a mean $\\mu_{\\bar X}$ that is very close to the population mean $\\mu_{male}$ as the number of samples increases, via the Law of Large Numbers.\n",
      "\n",
      "We now have a probability distribution for $\\mu_{male}$, from which we can figure out its variance, standard deviation, and confidence interval."
     ]
    },
    {
     "cell_type": "code",
     "collapsed": false,
     "input": [
      "def c(sample_size, male, n_samples=400):\n",
      "    \"\"\"c for Central Limit Theorem. male for male or female df.\n",
      "    this fn pulls samples out of the population and return a dist of sample means.\"\"\"\n",
      "    results = np.empty(n_samples)\n",
      "    for i in range(n_samples):\n",
      "        results[i] = pd.Series(np.random.choice(male, sample_size)).mean()\n",
      "    return results\n",
      "\n",
      "to_print2 = c(500, df.hrs_to_fund[df.gender == 'male']).mean() - c(500, df.hrs_to_fund[df.gender == 'female']).mean()\n",
      "print 'Via the Law of Large Numbers, the difference between the average number of hours to fully fund a male profile and a female profile is {:.2f} hours.'.format(to_print2)"
     ],
     "language": "python",
     "metadata": {},
     "outputs": [
      {
       "output_type": "stream",
       "stream": "stdout",
       "text": [
        "Via the Law of Large Numbers, the difference between the average number of hours to fully fund a male profile and a female profile is 22.94 hours.\n"
       ]
      }
     ],
     "prompt_number": 8
    },
    {
     "cell_type": "markdown",
     "metadata": {},
     "source": [
      "The difference between the true $\\mu_{male} - \\mu_{female}$ and our $\\mu_{\\bar X, \\ male} - \\mu_{\\bar X, \\ female}$ as determined by the Law of Large Numbers is $23.31 - 23.09 = 0.22$ hours. Pretty close!"
     ]
    },
    {
     "cell_type": "markdown",
     "metadata": {},
     "source": [
      "The advantage of the Central Limit Theorem is that instead of trying to guess what kind of distribution `male` is, we can create a Normal distribution concerning $\\mu_{male}$. Once it's a Normal distribution, we have ready-made tools and formulas such as parametric significance tests and confidence intervals that wouldn't exist otherwise."
     ]
    },
    {
     "cell_type": "markdown",
     "metadata": {},
     "source": [
      "##95% Confidence Intervals via the Central Limit Theorem\n",
      "\n",
      "We can now make statements about the distribution of the average number of hours it takes to fund a profile. We can make confidence intervals about this value because its distribution is Normal."
     ]
    },
    {
     "cell_type": "code",
     "collapsed": false,
     "input": [
      "sample_mean_male = pd.Series(c(300, df.hrs_to_fund[df.gender == 'male']))\n",
      "sample_mean_female = pd.Series(c(300, df.hrs_to_fund[df.gender == 'female']))\n",
      "\n",
      "sample_mean_male.hist(alpha=.5, label='Male', bins=np.arange(50,130,5))\n",
      "sample_mean_female.hist(alpha=.5, label='Female', bins=np.arange(50,130,5))\n",
      "\n",
      "plt.ylabel('Number of sample means')\n",
      "plt.xlabel('Sample means of hours to fund profile (binned)')\n",
      "plt.legend()"
     ],
     "language": "python",
     "metadata": {},
     "outputs": [
      {
       "metadata": {},
       "output_type": "pyout",
       "prompt_number": 9,
       "text": [
        "<matplotlib.legend.Legend at 0x1095c3050>"
       ]
      },
      {
       "metadata": {},
       "output_type": "display_data",
       "png": "[encoded data removed]",
       "text": [
        "<matplotlib.figure.Figure at 0x103331a10>"
       ]
      }
     ],
     "prompt_number": 9
    },
    {
     "cell_type": "markdown",
     "metadata": {},
     "source": [
      "### Verifying that the sample mean distributions are Normal"
     ]
    },
    {
     "cell_type": "code",
     "collapsed": false,
     "input": [
      "to_print = normaltest(sample_mean_male)\n",
      "print 'The k2 statistic for sample_mean_male is {:.2f}. The p-value is {:.2f}'.format(to_print[0], to_print[1])"
     ],
     "language": "python",
     "metadata": {},
     "outputs": [
      {
       "output_type": "stream",
       "stream": "stdout",
       "text": [
        "The k2 statistic for sample_mean_male is 5.58. The p-value is 0.06\n"
       ]
      }
     ],
     "prompt_number": 10
    },
    {
     "cell_type": "code",
     "collapsed": false,
     "input": [
      "to_print = normaltest(sample_mean_female)\n",
      "print 'The k2 statistic for sample_mean_male is {:.2f}. The p-value is {:.2f}'.format(to_print[0], to_print[1])"
     ],
     "language": "python",
     "metadata": {},
     "outputs": [
      {
       "output_type": "stream",
       "stream": "stdout",
       "text": [
        "The k2 statistic for sample_mean_male is 0.13. The p-value is 0.94\n"
       ]
      }
     ],
     "prompt_number": 11
    },
    {
     "cell_type": "markdown",
     "metadata": {},
     "source": [
      "Via the D'Agostino-Pearson omnibus test for normality, the p-values for the `sample_mean_male` distribution and the `sample_mean_female` distribution are not statistically significant. We will explain how to interpret p-values below, but for now, it means that we can't say that the two distributions are non-Normal."
     ]
    },
    {
     "cell_type": "markdown",
     "metadata": {},
     "source": [
      "###Computing the Confidence Interval\n",
      "\n",
      "Let's say that a true mean exists for the time it takes to fund male profiles, and similarly for female profiles.\n",
      "\n",
      "The data we have now are just sample means from the true data. We don't have all of the true data in the world, so our mean of sample means $\\mu_{\\bar X}$ is an estimate of the true mean $\\mu$.\n",
      "\n",
      "Let's find the 95% confidence interval for $\\mu_{male} - \\mu_{female}$.\n",
      "\n",
      "It lies between $\\large \\mu_{\\bar X,\\ male} - \\mu_{\\bar X,\\ female} - 1.96\\sqrt[]{\\frac{s^{2}_{male}}{n_{male}} + \\frac{s^{2}_{female}}{n_{female}}}$ and $\\large \\mu_{\\bar X,\\ male} - \\mu_{\\bar X,\\ female} + 1.96\\sqrt[]{\\frac{s^{2}_{male}}{n_{male}} + \\frac{s^{2}_{female}}{n_{female}}}$."
     ]
    },
    {
     "cell_type": "code",
     "collapsed": false,
     "input": [
      "def calc_ci_diff(male, female):\n",
      "    \"\"\"input 2 dfs\"\"\"\n",
      "\n",
      "    def s2(male):\n",
      "        return ((male - male.mean())**2).sum() / float(male.shape[0] - 1)\n",
      "    \n",
      "    first_part = male.mean() - female.mean()\n",
      "    second_part = 1.96 * sqrt(s2(male) / male.shape[0] + s2(female) / female.shape[0])\n",
      "    \n",
      "    ci1 = first_part - second_part\n",
      "    ci2 = first_part + second_part\n",
      "    \n",
      "    return ci1, ci2"
     ],
     "language": "python",
     "metadata": {},
     "outputs": [],
     "prompt_number": 12
    },
    {
     "cell_type": "code",
     "collapsed": false,
     "input": [
      "to_print = calc_ci_diff(sample_mean_male, sample_mean_female)\n",
      "print 'The 95% confidence interval for the difference between the average number of hours it takes to fund a male profile and a female profile lies between {:.2f} and {:.2f} hours.'.format(to_print[0], to_print[1])"
     ],
     "language": "python",
     "metadata": {},
     "outputs": [
      {
       "output_type": "stream",
       "stream": "stdout",
       "text": [
        "The 95% confidence interval for the difference between the average number of hours it takes to fund a male profile and a female profile lies between 22.17 and 23.70 hours.\n"
       ]
      }
     ],
     "prompt_number": 13
    },
    {
     "cell_type": "markdown",
     "metadata": {},
     "source": [
      "###How to interpret the confidence interval?\n",
      "\n",
      "The data we have is just a subset, a sample of the truth. If we were to do the 'experiment' multiple times, we'd have different data. (The 'experiment' here is if people funded these profiles in an alternate universe, with all the underlying circumstances the same.) \n",
      "\n",
      "Let's say we do that 'experiment' 100 times. We'll have 100 sets of data. (In this case, we only have 1.)\n",
      "\n",
      "In 95 of those 'experiments', our interval will contain the true figure of the population. (In this case, the figure is the difference between the mean number of hours to fund a male patient, and the same for a female patient.) We are hoping that this is one of those 95 'experiments'! Each 'experiment' will have its own confidence interval.\n",
      "\n",
      "What's random is not whether the true figure is in our interval, but whether our interval is one of the 95% of the ones that is correct. The data is not random, nor is the true figure of the population.\n",
      "\n",
      "####Shorter version\n",
      "\n",
      "We are 95% confident that the difference between the true mean of the number of hours it takes to fund a male profile, and the true mean of the number of hours it takes to fund a female profile is between the hours in our interval. Because we are estimating $\\mu_{male} - \\mu_{female}$ and the confidence interval is positive, this implies that it takes longer on average to fund a male profile."
     ]
    },
    {
     "cell_type": "markdown",
     "metadata": {},
     "source": [
      "##Hypothesis testing: Two-sample Z test, t-test\n",
      "\n",
      "The confidence interval already provides strong evidence that the two means are indeed different. But for completeness, let's perform the Z test and t-test to verify that the two means are statistically significantly different.\n",
      "\n",
      "I will again use the distributions of $\\mu_{male}$ and $\\mu_{female}$ via the Law of Large Numbers, because the Z test and t-test require that the distributions be Normal."
     ]
    },
    {
     "cell_type": "markdown",
     "metadata": {},
     "source": [
      "###Interpreting p-values\n",
      "\n",
      "When we perform a significance test, we start with a null hypothesis $H_0$ and an alternative hypothesis $H_a$. We assume that the null hypothesis is true, and with the new data we have from our experiment, we see what the chances are that we received our result assuming that the null hypothesis is true.\n",
      "\n",
      "Through significance tests, we can 'prove' that the result belongs to the alternate hypothesis, but we cannot prove that the null hypothesis is true. We are merely assuming that it is true, and then seeing how odd our result is from that. To prove the null hypothesis true, we would need to use a statisical equivalency test.\n",
      "\n",
      "We can determine whether there is a statistically signficant difference between two respective distributions, but we are not determining how big or small that difference is. To do so, we would need to look at effect size, via a confidence interval.\n",
      "\n",
      "The way to interpret a p-value is:\n",
      "\n",
      "> Assuming that the null hypothesis $H_0$ is true, the chances that I got the result I did is $X\\%$. \n",
      "\n",
      "> Before the experiment was performed, I said that if the chance that I would get the result I did is more than 5%, I will not consider that odd, and I will 'retain' the null hypothesis.\n",
      "\n",
      "> If the chance that I would get the result is less than 5%, I will say that that's too odd, and the result must not have come out of the $H_0$ distribution. It must have come out of the $H_a$ distribution, and I will adopt $H_a$ as true."
     ]
    },
    {
     "cell_type": "markdown",
     "metadata": {},
     "source": [
      "###Z test\n",
      "The major assumption we are making for the Z test (and for the t-test) is that the two distributions are independent. That is to say, the time it takes to fully fund a male profile doesn't affect the time it takes to fund a female profile, and vice-versa. \n",
      "\n",
      "This assumption is lightly broken, because a user is given a choice to either fund a male or a female profile. If the user funds a male profile, there is a female profile which is not being funded, assuming that the user was going to spend that money anyways. \n",
      "\n",
      "But when a user funds a male profile, that doesn't affect whether the user will fund a male or a female profile next."
     ]
    },
    {
     "cell_type": "code",
     "collapsed": false,
     "input": [
      "def calc_p_vals(X, Y):\n",
      "    \"\"\"from a Normal dist\n",
      "    2-tailed\n",
      "    http://dept.stat.lsa.umich.edu/~kshedden/Python-Workshop/stats_calculations.html\"\"\"\n",
      "    md = np.mean(X) - np.mean(Y)\n",
      "    se = np.sqrt(np.var(X)/len(X) + np.var(Y)/len(Y))\n",
      "    z = md/se\n",
      "    pvalue = 2*stats.distributions.norm.cdf(-np.abs(z))\n",
      "    # explanation for the above:\n",
      "    # bc 2-tailed, always want Z to be neg\n",
      "    # then, from neg inf to that vertical line, we want to find that area, multiply that by 2 for 2-tailed\n",
      "    # it was -2 before; idk why\n",
      "    \n",
      "    return pvalue"
     ],
     "language": "python",
     "metadata": {},
     "outputs": [],
     "prompt_number": 14
    },
    {
     "cell_type": "code",
     "collapsed": false,
     "input": [
      "calc_p_vals(sample_mean_male, sample_mean_female)"
     ],
     "language": "python",
     "metadata": {},
     "outputs": [
      {
       "metadata": {},
       "output_type": "pyout",
       "prompt_number": 15,
       "text": [
        "0.0"
       ]
      }
     ],
     "prompt_number": 15
    },
    {
     "cell_type": "markdown",
     "metadata": {},
     "source": [
      "The null hypothesis $H_0$ is that the mean number of hours to fund a male profile is equivalent to the mean number of hours to fund a female profile. The alternate hypothesis $H_a$ is that they are different.\n",
      "\n",
      "$$H_0: \\mu_{male} = \\mu_{female}$$\n",
      "$$H_a: \\mu_{male} \\neq \\mu_{female}$$\n",
      "\n",
      "The p-value here is infintesmally small. Assuming that $H_0$ is true, there is an infintesmally small chance that $\\mu_{male}$ would be as different as it was from $\\mu_{female}$. Because our result is so odd, we will reject $H_0$ and adopt $H_a$ as true.\n",
      "\n",
      "Thus, the mean number of hours to fund a male profile is statistically significantly different from the mean number of hours to fund a female profile."
     ]
    },
    {
     "cell_type": "markdown",
     "metadata": {},
     "source": [
      "###t-test\n",
      "When the sample size becomes large, the results of the t-test and the Z-test become very similar. A rule of thumb for how large is large is when n > 100. Let's do a two-sample t-test to see how similar the results are to the Z test. \n",
      "\n",
      "The assumptions of the two-sample t-test are that:\n",
      "* the two samples are independent, and not related to each other\n",
      "* both distributions are Normal"
     ]
    },
    {
     "cell_type": "code",
     "collapsed": false,
     "input": [
      "to_print = stats.ttest_ind(sample_mean_male, sample_mean_female, equal_var=False)\n",
      "print 'The t-statistic is {:.2f}. The p-value is {:.2e}.'.format(float(to_print[0]), to_print[1])"
     ],
     "language": "python",
     "metadata": {},
     "outputs": [
      {
       "output_type": "stream",
       "stream": "stdout",
       "text": [
        "The t-statistic is 58.80. The p-value is 1.55e-283.\n"
       ]
      }
     ],
     "prompt_number": 16
    },
    {
     "cell_type": "raw",
     "metadata": {},
     "source": [
      "do option where vars are not equal"
     ]
    },
    {
     "cell_type": "markdown",
     "metadata": {},
     "source": [
      "The hypothesis is the same as for the Z-test:\n",
      "\n",
      "$$H_0: \\mu_{male} = \\mu_{female}$$\n",
      "$$H_a: \\mu_{male} \\neq \\mu_{female}$$\n",
      "\n",
      "The p-value here is also infintesmally small. Assuming that $H_0$ is true, there is an infintesmally small chance that $\\mu_{male}$ would be as different as it was from $\\mu_{female}$. Because our result is so odd, we will reject $H_0$ and adopt $H_a$ as true.\n",
      "\n",
      "Thus, the mean number of hours to fund a male profile is statistically significantly different than the mean number of hours to fund a female profile via the t-test as well."
     ]
    },
    {
     "cell_type": "heading",
     "level": 1,
     "metadata": {},
     "source": [
      "Data Transformations"
     ]
    },
    {
     "cell_type": "markdown",
     "metadata": {},
     "source": [
      "So far, we've made inferences about the mean number of hours to fund a profile via the Central Limit Theorem and the Law of Large Numbers. Now, we will alternatively try to transform the data into a Normal distribution, and make inferences on the transformed metric. The log Richter scale for earthquakes is an example of this."
     ]
    },
    {
     "cell_type": "markdown",
     "metadata": {},
     "source": [
      "Let's just work with the `male` distribution first, and let's try $log(X)$."
     ]
    },
    {
     "cell_type": "code",
     "collapsed": false,
     "input": [
      "to_plot = np.log(df.hrs_to_fund[df.gender == 'male'])\n",
      "to_plot.hist()"
     ],
     "language": "python",
     "metadata": {},
     "outputs": [
      {
       "metadata": {},
       "output_type": "pyout",
       "prompt_number": 17,
       "text": [
        "<matplotlib.axes._subplots.AxesSubplot at 0x106dd8850>"
       ]
      },
      {
       "metadata": {},
       "output_type": "display_data",
       "png": "[encoded data removed]",
       "text": [
        "<matplotlib.figure.Figure at 0x1033319d0>"
       ]
      }
     ],
     "prompt_number": 17
    },
    {
     "cell_type": "markdown",
     "metadata": {},
     "source": [
      "It's too left-skewed."
     ]
    },
    {
     "cell_type": "markdown",
     "metadata": {},
     "source": [
      "Let's try the cube root, $X^{1/3}$."
     ]
    },
    {
     "cell_type": "code",
     "collapsed": false,
     "input": [
      "from scipy.special import cbrt\n",
      "\n",
      "to_plot = cbrt(df.hrs_to_fund[df.gender == 'male'])\n",
      "to_plot.hist()"
     ],
     "language": "python",
     "metadata": {},
     "outputs": [
      {
       "metadata": {},
       "output_type": "pyout",
       "prompt_number": 18,
       "text": [
        "<matplotlib.axes._subplots.AxesSubplot at 0x109690250>"
       ]
      },
      {
       "metadata": {},
       "output_type": "display_data",
       "png": "[encoded data removed]",
       "text": [
        "<matplotlib.figure.Figure at 0x109952c10>"
       ]
      }
     ],
     "prompt_number": 18
    },
    {
     "cell_type": "code",
     "collapsed": false,
     "input": [
      "normaltest(to_plot)"
     ],
     "language": "python",
     "metadata": {},
     "outputs": [
      {
       "metadata": {},
       "output_type": "pyout",
       "prompt_number": 19,
       "text": [
        "(23.44130017156699, 8.1243073242432587e-06)"
       ]
      }
     ],
     "prompt_number": 19
    },
    {
     "cell_type": "markdown",
     "metadata": {},
     "source": [
      "$$H_0: \\textrm{The sample is derived from a normally distributed population}$$\n",
      "$$H_a: \\textrm{The sample is not derived from a normally distributed population}$$\n",
      "\n",
      "The p-value here is very small. Assuming that $H_0$ is true, there is an $8.12 \\times 10^{-4}$ percent chance that the distribution would be what it was. Because our result is so odd, we will reject $H_0$ and adopt $H_a$ as true.\n",
      "\n",
      "Thus, we have determined in a statistically significant manner that the sample is not derived from a normally distributed population."
     ]
    },
    {
     "cell_type": "markdown",
     "metadata": {},
     "source": [
      "####Quadratic root of X\n",
      "Let's try exponentiating the `male` and `female` distributions to the $\\frac{1}{4}^{th}$ power."
     ]
    },
    {
     "cell_type": "code",
     "collapsed": false,
     "input": [
      "male = df.hrs_to_fund[df.gender == 'male'] ** 0.25\n",
      "male.hist(alpha=.5, label='Male', bins=np.arange(0,6,0.5))\n",
      "#female.hist(alpha=.5, label='Female', bins=np.arange(0,6,0.5))\n",
      "plt.xlabel('[Hours to fund profile]$^{1/4}$ (binned)')\n",
      "plt.ylabel('Number of profiles')\n",
      "plt.legend()"
     ],
     "language": "python",
     "metadata": {},
     "outputs": [
      {
       "metadata": {},
       "output_type": "pyout",
       "prompt_number": 20,
       "text": [
        "<matplotlib.legend.Legend at 0x109975090>"
       ]
      },
      {
       "metadata": {},
       "output_type": "display_data",
       "png": "[encoded data removed]",
       "text": [
        "<matplotlib.figure.Figure at 0x109998850>"
       ]
      }
     ],
     "prompt_number": 20
    },
    {
     "cell_type": "code",
     "collapsed": false,
     "input": [
      "normaltest(male)"
     ],
     "language": "python",
     "metadata": {},
     "outputs": [
      {
       "metadata": {},
       "output_type": "pyout",
       "prompt_number": 21,
       "text": [
        "(20.449926210529132, 3.6253917799911869e-05)"
       ]
      }
     ],
     "prompt_number": 21
    },
    {
     "cell_type": "markdown",
     "metadata": {},
     "source": [
      "$$H_0: \\textrm{The sample is derived from a normally distributed population}$$\n",
      "$$H_a: \\textrm{The sample is not derived from a normally distributed population}$$\n",
      "\n",
      "The p-value for our transformed `male` distribution is statistically significant at the $p = 0.005$ level. Assuming that $H_0$ is true, there is an $0.00363\\%$ chance that the `male` distribution would be what it was. Because our result is so odd, we will reject $H_0$ and adopt $H_a$ as true.\n",
      "\n",
      "Thus, we have determined in a statistically significant manner that our transformed `male` distribution is not derived from a normally distributed population."
     ]
    },
    {
     "cell_type": "markdown",
     "metadata": {},
     "source": [
      "###Testing various roots"
     ]
    },
    {
     "cell_type": "code",
     "collapsed": false,
     "input": [
      "def check_normal(root=.25):\n",
      "    to_plot = df.hrs_to_fund[df.gender == 'male'] ** root\n",
      "    return normaltest(to_plot)[1]\n",
      "\n",
      "for i in range(15,25):\n",
      "    num = i * .01\n",
      "    print i, '{:.2e}'.format(check_normal(num))"
     ],
     "language": "python",
     "metadata": {},
     "outputs": [
      {
       "output_type": "stream",
       "stream": "stdout",
       "text": [
        "15 2.31e-05\n",
        "16 5.62e-05\n",
        "17 1.06e-04\n",
        "18 "
       ]
      },
      {
       "output_type": "stream",
       "stream": "stdout",
       "text": [
        "1.56e-04\n",
        "19 1.87e-04\n",
        "20 1.85e-04\n",
        "21 1.58e-04\n",
        "22 1.19e-04\n",
        "23 8.29e-05\n",
        "24 5.52e-05\n"
       ]
      }
     ],
     "prompt_number": 22
    },
    {
     "cell_type": "markdown",
     "metadata": {},
     "source": [
      "The highest p-value we can get our transformed `male` distribution to have, after cycling through all the various roots, is where the p-value of $X^{0.17}$ has a p-value of $0.000106$. This is not significant at the significance level $\\alpha = 0.05$.\n",
      "\n",
      "Since we can't transform `male` into a Normal distribution, we will stop here. If we could transform it in a statistically signficant way, via $X^{1/4}$ for example, we could make statements like:\n",
      "\n",
      "> The quadratic root mean of the number of hours it takes to fund a male profile is $Y$ less than the quadratic root mean of the number of hours it takes to fund a female profile.\n",
      "\n",
      "and we could use this metric to define whether there is a difference between the distributions. In this case, the transformation makes the results more difficult to interpret. But in other cases, it eases interpretation. For example, in the Richter scale to measure earthquake energy, the log values of the amplitude of waves recorded by seismographs are compared, instead of the actual amplitudes themselves. \n",
      "\n",
      "Or, in a more advanced example, taking advantage of the property:\n",
      "\n",
      "$$Y = \\log(\\mu_{male}) - \\log(\\mu_{female}) = \\frac{\\mu_{male}}{\\mu_{female}}$$\n",
      "\n",
      "if our $Y$ were 1.23, we would say\n",
      "\n",
      "> It takes 23% more hours to fund an average male profile than to fund an average female profile.\n",
      "\n",
      "instead of\n",
      "\n",
      "> The difference between the log number of hours to fund an average male profile and the log number of hours to fund an average female profile is 1.23."
     ]
    },
    {
     "cell_type": "heading",
     "level": 1,
     "metadata": {},
     "source": [
      "Why is there a difference? Do males have profiles asking for more money?"
     ]
    },
    {
     "cell_type": "markdown",
     "metadata": {},
     "source": [
      "Let's look at the histograms of the amount of money that each profile requests, broken down by sex."
     ]
    },
    {
     "cell_type": "code",
     "collapsed": false,
     "input": [
      "(df.target_amount[df.gender == 'male'] * .01).hist(alpha=.5, bins=range(0,2000,100), label='Male')\n",
      "(df.target_amount[df.gender == 'female'] * .01).hist(alpha=.5, bins=range(0,2000,100), label='Female')\n",
      "plt.xlabel('Target amounts (binned)')\n",
      "plt.ylabel('Number of profiles')\n",
      "plt.legend()"
     ],
     "language": "python",
     "metadata": {},
     "outputs": [
      {
       "metadata": {},
       "output_type": "pyout",
       "prompt_number": 23,
       "text": [
        "<matplotlib.legend.Legend at 0x10a1b3390>"
       ]
      },
      {
       "metadata": {},
       "output_type": "display_data",
       "png": "[encoded data removed]",
       "text": [
        "<matplotlib.figure.Figure at 0x10992e850>"
       ]
      }
     ],
     "prompt_number": 23
    },
    {
     "cell_type": "markdown",
     "metadata": {},
     "source": [
      "From my 'local' knowledge, I know that women have profiles for safe pregnancy, and the cost of this is always $215. Assuming this, let's remove pregnancies from the above histogram."
     ]
    },
    {
     "cell_type": "code",
     "collapsed": false,
     "input": [
      "(df.target_amount[df.gender == 'male'] * .01).hist(alpha=.5, bins=range(0,2000,100), label='Male')\n",
      "(df.target_amount[df.gender == 'female'][df.target_amount != 21500] * .01).hist(alpha=.5, bins=range(0,2000,100), label='Female')\n",
      "plt.xlabel('Target amounts (binned)')\n",
      "plt.ylabel('Number of profiles')\n",
      "plt.legend()"
     ],
     "language": "python",
     "metadata": {},
     "outputs": [
      {
       "metadata": {},
       "output_type": "pyout",
       "prompt_number": 24,
       "text": [
        "<matplotlib.legend.Legend at 0x108bff5d0>"
       ]
      },
      {
       "metadata": {},
       "output_type": "display_data",
       "png": "[encoded data removed]",
       "text": [
        "<matplotlib.figure.Figure at 0x10995b310>"
       ]
      }
     ],
     "prompt_number": 24
    },
    {
     "cell_type": "markdown",
     "metadata": {},
     "source": [
      "Now it looks like males and females are on a more equal playing field regarding the number of profiles at various target amounts."
     ]
    },
    {
     "cell_type": "code",
     "collapsed": false,
     "input": [
      "print 'The number of female profiles is now {}, compared to {} male profiles.'.format(df.target_amount[df.gender == 'female'][df.target_amount != 21500].count(), df.target_amount[df.gender == 'male'].count())"
     ],
     "language": "python",
     "metadata": {},
     "outputs": [
      {
       "output_type": "stream",
       "stream": "stdout",
       "text": [
        "The number of female profiles is now 463, compared to 524 male profiles.\n"
       ]
      }
     ],
     "prompt_number": 25
    },
    {
     "cell_type": "markdown",
     "metadata": {},
     "source": [
      "Let's go back and plot our 95% confidence interval of the difference of means via the Central Limit Theorem."
     ]
    },
    {
     "cell_type": "code",
     "collapsed": false,
     "input": [
      "sample_mean_male = pd.Series(c(250, df.hrs_to_fund[df.gender == 'male']))\n",
      "sample_mean_female = pd.Series(c(250, df.hrs_to_fund[df.gender == 'female'][df.target_amount != 21500]))\n",
      "\n",
      "sample_mean_male.hist(alpha=.5, label='Male', bins=range(50,120,5))\n",
      "sample_mean_female.hist(alpha=.5, label='Female', bins=range(50,120,5))\n",
      "\n",
      "plt.ylabel('Number of sample means')\n",
      "plt.xlabel('Sample means of hours to fund profile (binned)')\n",
      "plt.legend()"
     ],
     "language": "python",
     "metadata": {},
     "outputs": [
      {
       "metadata": {},
       "output_type": "pyout",
       "prompt_number": 26,
       "text": [
        "<matplotlib.legend.Legend at 0x10ad9db10>"
       ]
      },
      {
       "metadata": {},
       "output_type": "display_data",
       "png": "[encoded data removed]",
       "text": [
        "<matplotlib.figure.Figure at 0x103320890>"
       ]
      }
     ],
     "prompt_number": 26
    },
    {
     "cell_type": "code",
     "collapsed": false,
     "input": [
      "to_print = calc_ci_diff(sample_mean_male, sample_mean_female)\n",
      "print 'The 95% confidence interval for the difference between the average number of hours it takes to fund a male profile and a female profile lies between {:.2f} and {:.2f} hours.'.format(to_print[0], to_print[1])"
     ],
     "language": "python",
     "metadata": {},
     "outputs": [
      {
       "output_type": "stream",
       "stream": "stdout",
       "text": [
        "The 95% confidence interval for the difference between the average number of hours it takes to fund a male profile and a female profile lies between 19.63 and 21.47 hours.\n"
       ]
      }
     ],
     "prompt_number": 27
    },
    {
     "cell_type": "code",
     "collapsed": false,
     "input": [
      "calc_p_vals(sample_mean_male, sample_mean_female)"
     ],
     "language": "python",
     "metadata": {},
     "outputs": [
      {
       "metadata": {},
       "output_type": "pyout",
       "prompt_number": 28,
       "text": [
        "0.0"
       ]
      }
     ],
     "prompt_number": 28
    },
    {
     "cell_type": "markdown",
     "metadata": {},
     "source": [
      "Even after removing certain female profiles that might unfairly skew the average number of hours to fund a female profile, the average number of hours to fully fund a male profile is statistically signficantly greater than for a female profile."
     ]
    },
    {
     "cell_type": "heading",
     "level": 1,
     "metadata": {},
     "source": [
      "Non-parametric tests: Wilcoxon Rank Sum test"
     ]
    },
    {
     "cell_type": "markdown",
     "metadata": {},
     "source": [
      "Yet another alternative to a) using the Central Limit Theorem and the Law of Large Numbers, and b) transforming the data is to use nonparametric tests that don't require a Normal distribution. Their main disadvantage is that they are less sensitive than parametric tests at detecting differences.\n",
      "\n",
      "The nonparametric test we will use here is the Wilcoxon Rank Sum Test, which is the nonparametric equivalent of the two-sample t-test. The Wilcoxon Rank Sum Test tests whether two groups have indentical distributions, and focuses on the median as opposed to the mean."
     ]
    },
    {
     "cell_type": "code",
     "collapsed": false,
     "input": [
      "stats.ranksums(df.hrs_to_fund[df.gender == 'male'], df.hrs_to_fund[df.gender == 'female'])"
     ],
     "language": "python",
     "metadata": {},
     "outputs": [
      {
       "metadata": {},
       "output_type": "pyout",
       "prompt_number": 29,
       "text": [
        "(2.198200458231617, 0.027934824048993227)"
       ]
      }
     ],
     "prompt_number": 29
    },
    {
     "cell_type": "code",
     "collapsed": false,
     "input": [
      "stats.ranksums(df.hrs_to_fund[df.gender == 'male'], df.hrs_to_fund[df.gender == 'female'][df.target_amount != 21500])"
     ],
     "language": "python",
     "metadata": {},
     "outputs": [
      {
       "metadata": {},
       "output_type": "pyout",
       "prompt_number": 30,
       "text": [
        "(1.5809918997801891, 0.1138798898458579)"
       ]
      }
     ],
     "prompt_number": 30
    },
    {
     "cell_type": "markdown",
     "metadata": {},
     "source": [
      "$$H_0: \\textrm{two sets of measurements are drawn from the same distribution}$$\n",
      "$$H_a: \\textrm{values in one sample are more likely to be larger than the values in the other sample}$$\n",
      "\n",
      "According to the Wilcoxon Rank Sum test, if we compare the distribution of the number of hours to fund a male profile and the number of hours to fund a female profile, there is a statistically signficant difference between the two. \n",
      "\n",
      "However, if we remove the pregnancies from the female distribution, we can't reject the null hypothesis, and we can't say that it takes more hours to fund a male profile than a female, or vice-versa. If we assume that the male distribution and the female distribution minus the pregnancies are each drawn from the same distribution, the chance that we would get the Rank Sum result that we did is 11%. This result is not unlikely enough that we would reject our initial assumption."
     ]
    },
    {
     "cell_type": "heading",
     "level": 1,
     "metadata": {},
     "source": [
      "Conclusion"
     ]
    },
    {
     "cell_type": "markdown",
     "metadata": {},
     "source": [
      "Our parametric tests, which looked at the difference between the averages, stated that there is about a 20-hour, statistically significant difference between the average time to fund a male profile and the average time to fund a female profile. \n",
      "\n",
      "When we use our non-parametric tests, which look at the median instead of the average, we find that there is not a statistically significant difference between the two groups after we remove the pregnancies."
     ]
    },
    {
     "cell_type": "markdown",
     "metadata": {},
     "source": [
      "####Is it valid to remove the pregnancies?\n",
      "\n",
      "Ideally, the two groups would have profiles with the same distibution of funding request amounts, and each pair of  male-female profiles with the same funding request amount would be presented to the user at the same time. This is the ideal of the A/B test. Because we can't achieve this ideal, we want the two distributions to be on as much of an 'equal playing field' as possible. Removing the pregnancies makes the distributions of the male and female funding request amounts more similar.\n",
      "\n",
      "On the other hand, by simply removing a subset of profiles, we've removed the instances in which users would have donated to other profiles, and we'll never know how that would have affected the male and female distributions.\n",
      "\n",
      "So while there is a downside to removing a subset of profiles, I think the fact that the fact that the funding request amount distributions are more equal justifies the action.\n",
      "\n",
      "####Which test to give more weight to, the one that focuses on the mean, or the one that focuses on the median?\n",
      "\n",
      "If we look back to the distributions of the two groups, the variance is large and right-skewed. That means that when a new profile is funded, the amount of time it took could be close to the mean, but it could also be far away from the mean, because of the large variance.\n",
      "\n",
      "For that reason, when trying to decide which metric to use to define whether there is a difference between these two distribtions, I think the median is a more representative metric than the mean. The median is less affected by a large variance than the mean."
     ]
    },
    {
     "cell_type": "markdown",
     "metadata": {},
     "source": [
      "####In conclusion\n",
      "\n",
      "The median is a better indicator of the difference between these two distributions because of the large variance they each have. If we use a median-based nonparametric signficance test, we find that there is a statistically significant difference between the distribution of the number of hours to fund a male profile and the number of hours to fund a female profile.\n",
      "\n",
      "However, after we account for pregnancy profiles, which all have the same cost and which only females have, we find that there is not a significant difference between the two distributions. We also know that nonparametric tests are less sensitive to detect differences than parametric tests.\n",
      "\n",
      "In conclusion, we can't say that the number of hours to fully fund a male profile is more likely to be larger than the number of hours to fund a female profile, or vice-versa."
     ]
    },
    {
     "cell_type": "heading",
     "level": 1,
     "metadata": {},
     "source": [
      "Next steps"
     ]
    },
    {
     "cell_type": "markdown",
     "metadata": {},
     "source": [
      "We can take a different approach to answering our question, using Bayesian inference.\n",
      "\n",
      "The Bayesian framework answers the question,\n",
      "\n",
      "> Did male profiles take longer to fund than female profiles knowing what we know from this experiment?\n",
      "\n",
      "as opposed to the question we answered above,\n",
      "\n",
      "> Did male profiles take longer to fund than female profiles, if the data we have is just an approximation of the true values, and if we replicated the experiment many times to find the true values?\n",
      "\n",
      "\n",
      "The main advantage of a Bayesian approach is that we can make direct probability statements, like:\n",
      "\n",
      "> The probability than a male profile takes longer to fund than a female profile is $X\\%$\n",
      "\n",
      "whose interpretation is simpler and more intuitive than p-values or confidence intervals.\n",
      "\n",
      "The main disadvantage of a Bayesian approach is that we must state our prior belief as to whether male profiles take longer to fund than female profiles, and this prior belief will affect our results."
     ]
    }
   ],
   "metadata": {}
  }
 ]
}