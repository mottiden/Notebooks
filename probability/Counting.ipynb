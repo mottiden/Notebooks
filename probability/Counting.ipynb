{
 "metadata": {
  "name": "Counting"
 },
 "nbformat": 3,
 "nbformat_minor": 0,
 "worksheets": [
  {
   "cells": [
    {
     "cell_type": "markdown",
     "metadata": {},
     "source": [
      "**The Counting Principle**\n",
      "\n",
      "Consider a process that consists of *r* stages. Suppose that:\n",
      "\n",
      "(a) There are $n_1\\hspace{1pt}$ possible results for the first stage\n",
      "\n",
      "(b) For every possible result at the first stage, there are $n_2\\hspace{1pt}$ possible results for the second stage\n",
      "\n",
      "(c) Generally, for any sequence of possible results at the first *i-1* stages, there are $n_i\\hspace{1pt}$ possible results at the *i*th stage.\n",
      "\n",
      "Then, the total number of possible results of the *r*-stage process is\n",
      "\n",
      "$$n_1 n_2 \\ldots n_r$$"
     ]
    },
    {
     "cell_type": "markdown",
     "metadata": {},
     "source": [
      "**k-permutations**\n",
      "\n",
      "Consider *n* distinct objects. Let *k* be some positive integer with $k\\le n\\hspace{1pt}$. The number of distinct *k*-object *sequences*, i.e. **order matters**, is \n",
      "\n",
      "$$\\frac{n!}{\\left(n-k\\right)!}$$"
     ]
    },
    {
     "cell_type": "markdown",
     "metadata": {},
     "source": [
      "**Combinations**\n",
      "\n",
      "Consider a set of *n* distinct objects. Let *k* be some positive integer with $k\\le n\\hspace{1pt}$. The number of distinct *k*-object *sets*, i.e. **order does not matter**, is\n",
      "\n",
      "$${n \\choose k} = \\frac{n!}{(n-k)! k!}$$\n",
      "\n",
      "This follows from the following reasoning: each combination is associated with *k!* *sequences* corresponding to **1** *set*, so the number of combinations is the total number of sequences, i.e. permutations, divided by the number of duplicates per permutation."
     ]
    },
    {
     "cell_type": "markdown",
     "metadata": {},
     "source": [
      "**Partitions**\n",
      "\n",
      "Given an *n*-element set and nonnegative integers $n_1, n_2, \\ldots, n_r \\hspace{1pt}$ and the condition\n",
      "\n",
      "$$\\sum_{i=1}^r n_i =n$$\n",
      "\n",
      "The number of partitions of the set into *r* disjoint subsets with the *i*th subset containing $n_i\\hspace{1pt}$ elements is\n",
      "\n",
      "$${n \\choose n_1,n_2,\\ldots,n_r} = \\frac{n!}{n_1!n_2!\\cdots n_r!}$$"
     ]
    },
    {
     "cell_type": "code",
     "collapsed": false,
     "input": [],
     "language": "python",
     "metadata": {},
     "outputs": []
    }
   ],
   "metadata": {}
  }
 ]
}