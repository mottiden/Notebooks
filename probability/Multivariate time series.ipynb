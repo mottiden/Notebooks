{
 "cells": [
  {
   "cell_type": "markdown",
   "metadata": {},
   "source": [
    "If we define an output of a time series as ${Y_1}$ and another output as ${Y_2}$ we can discuss about their relationship. For physical systems it is important to  say that the relationship is _causal_, which means that ${Y_1}$ depends on ${Y_2}$ (closed loop system). \n",
    "We can discuss the eample of two attached rooms: The temperature inside a room is not only related with the inputs (heating, solar radiations) but with the adiacent rooms. In this case an increase in temperature in one room will affect the other due to heat transfer through the wall."
   ]
  },
  {
   "cell_type": "code",
   "execution_count": null,
   "metadata": {
    "collapsed": false
   },
   "outputs": [],
   "source": []
  }
 ],
 "metadata": {
  "kernelspec": {
   "display_name": "Python 2",
   "language": "python",
   "name": "python2"
  },
  "language_info": {
   "codemirror_mode": {
    "name": "ipython",
    "version": 2
   },
   "file_extension": ".py",
   "mimetype": "text/x-python",
   "name": "python",
   "nbconvert_exporter": "python",
   "pygments_lexer": "ipython2",
   "version": "2.7.10"
  }
 },
 "nbformat": 4,
 "nbformat_minor": 0
}
