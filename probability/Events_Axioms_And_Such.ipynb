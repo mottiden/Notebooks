{
 "metadata": {
  "name": "Events_Axioms_And_Such"
 },
 "nbformat": 3,
 "nbformat_minor": 0,
 "worksheets": [
  {
   "cells": [
    {
     "cell_type": "markdown",
     "metadata": {},
     "source": [
      "**Set Algebra**\n",
      "\n",
      "$S \\cap \\left(T \\cup U\\right) = \\left(S \\cap T \\right) \\cup \\left(S \\cap U \\right)$\n",
      "\n",
      "$S \\cup \\left(T \\cap U \\right) = \\left(S \\cup T \\right) \\cap \\left(S \\cup U \\right)$\n",
      "\n",
      "**De Morgan's Laws**\n",
      "\n",
      "$$\\left( \\bigcup_n S_n \\right)^c = \\bigcap_n S_n^c$$\n",
      "\n",
      "Represents everything that is not in *at least one set* and in words reads as the compliment of the union of a collection of sets equals the intersection of the set compliments.\n",
      "\n",
      "$$\\left( \\bigcap_n S_n \\right)^c = \\bigcup_n S_n^c$$\n",
      "\n",
      "Represents everything that is not in all sets and in words reads as the compliment of the intersection of a collection of sets is equal to the union of the compliments."
     ]
    },
    {
     "cell_type": "markdown",
     "metadata": {},
     "source": [
      "**Probability Axioms**\n",
      "\n",
      "1. **Nonnegativity** - For every event *A*, $P(A) \\ge 0$\n",
      "2. **Additivity** - For any sequence of **disjoint** events, the probability of their union is the sum of their individual probabilities <br/> <br/>\n",
      "$$P\\left( A_1 \\cup A_2 \\cup \\ldots \\right) = P\\left(A_1\\right) + P\\left(A_2\\right) + \\ldots$$ <br/>\n",
      "3. **Normalization** - The probability of the entire sample space is equal to 1"
     ]
    },
    {
     "cell_type": "markdown",
     "metadata": {},
     "source": [
      "**Conditional Probability**\n",
      "\n",
      "$$P\\left(A \\vert B\\right) = \\frac{P\\left(A \\cap B\\right)}{P\\left(B\\right)}$$\n",
      "\n",
      "Can think of $P(B)\\hspace{1pt}$ as the fraction of the total sample space $P(\\Omega)\\hspace{1pt}$ occupied by the event $B$ and $P(A\\cap B)\\hspace{1pt}$ as the fraction of $B\\hspace{1pt}$ occupied by the event $A\\cap B\\hspace{1pt}$. **NOTE** Conditional probabilities are themselves a valid probability law and hence all statements that hold for unconditional probabilities also hold for conditional probabilities."
     ]
    },
    {
     "cell_type": "markdown",
     "metadata": {},
     "source": [
      "**Multiplication Rule**\n",
      "\n",
      "Assuming all conditioning events have positive probability, the following holds\n",
      "\n",
      "$$P\\left(\\cap_{i=1}^n A_i\\right) = P\\left(A_1\\right)P\\left(A_2 \\vert A_1 \\right) P\\left(A_3 \\vert A_1 \\cap A_2 \\right) \\ldots P\\left(A_n \\vert \\cap_{i=1}^{n-1} A_i \\right)$$\n",
      "\n",
      "Note there is nothing special about the ordering of the events in this statement. Any event, $A_i\\hspace{1 pt}$ can be used as the leading term see page 24 of text."
     ]
    },
    {
     "cell_type": "markdown",
     "metadata": {},
     "source": [
      "*Example: Drawing three cards without a heart*\n",
      "\n",
      "This is example 1.10, page 25 from [1]. Consider three cards draws from an ordinary 52-card deck without replacement. Find the probability that none of the three cards is a heart. As shown in the text this problem can be solved using the multiplication rule. Namely, define the event\n",
      "\n",
      "$$A_i = \\left\\\\{\\mbox{the}\\hspace{1pt} i^{th} \\hspace{1pt}\\mbox{card is not a heart}\\right\\\\}$$\n",
      "\n",
      "The probability we seek is \n",
      "\n",
      "$$P\\left(A_1 \\cap A_2 \\cap A_3\\right) = P\\left(A_1\\right)P\\left(A_2 \\vert A_1 \\right) P\\left(A_3 \\vert A_1 \\cap A_2 \\right)$$\n",
      "\n",
      "As shown in the text this equal to \n",
      "\n",
      "$$P\\left(A_1\\right)P\\left(A_2 \\vert A_1 \\right) P\\left(A_3 \\vert A_1 \\cap A_2 \\right) = \\frac{39}{52}\\frac{38}{51}\\frac{37}{50}\\approx 0.414$$\n",
      "\n",
      "Below we simulate drawing three cards from a deck. The deck is represented as an array of integers from 1 to 52. Let integers 1-13 represent the cards with hearts. We \"shuffle\" the deck with the [Fisher and Yate's Algorithm](http://en.wikipedia.org/wiki/Fisher%E2%80%93Yates_shuffle) and examine the cummulative probability of the event of no hearts being drawn in the first three draws as well as the three events used in the calculation above."
     ]
    },
    {
     "cell_type": "code",
     "collapsed": false,
     "input": [
      "from functools import partial\n",
      "def swap(i,deck):\n",
      "    j = numpy.random.randint(0,i)\n",
      "    tmp = deck[j]\n",
      "    deck[j] = deck[i]\n",
      "    deck[i] = tmp\n",
      "    return deck\n",
      "\n",
      "def shuffledDeck(size=52):\n",
      "    deck = range(1,size+1)\n",
      "    idx = [size - i for i in range(1,size)]\n",
      "    map(partial(swap, deck=deck), idx)\n",
      "    return deck\n",
      "    \n",
      "totalExperiments = 1000\n",
      "\n",
      "def experiment(A):\n",
      "    deck = shuffledDeck()\n",
      "    hearts = range(1,14)\n",
      "    a1 = deck[0] not in hearts\n",
      "    a2 = deck[1] not in hearts and a1\n",
      "    a3 = deck[2] not in hearts and a1 and a2\n",
      "    return [a1+A[0],a2+A[1],a3+A[2]]\n",
      "\n",
      "rslt = [0,0,0]\n",
      "cumA = []\n",
      "for i in range(totalExperiments):\n",
      "    rslt = experiment(rslt)\n",
      "    cumA.append(rslt[2]/float(i+1))\n",
      "\n",
      "print rslt \n",
      "print \"Theoretical Results:\"\n",
      "print \"P(A1) = {0} \\t P(A2 | A1) = {1} \\t P(A3 | A1,A2) = {2}\".format(39/float(52),38/float(51),37/float(50))\n",
      "print \"Observed Results:\"\n",
      "print \"P(A1) = {0} \\t P(A2 | A1) = {1} \\t P(A3 | A1,A2) = {2}\".format(rslt[0]/float(totalExperiments), rslt[1]/float(rslt[0]), rslt[2]/float(rslt[1]))\n",
      "print \"Theoretical probability of no hearts in first three draws\"\n",
      "print \"P(A1,A2,A3) = {0}\".format(39/float(52)*38/float(51)*37/float(50))\n",
      "print \"Observed probability of no hearts in first three draws\"\n",
      "print \"P(A1,A2,A3) = {0}\".format(rslt[2]/float(totalExperiments))\n",
      "pyplot.plot(cumA)"
     ],
     "language": "python",
     "metadata": {},
     "outputs": [
      {
       "output_type": "stream",
       "stream": "stdout",
       "text": [
        "[748, 540, 421]\n",
        "Theoretical Results:\n",
        "P(A1) = 0.75 \t P(A2 | A1) = 0.745098039216 \t P(A3 | A1,A2) = 0.74\n",
        "Observed Results:\n",
        "P(A1) = 0.748 \t P(A2 | A1) = 0.72192513369 \t P(A3 | A1,A2) = 0.77962962963\n",
        "Theoretical probability of no hearts in first three draws\n",
        "P(A1,A2,A3) = 0.413529411765\n",
        "Observed probability of no hearts in first three draws\n",
        "P(A1,A2,A3) = 0.421\n"
       ]
      },
      {
       "output_type": "pyout",
       "prompt_number": 1,
       "text": [
        "[<matplotlib.lines.Line2D at 0x1048bd0d0>]"
       ]
      },
      {
       "output_type": "display_data",
       "png": "[encoded data removed]"
      }
     ],
     "prompt_number": 1
    },
    {
     "cell_type": "markdown",
     "metadata": {},
     "source": [
      "**Total Probability Theorem**\n",
      "Let $A_1, \\ldots, A_n\\hspace{1 pt}$ be disjoint events that form a partition of the sample space, i.e. each possible event is included in exactly one of the events $A_1, \\ldots, A_n\\hspace{1 pt}$, and assume $P(A_i)>0\\hspace{1 pt}$ for all *i*, then for any event *B*\n",
      "\n",
      "$$\\begin{eqnarray} P\\left( B \\right) &=& P\\left(A_1\\cap B\\right) + \\ldots + P\\left(A_n \\cap B\\right) \\cr\n",
      "                                &=& P\\left(A_1\\right)P\\left(B \\vert A_1\\right) + \\ldots + P\\left(A_n\\right)P\\left(B\\vert A_n\\right)\n",
      "\\end{eqnarray}$$\n",
      "\n",
      "A simple consequence of this theorem is that for a given set *A* we have the following\n",
      "\n",
      "$$P\\left(B\\right) = P\\left(A \\cap B \\right) + P\\left(A^c \\cap B \\right)$$"
     ]
    },
    {
     "cell_type": "markdown",
     "metadata": {},
     "source": [
      "**Bayes' Rule**\n",
      "\n",
      "Let $A_1, A_2, \\ldots, A_n\\hspace{1 pt}$ be **disjoint** events that form a partition of the sample space and assume that $P(A_i)>0\\hspace{1 pt}$ for all *i*, then for any event *B* such that $P(B)>0\\hspace{1 pt}$, we have\n",
      "\n",
      "$$\\begin{eqnarray}\n",
      "P\\left(A_i \\vert B \\right) &=& \\frac{P\\left(A_i\\right) P\\left(B \\vert A_i\\right)}{P\\left(B\\right)} \\cr\n",
      "&=& \\frac{P\\left(A_i\\right) P\\left(B \\vert A_i\\right)}{P\\left(A_1\\right)P\\left(B\\vert A_1\\right) + \\ldots + P\\left(A_n\\right)P\\left(B\\vert A_n\\right)}\n",
      "\\end{eqnarray}$$\n",
      "\n",
      "where the second equality is a consequence of the Total Probability Theorem. \n",
      "\n",
      "Bayes' rule is often used for **inference**. There are a number of \"causes\" that may result in a certain \"effect\". We observe the effect and wish to infer the cause. Given that the effect *B* has occurred, we wish to evaluate the probability $P(A_i\\vert B)\\hspace{1 pt}$ that the cause $A_i\\hspace{1 pt}$ is present. Refer to $P(A_i \\vert B)\\hspace{1 pt}$ as the **posterior probability** of the event $A_i\\hspace{1 pt}$ and $P(A_i)\\hspace{1 pt}$ as the **prior probability**."
     ]
    },
    {
     "cell_type": "markdown",
     "metadata": {},
     "source": [
      "*Example: The False-Positive Puzzle*\n",
      "\n",
      "This is example 1.18, page 33 from [1].\n",
      "\n",
      "Assume a test for a certain *rare* disease is 95% accurte in both postive and negative cases. Assume also that it is known that the 0.1% of the general population has the disease. This requires some clarification. The proper interpretation here is that, given the person has the disease, the test result is positve 95% of the time and given that the person does not have the disease, the test is negative 95% of the time. As we will see, this is **not** the same as saying that the test is 95% accurate accross all patients. Given that a person tests postive for the disease, what is the probability of having the disease?\n",
      "\n",
      "As shown in the text this can be solved using Baye's Rule as follows: Let *A* be the event that the person has the disease, and *B* be the event the test result is positive. The solution is then\n",
      "\n",
      "$$P\\left(A \\vert B \\right) = \\frac{P\\left(A\\right)P\\left(B\\vert A\\right)}{P\\left(A\\right)P\\left(B\\vert A\\right) + P\\left(A^c\\right)P\\left(B \\vert A^c\\right)}\n",
      "=\\frac{0.001 \\cdot 0.95}{0.001\\cdot 0.95 + 0.99 \\cdot 0.05}=0.0187$$\n",
      "\n",
      "Below we simulate this result:"
     ]
    },
    {
     "cell_type": "code",
     "collapsed": false,
     "input": [
      "numberPatients = 10000\n",
      "PA = 0.001 #probability that a random patient has the disease\n",
      "PBP = .95 #probability that test is positive if person actually has the disease\n",
      "\n",
      "ACount = 0 #number of times person actually has disease\n",
      "BCount = 0 #number of times test is positive\n",
      "ABCount = 0 #number of times person has disease A test is positive\n",
      "\n",
      "for i in range(numberPatients):\n",
      "    r = numpy.random.uniform(0,1,2)\n",
      "    if r[0]<=PA: #person has disease\n",
      "        ACount += 1\n",
      "        if r[1]<=PBP: \n",
      "            ABCount += 1\n",
      "            BCount += 1\n",
      "    else: #person doesn't have disease\n",
      "        if r[1]>PBP: BCount += 1 \n",
      "            \n",
      "print \"Observed Values\"\n",
      "print \"P(A) = {0} \\t P(B) = {1} \\t P(A|B) = {2}\".format(ACount/float(numberPatients),BCount/float(numberPatients),ABCount/float(BCount))"
     ],
     "language": "python",
     "metadata": {},
     "outputs": [
      {
       "output_type": "stream",
       "stream": "stdout",
       "text": [
        "Observed Values\n",
        "P(A) = 0.001 \t P(B) = 0.0493 \t P(A|B) = 0.0141987829615\n"
       ]
      }
     ],
     "prompt_number": 6
    },
    {
     "cell_type": "markdown",
     "metadata": {},
     "source": [
      "**Independence**\n",
      "\n",
      "Two events *A* and *B* are defined as **independent** iff\n",
      "\n",
      "$$P\\left(A\\cap B \\right) = P\\left(A\\right)P\\left(B\\right)$$\n",
      "\n",
      "The above definition is equivalent to defining the events as independent when \n",
      "\n",
      "$$P\\left(A \\vert B\\right) = P\\left(A\\right)$$\n",
      "\n",
      "We use the first definition as it holds even when $P(B)=0 \\hspace{1 pt}$. Note that *set disjointness* does **not** imply independence. Indeed the opposite is true. Given disjoint sets *A* and *B* each with probability greater than 0, then the occurrance or non-oncurrance of either event provides complete information about the occurrance of the other event, e.g. $P(A|B) = 0\\hspace{1 pt}$, so that\n",
      "\n",
      "$$P\\left(A\\cap B \\right) = 0 \\lt P(A)P(B)$$\n",
      "\n",
      "**Several** events $A_1, A_2, \\ldots, A_n \\hspace{1pt}$ are independent if\n",
      "\n",
      "$$P\\left(\\bigcap_{i\\in S} A_i \\right) = \\prod_{i\\in S} P\\left(A_i\\right)$$\n",
      "\n",
      "for every subset *S* of $\\left\\\\{1,2,\\ldots,n\\right\\\\} \\hspace{1 pt}$ Note it is **not** enough that the condition hold for *S*, it must hold for every subset of S. \n",
      "\n",
      "**Conditional Independence**\n",
      "\n",
      "Given an event *C*, the events *A* and *B* are called **conditionally independent** if\n",
      "\n",
      "$$P\\left(A \\cap B \\vert C \\right) = P\\left(A \\vert C\\right) P\\left(B \\hspace{1pt}\\vert\\hspace{1pt} C\\right)$$\n",
      "\n",
      "The above definition is equivalent to \n",
      "\n",
      "$$P\\left(A \\cap B \\vert C\\right) = P\\left(B\\vert C\\right) P\\left(A\\vert B \\cap C\\right)$$\n",
      "\n",
      "which can be interpreted as indicating that if *C* is known to have occurred, the additional information that *B* has occurred does not change the probability of *A*. Note, unconditional independence of *A* and *B* does **not** imply conditional independence and vice versa."
     ]
    },
    {
     "cell_type": "code",
     "collapsed": false,
     "input": [],
     "language": "python",
     "metadata": {},
     "outputs": [],
     "prompt_number": 2
    }
   ],
   "metadata": {}
  }
 ]
}