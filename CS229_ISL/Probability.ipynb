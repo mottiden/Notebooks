{
 "metadata": {
  "name": ""
 },
 "nbformat": 3,
 "nbformat_minor": 0,
 "worksheets": [
  {
   "cells": [
    {
     "cell_type": "heading",
     "level": 2,
     "metadata": {},
     "source": [
      "Probability"
     ]
    },
    {
     "cell_type": "heading",
     "level": 4,
     "metadata": {},
     "source": [
      "Preface - "
     ]
    },
    {
     "cell_type": "markdown",
     "metadata": {},
     "source": [
      "These are notes I wrote for myself while studying for PhD qualifying exams at Stanford. \n",
      "\n",
      "I wanted to published them so that others could benefit.\n",
      "\n",
      "They draw from sources:\n",
      "\n",
      "* CS229, an excellent machine learning class at Stanford taught by Andrew Ng.\n",
      "* An Introduction to Statistical Learning (ISL), an excellent text by G. James, D. Witten,  T. Hastie and R. Tibshirani (Springer, 2013).\n",
      "* A pretty good, free online textbook: http://www.statsoft.com/Textbook/Experimental-Design\n",
      "* Another textbook (actually on Deep Learning, but with some probability): http://www.iro.umontreal.ca/~bengioy/dlbook/prob.html\n",
      "* http://nbviewer.ipython.org/gist/fonnesbeck/5850483\n",
      "\n",
      "Some of the figures are taken from ISL with permission from the authors."
     ]
    },
    {
     "cell_type": "heading",
     "level": 3,
     "metadata": {},
     "source": [
      "The idea behind probability."
     ]
    },
    {
     "cell_type": "markdown",
     "metadata": {},
     "source": [
      "Probability theory is a mathematical framework for representing uncertain statements. \n",
      "\n",
      "Sources of uncertainty:\n",
      "\n",
      "* Incomplete observability: When we cannot observe something, we are uncertain about its true nature.\n",
      "* Simplifications: Uncertainty can also arise from the simpli\ufb01cations we make in order to model real-world processes.\n",
      "\n",
      "Types of probability:\n",
      "\n",
      "* Frequentist: Related directly to the rates at which events occur (e.g., drawing a card).\n",
      "* Bayes: Related to qualitative levels of certainty (e.g., change of getting cancer).\n",
      "\n",
      "A random variable:\n",
      "\n",
      "* A variable that can take on di\ufb00erent values randomly.\n",
      "\n",
      "A probability distribution:\n",
      "\n",
      "* A description of how likely a random variable is to take on each of its possible states. \n",
      "* Probability mass function (PMF): probability distribution over discrete variables.\n",
      "* Probability density function (PDF): distribution over continuous random variables.\n",
      "\n",
      "Note that we can integrate the PDF to \ufb01nd the actual probability mass over a range of points.\n",
      "\n",
      "Conditional probability:\n",
      "\n",
      "The probability of some event, given that some other event has happened, $ P (y \\mid x) $.\n",
      "\n",
      "Joint probability distribution:\n",
      "\n",
      "Can be decomposed into conditional distributions over only one variable\n",
      "\n",
      "$P(A,B,C) = P(A \\mid B,C) P(B \\mid C) P(C) $\n",
      "\n",
      "Independence:\n",
      "\n",
      "Two random variables $X$ and $Y$ are independent if their probability distribution can be expressed as a product of two factors.\n",
      " "
     ]
    },
    {
     "cell_type": "heading",
     "level": 3,
     "metadata": {},
     "source": [
      "Key terms."
     ]
    },
    {
     "cell_type": "heading",
     "level": 4,
     "metadata": {},
     "source": [
      "Basics - "
     ]
    },
    {
     "cell_type": "markdown",
     "metadata": {},
     "source": [
      "Expectation (expected value):\n",
      "\n",
      "* The average value that a function $f(x)$ takes when x is drawn from $P(x)$.\n",
      "* For a discrete random variable: $ E(x) = \\sum\\limits_x F(x) P(x) $\n",
      "\n",
      "Variance:\n",
      "\n",
      "* The variance gives a measure of how much the di\ufb00erent values of a function are spread apart.\n",
      "* This is simply the sum of the squared deviations from the mean $ TSS = \\sum\\limits (y^i-y_{mean})^2 $.\n",
      "* For a set of $n$ equally likely values $ v = \\frac{TSS}{n-1} $\n",
      "* Of course, the standard deviation is simply $ v = \\sigma^2 $.\n",
      "\n",
      "Covariance:\n",
      "\n",
      "* The variance is a special case of covariance, which is a measure of how two variables are linearly related.\n",
      "* $ Cov(a,b) = \\frac{1}{n-1} \\sum\\limits_{i=1}^{n} (a_i - \\mu_a) (b_i - \\mu_b) $\n",
      "* If the sign of the covariance is positive, then the values tend to change in the same direction.\n",
      "\n",
      "Correlation (Pearson correlation):\n",
      "\n",
      "* When the covariance is normalized by standard deviation, one obtains the Pearson correlation coefficient:\n",
      "* $ r = Cor(a,b) = \\frac{Cov(a,b)}{\\sigma_a \\sigma_b} $\n",
      "\n",
      "Coefficient of determination:\n",
      "\n",
      "* An alternative measure of linear dependence is $R^2$.\n",
      "* This is the proportion of variability in Y that can be explained using X.\n",
      "* $ R^2 = 1 - \\frac{RSS}{TSS} $\n",
      "* Where RSS measures the amount of variability that is left unexplained after performing the regression.\n",
      "* This is $ \\sum\\limits (y^i-\\theta^T x^i)^2 $.\n",
      "* $r2=0.9$, then 90% of the variance in Y can be explained by variation our model, a funtion of $x$."
     ]
    },
    {
     "cell_type": "heading",
     "level": 3,
     "metadata": {},
     "source": [
      "Distributions for discrete random variables -"
     ]
    },
    {
     "cell_type": "heading",
     "level": 4,
     "metadata": {},
     "source": [
      "Bernoulli"
     ]
    },
    {
     "cell_type": "markdown",
     "metadata": {},
     "source": [
      "Single binary random variable that takes value 1 with success probability $\\phi$:\n",
      "\n",
      "$P(x=1) = \\phi $\n",
      "\n",
      "$P(x=0) = 1 - \\phi $"
     ]
    },
    {
     "cell_type": "code",
     "collapsed": false,
     "input": [
      "import numpy as np\n",
      "from scipy import stats\n",
      "from scipy.stats import bernoulli, poisson, binom\n",
      "import matplotlib\n",
      "import matplotlib.pyplot as plt \n",
      "%matplotlib inline\n",
      "\n",
      "plt.subplot(2,2,1)\n",
      "a = np.arange(2)\n",
      "p=0.2\n",
      "plt.bar(a,bernoulli.pmf(a, p),label=p,alpha=0.5)\n",
      "plt.xticks(a)\n",
      "plt.title('P=%s'%p)"
     ],
     "language": "python",
     "metadata": {},
     "outputs": [
      {
       "metadata": {},
       "output_type": "pyout",
       "prompt_number": 1,
       "text": [
        "<matplotlib.text.Text at 0x10712f610>"
       ]
      },
      {
       "metadata": {},
       "output_type": "display_data",
       "png": "[encoded data removed]",
       "text": [
        "<matplotlib.figure.Figure at 0x106f104d0>"
       ]
      }
     ],
     "prompt_number": 1
    },
    {
     "cell_type": "heading",
     "level": 4,
     "metadata": {},
     "source": [
      "Binomial"
     ]
    },
    {
     "cell_type": "markdown",
     "metadata": {},
     "source": [
      "Simply, this tells us the number of heads in $n$ independent flips of a coin with equal heads probability $p$.\n",
      "\n",
      "Compute the probability of observing $n$ successes for $N$ trials given a probability $p$ for each without regard for order. \n",
      "\n",
      "If $N=5$, $p=0.5$, $n=2$, then the first success can occour in any of the 5 trials. \n",
      "\n",
      "The second success can occour in any of the remaining 4 trials, giving 5 $\\times$ 4 permutations.\n",
      "\n",
      "In short, if the first success was on trial 1 then the second can be any of the 4 remaining; for each of the 5 trials for success 1.\n",
      "\n",
      "So, let's say success 1 happened on trial 1 and success 2 happened on trial 2.\n",
      "\n",
      "We don't reall care if the inverse happened (2 on trial 1).\n",
      "\n",
      "So, we correct for order: $\\frac{5 \\times 4}{n!} = 10$ combinations of 2 successes. \n",
      "\n",
      "The number of combinations that satisfy the condition, $n$, is generally given by the binomial coefficient.\n",
      "\n",
      "This states: \n",
      "\n",
      "* (1) there are $N$ choose $n$ combinations with \n",
      "* (2) the probability of each combination $p^n (1-p)^{N-n}$ (n successes, $N-n$ failures)\n",
      "\n",
      "$$ P(n) = {N \\choose n} p^n (1-p)^{N-n} $$\n",
      "\n",
      "$$ {N \\choose n} = \\frac{N!}{n!(N-n)!} $$\n",
      "\n",
      "In short, the use is evaluating a series of equally likely events, such as dice rolls. \n",
      "\n",
      "Also, the expected value is simply $Np$."
     ]
    },
    {
     "cell_type": "heading",
     "level": 4,
     "metadata": {},
     "source": [
      "Poisson"
     ]
    },
    {
     "cell_type": "markdown",
     "metadata": {},
     "source": [
      "Let's say the expected value of a Binomial random variable is $\\lambda = Np$. \n",
      "\n",
      "Let's assume $\\lambda$ is the expected number of cars observed per hour. \n",
      "\n",
      "If we let N=60 (one trial per minute over the course of the hour), then we can compute the probability of success per trail:\n",
      "\n",
      "$$p=\\frac{\\lambda}{60}$$\n",
      "\n",
      "OK, so let's say we want to compute the probability of $n$ cars:\n",
      "\n",
      "$$ P(n=k) = {60 \\choose k} \\frac{\\lambda}{60}^k (1-\\frac{\\lambda}{60})^{60-k} $$\n",
      "\n",
      "The problem is that each trial (minute) is binary: there can only be one or zeo cars!\n",
      "\n",
      "In practice, we could have > 1 car per minute. \n",
      "\n",
      "So, we can get more granular. \n",
      "\n",
      "So, let's assume the number of trials is large, far less than a minute for each one!  \n",
      "\n",
      "And the probability of success at each is correspondingly smaller. \n",
      "\n",
      "As $N$ approaches infinity, Binomal becomes the Poisson distribution."
     ]
    },
    {
     "cell_type": "markdown",
     "metadata": {},
     "source": [
      "So, the Binomal was brittle: the interval (e.g., one minute) was specified and assigned an associated probability.\n",
      "\n",
      "For Poisson, probability of an event in a time interval is proportional to the size of the interval!\n",
      "\n",
      "* $P = \\lambda dt$ for interval $dt$, where $\\lambda$ indicates the number of events per unit time.\n",
      "* We want to compute $P(t)$, the probability that an event happens at time $t$ starting at $t=0$.\n",
      "* For this to occour, the event should not happen until time $t$.\n",
      "* We define this as $P_o(t)$, starting from $t=0$.\n",
      "* We break $t$ into a set of small intervals and the probability of no event in one interval is given by $1-\\lambda dt$.\n",
      "* $P_o = (1-\\lambda dt)^N$ is the probability of no events in the $N$ intervals such that $dtN=t$. \n",
      "* This can we re-written as $P_o = (1-\\lambda dt)^{t dt}$ and is $P_o = e^{-\\lambda t}$ in the limit of $dt \\to 0$.\n",
      "* So, to compute $P(t)$ we determine the probabiity of not happening until time $t$, $e^{-\\lambda t}$.\n",
      "* Also include the  probability that it happens in time $dt$, $\\lambda dt$.\n",
      "* The product is $P(t)=\\lambda e^{-\\lambda t}$.\n",
      "\n",
      "Poisson process for many events:\n",
      "\n",
      "* Either $n$ events in the time leading up to the final interval or it is the final event occouring in the last interval, $dt$.\n",
      "* $P_n(t+dt) = P_n(t)(1-\\lambda dt) + P_{n-1}(t) \\lambda dt$.\n",
      "* This can be solved to yield:\n",
      "\n",
      "$$ P_n(t) = \\frac{(\\lambda t)^n}{n!} e^{- \\lambda t} $$"
     ]
    },
    {
     "cell_type": "markdown",
     "metadata": {},
     "source": [
      "An intuitive application is sequence:\n",
      "    \n",
      "There are a large number of trial (reads).\n",
      "\n",
      "The probability of a read hitting a given base is low for each trial.\n",
      "\n",
      "The expected number of reads per base is given by the read count, read length, and genome size.\n",
      "\n",
      "So, we can work out the likelihood of observing a given number of reads per base."
     ]
    },
    {
     "cell_type": "code",
     "collapsed": false,
     "input": [
      "n=np.arange(0,50) # Range of coverage values.\n",
      "l=100 # Read length.\n",
      "N=3*10**9 # Size of human genome.\n",
      "reads=[10**8,10**8.5,10**9] # Sequencing reads.\n",
      "coverage=[float(read_number)*l/N  for read_number in reads] # Lambda: expected reads per base.\n",
      "colors = matplotlib.rcParams['axes.color_cycle']\n",
      "\n",
      "plt.subplot(2,1,1)\n",
      "for u,c in zip(coverage,colors):\n",
      "    y=stats.poisson.pmf(n,u)\n",
      "    plt.plot(n,y,'-',linewidth=2,color=c,alpha=1,label='$\\lambda$ =%.3f'%u)\n",
      "    plt.fill_between(n,y,color=c,alpha = .25)\n",
      "    plt.xticks(fontsize=8)\n",
      "    plt.yticks(fontsize=8)\n",
      "    plt.title('Probability mass funtion',fontsize=8)\n",
      "    plt.xlabel('n (base)',fontsize=8)\n",
      "    plt.ylabel('P(n reads/base)',fontsize=8)\n",
      "    plt.legend(loc='upper right', scatterpoints = 1,prop={'size':8})\n",
      "    plt.grid()\n",
      "\n",
      "plt.subplot(2,1,2)\n",
      "for u,c in zip(coverage,colors):\n",
      "    y=stats.poisson.cdf(n,u)\n",
      "    plt.plot(n,y,'-',linewidth=2,color=c,alpha=1,label='$\\lambda$ =%.3f'%u)\n",
      "    plt.fill_between(n,y,color=c,alpha = .25)\n",
      "    plt.xticks(fontsize=8)\n",
      "    plt.yticks(fontsize=8)\n",
      "    plt.title('Cumulative distribution funtion',fontsize=8)\n",
      "    plt.xlabel('n (base)',fontsize=8)\n",
      "    plt.ylabel('P(< or = n reads/base)',fontsize=8)\n",
      "    plt.legend(loc='upper right', scatterpoints = 1,prop={'size':8})\n",
      "    plt.grid()\n",
      "\n",
      "plt.tight_layout()\t"
     ],
     "language": "python",
     "metadata": {},
     "outputs": [
      {
       "metadata": {},
       "output_type": "display_data",
       "png": "[encoded data removed]",
       "text": [
        "<matplotlib.figure.Figure at 0x10a247650>"
       ]
      }
     ],
     "prompt_number": 33
    },
    {
     "cell_type": "markdown",
     "metadata": {},
     "source": [
      "As coverage increaces, the PMF shows that the probability if getter a higher number of reads per base increaces. \n",
      "\n",
      "Of course, the probability of a specific position having *exactly* 30 reads is low < 0.1. \n",
      "\n",
      "But the CDF shows that the probability of getting 30 or more reads spanning the base when $\\lambda=30$ is reasonable at $0.524$ ($1-y[29]$)."
     ]
    },
    {
     "cell_type": "heading",
     "level": 3,
     "metadata": {},
     "source": [
      "Distributions for continuous random variables -"
     ]
    },
    {
     "cell_type": "heading",
     "level": 4,
     "metadata": {},
     "source": [
      "Exponential"
     ]
    },
    {
     "cell_type": "markdown",
     "metadata": {},
     "source": [
      "Exponential distribution models the waiting time between events in a Poisson process:\n",
      "\n",
      "* The probability of seeing no hits at time $t$ for a Poisson process is $P_o(t) = e^{- \\lambda t}$.\n",
      "* The probability of observing an event in time $T < t$ is $1-P_o(t) = 1-e^{- \\lambda t}$.\n",
      "* Thus, the CDF for the exponential distribution is $1-e^{- \\lambda t}$."
     ]
    },
    {
     "cell_type": "code",
     "collapsed": false,
     "input": [
      "x=np.arange(0,4,0.1)\n",
      "colors = matplotlib.rcParams['axes.color_cycle']\n",
      "lambda_ = [0.5,1,2]\n",
      "\n",
      "plt.subplot(2,1,1)\n",
      "u_vals=[2,1]\n",
      "for u,c in zip(coverage,colors):\n",
      "    y=u*np.exp(-u*x)\n",
      "    plt.plot(x,y,'-',linewidth=2,alpha=1,color=c,label='$\\lambda$ =%.3f'%u)\n",
      "    plt.fill_between(x,y,color=c,alpha = .25)\n",
      "plt.legend()\n",
      "plt.xticks(fontsize=5)\n",
      "plt.yticks(fontsize=5)\n",
      "plt.title('Probability density funtion',fontsize=8)\n",
      "plt.xlabel('x (distance)',fontsize=8)\n",
      "plt.ylabel('P(x)',fontsize=8)\n",
      "plt.legend(loc='upper right', scatterpoints = 1,prop={'size':8})\n",
      "plt.xlim([0,1])\n",
      "plt.grid()\n",
      "\n",
      "plt.subplot(2,1,2)\n",
      "for u,c in zip(coverage,colors):\n",
      "    y=1-np.exp(-u*x)\n",
      "    plt.plot(x,y,'-',linewidth=2,alpha=1,color=c,label='$\\lambda$ =%.3f'%u)\n",
      "    plt.fill_between(x,y,color=c,alpha = .25)\n",
      "plt.legend()\n",
      "plt.xticks(fontsize=5)\n",
      "plt.yticks(fontsize=5)\n",
      "plt.title('Cumulative distribution funtion',fontsize=8)\n",
      "plt.xlabel('x (distance)',fontsize=8)\n",
      "plt.ylabel('P(event <= x)',fontsize=8)\n",
      "plt.legend(loc='upper right', scatterpoints = 1,prop={'size':8})\n",
      "plt.grid()\n",
      "\n",
      "plt.tight_layout()\t"
     ],
     "language": "python",
     "metadata": {},
     "outputs": [
      {
       "metadata": {},
       "output_type": "display_data",
       "png": "[encoded data removed]",
       "text": [
        "<matplotlib.figure.Figure at 0x10aa624d0>"
       ]
      }
     ],
     "prompt_number": 36
    },
    {
     "cell_type": "heading",
     "level": 4,
     "metadata": {},
     "source": [
      "Normal"
     ]
    },
    {
     "cell_type": "markdown",
     "metadata": {},
     "source": [
      "$$ P(x) = \\frac{1}{\\sigma \\sqrt{2\\pi}} exp(-\\frac{(x-\\mu)^{2}}{2\\sigma^2}) $$"
     ]
    },
    {
     "cell_type": "markdown",
     "metadata": {},
     "source": [
      "Note that the standard z-score is the number of standard deviations away from the mean:"
     ]
    },
    {
     "cell_type": "markdown",
     "metadata": {},
     "source": [
      "$$ Z=\\frac{(x-\\mu)}{\\sigma} $$"
     ]
    },
    {
     "cell_type": "code",
     "collapsed": false,
     "input": [
      "# Specify parameters for normal distribution\n",
      "colors = matplotlib.rcParams['axes.color_cycle']\n",
      "stdVal=3\n",
      "\n",
      "plt.subplot(2,1,1)\n",
      "mean = [5,10,20]\n",
      "for meanVal,c in zip(mean,colors):\n",
      "    #  Generates a normal continuous random variable with specified mean (loc), std (scale) \n",
      "    rv = stats.norm(loc=meanVal,scale=stdVal)   \n",
      "    x = np.arange(.1*meanVal,meanVal*10,1)\n",
      "    plt.plot(x,rv.pdf(x),lw=2,linewidth=2,alpha=1,color=c,label='$\\mu$ =%.3f'%meanVal)\n",
      "    plt.fill_between(x,rv.pdf(x),color=c,alpha = .25)\n",
      "plt.legend()\n",
      "plt.xticks(fontsize=5)\n",
      "plt.yticks(fontsize=5)\n",
      "plt.xlim([0,np.max(mean)*1.5])\n",
      "plt.title('Probability density funtion',fontsize=7.5)\n",
      "plt.xlabel('Random variable (x)',fontsize=5)\n",
      "plt.ylabel('P(x)',fontsize=5)\n",
      "plt.legend(loc='upper right', scatterpoints = 1,prop={'size':5})\n",
      "plt.grid()\n",
      "\n",
      "plt.subplot(2,1,2)\n",
      "for meanVal,c in zip(mean,colors):\n",
      "    rv = stats.norm(loc=meanVal,scale=stdVal)   \n",
      "    x = np.arange(.1*meanVal,meanVal*10,1)\n",
      "    plt.plot(x,rv.cdf(x),lw=2,linewidth=2,alpha=1,color=c,label='$\\mu$ =%.3f'%meanVal)\n",
      "    plt.fill_between(x,rv.cdf(x),color=c,alpha = .25)\n",
      "plt.legend()\n",
      "plt.xticks(fontsize=5)\n",
      "plt.yticks(fontsize=5)\n",
      "plt.xlim([0,np.max(mean)*1.5])\n",
      "plt.title('Cumulative distribution funtion',fontsize=7.5)\n",
      "plt.xlabel('Random variable (x)',fontsize=5)\n",
      "plt.ylabel('P(event <= x)',fontsize=5)\n",
      "plt.legend(loc='upper right', scatterpoints = 1,prop={'size':5})\n",
      "plt.grid()\n",
      "\n",
      "plt.tight_layout()"
     ],
     "language": "python",
     "metadata": {},
     "outputs": [
      {
       "metadata": {},
       "output_type": "display_data",
       "png": "[encoded data removed]",
       "text": [
        "<matplotlib.figure.Figure at 0x10a537b90>"
       ]
      }
     ],
     "prompt_number": 38
    },
    {
     "cell_type": "heading",
     "level": 3,
     "metadata": {},
     "source": [
      "Conditional distributions."
     ]
    },
    {
     "cell_type": "heading",
     "level": 4,
     "metadata": {},
     "source": [
      "Bayes rule"
     ]
    },
    {
     "cell_type": "markdown",
     "metadata": {},
     "source": [
      "Conditional distributions seek to answer the probability distribution over Y when we know that X must take on a certain value x.\n",
      "\n",
      "Frequentist probability relies on the long-run frequency of events (e.g., probability for each roll of a dice).\n",
      "\n",
      "Bayesian probability assigns a belief, or prior probability, to hypothesis $P(H)$. \n",
      "\n",
      "Note that Frequentist probability is typically assigned based upon a known frequency, whereas our prior can be assinged. \n",
      "\n",
      "We'll use this to assign a the likelihood of our hypothesis given some data, $D$.\n",
      " \n",
      "So, we also must state the probabilty of: \n",
      "\n",
      "* Observing the data, $P(D)$.\n",
      "* Observing data if the hypothesis is true, $P(D|H)$.\n",
      "\n",
      "From this we can estimate the probability that the hypothesis is true given the $P(H|D)$, the posterial probability. \n",
      "\n",
      "$$ P(H|D) = \\frac{P(D|H)P(H)}{P(D)} $$"
     ]
    },
    {
     "cell_type": "heading",
     "level": 3,
     "metadata": {},
     "source": [
      "Information theory."
     ]
    },
    {
     "cell_type": "heading",
     "level": 4,
     "metadata": {},
     "source": [
      "Shannon entropy - "
     ]
    },
    {
     "cell_type": "markdown",
     "metadata": {},
     "source": [
      "The basic intuition behind information theory is that learning that an unlikely event\n",
      "has occurred is more informative than learning that a likely event has occurred.\n",
      "\n",
      "Likely events should have low information content. Unlikely events should have high information content\n",
      "\n",
      "$I(x) = \u2212log P (x)$\n",
      "\n",
      "Shannon entropy of a distribution is the expected amount of information in an event drawn from that distribution.\n",
      "\n",
      "$E(I(x)) = \u2212\\sum p \\times log P (x)$\n",
      "\n",
      "Shannon entropy:\n",
      "\n",
      "* High entropy means $X$ is from a uniform distribution, where every outcome is as likely to occur\n",
      "* Low entropy means $X$ is from varied distribution (with various peaks and valleys)\n"
     ]
    },
    {
     "cell_type": "heading",
     "level": 3,
     "metadata": {},
     "source": [
      "Modelling."
     ]
    },
    {
     "cell_type": "markdown",
     "metadata": {},
     "source": [
      "Previously (in the statistics notebook), I went through statistical hypothesis tests.\n",
      "\n",
      "These tests seek to esimate whether groups or effects are \"statistically significant.\"\n",
      "\n",
      "Another approach is to be build flexible models with the overarching aim of estimating quantities of interest. \n"
     ]
    },
    {
     "cell_type": "heading",
     "level": 4,
     "metadata": {},
     "source": [
      "Estimation - "
     ]
    },
    {
     "cell_type": "markdown",
     "metadata": {},
     "source": [
      "In short, what we want to do is:\n",
      "    \n",
      "* Fit a probability distribution to our data.\n",
      "* Then, extract parameters that correspond to the distribution that best represents our data.\n",
      "\n",
      "We can do this in two ways:\n",
      "\n",
      "* **Method of moments** chooses parameters so sample moments (typically the sample mean and variance) match the theoretical moments of our chosen distribution.\n",
      "* **Maximum likelihood** chooses parameters to maximize the likelihood, which measures how likely it is to observe our given sample with the model in mind."
     ]
    },
    {
     "cell_type": "heading",
     "level": 4,
     "metadata": {},
     "source": [
      "Method of moments and Maximum likelihood - "
     ]
    },
    {
     "cell_type": "markdown",
     "metadata": {},
     "source": [
      "So, break it down like this.\n",
      "\n",
      "(1) A distribution is parameterized by some values:\n",
      "\n",
      "* For gamma distribution, it's $\\alpha$ and $\\beta$.\n",
      "\n",
      "(2) For a distribution, there is a link between the parameters and the mean ($\\mu$), variance ($\\sigma$):\n",
      "\n",
      "* For gamma distribution, $\\mu = \\alpha \\beta$ and $\\sigma^2 = \\alpha \\beta^2$\n",
      "\n",
      "(3) For a given sample of data, we can compute sample statistics ($\\mu = x$, $\\sigma = s$).\n",
      "\n",
      "(4) We can then use the sample statistics to compute the distribution paramters and fit it!"
     ]
    },
    {
     "cell_type": "markdown",
     "metadata": {},
     "source": [
      "$ \\alpha = \\frac{\\sigma^2}{\\beta^2}$\n",
      "\n",
      "$ \\beta = \\frac{\\mu}{\\alpha} $ \n",
      "\n",
      "$ \\beta^2 = \\frac{\\mu^2}{\\alpha^2} $ \n",
      "\n",
      "$ \\alpha = \\frac{\\sigma^2 \\alpha^2}{\\mu^2}$\n",
      "\n",
      "$ \\alpha = \\frac{\\mu^2}{\\sigma^2}$"
     ]
    },
    {
     "cell_type": "markdown",
     "metadata": {},
     "source": [
      "This notebook has a nice review of both:\n",
      "    \n",
      "http://nbviewer.ipython.org/gist/fonnesbeck/5850483"
     ]
    }
   ],
   "metadata": {}
  }
 ]
}