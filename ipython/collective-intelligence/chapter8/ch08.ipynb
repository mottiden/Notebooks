{
 "cells": [
  {
   "cell_type": "code",
   "execution_count": 73,
   "metadata": {
    "collapsed": true
   },
   "outputs": [],
   "source": [
    "%matplotlib inline\n",
    "import numpredict"
   ]
  },
  {
   "cell_type": "markdown",
   "metadata": {},
   "source": [
    "#예제 데이터 세트 만들기 \n"
   ]
  },
  {
   "cell_type": "markdown",
   "metadata": {},
   "source": [
    "이 장은 예전에 살펴 보았던 예제들을 가지고 숫자 예측용 학습을 수행하는 알고리즘을 살펴보고, 예측 방법에 대한 편리한 해석을 위해 예측에 대한 확률분포도 출력해 본다. "
   ]
  },
  {
   "cell_type": "markdown",
   "metadata": {},
   "source": [
    "##1. .예제 데이터 세트 만들기"
   ]
  },
  {
   "cell_type": "markdown",
   "metadata": {},
   "source": [
    "숫자 예측 시험용 데이터 세트는 예측을 방해하는 속성들을 가지면 안됨"
   ]
  },
  {
   "cell_type": "markdown",
   "metadata": {},
   "source": [
    "간단한 인공모델에 기반을 둔 와인 가격 데이터 세트를 작성. <br>가격은 등급과 나이를 조합하여 작성, <br> 이 모델에서는 와인이 최적연도를 가지고 있어, 출륭한 와인은 높은 가격에서 시작해서 최적 연도까지 계속 가치가 증가, 낮은 등급의 와인은 싸게 시작해서 점점 더 싸지게 된다.<br>이를 모델화 하기 위해 아래와 같은 함수를 만든다"
   ]
  },
  {
   "cell_type": "code",
   "execution_count": 2,
   "metadata": {
    "collapsed": true
   },
   "outputs": [],
   "source": [
    "from random import random,randint\n",
    "import math \n",
    "def wineprice(rating, age):\n",
    "    peak_age = rating - 50\n",
    "    \n",
    "    #등급에 따라 가격을 계산함\n",
    "    price = rating /2\n",
    "    if age > peak_age :\n",
    "        #최적 연도가 지나면 5년 단위로 가격이 저하됨\n",
    "        price = price * (5-(age-peak_age))\n",
    "    else:\n",
    "        #최적 연도에 근접하면 원래 가격의 5배까지 증가함\n",
    "        price = price*(5*((age+1)/peak_age))\n",
    "    if price <0 :\n",
    "        price = 0\n",
    "    return price\n",
    "    \n",
    "    "
   ]
  },
  {
   "cell_type": "markdown",
   "metadata": {},
   "source": [
    "와인 가격 데이터 세트를 만들 함수 정의 <br>"
   ]
  },
  {
   "cell_type": "raw",
   "metadata": {},
   "source": [
    "아래 함수는 와인 300병을 생성하고 위 모델을 이용하여 가격을 계산.<br>그런 후 세금과 지역편차를 반영하고, ,숫자 추정이 더 어렵게 만들기 위해 가격에 무작위로 20%을 더하거나 뺸다. "
   ]
  },
  {
   "cell_type": "code",
   "execution_count": 3,
   "metadata": {
    "collapsed": true
   },
   "outputs": [],
   "source": [
    "def wineset1():\n",
    "    rows = []\n",
    "    for i in range(300):\n",
    "        #무작위로 나이(숙성기간)와 등급을 생성함\n",
    "        rating = random()*50+50\n",
    "        age = random()*50\n",
    "        \n",
    "        #가격을 얻음\n",
    "        price = wineprice(rating, age)\n",
    "        \n",
    "        #노이즈를 얻음\n",
    "        price *= (random()*0.4 + 0.8)\n",
    "        \n",
    "        #데이터세트에 추가함\n",
    "        rows.append({'input':(rating,age),'result':price})\n",
    "    return rows\n"
   ]
  },
  {
   "cell_type": "code",
   "execution_count": 4,
   "metadata": {
    "collapsed": false
   },
   "outputs": [
    {
     "data": {
      "text/plain": [
       "21.111111111111114"
      ]
     },
     "execution_count": 4,
     "metadata": {},
     "output_type": "execute_result"
    }
   ],
   "source": [
    "wineprice(95.0, 3.0)"
   ]
  },
  {
   "cell_type": "code",
   "execution_count": 5,
   "metadata": {
    "collapsed": false
   },
   "outputs": [
    {
     "data": {
      "text/plain": [
       "47.5"
      ]
     },
     "execution_count": 5,
     "metadata": {},
     "output_type": "execute_result"
    }
   ],
   "source": [
    "wineprice(95.0, 8.0)"
   ]
  },
  {
   "cell_type": "code",
   "execution_count": 6,
   "metadata": {
    "collapsed": false
   },
   "outputs": [
    {
     "data": {
      "text/plain": [
       "10.102040816326529"
      ]
     },
     "execution_count": 6,
     "metadata": {},
     "output_type": "execute_result"
    }
   ],
   "source": [
    "wineprice(99.0, 1.0)"
   ]
  },
  {
   "cell_type": "code",
   "execution_count": 7,
   "metadata": {
    "collapsed": false
   },
   "outputs": [],
   "source": [
    "data = wineset1()"
   ]
  },
  {
   "cell_type": "code",
   "execution_count": 8,
   "metadata": {
    "collapsed": false
   },
   "outputs": [
    {
     "data": {
      "text/plain": [
       "{'input': (61.62697948398507, 9.715516914732664), 'result': 120.25488294090106}"
      ]
     },
     "execution_count": 8,
     "metadata": {},
     "output_type": "execute_result"
    }
   ],
   "source": [
    "data[0]"
   ]
  },
  {
   "cell_type": "code",
   "execution_count": 9,
   "metadata": {
    "collapsed": false
   },
   "outputs": [
    {
     "data": {
      "text/plain": [
       "{'input': (82.18131148353802, 39.62822604648687), 'result': 0.0}"
      ]
     },
     "execution_count": 9,
     "metadata": {},
     "output_type": "execute_result"
    }
   ],
   "source": [
    "data[1]"
   ]
  },
  {
   "cell_type": "markdown",
   "metadata": {},
   "source": [
    "위 데이터 세트에서 두번째 와인은 너무 오래돼 만기가 되었지만, <br>첫번째 와인은 적당한 나이(숙성기간)를 가졌다. "
   ]
  },
  {
   "cell_type": "markdown",
   "metadata": {},
   "source": [
    "#2.KNN"
   ]
  },
  {
   "cell_type": "markdown",
   "metadata": {},
   "source": [
    "가장 비슷한 몇 개를 찾아 가격들이 대강 같다고 가정하고, 관심있는 물품과 유사한 물품을 고르고, 알고리즘이 그들의 평균 가격을 계산한 후 이 물품의 적당한 가격을 추정한다. <br>이런 방식을 kNN(k-Nearest Neighbor)라고 한다."
   ]
  },
  {
   "cell_type": "markdown",
   "metadata": {},
   "source": [
    "<img src=to-few.png>"
   ]
  },
  {
   "cell_type": "markdown",
   "metadata": {},
   "source": [
    "너무 적은 수량만을 이용한 KNN <br>예측 가격이 무작위 변화에 너무 크게 의존함."
   ]
  },
  {
   "cell_type": "markdown",
   "metadata": {},
   "source": [
    "<img src=to-large.png>"
   ]
  },
  {
   "cell_type": "markdown",
   "metadata": {},
   "source": [
    "너무 많은 근처 물품을 사용한 knn<br> 너무 많은 근접 물품을 선택한 경우 알고리즘이 쿼리와 별로 빕슷하지 않은 물품들의 평균을 산정"
   ]
  },
  {
   "cell_type": "markdown",
   "metadata": {
    "collapsed": true
   },
   "source": [
    "##유사도 결정하기"
   ]
  },
  {
   "cell_type": "markdown",
   "metadata": {},
   "source": [
    "유클리디안 거리를 이용한 KNN 구현"
   ]
  },
  {
   "cell_type": "code",
   "execution_count": 10,
   "metadata": {
    "collapsed": true
   },
   "outputs": [],
   "source": [
    "def euclidian(v1, v2):\n",
    "    d = 0.0\n",
    "    for i in range(len(v1)):\n",
    "        d += (v1[i] - v2[i]) ** 2\n",
    "    return math.sqrt(d)\n"
   ]
  },
  {
   "cell_type": "code",
   "execution_count": 11,
   "metadata": {
    "collapsed": false
   },
   "outputs": [
    {
     "data": {
      "text/plain": [
       "(61.62697948398507, 9.715516914732664)"
      ]
     },
     "execution_count": 11,
     "metadata": {},
     "output_type": "execute_result"
    }
   ],
   "source": [
    "#reload(numpredict)\n",
    "data[0]['input']"
   ]
  },
  {
   "cell_type": "code",
   "execution_count": 12,
   "metadata": {
    "collapsed": false
   },
   "outputs": [
    {
     "data": {
      "text/plain": [
       "(82.18131148353802, 39.62822604648687)"
      ]
     },
     "execution_count": 12,
     "metadata": {},
     "output_type": "execute_result"
    }
   ],
   "source": [
    "data[1]['input']"
   ]
  },
  {
   "cell_type": "code",
   "execution_count": 13,
   "metadata": {
    "collapsed": false
   },
   "outputs": [
    {
     "data": {
      "text/plain": [
       "36.29394896602984"
      ]
     },
     "execution_count": 13,
     "metadata": {},
     "output_type": "execute_result"
    }
   ],
   "source": [
    "euclidian(data[0]['input'], data[1]['input'])"
   ]
  },
  {
   "cell_type": "markdown",
   "metadata": {},
   "source": [
    "위의 유클리디안 거리를 계산하는 코드는 나이와 등급은 같이 취급"
   ]
  },
  {
   "cell_type": "markdown",
   "metadata": {},
   "source": [
    "KNN 코드"
   ]
  },
  {
   "cell_type": "code",
   "execution_count": 14,
   "metadata": {
    "collapsed": true
   },
   "outputs": [],
   "source": [
    "def getdistances(data, vec1):\n",
    "    distancelist = []\n",
    "    for i in range(len(data)):\n",
    "        vec2 = data[i]['input']\n",
    "        distancelist.append((euclidian(vec1,vec2),i))\n",
    "    distancelist.sort()\n",
    "    return distancelist"
   ]
  },
  {
   "cell_type": "markdown",
   "metadata": {},
   "source": [
    "이 함수는 데이터 세트 내의 모든 다른 벡터와 주어진 벡터로 getdistance 함수를 호출하여 큰 리스트안에 결과를 넣는다. <br>이 리스트를 정렬하여 근접한 물품이 위에 오도록 만든다"
   ]
  },
  {
   "cell_type": "code",
   "execution_count": 15,
   "metadata": {
    "collapsed": true
   },
   "outputs": [],
   "source": [
    "def knnestimate(data,vec1,k=3):\n",
    "    #정렬된 거리들을 얻음\n",
    "    dlist = getdistances(data,vec1)\n",
    "    avg = 0.0\n",
    "    \n",
    "    #상위 k개의 결과의 평균을 구함\n",
    "    for i in range(k):\n",
    "        idx = dlist[i][1]\n",
    "        avg += data[idx]['result']\n",
    "    avg = avg / k \n",
    "    return avg\n"
   ]
  },
  {
   "cell_type": "code",
   "execution_count": 16,
   "metadata": {
    "collapsed": false
   },
   "outputs": [
    {
     "data": {
      "text/plain": [
       "10.339625774648782"
      ]
     },
     "execution_count": 16,
     "metadata": {},
     "output_type": "execute_result"
    }
   ],
   "source": [
    "knnestimate(data, (95.0,3.0))"
   ]
  },
  {
   "cell_type": "code",
   "execution_count": 17,
   "metadata": {
    "collapsed": false
   },
   "outputs": [
    {
     "data": {
      "text/plain": [
       "25.027554143993118"
      ]
     },
     "execution_count": 17,
     "metadata": {},
     "output_type": "execute_result"
    }
   ],
   "source": [
    "knnestimate(data, (99.0, 3.0))"
   ]
  },
  {
   "cell_type": "code",
   "execution_count": 18,
   "metadata": {
    "collapsed": false
   },
   "outputs": [
    {
     "data": {
      "text/plain": [
       "25.027554143993118"
      ]
     },
     "execution_count": 18,
     "metadata": {},
     "output_type": "execute_result"
    }
   ],
   "source": [
    "knnestimate(data, (99.0, 5.0))"
   ]
  },
  {
   "cell_type": "code",
   "execution_count": 19,
   "metadata": {
    "collapsed": false
   },
   "outputs": [
    {
     "data": {
      "text/plain": [
       "30.306122448979593"
      ]
     },
     "execution_count": 19,
     "metadata": {},
     "output_type": "execute_result"
    }
   ],
   "source": [
    "wineprice(99.0, 5.0) #실제 가격을 구함"
   ]
  },
  {
   "cell_type": "code",
   "execution_count": 20,
   "metadata": {
    "collapsed": false
   },
   "outputs": [
    {
     "data": {
      "text/plain": [
       "22.772892588567426"
      ]
     },
     "execution_count": 20,
     "metadata": {},
     "output_type": "execute_result"
    }
   ],
   "source": [
    "knnestimate(data, (99.0, 5.0), k=1) #1개의 근접값"
   ]
  },
  {
   "cell_type": "markdown",
   "metadata": {},
   "source": [
    "#물품가중치"
   ]
  },
  {
   "cell_type": "markdown",
   "metadata": {
    "collapsed": true
   },
   "source": [
    "알고리즘에 다소 멀리 떨어진 이웃 물품들을 사용하는 경우를 보상하는 한가지 방법은 거리에 따라 가중치를 두는것.<br>물품들이 더 비슷할수록 그들간의 거리가 더 가까워지므로, 거리를 가중치로 변경할 방법이 있어야 한다<br>"
   ]
  },
  {
   "cell_type": "markdown",
   "metadata": {},
   "source": [
    "이 장에서는 세가지 함수를 설명한다."
   ]
  },
  {
   "cell_type": "markdown",
   "metadata": {},
   "source": [
    "1. 역 함수\n",
    "2. 빼기 함수\n",
    "3. 가우스 함수"
   ]
  },
  {
   "cell_type": "markdown",
   "metadata": {},
   "source": [
    "<img src=inverse-function.png>"
   ]
  },
  {
   "cell_type": "markdown",
   "metadata": {},
   "source": [
    "##역함수 \n",
    "<br>이 함수의 가장 간단한 형태는 1을 거리로 나누어 리턴 하는것. <br> 하지만 물품들이 정확히 같거나 아주 가까울 경우 너무 높거나 무한대의 가장치를 낼 수 있다. <br>이 때문에 뒤집기 전에 거리에 작은 숫자를 더할 필요가 있다. "
   ]
  },
  {
   "cell_type": "code",
   "execution_count": 21,
   "metadata": {
    "collapsed": true
   },
   "outputs": [],
   "source": [
    "def inverseweight(dist, num=1.0, const=0.1):\n",
    "    return num/(dist + const)"
   ]
  },
  {
   "cell_type": "markdown",
   "metadata": {},
   "source": [
    "이 함수는 빠르고 구현도 쉬우며 좋은 결과를 찾기 위해 num 변수의 값을 바꿔가며 실험할 수 있다. <br> 가장 큰 단점은 근접한 물품 간에는 가중치가 너무 높고 멀어질수록 급격히 내려 간다는 것.<br> 데이타 조율에 따랏 너무 민감하게 반응하는 경향이 있다. "
   ]
  },
  {
   "cell_type": "markdown",
   "metadata": {},
   "source": [
    "<img src=sub-function.png>"
   ]
  },
  {
   "cell_type": "markdown",
   "metadata": {},
   "source": [
    "##빼기함수"
   ]
  },
  {
   "cell_type": "markdown",
   "metadata": {},
   "source": [
    "이 함수는 상수에서 거리를 뺸다. 결과가 0보다 크면 뺀 결과가 가중치이고, 그렇지 않으면 결과는 0이다. "
   ]
  },
  {
   "cell_type": "code",
   "execution_count": 22,
   "metadata": {
    "collapsed": true
   },
   "outputs": [],
   "source": [
    "def subtractweight(dist, const = 1.0):\n",
    "    if dist > const : \n",
    "        return 0\n",
    "    else :\n",
    "        return const - dist\n",
    "    "
   ]
  },
  {
   "cell_type": "markdown",
   "metadata": {},
   "source": [
    "이 함수는 근접한 물품에 과도한 가중치를 주는 잠재 문제를 극복하지만 자체 제약을 가진다. 결국 가중치가 0으로 떨어지기 때문에 근접 물품을 찾을 수 없는 경우가 발생한다. "
   ]
  },
  {
   "cell_type": "markdown",
   "metadata": {},
   "source": [
    "<img src=gaus-function.png>"
   ]
  },
  {
   "cell_type": "markdown",
   "metadata": {},
   "source": [
    "##가우스 함수"
   ]
  },
  {
   "cell_type": "markdown",
   "metadata": {},
   "source": [
    "벨 커브로도 알려진 가우스 함수<br> 이 함수는 이전에 살펴본 함수들에 비해 좀 더 복잡하짐나 이전 함수들의 한계를 극복한다. "
   ]
  },
  {
   "cell_type": "markdown",
   "metadata": {},
   "source": [
    "이 함수의 가중치는 거리가 0일 때 1이고, 거리가 멀어지면 가중치가 줄어든다. 그럼에도 불구하고 빼기 함수와 달리 가중치는 결코 0이 되지 않아 항상 예측이 가능하다. <br> 이 함수의 코드는 더 복잡해서 다른 두 함수 만큼 빨리 계산 하기 어렵다. "
   ]
  },
  {
   "cell_type": "code",
   "execution_count": 23,
   "metadata": {
    "collapsed": true
   },
   "outputs": [],
   "source": [
    "import math\n",
    "def gaussian(dist, sigma=10.0):\n",
    "    return math.e**(-dist**2/(2*sigma**2))"
   ]
  },
  {
   "cell_type": "code",
   "execution_count": 24,
   "metadata": {
    "collapsed": false
   },
   "outputs": [
    {
     "data": {
      "text/plain": [
       "0.9"
      ]
     },
     "execution_count": 24,
     "metadata": {},
     "output_type": "execute_result"
    }
   ],
   "source": [
    "subtractweight(0.1)"
   ]
  },
  {
   "cell_type": "code",
   "execution_count": 25,
   "metadata": {
    "collapsed": false
   },
   "outputs": [
    {
     "data": {
      "text/plain": [
       "5.0"
      ]
     },
     "execution_count": 25,
     "metadata": {},
     "output_type": "execute_result"
    }
   ],
   "source": [
    "inverseweight(0.1)"
   ]
  },
  {
   "cell_type": "code",
   "execution_count": 26,
   "metadata": {
    "collapsed": false
   },
   "outputs": [
    {
     "data": {
      "text/plain": [
       "0.9999500012499791"
      ]
     },
     "execution_count": 26,
     "metadata": {},
     "output_type": "execute_result"
    }
   ],
   "source": [
    "gaussian(0.1)"
   ]
  },
  {
   "cell_type": "code",
   "execution_count": 27,
   "metadata": {
    "collapsed": false
   },
   "outputs": [
    {
     "data": {
      "text/plain": [
       "0.9950124791926823"
      ]
     },
     "execution_count": 27,
     "metadata": {},
     "output_type": "execute_result"
    }
   ],
   "source": [
    "gaussian(1.0)"
   ]
  },
  {
   "cell_type": "code",
   "execution_count": 28,
   "metadata": {
    "collapsed": false
   },
   "outputs": [
    {
     "data": {
      "text/plain": [
       "0.0"
      ]
     },
     "execution_count": 28,
     "metadata": {},
     "output_type": "execute_result"
    }
   ],
   "source": [
    "subtractweight(1.0)"
   ]
  },
  {
   "cell_type": "code",
   "execution_count": 29,
   "metadata": {
    "collapsed": false
   },
   "outputs": [
    {
     "data": {
      "text/plain": [
       "0.9090909090909091"
      ]
     },
     "execution_count": 29,
     "metadata": {},
     "output_type": "execute_result"
    }
   ],
   "source": [
    "inverseweight(1.0)"
   ]
  },
  {
   "cell_type": "code",
   "execution_count": 30,
   "metadata": {
    "collapsed": false
   },
   "outputs": [
    {
     "data": {
      "text/plain": [
       "0.9559974818331"
      ]
     },
     "execution_count": 30,
     "metadata": {},
     "output_type": "execute_result"
    }
   ],
   "source": [
    "gaussian(3.0)"
   ]
  },
  {
   "cell_type": "markdown",
   "metadata": {},
   "source": [
    "모든 함수 들이 0.0에서 높은 값을 가지며, 그곳부터 각기 다른 방식으로 감소한다. "
   ]
  },
  {
   "cell_type": "markdown",
   "metadata": {},
   "source": [
    "#가중 knn"
   ]
  },
  {
   "cell_type": "markdown",
   "metadata": {},
   "source": [
    "가중 knn의 코드는 정렬된 거리를 얻고 k 근접 요소들을 구하는 방식으로, 즉 일반 knn 함수와 동일한 방식으로 동작"
   ]
  },
  {
   "cell_type": "markdown",
   "metadata": {},
   "source": [
    "중요한 차이는 결과들의 평균을 계산하는 대신에 가중 knn은 가중 평균을 계산한다. <br> 가중 평균은 각 물품의 가중치에 값을 곱한 후 서로 더하고, 그것을 전체 가중치의합으로 나눠서 계산한다. "
   ]
  },
  {
   "cell_type": "code",
   "execution_count": 31,
   "metadata": {
    "collapsed": true
   },
   "outputs": [],
   "source": [
    "def weightedknn(data, vec1, k=5, weightf =gaussian):\n",
    "    #거리를 구함\n",
    "    dlist = getdistances(data,vec1)\n",
    "    avg = 0.0\n",
    "    totalweight = 0.0\n",
    "    \n",
    "    #가중평균을 구함\n",
    "    for i in range(k) :\n",
    "        dist = dlist[i][0]\n",
    "        idx = dlist[i][1]\n",
    "        weight = weightf(dist)\n",
    "        avg += weight + data[idx]['result']\n",
    "        totalweight += weight\n",
    "    avg = avg / totalweight\n",
    "    return avg"
   ]
  },
  {
   "cell_type": "markdown",
   "metadata": {},
   "source": [
    "이 함수는 k 근접 물품들에 대해 루프를 돌면서 그들 각각의 거리를 전에 정의한 가중 함수 중의 하나에 전달한다. age는 각 물품의 값에 이 가중치를 곱하여 계산한다. totalweight는 가중치들의 합니다. 마지막으로 totalweight로 나눈다."
   ]
  },
  {
   "cell_type": "code",
   "execution_count": 32,
   "metadata": {
    "collapsed": false
   },
   "outputs": [
    {
     "data": {
      "text/plain": [
       "39.48699130301957"
      ]
     },
     "execution_count": 32,
     "metadata": {},
     "output_type": "execute_result"
    }
   ],
   "source": [
    "weightedknn(data,(99.0, 5.0))"
   ]
  },
  {
   "cell_type": "markdown",
   "metadata": {},
   "source": [
    "#교차검증"
   ]
  },
  {
   "cell_type": "markdown",
   "metadata": {},
   "source": [
    "교차검증은 데이터를 학습 세트와 테스트 세트로 나누는 기법들을 총칭한는 이름이다. <br> 학습세트는 점증용 알고리즘에 올바른 답을 주어지는것이고, 예측을 하는세 사용된다. <br> 그런 다음 테스트 세트에 있는 각 물품들에 대해 예측하고 정답과 비교해서 이 알고리즘이 얼마나 잘 동작했는지를 타나내는 전체 점수를 계산한다."
   ]
  },
  {
   "cell_type": "markdown",
   "metadata": {},
   "source": [
    "데이터 세트를 나누는 함수 "
   ]
  },
  {
   "cell_type": "code",
   "execution_count": 33,
   "metadata": {
    "collapsed": true
   },
   "outputs": [],
   "source": [
    "def dividedata(data, test=0.05):\n",
    "    trainset = []\n",
    "    testset = []\n",
    "    for row in data :\n",
    "        if random() < test :\n",
    "            testset.append(row)\n",
    "        else:\n",
    "            trainset.append(row)\n",
    "    return trainset, testset"
   ]
  },
  {
   "cell_type": "markdown",
   "metadata": {},
   "source": [
    "다음 단계로 학습 세트를 제공하고 테스트 세트를 내 물품들로 호출해서 알고리즘을 테스트한다. 이 함수는 차이를 계산하고 결합하여 얼마나 떨어져 있는지를 알려주는 누적 점수를 계산한다. 누적 점수는 보통 모든 창이 값의 제곱을 더하여 계산한다."
   ]
  },
  {
   "cell_type": "code",
   "execution_count": 34,
   "metadata": {
    "collapsed": true
   },
   "outputs": [],
   "source": [
    "def testalgorithm(algf, trainset, testset):\n",
    "    error = 0.0 \n",
    "    for row in testset :\n",
    "        guess = algf(trainset, row['input'])\n",
    "        error += (row['result']-guess) **2\n",
    "    return error/len(testset)"
   ]
  },
  {
   "cell_type": "markdown",
   "metadata": {},
   "source": [
    "마지막 단계로, 데이터를 다양하게 분할한 후 각각에 대해 testalgorithm을 수행시키고, 모든 결과를 더해 최종 결과 점수를 만드는 함수를 만듬"
   ]
  },
  {
   "cell_type": "code",
   "execution_count": 35,
   "metadata": {
    "collapsed": true
   },
   "outputs": [],
   "source": [
    "def crossvalidate(algf, data, trials=100, test=0.05):\n",
    "    error = 0.0\n",
    "    for i in range(trials):\n",
    "        trainset, testset = dividedata(data,test)\n",
    "        error += testalgorithm(algf, trainset, testset)\n",
    "    return error/trials"
   ]
  },
  {
   "cell_type": "code",
   "execution_count": 36,
   "metadata": {
    "collapsed": false
   },
   "outputs": [
    {
     "data": {
      "text/plain": [
       "466.5615570085021"
      ]
     },
     "execution_count": 36,
     "metadata": {},
     "output_type": "execute_result"
    }
   ],
   "source": [
    "crossvalidate(knnestimate, data)"
   ]
  },
  {
   "cell_type": "code",
   "execution_count": 37,
   "metadata": {
    "collapsed": true
   },
   "outputs": [],
   "source": [
    "def knn3(d,v):\n",
    "    return knnestimate(d,v, k = 3)"
   ]
  },
  {
   "cell_type": "code",
   "execution_count": 38,
   "metadata": {
    "collapsed": false
   },
   "outputs": [
    {
     "data": {
      "text/plain": [
       "489.3120034147661"
      ]
     },
     "execution_count": 38,
     "metadata": {},
     "output_type": "execute_result"
    }
   ],
   "source": [
    "crossvalidate(knn3, data)"
   ]
  },
  {
   "cell_type": "code",
   "execution_count": 39,
   "metadata": {
    "collapsed": true
   },
   "outputs": [],
   "source": [
    "def knn1(d,v):\n",
    "    return knnestimate(d,v, k = 1)"
   ]
  },
  {
   "cell_type": "code",
   "execution_count": 40,
   "metadata": {
    "collapsed": false
   },
   "outputs": [
    {
     "data": {
      "text/plain": [
       "578.8432169531476"
      ]
     },
     "execution_count": 40,
     "metadata": {},
     "output_type": "execute_result"
    }
   ],
   "source": [
    "crossvalidate(knn1, data)"
   ]
  },
  {
   "cell_type": "markdown",
   "metadata": {},
   "source": [
    "당연히 너무 적은 물품이나 너무 많은 물품을 사용하면 결과가 나쁘다. "
   ]
  },
  {
   "cell_type": "markdown",
   "metadata": {},
   "source": [
    "#이질변수"
   ]
  },
  {
   "cell_type": "markdown",
   "metadata": {},
   "source": [
    "<img src=variablepng.png>"
   ]
  },
  {
   "cell_type": "markdown",
   "metadata": {},
   "source": [
    "기존에 사용한 데이터 세트는 인위적으로 다루기 쉽게 설계했다. <br>\n",
    "모든 변수가 같은 범위에 있기 때문에 모두를 사용해여 한번에 거리를 계산하는 것이 가능했다. <br>\n",
    "하지만 가격에 영향을 주는 밀리리터 단위의 병 크기와 같은 새로운 변수를 도입하는 경우 위의 그림과 같이 거리 가중 계산에 주는 영향을 알 수 있다. "
   ]
  },
  {
   "cell_type": "markdown",
   "metadata": {},
   "source": [
    "그리고 무관한 변수가 도입되는 문제도 있다. 만일 데이터 세트에 와인을 찾는 저장소 통로 번호가 포함된다면, 이 변수도 거리 계산에 포함 될 수 있다. 모든 측면에서 두 물품이 동일하지만 다른 통로번호를 가진다면 멀리 떨어진것으로 간주되어 알고리즘의 정확한 예측을 방해한다."
   ]
  },
  {
   "cell_type": "markdown",
   "metadata": {},
   "source": [
    "##데이터 세트 추가하기"
   ]
  },
  {
   "cell_type": "code",
   "execution_count": 41,
   "metadata": {
    "collapsed": true
   },
   "outputs": [],
   "source": [
    "def wineset2():\n",
    "    rows = []\n",
    "    for i in range(300):\n",
    "        #무작위로 나이(숙성기간)와 등급을 생성함\n",
    "        rating = random()*50+50\n",
    "        age = random()*50\n",
    "        aisle = float(randint(1,20))\n",
    "        bottlesize=[375.0,750.0,1500.,300.0][randint(0,3)]\n",
    "        \n",
    "        #가격을 얻음\n",
    "        price = wineprice(rating, age)\n",
    "        price *= (bottlesize/750)\n",
    "        \n",
    "        #노이즈를 얻음\n",
    "        price *= (random()*0.4 + 0.8)\n",
    "        \n",
    "        #데이터세트에 추가함\n",
    "        rows.append({'input':(rating,age,aisle, bottlesize),'result':price})\n",
    "    return rows"
   ]
  },
  {
   "cell_type": "code",
   "execution_count": 42,
   "metadata": {
    "collapsed": false
   },
   "outputs": [
    {
     "data": {
      "text/plain": [
       "[{'input': (91.99600830159613, 28.58929814217778, 18.0, 375.0),\n",
       "  'result': 92.18634739160314},\n",
       " {'input': (56.1865523906711, 29.972181426740047, 11.0, 750.0), 'result': 0.0},\n",
       " {'input': (77.61599379525947, 2.892557392466777, 9.0, 750.0),\n",
       "  'result': 23.243576568680933},\n",
       " {'input': (65.20240974515045, 19.587852707580122, 11.0, 375.0),\n",
       "  'result': 8.346445135215397},\n",
       " {'input': (92.91946350401983, 41.96539419344924, 19.0, 375.0),\n",
       "  'result': 107.72489192545859},\n",
       " {'input': (62.9084777185517, 48.47556877548209, 4.0, 750.0), 'result': 0.0},\n",
       " {'input': (95.76224383915677, 45.343016184402636, 13.0, 1500.0),\n",
       "  'result': 419.3618770507219},\n",
       " {'input': (53.89432354477335, 27.283761886125134, 12.0, 750.0),\n",
       "  'result': 0.0},\n",
       " {'input': (84.50086847826724, 43.37812337995157, 16.0, 300.0), 'result': 0.0},\n",
       " {'input': (81.91527832775233, 5.464950963470589, 5.0, 375.0),\n",
       "  'result': 18.64930988926645},\n",
       " {'input': (85.71667914963137, 45.910148903956035, 16.0, 1500.0),\n",
       "  'result': 0.0},\n",
       " {'input': (66.63209189868105, 7.817831989960261, 8.0, 750.0),\n",
       "  'result': 98.20481308845399},\n",
       " {'input': (66.02115625404639, 1.6552146614857322, 10.0, 750.0),\n",
       "  'result': 22.229611713921244},\n",
       " {'input': (59.68119980723567, 10.510264548775472, 15.0, 300.0),\n",
       "  'result': 59.30254081165018},\n",
       " {'input': (80.33375178703992, 36.793750310341444, 16.0, 300.0),\n",
       "  'result': 0.0},\n",
       " {'input': (93.07810597310169, 14.802381077133736, 18.0, 1500.0),\n",
       "  'result': 143.3855213176502},\n",
       " {'input': (99.20792301605218, 48.14289783465029, 2.0, 750.0),\n",
       "  'result': 209.34136493566137},\n",
       " {'input': (99.21851177828766, 35.36751018445065, 10.0, 300.0),\n",
       "  'result': 71.88797959991288},\n",
       " {'input': (96.66107559210286, 10.203761136030066, 20.0, 1500.0),\n",
       "  'result': 124.74163560710932},\n",
       " {'input': (87.9393565949962, 24.551993126398088, 10.0, 750.0),\n",
       "  'result': 137.50317260875764},\n",
       " {'input': (58.11198314582592, 1.3492911507035132, 16.0, 375.0),\n",
       "  'result': 24.83038701827469},\n",
       " {'input': (87.39723749492836, 6.60296159789941, 8.0, 300.0),\n",
       "  'result': 20.168264156828407},\n",
       " {'input': (75.5942033374814, 41.10040261594375, 11.0, 300.0), 'result': 0.0},\n",
       " {'input': (74.42422075032914, 16.216460166523916, 5.0, 750.0),\n",
       "  'result': 109.58197350818394},\n",
       " {'input': (67.87804563643034, 14.353035764165178, 20.0, 300.0),\n",
       "  'result': 68.94263149143451},\n",
       " {'input': (96.98023542931197, 37.70236461091766, 8.0, 1500.0),\n",
       "  'result': 401.9089959876329},\n",
       " {'input': (72.37127310797116, 15.184451166493051, 2.0, 1500.0),\n",
       "  'result': 249.34520392260112},\n",
       " {'input': (74.12624262986877, 42.9567096738988, 9.0, 1500.0), 'result': 0.0},\n",
       " {'input': (83.97744253181817, 6.201404160145358, 2.0, 375.0),\n",
       "  'result': 21.52723076580931},\n",
       " {'input': (57.504734504243125, 42.25518583550581, 7.0, 300.0), 'result': 0.0},\n",
       " {'input': (93.61095547300228, 35.575420382521486, 4.0, 300.0),\n",
       "  'result': 69.68342974371141},\n",
       " {'input': (77.53751520313197, 43.587084413379436, 20.0, 375.0),\n",
       "  'result': 0.0},\n",
       " {'input': (64.74324406137599, 10.807229656987882, 8.0, 300.0),\n",
       "  'result': 51.183762768042925},\n",
       " {'input': (77.24102390947364, 33.94910482372111, 6.0, 375.0), 'result': 0.0},\n",
       " {'input': (52.85675603919714, 48.9706552102746, 8.0, 300.0), 'result': 0.0},\n",
       " {'input': (70.3849138755993, 42.35533499752695, 8.0, 750.0), 'result': 0.0},\n",
       " {'input': (97.93423584322659, 45.04676696767729, 6.0, 375.0),\n",
       "  'result': 131.92452990105357},\n",
       " {'input': (57.34439739739652, 32.20291921439479, 11.0, 300.0), 'result': 0.0},\n",
       " {'input': (57.59923502513466, 29.76367664648657, 18.0, 375.0), 'result': 0.0},\n",
       " {'input': (72.27817367352375, 18.308951803354066, 13.0, 375.0),\n",
       "  'result': 70.0017583896272},\n",
       " {'input': (90.64417421475031, 36.690487655057154, 8.0, 300.0),\n",
       "  'result': 74.79329079180098},\n",
       " {'input': (98.76887325510941, 16.424198006608943, 16.0, 300.0),\n",
       "  'result': 28.6417554400036},\n",
       " {'input': (85.39805567571436, 37.482085869200155, 2.0, 300.0),\n",
       "  'result': 54.45490041782819},\n",
       " {'input': (80.33858135293082, 35.06484368576463, 12.0, 1500.0),\n",
       "  'result': 24.300253715375128},\n",
       " {'input': (52.88443561843436, 40.825688677443104, 6.0, 1500.0),\n",
       "  'result': 0.0},\n",
       " {'input': (98.13084052206703, 28.606261723928277, 20.0, 375.0),\n",
       "  'result': 83.35787573847273},\n",
       " {'input': (63.437813432302654, 17.462610683316633, 4.0, 300.0),\n",
       "  'result': 11.334271666161664},\n",
       " {'input': (81.92012007500732, 37.29768463581009, 19.0, 300.0), 'result': 0.0},\n",
       " {'input': (86.2970483751171, 2.178495544874454, 12.0, 375.0),\n",
       "  'result': 9.452784267003},\n",
       " {'input': (64.80194059178163, 31.424659799791137, 3.0, 1500.0),\n",
       "  'result': 0.0},\n",
       " {'input': (96.54896798940476, 0.017521571887285647, 1.0, 375.0),\n",
       "  'result': 2.490440612857269},\n",
       " {'input': (54.303147302173784, 14.430444690217797, 9.0, 300.0),\n",
       "  'result': 0.0},\n",
       " {'input': (81.77959727853919, 42.987177732066186, 9.0, 300.0), 'result': 0.0},\n",
       " {'input': (61.013276102821024, 16.21331836325488, 10.0, 1500.0),\n",
       "  'result': 0.0},\n",
       " {'input': (59.84451159393773, 0.9584103888419848, 13.0, 750.0),\n",
       "  'result': 33.21858326552169},\n",
       " {'input': (75.23413276426177, 15.487070774462442, 9.0, 375.0),\n",
       "  'result': 68.8967550306285},\n",
       " {'input': (71.51037785518068, 4.5218174177131925, 7.0, 1500.0),\n",
       "  'result': 101.58863126798106},\n",
       " {'input': (54.08417818027625, 40.07327310637509, 17.0, 375.0), 'result': 0.0},\n",
       " {'input': (79.85002632912617, 1.0140135241732573, 11.0, 1500.0),\n",
       "  'result': 26.49124820943762},\n",
       " {'input': (99.9646615532794, 31.483241018154594, 7.0, 300.0),\n",
       "  'result': 71.46123851768216},\n",
       " {'input': (85.66284299145464, 44.721977326708625, 11.0, 1500.0),\n",
       "  'result': 0.0},\n",
       " {'input': (53.94594896542325, 1.9084481482967486, 15.0, 1500.0),\n",
       "  'result': 182.07390792827334},\n",
       " {'input': (86.61557440500485, 37.65984820724371, 8.0, 300.0),\n",
       "  'result': 65.4535712466862},\n",
       " {'input': (95.38158210117143, 30.386056120310588, 19.0, 750.0),\n",
       "  'result': 138.34494015813505},\n",
       " {'input': (70.87447253807443, 28.33895685426983, 14.0, 300.0), 'result': 0.0},\n",
       " {'input': (90.04732444370504, 49.3020180595337, 3.0, 300.0), 'result': 0.0},\n",
       " {'input': (66.31128531037444, 7.091039216560152, 9.0, 750.0),\n",
       "  'result': 86.14897089738166},\n",
       " {'input': (62.878532515168224, 36.85633019147188, 13.0, 750.0),\n",
       "  'result': 0.0},\n",
       " {'input': (75.18744130767008, 29.286198707044285, 3.0, 375.0),\n",
       "  'result': 16.725602578192824},\n",
       " {'input': (93.80424485525253, 17.97647815772451, 20.0, 750.0),\n",
       "  'result': 107.52432012652876},\n",
       " {'input': (95.00141889296813, 33.481234565233144, 2.0, 1500.0),\n",
       "  'result': 329.2060855930014},\n",
       " {'input': (95.36568697262665, 42.1513728573015, 12.0, 300.0),\n",
       "  'result': 96.18807415235956},\n",
       " {'input': (76.7238958703548, 1.4018493036514479, 10.0, 1500.0),\n",
       "  'result': 29.876176526787535},\n",
       " {'input': (77.70233021015909, 30.258536777964075, 11.0, 300.0),\n",
       "  'result': 37.339841055978575},\n",
       " {'input': (87.65166958528508, 8.349744198666754, 8.0, 1500.0),\n",
       "  'result': 98.86888611545979},\n",
       " {'input': (80.7923587938159, 33.260439104883346, 8.0, 375.0),\n",
       "  'result': 47.4625822645312},\n",
       " {'input': (91.51183841772072, 36.886531323901245, 15.0, 375.0),\n",
       "  'result': 117.61175041861382},\n",
       " {'input': (58.384021357473685, 8.211930796948568, 11.0, 300.0),\n",
       "  'result': 73.98432128509096},\n",
       " {'input': (78.3931318121169, 46.10067470951985, 9.0, 1500.0), 'result': 0.0},\n",
       " {'input': (52.45178379989282, 12.497192164936772, 5.0, 1500.0),\n",
       "  'result': 0.0},\n",
       " {'input': (80.91330014325825, 2.9794881987841526, 8.0, 1500.0),\n",
       "  'result': 43.843441326160466},\n",
       " {'input': (82.2014977630826, 40.4315499263232, 18.0, 750.0), 'result': 0.0},\n",
       " {'input': (55.00240080221734, 0.3973595921104911, 1.0, 1500.0),\n",
       "  'result': 72.38640465143231},\n",
       " {'input': (64.05230601225831, 41.95724350054733, 11.0, 1500.0),\n",
       "  'result': 0.0},\n",
       " {'input': (93.66537166019258, 28.098237997576565, 5.0, 300.0),\n",
       "  'result': 52.35224937646439},\n",
       " {'input': (59.75997150608157, 47.50770371342052, 2.0, 300.0), 'result': 0.0},\n",
       " {'input': (71.8131123539001, 25.817411035301554, 6.0, 750.0),\n",
       "  'result': 37.59352244267498},\n",
       " {'input': (75.76383101194895, 23.70267965522007, 13.0, 375.0),\n",
       "  'result': 72.89577758326242},\n",
       " {'input': (90.769052548352, 24.98736595232606, 8.0, 300.0),\n",
       "  'result': 56.548264996822546},\n",
       " {'input': (68.81432351531612, 1.3716513399903985, 14.0, 750.0),\n",
       "  'result': 21.978305828760536},\n",
       " {'input': (86.7905740314622, 19.454930119241276, 1.0, 300.0),\n",
       "  'result': 52.13988629406699},\n",
       " {'input': (51.64353224889276, 37.01079042015118, 3.0, 1500.0), 'result': 0.0},\n",
       " {'input': (59.245462724246664, 47.367963294901166, 12.0, 750.0),\n",
       "  'result': 0.0},\n",
       " {'input': (82.47946699889235, 9.330926106399017, 1.0, 375.0),\n",
       "  'result': 38.59538507223448},\n",
       " {'input': (65.59448738419127, 8.998166381483669, 10.0, 375.0),\n",
       "  'result': 44.9214908597282},\n",
       " {'input': (63.60661206821554, 3.1508997649077717, 14.0, 1500.0),\n",
       "  'result': 113.48905988319359},\n",
       " {'input': (58.47894342621814, 34.669168224990834, 20.0, 1500.0),\n",
       "  'result': 0.0},\n",
       " {'input': (76.8652598434764, 19.326730325773628, 6.0, 375.0),\n",
       "  'result': 73.69924351514163},\n",
       " {'input': (76.82689255980063, 12.77363571844346, 3.0, 300.0),\n",
       "  'result': 46.83169976305827},\n",
       " {'input': (94.71580294896717, 43.8006616626935, 14.0, 1500.0),\n",
       "  'result': 415.7899818637747},\n",
       " {'input': (61.140290488012894, 27.757235928922135, 17.0, 1500.0),\n",
       "  'result': 0.0},\n",
       " {'input': (54.72532600928473, 24.40072573687399, 19.0, 750.0), 'result': 0.0},\n",
       " {'input': (86.46909182272998, 14.834301610119521, 7.0, 300.0),\n",
       "  'result': 36.28658435142283},\n",
       " {'input': (91.59555111245683, 41.255779416121655, 11.0, 300.0),\n",
       "  'result': 90.0600855267345},\n",
       " {'input': (75.89162770240952, 9.321835289364438, 9.0, 375.0),\n",
       "  'result': 35.99000410744402},\n",
       " {'input': (85.75354583698959, 9.805085689111209, 4.0, 750.0),\n",
       "  'result': 67.18579627814003},\n",
       " {'input': (95.32948587034176, 34.656714239731826, 3.0, 750.0),\n",
       "  'result': 175.39893333121913},\n",
       " {'input': (74.16503703067355, 15.638603449984261, 14.0, 300.0),\n",
       "  'result': 57.19619448408276},\n",
       " {'input': (96.78047175722547, 42.700273695392795, 5.0, 375.0),\n",
       "  'result': 118.38984520826243},\n",
       " {'input': (70.14764489880025, 48.66517883117824, 17.0, 1500.0),\n",
       "  'result': 0.0},\n",
       " {'input': (96.83710467310871, 42.62192996091359, 10.0, 375.0),\n",
       "  'result': 98.15403305447327},\n",
       " {'input': (68.71583402319568, 42.8527112074817, 4.0, 375.0), 'result': 0.0},\n",
       " {'input': (85.68871775652514, 20.76864526999676, 20.0, 750.0),\n",
       "  'result': 149.45304513211923},\n",
       " {'input': (80.70120228779777, 30.11281041536903, 13.0, 300.0),\n",
       "  'result': 91.67079971054777},\n",
       " {'input': (58.918354807143515, 35.46873780726075, 18.0, 1500.0),\n",
       "  'result': 0.0},\n",
       " {'input': (64.62339934595678, 31.915628987487654, 20.0, 375.0),\n",
       "  'result': 0.0},\n",
       " {'input': (58.73599370343055, 14.657404744339452, 4.0, 750.0), 'result': 0.0},\n",
       " {'input': (75.67820944673612, 32.8338936672253, 5.0, 375.0), 'result': 0.0},\n",
       " {'input': (87.192508675592, 25.047982262339747, 16.0, 300.0),\n",
       "  'result': 68.88174450622863},\n",
       " {'input': (94.15476285526279, 28.347245822702575, 9.0, 1500.0),\n",
       "  'result': 314.98561650195603},\n",
       " {'input': (60.69810061070034, 19.1346905720974, 3.0, 300.0), 'result': 0.0},\n",
       " {'input': (63.87812784349224, 41.9536012071567, 3.0, 1500.0), 'result': 0.0},\n",
       " {'input': (95.25199118098962, 14.071473751440438, 20.0, 375.0),\n",
       "  'result': 39.0837565078899},\n",
       " {'input': (75.445197328609, 34.48025115623955, 10.0, 300.0), 'result': 0.0},\n",
       " {'input': (69.79014164061275, 29.690183095876467, 18.0, 1500.0),\n",
       "  'result': 0.0},\n",
       " {'input': (87.15517041762777, 22.105502431413505, 18.0, 750.0),\n",
       "  'result': 120.63024606399269},\n",
       " {'input': (72.04929787699167, 46.177523670392226, 3.0, 300.0), 'result': 0.0},\n",
       " {'input': (80.78540308449593, 15.640892049008276, 20.0, 375.0),\n",
       "  'result': 53.80460625024571},\n",
       " {'input': (56.739358847928145, 10.647515224002452, 20.0, 1500.0),\n",
       "  'result': 61.894968373171785},\n",
       " {'input': (52.36895765222076, 2.5485741131967057, 15.0, 300.0),\n",
       "  'result': 59.25000621625437},\n",
       " {'input': (93.71980004176689, 10.993601047474522, 13.0, 750.0),\n",
       "  'result': 61.61175771484222},\n",
       " {'input': (54.789933487752904, 47.27944920885053, 6.0, 1500.0),\n",
       "  'result': 0.0},\n",
       " {'input': (59.650899232115734, 7.208597493104351, 17.0, 750.0),\n",
       "  'result': 109.52211367652735},\n",
       " {'input': (69.09081913119032, 44.33033726332833, 16.0, 300.0), 'result': 0.0},\n",
       " {'input': (54.55320085622663, 46.68817380645257, 17.0, 300.0), 'result': 0.0},\n",
       " {'input': (78.31525464205674, 41.56488615711103, 11.0, 300.0), 'result': 0.0},\n",
       " {'input': (68.68115852180712, 40.42653001792532, 6.0, 300.0), 'result': 0.0},\n",
       " {'input': (96.86235056776806, 29.801107988994396, 1.0, 375.0),\n",
       "  'result': 64.48837553022565},\n",
       " {'input': (99.96057200434737, 47.08374589262556, 12.0, 375.0),\n",
       "  'result': 143.8548705739953},\n",
       " {'input': (52.18907205040237, 13.897293655055265, 17.0, 375.0),\n",
       "  'result': 0.0},\n",
       " {'input': (79.24441837438114, 18.216692315551796, 11.0, 750.0),\n",
       "  'result': 107.37205942715005},\n",
       " {'input': (86.18486784004375, 28.979807005754182, 18.0, 300.0),\n",
       "  'result': 82.41145336065865},\n",
       " {'input': (88.38278677684784, 4.37941231177258, 7.0, 300.0),\n",
       "  'result': 11.987589557862671},\n",
       " {'input': (83.33254938306149, 3.1571349301052933, 4.0, 300.0),\n",
       "  'result': 10.655605734164748},\n",
       " {'input': (77.17292335589647, 30.40181453379198, 6.0, 1500.0),\n",
       "  'result': 118.9972973535148},\n",
       " {'input': (53.578049826303186, 6.717174282007305, 11.0, 300.0),\n",
       "  'result': 23.42036622923733},\n",
       " {'input': (97.81662162254942, 10.46023353258328, 11.0, 375.0),\n",
       "  'result': 25.736639464866663},\n",
       " {'input': (86.69887881600505, 30.943965759497072, 8.0, 300.0),\n",
       "  'result': 74.06107986803309},\n",
       " {'input': (75.85053286324847, 41.138561235357486, 10.0, 300.0),\n",
       "  'result': 0.0},\n",
       " {'input': (72.19818784132138, 15.792762128729931, 14.0, 1500.0),\n",
       "  'result': 272.7139742119715},\n",
       " {'input': (66.25282776211017, 37.56577119052664, 12.0, 375.0), 'result': 0.0},\n",
       " {'input': (70.20378286517825, 38.98156090529857, 1.0, 300.0), 'result': 0.0},\n",
       " {'input': (64.03087582435364, 21.271907766881686, 9.0, 375.0), 'result': 0.0},\n",
       " {'input': (96.32802709130772, 48.953049769294836, 3.0, 1500.0),\n",
       "  'result': 243.62590488766023},\n",
       " {'input': (80.71638153551669, 25.67532204302409, 3.0, 300.0),\n",
       "  'result': 77.88495942005136},\n",
       " {'input': (91.19014199625099, 31.40426495863973, 3.0, 375.0),\n",
       "  'result': 77.06166248199709},\n",
       " {'input': (95.92592101764635, 9.825871835009131, 11.0, 375.0),\n",
       "  'result': 32.38904444777204},\n",
       " {'input': (87.47642738508202, 37.14590586923121, 11.0, 750.0),\n",
       "  'result': 213.05422953075126},\n",
       " {'input': (85.47175598981659, 8.497791283883732, 2.0, 750.0),\n",
       "  'result': 59.68507492191782},\n",
       " {'input': (57.400791933387, 11.136812849422057, 12.0, 1500.0),\n",
       "  'result': 64.9056722340069},\n",
       " {'input': (58.68080905655212, 1.857597866767785, 15.0, 750.0),\n",
       "  'result': 52.516792959704574},\n",
       " {'input': (84.98275326149107, 39.03832359739298, 20.0, 375.0),\n",
       "  'result': 23.156451208660204},\n",
       " {'input': (52.52815048877531, 17.220576340744287, 11.0, 750.0),\n",
       "  'result': 0.0},\n",
       " {'input': (98.72693527099267, 4.636903162345934, 15.0, 375.0),\n",
       "  'result': 16.01777136047068},\n",
       " {'input': (61.696419871279915, 14.579802956981819, 16.0, 750.0),\n",
       "  'result': 67.11128102691418},\n",
       " {'input': (91.9054681109335, 28.67703072332827, 13.0, 1500.0),\n",
       "  'result': 282.5244011194259},\n",
       " {'input': (69.66944467309192, 18.425633433633966, 18.0, 750.0),\n",
       "  'result': 141.41780788446198},\n",
       " {'input': (73.86968208250308, 2.508631527629268, 13.0, 300.0),\n",
       "  'result': 11.237274169117981},\n",
       " {'input': (89.58312235981049, 15.575431373769721, 17.0, 375.0),\n",
       "  'result': 50.460016742975746},\n",
       " {'input': (88.42150112152794, 13.16772322321434, 14.0, 300.0),\n",
       "  'result': 32.963940916906324},\n",
       " {'input': (92.24550147360586, 20.579228725215522, 7.0, 375.0),\n",
       "  'result': 52.178443445169975},\n",
       " {'input': (67.30289112824855, 46.49476207887176, 5.0, 1500.0), 'result': 0.0},\n",
       " {'input': (78.90830387309539, 7.936554602360207, 10.0, 750.0),\n",
       "  'result': 51.239280240317065},\n",
       " {'input': (63.99745523812905, 25.285156758964412, 4.0, 750.0), 'result': 0.0},\n",
       " {'input': (74.01396613059444, 20.517927569768023, 5.0, 750.0),\n",
       "  'result': 146.6019809065778},\n",
       " {'input': (89.24730386128246, 48.45218433962933, 13.0, 375.0), 'result': 0.0},\n",
       " {'input': (67.63599709496165, 11.650345683188545, 9.0, 1500.0),\n",
       "  'result': 282.7510283135276},\n",
       " {'input': (96.11968406303163, 43.568187838314735, 4.0, 375.0),\n",
       "  'result': 105.51171479164616},\n",
       " {'input': (96.84228310403802, 16.0545339902052, 13.0, 1500.0),\n",
       "  'result': 147.17380839301816},\n",
       " {'input': (89.77594407502104, 23.210854264663695, 1.0, 375.0),\n",
       "  'result': 72.55156033764975},\n",
       " {'input': (79.45270095658445, 36.77708080786262, 20.0, 1500.0),\n",
       "  'result': 0.0},\n",
       " {'input': (59.19108169263514, 36.850017862124595, 11.0, 1500.0),\n",
       "  'result': 0.0},\n",
       " {'input': (55.77438017260392, 16.826554023574243, 8.0, 300.0), 'result': 0.0},\n",
       " {'input': (80.76724771344021, 15.515071286389425, 17.0, 375.0),\n",
       "  'result': 51.33066195014087},\n",
       " {'input': (92.65811125272171, 35.91075210458599, 19.0, 300.0),\n",
       "  'result': 71.74997785630458},\n",
       " {'input': (96.44939778423046, 38.78766264606946, 12.0, 1500.0),\n",
       "  'result': 483.65744774134737},\n",
       " {'input': (65.5643797442909, 17.400073692330643, 14.0, 300.0),\n",
       "  'result': 39.43286349634123},\n",
       " {'input': (89.19890016803865, 27.936441374655047, 15.0, 375.0),\n",
       "  'result': 68.89254273256357},\n",
       " {'input': (86.89751588807326, 9.741687554805962, 14.0, 300.0),\n",
       "  'result': 24.01365521582799},\n",
       " {'input': (96.44750480725084, 16.332869360833495, 1.0, 1500.0),\n",
       "  'result': 187.74523702402044},\n",
       " {'input': (61.19187454108768, 20.605212607447633, 17.0, 1500.0),\n",
       "  'result': 0.0},\n",
       " {'input': (65.7551092110445, 9.719232081449125, 8.0, 300.0),\n",
       "  'result': 46.395435400026784},\n",
       " {'input': (79.0243252881386, 7.256720146732521, 18.0, 375.0),\n",
       "  'result': 28.5472573738873},\n",
       " {'input': (68.9648983196254, 46.04877402894399, 20.0, 750.0), 'result': 0.0},\n",
       " {'input': (52.92199673745341, 49.104211130358394, 18.0, 750.0),\n",
       "  'result': 0.0},\n",
       " {'input': (84.63607701225942, 36.290856749439456, 12.0, 375.0),\n",
       "  'result': 61.14257542407489},\n",
       " {'input': (70.92145892875766, 18.415701836051944, 11.0, 1500.0),\n",
       "  'result': 284.74666615285537},\n",
       " {'input': (91.44388018503622, 29.077357919291615, 16.0, 375.0),\n",
       "  'result': 91.40378717864239},\n",
       " {'input': (51.680688261236575, 34.73033141604494, 18.0, 750.0),\n",
       "  'result': 0.0},\n",
       " {'input': (71.29043573921342, 25.534278960334056, 14.0, 375.0),\n",
       "  'result': 16.01664708454342},\n",
       " {'input': (56.33230152244833, 12.443497668324383, 6.0, 750.0), 'result': 0.0},\n",
       " {'input': (53.00848334183124, 11.176841595200331, 11.0, 1500.0),\n",
       "  'result': 0.0},\n",
       " {'input': (72.5270694901336, 44.397417517790174, 2.0, 300.0), 'result': 0.0},\n",
       " {'input': (97.895323005585, 42.7796612964406, 12.0, 300.0),\n",
       "  'result': 88.44150772206841},\n",
       " {'input': (87.75611427398772, 13.853769799317606, 3.0, 375.0),\n",
       "  'result': 49.184237265264876},\n",
       " {'input': (96.34797150787304, 32.27435854427243, 13.0, 1500.0),\n",
       "  'result': 351.22249441206526},\n",
       " {'input': (50.09334845965569, 5.999248348476155, 4.0, 750.0), 'result': 0.0},\n",
       " {'input': (63.97580066744213, 30.756030573748905, 17.0, 300.0),\n",
       "  'result': 0.0},\n",
       " {'input': (89.33956151778509, 49.24518394950353, 17.0, 750.0), 'result': 0.0},\n",
       " {'input': (70.34693585369735, 33.602775716876224, 20.0, 750.0),\n",
       "  'result': 0.0},\n",
       " {'input': (94.34318832809168, 42.1772040719309, 2.0, 1500.0),\n",
       "  'result': 542.4477957077714},\n",
       " {'input': (93.35216870949719, 28.278978279753513, 3.0, 1500.0),\n",
       "  'result': 374.740369669851},\n",
       " {'input': (80.23992945140297, 0.6409104087281958, 15.0, 300.0),\n",
       "  'result': 4.431000546102014},\n",
       " {'input': (53.48289901025255, 11.952237652037573, 19.0, 375.0),\n",
       "  'result': 0.0},\n",
       " {'input': (62.19479741653543, 32.04895374744516, 1.0, 1500.0), 'result': 0.0},\n",
       " {'input': (89.10750028386849, 0.4235608598397611, 17.0, 750.0),\n",
       "  'result': 7.267208257725991},\n",
       " {'input': (68.41384936153494, 7.467504898355104, 2.0, 375.0),\n",
       "  'result': 33.6852230545843},\n",
       " {'input': (81.74844889808497, 35.60851522887843, 13.0, 300.0),\n",
       "  'result': 20.277277740646266},\n",
       " {'input': (84.99617166564889, 17.838683888899364, 17.0, 750.0),\n",
       "  'result': 114.01421993702235},\n",
       " {'input': (74.93144683326541, 42.41142014990112, 11.0, 375.0), 'result': 0.0},\n",
       " {'input': (52.76951603935779, 23.322732911869476, 14.0, 375.0),\n",
       "  'result': 0.0},\n",
       " {'input': (97.8624767664391, 13.336016819243518, 9.0, 750.0),\n",
       "  'result': 71.61250975294118},\n",
       " {'input': (67.52424522545425, 19.655427955891327, 7.0, 1500.0),\n",
       "  'result': 225.23221914577942},\n",
       " {'input': (63.342666880628386, 20.34624023368965, 19.0, 300.0),\n",
       "  'result': 0.0},\n",
       " {'input': (67.70053052844044, 49.646708584145784, 20.0, 375.0),\n",
       "  'result': 0.0},\n",
       " {'input': (94.45406722281643, 19.234155541135333, 6.0, 300.0),\n",
       "  'result': 41.78206520889181},\n",
       " {'input': (50.90524886489241, 33.719175478531085, 14.0, 750.0),\n",
       "  'result': 0.0},\n",
       " {'input': (96.43427491917961, 6.2287306437239955, 3.0, 300.0),\n",
       "  'result': 16.877680128759057},\n",
       " {'input': (94.04817425374515, 40.189062385199065, 1.0, 1500.0),\n",
       "  'result': 524.9461016249405},\n",
       " {'input': (89.55432138068572, 29.226781661962136, 20.0, 1500.0),\n",
       "  'result': 316.4282160834239},\n",
       " {'input': (82.17855679803455, 10.748476127862999, 13.0, 300.0),\n",
       "  'result': 35.461979801181194},\n",
       " {'input': (56.01134420064221, 30.732909556276987, 15.0, 300.0),\n",
       "  'result': 0.0},\n",
       " {'input': (74.63218378160742, 13.781016394550399, 3.0, 300.0),\n",
       "  'result': 47.619892280326305},\n",
       " {'input': (50.4889071954523, 5.3844474855189395, 19.0, 300.0),\n",
       "  'result': 1.0915843527975955},\n",
       " {'input': (52.27787416418753, 34.76586381637809, 5.0, 750.0), 'result': 0.0},\n",
       " {'input': (78.49587946272457, 29.95656541751065, 3.0, 375.0),\n",
       "  'result': 64.60389317327406},\n",
       " {'input': (59.25917631015342, 1.1197859075888272, 19.0, 300.0),\n",
       "  'result': 15.703432408988583},\n",
       " {'input': (62.9075895976326, 48.053201204701914, 6.0, 750.0), 'result': 0.0},\n",
       " {'input': (85.15538435310515, 17.62939106421427, 6.0, 1500.0),\n",
       "  'result': 261.52186701855203},\n",
       " {'input': (83.67005440628576, 24.96574148653164, 7.0, 1500.0),\n",
       "  'result': 295.5206881946577},\n",
       " {'input': (78.24456630532706, 33.930768601674075, 17.0, 300.0),\n",
       "  'result': 0.0},\n",
       " {'input': (64.40574769341065, 33.75290810381236, 8.0, 300.0), 'result': 0.0},\n",
       " {'input': (63.91914715797497, 5.9828699296532895, 7.0, 750.0),\n",
       "  'result': 68.7874724483098},\n",
       " {'input': (50.68271482949739, 34.681817810980526, 13.0, 1500.0),\n",
       "  'result': 0.0},\n",
       " {'input': (62.97374467520321, 17.750303966023434, 7.0, 1500.0),\n",
       "  'result': 12.525087789899487},\n",
       " {'input': (89.51838770641453, 13.05878108850133, 10.0, 300.0),\n",
       "  'result': 29.78166638768986},\n",
       " {'input': (99.00187286118312, 29.513708214814923, 9.0, 1500.0),\n",
       "  'result': 267.91586146250444},\n",
       " {'input': (77.72319905876248, 20.181899234976214, 20.0, 1500.0),\n",
       "  'result': 248.79969400772953},\n",
       " {'input': (68.52151027079243, 22.58436374886638, 7.0, 1500.0),\n",
       "  'result': 64.10280355743872},\n",
       " {'input': (66.6813339291346, 29.589152105886228, 17.0, 300.0), 'result': 0.0},\n",
       " {'input': (59.59741866331433, 17.746213792020843, 16.0, 1500.0),\n",
       "  'result': 0.0},\n",
       " {'input': (94.83023897451628, 24.574203717980453, 8.0, 300.0),\n",
       "  'result': 49.37409329513666},\n",
       " {'input': (57.41956599409684, 43.174102538335646, 5.0, 300.0), 'result': 0.0},\n",
       " {'input': (53.98301479678996, 35.863931894209585, 20.0, 1500.0),\n",
       "  'result': 0.0},\n",
       " {'input': (77.79610694226831, 41.926110538126046, 8.0, 375.0), 'result': 0.0},\n",
       " {'input': (71.52612491594311, 29.79654294305252, 16.0, 1500.0),\n",
       "  'result': 0.0},\n",
       " {'input': (80.09753631987002, 33.12725344329793, 10.0, 750.0),\n",
       "  'result': 66.21059504350121},\n",
       " {'input': (94.88490359321582, 15.890540056980623, 5.0, 300.0),\n",
       "  'result': 41.35199871982232},\n",
       " {'input': (64.74194123688656, 20.011013248144298, 11.0, 1500.0),\n",
       "  'result': 0.0},\n",
       " {'input': (70.3171266250958, 10.704959245431333, 19.0, 1500.0),\n",
       "  'result': 165.68253552979917},\n",
       " {'input': (72.23122665544915, 0.8746494844408148, 17.0, 375.0),\n",
       "  'result': 8.697563864266916},\n",
       " {'input': (74.65377111212676, 23.128060262936778, 16.0, 750.0),\n",
       "  'result': 192.78629425486778},\n",
       " {'input': (78.64141041406104, 6.952421684310578, 5.0, 300.0),\n",
       "  'result': 17.540946037909578},\n",
       " {'input': (88.78073585341107, 38.40645781240178, 14.0, 375.0),\n",
       "  'result': 112.1326185663762},\n",
       " {'input': (96.68542802841318, 14.864441136881618, 7.0, 750.0),\n",
       "  'result': 84.78038606932468},\n",
       " {'input': (97.40655046087097, 15.991722665064406, 4.0, 1500.0),\n",
       "  'result': 198.04954126545456},\n",
       " {'input': (86.55917365927539, 37.39062775469979, 17.0, 750.0),\n",
       "  'result': 156.76493351197993},\n",
       " {'input': (61.580674928517745, 11.421326676495692, 3.0, 750.0),\n",
       "  'result': 163.16200767673323},\n",
       " {'input': (98.09545608892414, 37.20259855159719, 20.0, 750.0),\n",
       "  'result': 188.28986068509428},\n",
       " {'input': (56.37695977265341, 36.510026526244154, 15.0, 1500.0),\n",
       "  'result': 0.0},\n",
       " {'input': (78.85902433294146, 42.57359804666868, 18.0, 1500.0),\n",
       "  'result': 0.0},\n",
       " {'input': (70.56828650365692, 33.99109715373962, 19.0, 375.0), 'result': 0.0},\n",
       " {'input': (57.23661598925833, 5.450531163704836, 20.0, 375.0),\n",
       "  'result': 56.81362315970206},\n",
       " {'input': (99.17015081503686, 39.04462822218536, 12.0, 750.0),\n",
       "  'result': 180.85188627831008},\n",
       " {'input': (76.75586394463514, 41.23912450073835, 2.0, 1500.0), 'result': 0.0},\n",
       " {'input': (70.47157849857014, 35.344976695508976, 5.0, 1500.0),\n",
       "  'result': 0.0},\n",
       " {'input': (57.33030085034023, 4.9222453830424175, 1.0, 750.0),\n",
       "  'result': 115.41259199262493},\n",
       " {'input': (83.95223783699049, 49.43928996454861, 14.0, 750.0), 'result': 0.0},\n",
       " {'input': (74.25491683949934, 28.890291761002473, 17.0, 375.0),\n",
       "  'result': 6.890979045193845},\n",
       " {'input': (74.18533039808425, 30.71364204215974, 6.0, 375.0), 'result': 0.0},\n",
       " {'input': (72.84077573340114, 34.84164181491741, 7.0, 375.0), 'result': 0.0},\n",
       " {'input': (80.88122904453544, 21.781315065121653, 8.0, 1500.0),\n",
       "  'result': 277.6175783537015},\n",
       " {'input': (73.76268604873482, 29.798333512170206, 18.0, 750.0),\n",
       "  'result': 0.0},\n",
       " {'input': (66.56041181077143, 15.003581185560721, 4.0, 300.0),\n",
       "  'result': 52.307541829641316},\n",
       " {'input': (71.74080472572123, 39.73953449422684, 15.0, 300.0), 'result': 0.0},\n",
       " {'input': (71.21525222442082, 8.714756419868252, 8.0, 375.0),\n",
       "  'result': 42.5605414196328},\n",
       " {'input': (56.41123275309, 0.11350087272035125, 18.0, 375.0),\n",
       "  'result': 10.32807428272156},\n",
       " {'input': (65.64192735360818, 14.067524730527959, 17.0, 300.0),\n",
       "  'result': 68.4047091472611},\n",
       " {'input': (63.08929771383841, 2.0537314879738364, 6.0, 1500.0),\n",
       "  'result': 79.3915734115714},\n",
       " {'input': (71.23535209232826, 18.864798387309907, 11.0, 300.0),\n",
       "  'result': 63.393557065895166},\n",
       " {'input': (51.26602189337899, 31.5662426744549, 17.0, 1500.0), 'result': 0.0},\n",
       " {'input': (60.08056711321381, 34.3946932952808, 19.0, 1500.0), 'result': 0.0},\n",
       " {'input': (69.44387134620082, 22.767230445990005, 17.0, 300.0),\n",
       "  'result': 21.41963830175217},\n",
       " {'input': (81.66356297168942, 17.648313750236305, 1.0, 750.0),\n",
       "  'result': 130.58021168343424},\n",
       " {'input': (63.40179691464516, 49.04224196300775, 19.0, 375.0), 'result': 0.0},\n",
       " {'input': (59.33249384748933, 13.878252499670685, 13.0, 375.0),\n",
       "  'result': 7.389596845321286},\n",
       " {'input': (80.96092719353115, 39.136829106901516, 14.0, 300.0),\n",
       "  'result': 0.0},\n",
       " {'input': (50.18760079004745, 23.193112686603477, 15.0, 750.0),\n",
       "  'result': 0.0},\n",
       " {'input': (91.61062911776344, 32.698441681568866, 20.0, 750.0),\n",
       "  'result': 177.88821038215835},\n",
       " {'input': (86.20053372010716, 38.50467464717122, 10.0, 375.0),\n",
       "  'result': 47.23936845784078}]"
      ]
     },
     "execution_count": 42,
     "metadata": {},
     "output_type": "execute_result"
    }
   ],
   "source": [
    "wineset2()"
   ]
  },
  {
   "cell_type": "code",
   "execution_count": 43,
   "metadata": {
    "collapsed": false
   },
   "outputs": [
    {
     "data": {
      "text/plain": [
       "575.4255230948762"
      ]
     },
     "execution_count": 43,
     "metadata": {},
     "output_type": "execute_result"
    }
   ],
   "source": [
    "crossvalidate(knn3, data)"
   ]
  },
  {
   "cell_type": "code",
   "execution_count": 44,
   "metadata": {
    "collapsed": false
   },
   "outputs": [
    {
     "data": {
      "text/plain": [
       "614.9822667021929"
      ]
     },
     "execution_count": 44,
     "metadata": {},
     "output_type": "execute_result"
    }
   ],
   "source": [
    "crossvalidate(weightedknn, data)"
   ]
  },
  {
   "cell_type": "markdown",
   "metadata": {},
   "source": [
    "이제 데이터 세트에 더 많은 정보가 담겨 있으며, 전보다 노이즈도 작아졌지만(이론적으로는 더 좋은 예측을 해야한다.)"
   ]
  },
  {
   "cell_type": "markdown",
   "metadata": {},
   "source": [
    "##축적조정"
   ]
  },
  {
   "cell_type": "markdown",
   "metadata": {},
   "source": [
    "축정조정은 거리를 실제 값에 근거하는 방법이 아니라 값을 정규화해서 그 값들이 모두 같은 공간에 있는 것 처럼 만든는 방법이다. <br>\n",
    "이는 불필요한 변수를 제거하거나 적어도 계산에 미치는 영향을 줄인느 방법을 찾는 데도 도움을 준다.<br>\n",
    "이 두가지는 계산 전에 축적을 변경하는 방법으로 가능하다. "
   ]
  },
  {
   "cell_type": "markdown",
   "metadata": {},
   "source": [
    "<img src = 1.png>"
   ]
  },
  {
   "cell_type": "markdown",
   "metadata": {},
   "source": [
    "거리 문제 해결을 위한 축 비율 조정"
   ]
  },
  {
   "cell_type": "markdown",
   "metadata": {},
   "source": [
    "<img src=2.png>"
   ]
  },
  {
   "cell_type": "markdown",
   "metadata": {},
   "source": [
    "0으로 축적이 조정된 중요하지 않은 축들"
   ]
  },
  {
   "cell_type": "markdown",
   "metadata": {},
   "source": [
    "저장소 통로번호 축이 모두 같은 공간에 있어 물품 간의 차이는 전적으로 생산연도 축에 놓이게 된다. <br> 즉, 근처 물품 계산에서 통로번호가 완전히 무시외어 고려 대상에서 제거된다. <br>\n",
    "만일 중요하지 않은 모든 변수들을 0으로 떨어뜨린하면, 알고리즘은 더  정확하게 될 것이다. "
   ]
  },
  {
   "cell_type": "code",
   "execution_count": 45,
   "metadata": {
    "collapsed": true
   },
   "outputs": [],
   "source": [
    "def rescale(data,scale):\n",
    "  scaleddata=[]\n",
    "  for row in data:\n",
    "    scaled=[scale[i]*row['input'][i] for i in range(len(scale))]\n",
    "    scaleddata.append({'input':scaled,'result':row['result']})\n",
    "  return scaleddata"
   ]
  },
  {
   "cell_type": "code",
   "execution_count": 46,
   "metadata": {
    "collapsed": false
   },
   "outputs": [],
   "source": [
    "# %load numpredict.py\n",
    "from random import random,randint\n",
    "import math\n",
    "\n",
    "def wineprice(rating,age):\n",
    "  peak_age=rating-50\n",
    "  \n",
    "  # Calculate price based on rating\n",
    "  price=rating/2\n",
    "  if age>peak_age:\n",
    "    # Past its peak, goes bad in 10 years\n",
    "    price=price*(5-(age-peak_age)/2)\n",
    "  else:\n",
    "    # Increases to 5x original value as it\n",
    "    # approaches its peak\n",
    "    price=price*(5*((age+1)/peak_age))\n",
    "  if price<0: price=0\n",
    "  return price\n",
    "\n",
    "\n",
    "def wineset1():\n",
    "  rows=[]\n",
    "  for i in range(300):\n",
    "    # Create a random age and rating\n",
    "    rating=random()*50+50\n",
    "    age=random()*50\n",
    "\n",
    "    # Get reference price\n",
    "    price=wineprice(rating,age)\n",
    "    \n",
    "    # Add some noise\n",
    "    price*=(random()*0.2+0.9)\n",
    "\n",
    "    # Add to the dataset\n",
    "    rows.append({'input':(rating,age),\n",
    "                 'result':price})\n",
    "  return rows\n",
    "\n",
    "def euclidean(v1,v2):\n",
    "  d=0.0\n",
    "  for i in range(len(v1)):\n",
    "    d+=(v1[i]-v2[i])**2\n",
    "  return math.sqrt(d)\n",
    "\n",
    "\n",
    "def getdistances(data,vec1):\n",
    "  distancelist=[]\n",
    "  \n",
    "  # Loop over every item in the dataset\n",
    "  for i in range(len(data)):\n",
    "    vec2=data[i]['input']\n",
    "    \n",
    "    # Add the distance and the index\n",
    "    distancelist.append((euclidean(vec1,vec2),i))\n",
    "  \n",
    "  # Sort by distance\n",
    "  distancelist.sort()\n",
    "  return distancelist\n",
    "\n",
    "def knnestimate(data,vec1,k=5):\n",
    "  # Get sorted distances\n",
    "  dlist=getdistances(data,vec1)\n",
    "  avg=0.0\n",
    "  \n",
    "  # Take the average of the top k results\n",
    "  for i in range(k):\n",
    "    idx=dlist[i][1]\n",
    "    avg+=data[idx]['result']\n",
    "  avg=avg/k\n",
    "  return avg\n",
    "\n",
    "def inverseweight(dist,num=1.0,const=0.1):\n",
    "  return num/(dist+const)\n",
    "\n",
    "def subtractweight(dist,const=1.0):\n",
    "  if dist>const: \n",
    "    return 0\n",
    "  else: \n",
    "    return const-dist\n",
    "\n",
    "def gaussian(dist,sigma=5.0):\n",
    "  return math.e**(-dist**2/(2*sigma**2))\n",
    "\n",
    "def weightedknn(data,vec1,k=5,weightf=gaussian):\n",
    "  # Get distances\n",
    "  dlist=getdistances(data,vec1)\n",
    "  avg=0.0\n",
    "  totalweight=0.0\n",
    "  \n",
    "  # Get weighted average\n",
    "  for i in range(k):\n",
    "    dist=dlist[i][0]\n",
    "    idx=dlist[i][1]\n",
    "    weight=weightf(dist)\n",
    "    avg+=weight*data[idx]['result']\n",
    "    totalweight+=weight\n",
    "  if totalweight==0: return 0\n",
    "  avg=avg/totalweight\n",
    "  return avg\n",
    "\n",
    "def dividedata(data,test=0.05):\n",
    "  trainset=[]\n",
    "  testset=[]\n",
    "  for row in data:\n",
    "    if random()<test:\n",
    "      testset.append(row)\n",
    "    else:\n",
    "      trainset.append(row)\n",
    "  return trainset,testset\n",
    "\n",
    "def testalgorithm(algf,trainset,testset):\n",
    "  error=0.0\n",
    "  for row in testset:\n",
    "    guess=algf(trainset,row['input'])\n",
    "    error+=(row['result']-guess)**2\n",
    "    #print row['result'],guess\n",
    "  #print error/len(testset)\n",
    "  return error/len(testset)\n",
    "\n",
    "def crossvalidate(algf,data,trials=100,test=0.1):\n",
    "  error=0.0\n",
    "  for i in range(trials):\n",
    "    trainset,testset=dividedata(data,test)\n",
    "    error+=testalgorithm(algf,trainset,testset)\n",
    "  return error/trials\n",
    "\n",
    "def wineset2():\n",
    "  rows=[]\n",
    "  for i in range(300):\n",
    "    rating=random()*50+50\n",
    "    age=random()*50\n",
    "    aisle=float(randint(1,20))\n",
    "    bottlesize=[375.0,750.0,1500.0][randint(0,2)]\n",
    "    price=wineprice(rating,age)\n",
    "    price*=(bottlesize/750)\n",
    "    price*=(random()*0.2+0.9)\n",
    "    rows.append({'input':(rating,age,aisle,bottlesize),\n",
    "                 'result':price})\n",
    "  return rows\n",
    "\n",
    "def rescale(data,scale):\n",
    "  scaleddata=[]\n",
    "  for row in data:\n",
    "    scaled=[scale[i]*row['input'][i] for i in range(len(scale))]\n",
    "    scaleddata.append({'input':scaled,'result':row['result']})\n",
    "  return scaleddata\n",
    "\n",
    "def createcostfunction(algf,data):\n",
    "  def costf(scale):\n",
    "    sdata=rescale(data,scale)\n",
    "    return crossvalidate(algf,sdata,trials=20)\n",
    "  return costf\n",
    "\n",
    "weightdomain=[(0,10)]*4\n",
    "\n",
    "def wineset3():\n",
    "  rows=wineset1()\n",
    "  for row in rows:\n",
    "    if random()<0.5:\n",
    "      # Wine was bought at a discount store\n",
    "      row['result']*=0.6\n",
    "  return rows\n",
    "\n",
    "def probguess(data,vec1,low,high,k=5,weightf=gaussian):\n",
    "  dlist=getdistances(data,vec1)\n",
    "  nweight=0.0\n",
    "  tweight=0.0\n",
    "  \n",
    "  for i in range(k):\n",
    "    dist=dlist[i][0]\n",
    "    idx=dlist[i][1]\n",
    "    weight=weightf(dist)\n",
    "    v=data[idx]['result']\n",
    "    \n",
    "    # Is this point in the range?\n",
    "    if v>=low and v<=high:\n",
    "      nweight+=weight\n",
    "    tweight+=weight\n",
    "  if tweight==0: return 0\n",
    "  \n",
    "  # The probability is the weights in the range\n",
    "  # divided by all the weights\n",
    "  return nweight/tweight\n",
    "\n",
    "from pylab import *\n",
    "\n",
    "def cumulativegraph(data,vec1,high,k=5,weightf=gaussian):\n",
    "  t1=arange(0.0,high,0.1)\n",
    "  cprob=array([probguess(data,vec1,0,v,k,weightf) for v in t1])\n",
    "  plot(t1,cprob)\n",
    "  show()\n",
    "\n",
    "\n",
    "def probabilitygraph(data,vec1,high,k=5,weightf=gaussian,ss=5.0):\n",
    "  # Make a range for the prices\n",
    "  t1=arange(0.0,high,0.1)\n",
    "  \n",
    "  # Get the probabilities for the entire range\n",
    "  probs=[probguess(data,vec1,v,v+0.1,k,weightf) for v in t1]\n",
    "  \n",
    "  # Smooth them by adding the gaussian of the nearby probabilites\n",
    "  smoothed=[]\n",
    "  for i in range(len(probs)):\n",
    "    sv=0.0\n",
    "    for j in range(0,len(probs)):\n",
    "      dist=abs(i-j)*0.1\n",
    "      weight=gaussian(dist,sigma=ss)\n",
    "      sv+=weight*probs[j]\n",
    "    smoothed.append(sv)\n",
    "  smoothed=array(smoothed)\n",
    "    \n",
    "  plot(t1,smoothed)\n",
    "  show()\n"
   ]
  },
  {
   "cell_type": "code",
   "execution_count": 47,
   "metadata": {
    "collapsed": false
   },
   "outputs": [
    {
     "ename": "IndexError",
     "evalue": "tuple index out of range",
     "output_type": "error",
     "traceback": [
      "\u001b[1;31m---------------------------------------------------------------------------\u001b[0m",
      "\u001b[1;31mIndexError\u001b[0m                                Traceback (most recent call last)",
      "\u001b[1;32m<ipython-input-47-2509cac7ec1a>\u001b[0m in \u001b[0;36m<module>\u001b[1;34m()\u001b[0m\n\u001b[1;32m----> 1\u001b[1;33m \u001b[0msdata\u001b[0m \u001b[1;33m=\u001b[0m \u001b[0mrescale\u001b[0m\u001b[1;33m(\u001b[0m\u001b[0mdata\u001b[0m\u001b[1;33m,\u001b[0m\u001b[1;33m[\u001b[0m\u001b[1;36m10\u001b[0m\u001b[1;33m,\u001b[0m\u001b[1;36m10\u001b[0m\u001b[1;33m,\u001b[0m\u001b[1;36m0\u001b[0m\u001b[1;33m,\u001b[0m\u001b[1;36m0.5\u001b[0m\u001b[1;33m]\u001b[0m\u001b[1;33m)\u001b[0m\u001b[1;33m\u001b[0m\u001b[0m\n\u001b[0m\u001b[0;32m      2\u001b[0m \u001b[0mcrossvalidate\u001b[0m\u001b[1;33m(\u001b[0m\u001b[0mknn3\u001b[0m\u001b[1;33m,\u001b[0m \u001b[0msdata\u001b[0m\u001b[1;33m)\u001b[0m\u001b[1;33m\u001b[0m\u001b[0m\n",
      "\u001b[1;32m<ipython-input-46-f580d6328428>\u001b[0m in \u001b[0;36mrescale\u001b[1;34m(data, scale)\u001b[0m\n\u001b[0;32m    142\u001b[0m   \u001b[0mscaleddata\u001b[0m\u001b[1;33m=\u001b[0m\u001b[1;33m[\u001b[0m\u001b[1;33m]\u001b[0m\u001b[1;33m\u001b[0m\u001b[0m\n\u001b[0;32m    143\u001b[0m   \u001b[1;32mfor\u001b[0m \u001b[0mrow\u001b[0m \u001b[1;32min\u001b[0m \u001b[0mdata\u001b[0m\u001b[1;33m:\u001b[0m\u001b[1;33m\u001b[0m\u001b[0m\n\u001b[1;32m--> 144\u001b[1;33m     \u001b[0mscaled\u001b[0m\u001b[1;33m=\u001b[0m\u001b[1;33m[\u001b[0m\u001b[0mscale\u001b[0m\u001b[1;33m[\u001b[0m\u001b[0mi\u001b[0m\u001b[1;33m]\u001b[0m\u001b[1;33m*\u001b[0m\u001b[0mrow\u001b[0m\u001b[1;33m[\u001b[0m\u001b[1;34m'input'\u001b[0m\u001b[1;33m]\u001b[0m\u001b[1;33m[\u001b[0m\u001b[0mi\u001b[0m\u001b[1;33m]\u001b[0m \u001b[1;32mfor\u001b[0m \u001b[0mi\u001b[0m \u001b[1;32min\u001b[0m \u001b[0mrange\u001b[0m\u001b[1;33m(\u001b[0m\u001b[0mlen\u001b[0m\u001b[1;33m(\u001b[0m\u001b[0mscale\u001b[0m\u001b[1;33m)\u001b[0m\u001b[1;33m)\u001b[0m\u001b[1;33m]\u001b[0m\u001b[1;33m\u001b[0m\u001b[0m\n\u001b[0m\u001b[0;32m    145\u001b[0m     \u001b[0mscaleddata\u001b[0m\u001b[1;33m.\u001b[0m\u001b[0mappend\u001b[0m\u001b[1;33m(\u001b[0m\u001b[1;33m{\u001b[0m\u001b[1;34m'input'\u001b[0m\u001b[1;33m:\u001b[0m\u001b[0mscaled\u001b[0m\u001b[1;33m,\u001b[0m\u001b[1;34m'result'\u001b[0m\u001b[1;33m:\u001b[0m\u001b[0mrow\u001b[0m\u001b[1;33m[\u001b[0m\u001b[1;34m'result'\u001b[0m\u001b[1;33m]\u001b[0m\u001b[1;33m}\u001b[0m\u001b[1;33m)\u001b[0m\u001b[1;33m\u001b[0m\u001b[0m\n\u001b[0;32m    146\u001b[0m   \u001b[1;32mreturn\u001b[0m \u001b[0mscaleddata\u001b[0m\u001b[1;33m\u001b[0m\u001b[0m\n",
      "\u001b[1;31mIndexError\u001b[0m: tuple index out of range"
     ]
    }
   ],
   "source": [
    "sdata = rescale(data,[10,10,0,0.5])\n",
    "crossvalidate(knn3, sdata)"
   ]
  },
  {
   "cell_type": "code",
   "execution_count": 48,
   "metadata": {
    "collapsed": false
   },
   "outputs": [
    {
     "data": {
      "text/plain": [
       "300"
      ]
     },
     "execution_count": 48,
     "metadata": {},
     "output_type": "execute_result"
    }
   ],
   "source": [
    "len(data)"
   ]
  },
  {
   "cell_type": "code",
   "execution_count": 49,
   "metadata": {
    "collapsed": false
   },
   "outputs": [
    {
     "ename": "NameError",
     "evalue": "name 'sdata' is not defined",
     "output_type": "error",
     "traceback": [
      "\u001b[1;31m---------------------------------------------------------------------------\u001b[0m",
      "\u001b[1;31mNameError\u001b[0m                                 Traceback (most recent call last)",
      "\u001b[1;32m<ipython-input-49-750ab86178e4>\u001b[0m in \u001b[0;36m<module>\u001b[1;34m()\u001b[0m\n\u001b[1;32m----> 1\u001b[1;33m \u001b[0mcrossvalidate\u001b[0m\u001b[1;33m(\u001b[0m\u001b[0mweightedknn\u001b[0m\u001b[1;33m,\u001b[0m \u001b[0msdata\u001b[0m\u001b[1;33m)\u001b[0m\u001b[1;33m\u001b[0m\u001b[0m\n\u001b[0m",
      "\u001b[1;31mNameError\u001b[0m: name 'sdata' is not defined"
     ]
    }
   ],
   "source": [
    "crossvalidate(weightedknn, sdata)"
   ]
  },
  {
   "cell_type": "markdown",
   "metadata": {},
   "source": [
    "# 축적 최적화 "
   ]
  },
  {
   "cell_type": "markdown",
   "metadata": {},
   "source": [
    "최적화 기법을 적용하기 위해서는 변수, 범위, 비용함수를 가진 도메인이 필요하다.<br>\n",
    "crossvalidate함수는 나쁜 해답에 더 큰 값을 리턴하기 때문에 비용함수로 적합하다. <br>\n",
    "우리는 인자로 값 리스트를 받고, 데이터 축적을 변경하고, 교차 검증 오류를 계산하는 작업을 하나로 포장하기만 하면된다. "
   ]
  },
  {
   "cell_type": "code",
   "execution_count": 50,
   "metadata": {
    "collapsed": true
   },
   "outputs": [],
   "source": [
    "def createconstfunction(algf, data):\n",
    "    def costf(scale):\n",
    "        sdata = rescale(data,scale)\n",
    "        return crossvalidate(algf, sdata, trials=10)\n",
    "    return costf\n"
   ]
  },
  {
   "cell_type": "code",
   "execution_count": 51,
   "metadata": {
    "collapsed": true
   },
   "outputs": [],
   "source": [
    "weightdomain=[(0,20)]*4"
   ]
  },
  {
   "cell_type": "code",
   "execution_count": 52,
   "metadata": {
    "collapsed": false
   },
   "outputs": [
    {
     "ename": "IndexError",
     "evalue": "tuple index out of range",
     "output_type": "error",
     "traceback": [
      "\u001b[1;31m---------------------------------------------------------------------------\u001b[0m",
      "\u001b[1;31mIndexError\u001b[0m                                Traceback (most recent call last)",
      "\u001b[1;32m<ipython-input-52-e2a7fde1e28c>\u001b[0m in \u001b[0;36m<module>\u001b[1;34m()\u001b[0m\n\u001b[0;32m      1\u001b[0m \u001b[1;32mimport\u001b[0m \u001b[0moptimization\u001b[0m\u001b[1;33m\u001b[0m\u001b[0m\n\u001b[0;32m      2\u001b[0m \u001b[0mcostf\u001b[0m \u001b[1;33m=\u001b[0m \u001b[0mcreateconstfunction\u001b[0m\u001b[1;33m(\u001b[0m\u001b[0mknnestimate\u001b[0m\u001b[1;33m,\u001b[0m\u001b[0mdata\u001b[0m\u001b[1;33m)\u001b[0m\u001b[1;33m\u001b[0m\u001b[0m\n\u001b[1;32m----> 3\u001b[1;33m \u001b[0moptimization\u001b[0m\u001b[1;33m.\u001b[0m\u001b[0mannealingoptimize\u001b[0m\u001b[1;33m(\u001b[0m\u001b[0mweightdomain\u001b[0m\u001b[1;33m,\u001b[0m \u001b[0mcostf\u001b[0m\u001b[1;33m,\u001b[0m \u001b[0mstep\u001b[0m\u001b[1;33m=\u001b[0m\u001b[1;36m2\u001b[0m\u001b[1;33m)\u001b[0m\u001b[1;33m\u001b[0m\u001b[0m\n\u001b[0m",
      "\u001b[1;32mC:\\developments\\ipython-home\\collective-intelligence\\optimization.pyc\u001b[0m in \u001b[0;36mannealingoptimize\u001b[1;34m(domain, costf, T, cool, step)\u001b[0m\n\u001b[0;32m    107\u001b[0m     \u001b[1;32mfor\u001b[0m \u001b[0mj\u001b[0m \u001b[1;32min\u001b[0m \u001b[0mrange\u001b[0m\u001b[1;33m(\u001b[0m\u001b[0mlen\u001b[0m\u001b[1;33m(\u001b[0m\u001b[0mneighbors\u001b[0m\u001b[1;33m)\u001b[0m\u001b[1;33m)\u001b[0m\u001b[1;33m:\u001b[0m\u001b[1;33m\u001b[0m\u001b[0m\n\u001b[0;32m    108\u001b[0m       \u001b[0mcost\u001b[0m\u001b[1;33m=\u001b[0m\u001b[0mcostf\u001b[0m\u001b[1;33m(\u001b[0m\u001b[0mneighbors\u001b[0m\u001b[1;33m[\u001b[0m\u001b[0mj\u001b[0m\u001b[1;33m]\u001b[0m\u001b[1;33m)\u001b[0m\u001b[1;33m\u001b[0m\u001b[0m\n\u001b[1;32m--> 109\u001b[1;33m       \u001b[1;32mif\u001b[0m \u001b[0mcost\u001b[0m\u001b[1;33m<\u001b[0m\u001b[0mbest\u001b[0m\u001b[1;33m:\u001b[0m\u001b[1;33m\u001b[0m\u001b[0m\n\u001b[0m\u001b[0;32m    110\u001b[0m         \u001b[0mbest\u001b[0m\u001b[1;33m=\u001b[0m\u001b[0mcost\u001b[0m\u001b[1;33m\u001b[0m\u001b[0m\n\u001b[0;32m    111\u001b[0m         \u001b[0msol\u001b[0m\u001b[1;33m=\u001b[0m\u001b[0mneighbors\u001b[0m\u001b[1;33m[\u001b[0m\u001b[0mj\u001b[0m\u001b[1;33m]\u001b[0m\u001b[1;33m\u001b[0m\u001b[0m\n",
      "\u001b[1;32m<ipython-input-50-138e00973c72>\u001b[0m in \u001b[0;36mcostf\u001b[1;34m(scale)\u001b[0m\n\u001b[0;32m      1\u001b[0m \u001b[1;32mdef\u001b[0m \u001b[0mcreateconstfunction\u001b[0m\u001b[1;33m(\u001b[0m\u001b[0malgf\u001b[0m\u001b[1;33m,\u001b[0m \u001b[0mdata\u001b[0m\u001b[1;33m)\u001b[0m\u001b[1;33m:\u001b[0m\u001b[1;33m\u001b[0m\u001b[0m\n\u001b[0;32m      2\u001b[0m     \u001b[1;32mdef\u001b[0m \u001b[0mcostf\u001b[0m\u001b[1;33m(\u001b[0m\u001b[0mscale\u001b[0m\u001b[1;33m)\u001b[0m\u001b[1;33m:\u001b[0m\u001b[1;33m\u001b[0m\u001b[0m\n\u001b[1;32m----> 3\u001b[1;33m         \u001b[0msdata\u001b[0m \u001b[1;33m=\u001b[0m \u001b[0mrescale\u001b[0m\u001b[1;33m(\u001b[0m\u001b[0mdata\u001b[0m\u001b[1;33m,\u001b[0m\u001b[0mscale\u001b[0m\u001b[1;33m)\u001b[0m\u001b[1;33m\u001b[0m\u001b[0m\n\u001b[0m\u001b[0;32m      4\u001b[0m         \u001b[1;32mreturn\u001b[0m \u001b[0mcrossvalidate\u001b[0m\u001b[1;33m(\u001b[0m\u001b[0malgf\u001b[0m\u001b[1;33m,\u001b[0m \u001b[0msdata\u001b[0m\u001b[1;33m,\u001b[0m \u001b[0mtrials\u001b[0m\u001b[1;33m=\u001b[0m\u001b[1;36m10\u001b[0m\u001b[1;33m)\u001b[0m\u001b[1;33m\u001b[0m\u001b[0m\n\u001b[0;32m      5\u001b[0m     \u001b[1;32mreturn\u001b[0m \u001b[0mcostf\u001b[0m\u001b[1;33m\u001b[0m\u001b[0m\n",
      "\u001b[1;32m<ipython-input-46-f580d6328428>\u001b[0m in \u001b[0;36mrescale\u001b[1;34m(data, scale)\u001b[0m\n\u001b[0;32m    142\u001b[0m   \u001b[0mscaleddata\u001b[0m\u001b[1;33m=\u001b[0m\u001b[1;33m[\u001b[0m\u001b[1;33m]\u001b[0m\u001b[1;33m\u001b[0m\u001b[0m\n\u001b[0;32m    143\u001b[0m   \u001b[1;32mfor\u001b[0m \u001b[0mrow\u001b[0m \u001b[1;32min\u001b[0m \u001b[0mdata\u001b[0m\u001b[1;33m:\u001b[0m\u001b[1;33m\u001b[0m\u001b[0m\n\u001b[1;32m--> 144\u001b[1;33m     \u001b[0mscaled\u001b[0m\u001b[1;33m=\u001b[0m\u001b[1;33m[\u001b[0m\u001b[0mscale\u001b[0m\u001b[1;33m[\u001b[0m\u001b[0mi\u001b[0m\u001b[1;33m]\u001b[0m\u001b[1;33m*\u001b[0m\u001b[0mrow\u001b[0m\u001b[1;33m[\u001b[0m\u001b[1;34m'input'\u001b[0m\u001b[1;33m]\u001b[0m\u001b[1;33m[\u001b[0m\u001b[0mi\u001b[0m\u001b[1;33m]\u001b[0m \u001b[1;32mfor\u001b[0m \u001b[0mi\u001b[0m \u001b[1;32min\u001b[0m \u001b[0mrange\u001b[0m\u001b[1;33m(\u001b[0m\u001b[0mlen\u001b[0m\u001b[1;33m(\u001b[0m\u001b[0mscale\u001b[0m\u001b[1;33m)\u001b[0m\u001b[1;33m)\u001b[0m\u001b[1;33m]\u001b[0m\u001b[1;33m\u001b[0m\u001b[0m\n\u001b[0m\u001b[0;32m    145\u001b[0m     \u001b[0mscaleddata\u001b[0m\u001b[1;33m.\u001b[0m\u001b[0mappend\u001b[0m\u001b[1;33m(\u001b[0m\u001b[1;33m{\u001b[0m\u001b[1;34m'input'\u001b[0m\u001b[1;33m:\u001b[0m\u001b[0mscaled\u001b[0m\u001b[1;33m,\u001b[0m\u001b[1;34m'result'\u001b[0m\u001b[1;33m:\u001b[0m\u001b[0mrow\u001b[0m\u001b[1;33m[\u001b[0m\u001b[1;34m'result'\u001b[0m\u001b[1;33m]\u001b[0m\u001b[1;33m}\u001b[0m\u001b[1;33m)\u001b[0m\u001b[1;33m\u001b[0m\u001b[0m\n\u001b[0;32m    146\u001b[0m   \u001b[1;32mreturn\u001b[0m \u001b[0mscaleddata\u001b[0m\u001b[1;33m\u001b[0m\u001b[0m\n",
      "\u001b[1;31mIndexError\u001b[0m: tuple index out of range"
     ]
    }
   ],
   "source": [
    "import optimization\n",
    "costf = createconstfunction(knnestimate,data)\n",
    "optimization.annealingoptimize(weightdomain, costf, step=2)"
   ]
  },
  {
   "cell_type": "markdown",
   "metadata": {},
   "source": [
    "완벽하다 이 알고리즘은 저장소 통로번호가 무의미한 변수여서 축적을 거의 0으로 내렸으며, 병 크기의 영향을 감안하여 병 크기를 상대적으로 크게 줄였다. "
   ]
  },
  {
   "cell_type": "code",
   "execution_count": 53,
   "metadata": {
    "collapsed": false
   },
   "outputs": [
    {
     "ename": "AttributeError",
     "evalue": "'module' object has no attribute 'geneticoptimize'",
     "output_type": "error",
     "traceback": [
      "\u001b[1;31m---------------------------------------------------------------------------\u001b[0m",
      "\u001b[1;31mAttributeError\u001b[0m                            Traceback (most recent call last)",
      "\u001b[1;32m<ipython-input-53-f887f3be0895>\u001b[0m in \u001b[0;36m<module>\u001b[1;34m()\u001b[0m\n\u001b[1;32m----> 1\u001b[1;33m \u001b[0moptimization\u001b[0m\u001b[1;33m.\u001b[0m\u001b[0mgeneticoptimize\u001b[0m\u001b[1;33m(\u001b[0m\u001b[0mweightdomain\u001b[0m\u001b[1;33m,\u001b[0m \u001b[0mcostf\u001b[0m\u001b[1;33m,\u001b[0m \u001b[0mpopsize\u001b[0m\u001b[1;33m=\u001b[0m\u001b[1;36m5\u001b[0m\u001b[1;33m,\u001b[0m \u001b[0mlrate\u001b[0m\u001b[1;33m=\u001b[0m\u001b[1;36m1\u001b[0m\u001b[1;33m,\u001b[0m \u001b[0mmaxv\u001b[0m\u001b[1;33m=\u001b[0m\u001b[1;36m4\u001b[0m\u001b[1;33m,\u001b[0m \u001b[0miter\u001b[0m\u001b[1;33m=\u001b[0m\u001b[1;36m20\u001b[0m\u001b[1;33m)\u001b[0m\u001b[1;33m\u001b[0m\u001b[0m\n\u001b[0m",
      "\u001b[1;31mAttributeError\u001b[0m: 'module' object has no attribute 'geneticoptimize'"
     ]
    }
   ],
   "source": [
    "optimization.geneticoptimize(weightdomain, costf, popsize=5, lrate=1, maxv=4, iter=20)"
   ]
  },
  {
   "cell_type": "markdown",
   "metadata": {},
   "source": [
    "이런식으로 변수 축적을 최적화 하는 방법은 장점의 어떤 변수가 중요한지 그리고 얼마나 중요한지 즉시 확인 할 수있다는 것에 있다. "
   ]
  },
  {
   "cell_type": "markdown",
   "metadata": {},
   "source": [
    "#불균등 분포"
   ]
  },
  {
   "cell_type": "markdown",
   "metadata": {},
   "source": [
    "이제까지의 데이터 평균이나 가중 평균을 취하면 최종 가격에 대한 좋은 예측이 될것으로 가정<br>\n",
    "많은 경우 이 예측을 정확하지만, 몇몇 경우는 출력에 큰영향을 주는 측정되지 않은 변수가 있다. "
   ]
  },
  {
   "cell_type": "markdown",
   "metadata": {},
   "source": [
    "createhiddendataset 함수는 이런 속성을 흉내내는 데이터 셋을 만듬"
   ]
  },
  {
   "cell_type": "code",
   "execution_count": 54,
   "metadata": {
    "collapsed": true
   },
   "outputs": [],
   "source": [
    "def wineset3():\n",
    "    rows=wineset1()\n",
    "    for row in rows:\n",
    "        if random() < 0.5 :\n",
    "            row['result'] *= 0.6\n",
    "    return rows"
   ]
  },
  {
   "cell_type": "code",
   "execution_count": 55,
   "metadata": {
    "collapsed": false
   },
   "outputs": [
    {
     "data": {
      "text/plain": [
       "[{'input': (54.874695948793814, 9.452612222499306),\n",
       "  'result': 45.23203337106195},\n",
       " {'input': (56.065128016937855, 16.8335004947725), 'result': 0.0},\n",
       " {'input': (94.76615862026861, 2.9697228497885195),\n",
       "  'result': 21.053026716975143},\n",
       " {'input': (53.92278892458477, 49.46452054551862), 'result': 0.0},\n",
       " {'input': (63.37045908960455, 48.404135566495476), 'result': 0.0},\n",
       " {'input': (67.66697122138252, 22.809039762537342),\n",
       "  'result': 46.20686582112788},\n",
       " {'input': (81.40341632154579, 42.095919632545886), 'result': 0.0},\n",
       " {'input': (94.66855469221753, 38.19957175060568),\n",
       "  'result': 224.49106801587362},\n",
       " {'input': (94.73091488020735, 12.287794538766345),\n",
       "  'result': 70.65771814162358},\n",
       " {'input': (98.59433328090434, 49.94918883291719),\n",
       "  'result': 211.62367147057205},\n",
       " {'input': (77.59767040242254, 9.225274114274635),\n",
       "  'result': 45.87918217612014},\n",
       " {'input': (56.34206587513645, 35.02712167751016), 'result': 0.0},\n",
       " {'input': (81.44027479932889, 20.661309810637874),\n",
       "  'result': 84.78423062034314},\n",
       " {'input': (74.42346267429907, 26.266879521065285),\n",
       "  'result': 147.14115034987165},\n",
       " {'input': (91.56499930650509, 4.810328702315935),\n",
       "  'result': 18.168329438349893},\n",
       " {'input': (62.571206219823694, 22.428596821801516),\n",
       "  'result': 1.4455529427449394},\n",
       " {'input': (65.37868688074376, 25.249095932953136),\n",
       "  'result': 2.2711696283323843},\n",
       " {'input': (52.38185831015299, 9.118912568048987),\n",
       "  'result': 24.032321716112502},\n",
       " {'input': (87.1077286317265, 18.425214302800114), 'result': 66.7922255182872},\n",
       " {'input': (76.53365811701096, 26.966318675707335),\n",
       "  'result': 116.53899366321806},\n",
       " {'input': (86.51501041548003, 2.3616066310817807),\n",
       "  'result': 21.48617885016693},\n",
       " {'input': (91.64386805114447, 30.7397363586853), 'result': 108.7055652733619},\n",
       " {'input': (98.08287135671301, 41.42133203703179),\n",
       "  'result': 219.84522779654756},\n",
       " {'input': (80.14078941794932, 31.44089782190373),\n",
       "  'result': 101.89648084891779},\n",
       " {'input': (89.81917248432075, 35.64261997118095),\n",
       "  'result': 130.71392926273447},\n",
       " {'input': (50.733068987674734, 10.42218592762898),\n",
       "  'result': 3.972467420983167},\n",
       " {'input': (80.69661753210963, 0.796652889266769),\n",
       "  'result': 11.436265278220125},\n",
       " {'input': (54.1610932998148, 13.868993847155537),\n",
       "  'result': 2.479327302471239},\n",
       " {'input': (84.14873613673245, 48.44056275708311), 'result': 0.0},\n",
       " {'input': (65.9716859013363, 43.58940483637929), 'result': 0.0},\n",
       " {'input': (64.97705942094242, 33.27384035440199), 'result': 0.0},\n",
       " {'input': (81.86678904724494, 23.995986204639795),\n",
       "  'result': 103.84448728134201},\n",
       " {'input': (64.56517775661956, 16.499343251523836),\n",
       "  'result': 84.98678238679578},\n",
       " {'input': (59.090328485028465, 5.610111079097763),\n",
       "  'result': 68.75936641347394},\n",
       " {'input': (78.9558853834364, 13.9061474410067), 'result': 55.76936827713927},\n",
       " {'input': (61.98453527472434, 33.26615191107184), 'result': 0.0},\n",
       " {'input': (77.52964667749671, 41.251865691669096), 'result': 0.0},\n",
       " {'input': (76.63473296851073, 12.962719040136882),\n",
       "  'result': 61.62417698788848},\n",
       " {'input': (67.64290489451362, 38.910055042940584), 'result': 0.0},\n",
       " {'input': (67.39482818604277, 19.407703113475105),\n",
       "  'result': 139.79554505446532},\n",
       " {'input': (80.4448588985424, 14.994281818182476),\n",
       "  'result': 60.924815009501295},\n",
       " {'input': (85.67710051595412, 27.391961812771505),\n",
       "  'result': 109.8168038542977},\n",
       " {'input': (87.45668001783906, 3.6319328958151487),\n",
       "  'result': 15.246603563186275},\n",
       " {'input': (73.80634797676316, 15.959794339092104),\n",
       "  'result': 80.09547185201846},\n",
       " {'input': (70.4526029610713, 2.809935681895376),\n",
       "  'result': 31.495473418360454},\n",
       " {'input': (59.31822835757171, 16.94709459206519),\n",
       "  'result': 22.55462671953338},\n",
       " {'input': (67.81623378109873, 5.118742873923021),\n",
       "  'result': 61.87786997186286},\n",
       " {'input': (90.36112215951964, 4.381397006154797), 'result': 30.2350447602015},\n",
       " {'input': (98.8559950627097, 30.56544120987387), 'result': 87.75060010486447},\n",
       " {'input': (58.652758790665196, 23.051169056755484), 'result': 0.0},\n",
       " {'input': (73.30768531683616, 32.23701132949197),\n",
       "  'result': 11.344011588850238},\n",
       " {'input': (50.73746487397305, 38.874325771423415), 'result': 0.0},\n",
       " {'input': (54.83510549599831, 0.4260126207796422),\n",
       "  'result': 38.185129286599164},\n",
       " {'input': (81.13011615003951, 34.71483731805443),\n",
       "  'result': 117.2226209670322},\n",
       " {'input': (88.66226416366533, 20.71164327171048), 'result': 131.805836271047},\n",
       " {'input': (50.34763447961671, 28.134931576821838), 'result': 0.0},\n",
       " {'input': (60.19919029469172, 35.06035935398377), 'result': 0.0},\n",
       " {'input': (52.97321836496891, 17.284037055662825), 'result': 0.0},\n",
       " {'input': (59.44654803263889, 36.090641361729524), 'result': 0.0},\n",
       " {'input': (69.69418684322105, 44.28594313926738), 'result': 0.0},\n",
       " {'input': (54.02368617650656, 32.64857204403755), 'result': 0.0},\n",
       " {'input': (96.00992740977532, 3.3929990788343134),\n",
       "  'result': 13.452156465578119},\n",
       " {'input': (84.73033291306095, 34.61854492356139),\n",
       "  'result': 232.11845217257846},\n",
       " {'input': (70.36039055331007, 7.358025537045104),\n",
       "  'result': 67.64143159945225},\n",
       " {'input': (86.55516444784502, 39.241086375758684),\n",
       "  'result': 168.8426592800324},\n",
       " {'input': (78.39392989962596, 12.319284978065658),\n",
       "  'result': 59.66852908149261},\n",
       " {'input': (57.582642317066146, 48.25547747536501), 'result': 0.0},\n",
       " {'input': (80.76192010496084, 20.962251047165942),\n",
       "  'result': 94.87592186846462},\n",
       " {'input': (98.65677870233196, 18.662376786348155),\n",
       "  'result': 58.933455986275334},\n",
       " {'input': (79.4796539486743, 31.381602262407743),\n",
       "  'result': 146.9547469164204},\n",
       " {'input': (87.8552195169056, 46.674681167968494),\n",
       "  'result': 15.349298098023349},\n",
       " {'input': (94.62167328354711, 0.4385450420053394),\n",
       "  'result': 4.772581884553207},\n",
       " {'input': (56.74276314973596, 7.909418951040248),\n",
       "  'result': 74.38332987003935},\n",
       " {'input': (62.403129974159114, 7.440983809023977),\n",
       "  'result': 108.37965703311015},\n",
       " {'input': (64.12684360456535, 12.322779491244424),\n",
       "  'result': 96.73384412315725},\n",
       " {'input': (57.93136830331971, 27.956118593623764), 'result': 0.0},\n",
       " {'input': (64.39892417800777, 3.7308697357279264),\n",
       "  'result': 51.93258764625286},\n",
       " {'input': (63.05146069886169, 27.12475840979743), 'result': 0.0},\n",
       " {'input': (94.11205623318132, 18.650674578495003),\n",
       "  'result': 64.53565719857166},\n",
       " {'input': (51.83289394669142, 19.082820550990053), 'result': 0.0},\n",
       " {'input': (57.840243862490034, 29.133739534587725), 'result': 0.0},\n",
       " {'input': (64.79172446130093, 32.44856335332586), 'result': 0.0},\n",
       " {'input': (93.17318410265284, 43.33982074623685),\n",
       "  'result': 145.13873820648968},\n",
       " {'input': (95.00987806915593, 40.98892590597289),\n",
       "  'result': 223.9820933230686},\n",
       " {'input': (86.6841773002775, 47.761237343651494), 'result': 0.0},\n",
       " {'input': (71.34689638704596, 20.830810122261973),\n",
       "  'result': 102.53887373581989},\n",
       " {'input': (94.3900229477417, 43.23560515950851), 'result': 237.5484532722963},\n",
       " {'input': (95.3660677830151, 18.99443522423), 'result': 107.74400302566697},\n",
       " {'input': (71.12745085629088, 46.561535828801794), 'result': 0.0},\n",
       " {'input': (57.63293704722039, 29.198560298973682), 'result': 0.0},\n",
       " {'input': (83.87039987671966, 33.91273037808713),\n",
       "  'result': 204.3704555811061},\n",
       " {'input': (51.33998059261812, 29.152687044815583), 'result': 0.0},\n",
       " {'input': (80.28562844087702, 49.69020774227505), 'result': 0.0},\n",
       " {'input': (61.979869825599415, 24.56163913359042), 'result': 0.0},\n",
       " {'input': (65.14103320079582, 28.569385390409135), 'result': 0.0},\n",
       " {'input': (85.81621458495358, 12.173931791517361),\n",
       "  'result': 47.18867461064111},\n",
       " {'input': (69.92450504895916, 40.64013847162135), 'result': 0.0},\n",
       " {'input': (78.89413845250671, 0.28061623482330544),\n",
       "  'result': 4.990990193727154},\n",
       " {'input': (88.79781193895934, 16.460094836868805),\n",
       "  'result': 54.16926830812249},\n",
       " {'input': (64.66072087915279, 16.7642518297395),\n",
       "  'result': 120.30576807707953},\n",
       " {'input': (55.56634997469827, 4.066193526382145),\n",
       "  'result': 73.46029956650415},\n",
       " {'input': (77.64481185200937, 41.138309014567135), 'result': 0.0},\n",
       " {'input': (60.18203981913678, 4.996733113251789), 'result': 90.2044225540822},\n",
       " {'input': (79.73863596948487, 10.895549474233373),\n",
       "  'result': 44.46896012896085},\n",
       " {'input': (71.75952223346135, 21.31816242460227),\n",
       "  'result': 180.96091773487973},\n",
       " {'input': (72.5768556300621, 37.5535988443812), 'result': 0.0},\n",
       " {'input': (54.35297543385129, 34.134250253721135), 'result': 0.0},\n",
       " {'input': (68.13648686753656, 46.92580311432678), 'result': 0.0},\n",
       " {'input': (92.35185963013313, 6.749117068635097),\n",
       "  'result': 26.39386650464775},\n",
       " {'input': (85.7592269147639, 0.17679597669322256),\n",
       "  'result': 7.582376372595568},\n",
       " {'input': (74.47986397966929, 46.95737121746649), 'result': 0.0},\n",
       " {'input': (62.704662091016274, 7.9173416599569055),\n",
       "  'result': 105.82159108129142},\n",
       " {'input': (60.58348877200833, 9.926928649499839),\n",
       "  'result': 154.21425345674288},\n",
       " {'input': (94.0490480712147, 10.852621815753327),\n",
       "  'result': 39.49711541758543},\n",
       " {'input': (71.87684826534291, 24.49023495477117),\n",
       "  'result': 132.10283269182736},\n",
       " {'input': (56.718596602144, 9.841910350271043), 'result': 58.552614205788785},\n",
       " {'input': (53.527009637161534, 38.36838960190182), 'result': 0.0},\n",
       " {'input': (87.8557465830103, 9.065031533898187),\n",
       "  'result': 58.994648773938984},\n",
       " {'input': (85.71682356068627, 22.783282133393424),\n",
       "  'result': 89.2314788119902},\n",
       " {'input': (95.56762122427418, 48.76138730250803),\n",
       "  'result': 157.31127695130954},\n",
       " {'input': (52.54359021267629, 33.02232127134994), 'result': 0.0},\n",
       " {'input': (97.87941380911369, 46.37483662545576),\n",
       "  'result': 248.5299431309455},\n",
       " {'input': (93.92083104261948, 5.5073782302019705),\n",
       "  'result': 32.12059246216772},\n",
       " {'input': (58.26461006801811, 48.57192641501509), 'result': 0.0},\n",
       " {'input': (50.34072237781736, 47.43579939640845), 'result': 0.0},\n",
       " {'input': (97.13461048498375, 21.445735407355365),\n",
       "  'result': 106.3830023352784},\n",
       " {'input': (90.81016152302159, 14.488561679331735),\n",
       "  'result': 51.5434043527895},\n",
       " {'input': (82.92500757545417, 22.114336745605982),\n",
       "  'result': 141.0493125727493},\n",
       " {'input': (52.136903561209806, 2.3948185441745986),\n",
       "  'result': 133.96676492136766},\n",
       " {'input': (73.20552099374379, 20.999678197727434),\n",
       "  'result': 183.2967623243893},\n",
       " {'input': (68.69838308180817, 43.31510628255572), 'result': 0.0},\n",
       " {'input': (57.173584698721704, 20.244510178043296), 'result': 0.0},\n",
       " {'input': (68.84938937508984, 1.472131081667355),\n",
       "  'result': 13.01034147086607},\n",
       " {'input': (61.4946676527975, 8.6450028498476), 'result': 71.62143085202648},\n",
       " {'input': (55.15711139447206, 35.763710162065436), 'result': 0.0},\n",
       " {'input': (60.19535962952977, 27.647846741884962), 'result': 0.0},\n",
       " {'input': (70.89517830465887, 39.54707485341506), 'result': 0.0},\n",
       " {'input': (81.5219476657362, 21.898077971203524),\n",
       "  'result': 146.22821744291684},\n",
       " {'input': (92.21488752635491, 32.13121176233968),\n",
       "  'result': 197.63494250353637},\n",
       " {'input': (88.13400594168739, 47.69721443617352),\n",
       "  'result': 6.163873520397249},\n",
       " {'input': (71.84377134472156, 43.98707472016342), 'result': 0.0},\n",
       " {'input': (88.30794677230693, 28.395329382966555),\n",
       "  'result': 154.9090588379244},\n",
       " {'input': (75.6843458707171, 40.80849498784287), 'result': 0.0},\n",
       " {'input': (90.95876853378161, 14.570815303292445),\n",
       "  'result': 47.75714181162201},\n",
       " {'input': (75.97320082451402, 39.90111821290067), 'result': 0.0},\n",
       " {'input': (83.80588561245267, 0.03941553040930912),\n",
       "  'result': 3.7648827665703197},\n",
       " {'input': (60.63616850148061, 9.27743740107283), 'result': 134.689976729316},\n",
       " {'input': (86.26353321386658, 32.19346265070561),\n",
       "  'result': 196.55405997686412},\n",
       " {'input': (89.35731168182676, 30.064590469419635),\n",
       "  'result': 105.22993915963775},\n",
       " {'input': (59.222975400428716, 31.539199872028856), 'result': 0.0},\n",
       " {'input': (56.97437441842609, 41.861402609054224), 'result': 0.0},\n",
       " {'input': (56.91423242258563, 9.649536059324031),\n",
       "  'result': 65.94774430875161},\n",
       " {'input': (92.85549166703021, 31.340786325838295),\n",
       "  'result': 158.3086428379228},\n",
       " {'input': (71.01201613198639, 47.78833703917248), 'result': 0.0},\n",
       " {'input': (66.6687208319472, 18.447000991680262),\n",
       "  'result': 89.32318880181681},\n",
       " {'input': (69.1781268284376, 2.4781710206622174),\n",
       "  'result': 32.692870106135615},\n",
       " {'input': (50.17532444365197, 44.93369825884293), 'result': 0.0},\n",
       " {'input': (66.64757497335845, 3.5645784547801984),\n",
       "  'result': 48.648579047407324},\n",
       " {'input': (77.6982903694922, 32.19849351853168), 'result': 70.4534111446514},\n",
       " {'input': (94.55575919706254, 23.3335110084103),\n",
       "  'result': 139.80528423403962},\n",
       " {'input': (73.18436016921304, 24.406385345667726),\n",
       "  'result': 161.7270320293323},\n",
       " {'input': (64.30011281249996, 23.762125933372808),\n",
       "  'result': 5.428415169128009},\n",
       " {'input': (94.90256777015836, 43.08776123120897),\n",
       "  'result': 138.59118177664223},\n",
       " {'input': (93.52478206535918, 25.344498563658664),\n",
       "  'result': 153.73810978933196},\n",
       " {'input': (83.69014338443031, 29.0246115768848),\n",
       "  'result': 123.01146852888738},\n",
       " {'input': (70.9599466172188, 36.700290902287826), 'result': 0.0},\n",
       " {'input': (78.3452723740285, 6.984406110269975), 'result': 52.2724903923581},\n",
       " {'input': (76.96494229585565, 26.837705095689124),\n",
       "  'result': 211.42880860858006},\n",
       " {'input': (76.18169293858475, 33.04245128008237),\n",
       "  'result': 64.68018029415327},\n",
       " {'input': (69.64685924914929, 12.211532883536863),\n",
       "  'result': 70.22475807282962},\n",
       " {'input': (73.80328970750614, 7.952715829046214), 'result': 73.6874956094886},\n",
       " {'input': (84.44717132032956, 39.29994764115193),\n",
       "  'result': 97.84179547791268},\n",
       " {'input': (52.280303846556315, 19.784510073298385), 'result': 0.0},\n",
       " {'input': (54.03124252846169, 41.49786355690847), 'result': 0.0},\n",
       " {'input': (73.35902957486734, 43.782578623760045), 'result': 0.0},\n",
       " {'input': (72.512348409158, 28.900509969882876), 'result': 68.28729593474469},\n",
       " {'input': (58.62349562346079, 12.308538588960143),\n",
       "  'result': 93.35924139109808},\n",
       " {'input': (71.56388250873525, 23.24958069572926),\n",
       "  'result': 135.82796145437203},\n",
       " {'input': (53.445907642537364, 21.28424261921377), 'result': 0.0},\n",
       " {'input': (64.89822806342671, 20.06686839458912),\n",
       "  'result': 48.428905413697066},\n",
       " {'input': (51.338620466949806, 35.162448110279634), 'result': 0.0},\n",
       " {'input': (61.828629593305465, 12.106439167876326),\n",
       "  'result': 139.93997652347358},\n",
       " {'input': (59.864845643164564, 30.649988995997756), 'result': 0.0},\n",
       " {'input': (90.20776452145078, 44.14768255243087),\n",
       "  'result': 78.73660152982062},\n",
       " {'input': (72.0034981822077, 15.099134923871071),\n",
       "  'result': 128.96744923766136},\n",
       " {'input': (54.831872397482954, 18.51054927688119), 'result': 0.0},\n",
       " {'input': (93.28600838514835, 13.177067667594722),\n",
       "  'result': 44.815675581494105},\n",
       " {'input': (64.852960984365, 3.916657350674263), 'result': 34.48889281734283},\n",
       " {'input': (71.20537349048038, 32.01608490539045), 'result': 0.0},\n",
       " {'input': (58.80821291575744, 33.418766355943795), 'result': 0.0},\n",
       " {'input': (84.44358712054007, 27.59099787140154),\n",
       "  'result': 99.13695140601091},\n",
       " {'input': (89.84680198372547, 0.5937221630658518),\n",
       "  'result': 9.607256563983883},\n",
       " {'input': (56.293999709749656, 15.033987445793423),\n",
       "  'result': 10.068944794267916},\n",
       " {'input': (77.70481357049646, 34.6797768037098), 'result': 62.31161992139328},\n",
       " {'input': (53.154893374545, 6.5285509554536105),\n",
       "  'result': 51.834013180429736},\n",
       " {'input': (57.75467521688162, 24.447602902528153), 'result': 0.0},\n",
       " {'input': (86.23871559369007, 32.5723627569636),\n",
       "  'result': 116.76603711006308},\n",
       " {'input': (59.76212732454275, 12.942201285433619),\n",
       "  'result': 65.50390125325296},\n",
       " {'input': (50.502697563359675, 38.60498197473777), 'result': 0.0},\n",
       " {'input': (83.46618303799544, 30.402785686763917),\n",
       "  'result': 113.24996597609054},\n",
       " {'input': (53.10516809920816, 22.182947271411003), 'result': 0.0},\n",
       " {'input': (84.75749058130735, 42.64760826409744),\n",
       "  'result': 47.39942103272469},\n",
       " {'input': (86.22885286937064, 8.169941592901115),\n",
       "  'result': 35.98992042612193},\n",
       " {'input': (85.95990509420828, 8.461124288158567),\n",
       "  'result': 36.356874664747146},\n",
       " {'input': (92.79138237778176, 2.3288966573484005),\n",
       "  'result': 11.760689214466474},\n",
       " {'input': (63.31445739897643, 39.83510851199369), 'result': 0.0},\n",
       " {'input': (69.93237861677983, 13.955498906690472),\n",
       "  'result': 131.5014307514274},\n",
       " {'input': (57.12277246914671, 44.830555291222865), 'result': 0.0},\n",
       " {'input': (65.0258185192719, 22.897812017354223),\n",
       "  'result': 37.03512492110612},\n",
       " {'input': (85.12806725666346, 21.34274936073129),\n",
       "  'result': 82.91148409069793},\n",
       " {'input': (89.19236975845452, 42.2775309259769), 'result': 95.68670517831677},\n",
       " {'input': (93.26024591952884, 39.67815058219228),\n",
       "  'result': 140.1375934214907},\n",
       " {'input': (68.21787074620745, 29.677451688875117), 'result': 0.0},\n",
       " {'input': (86.15037097553919, 44.59400148112363),\n",
       "  'result': 30.74137002475087},\n",
       " {'input': (80.14752115199468, 45.72178351929112), 'result': 0.0},\n",
       " {'input': (88.64289153185236, 28.762404085893774),\n",
       "  'result': 105.99174546003181},\n",
       " {'input': (75.39331950919659, 5.0888598395037565),\n",
       "  'result': 27.098480576538364},\n",
       " {'input': (72.58065920224958, 14.177095669561801),\n",
       "  'result': 75.61646113033689},\n",
       " {'input': (66.77708634020513, 41.4565895835599), 'result': 0.0},\n",
       " {'input': (53.90522399982572, 9.721508441807615),\n",
       "  'result': 52.66418712356924},\n",
       " {'input': (87.79427629381605, 7.856789039631079),\n",
       "  'result': 30.708573056582104},\n",
       " {'input': (64.05813811156091, 37.47584179930266), 'result': 0.0},\n",
       " {'input': (76.71018650333032, 44.93469323078935), 'result': 0.0},\n",
       " {'input': (99.0395792917223, 5.585742307995284), 'result': 18.5222104817237},\n",
       " {'input': (76.43823098469007, 4.508413374399334),\n",
       "  'result': 40.64588080813083},\n",
       " {'input': (59.71698242712074, 48.028337917858806), 'result': 0.0},\n",
       " {'input': (89.12280800699668, 43.466029993804796),\n",
       "  'result': 122.49087879447445},\n",
       " {'input': (64.23094499348637, 32.58672863452478), 'result': 0.0},\n",
       " {'input': (98.19087065743679, 21.456165386326898),\n",
       "  'result': 68.9894415475056},\n",
       " {'input': (66.82858878560239, 46.07486477144589), 'result': 0.0},\n",
       " {'input': (69.0758967917286, 34.45843914574837), 'result': 0.0},\n",
       " {'input': (83.62012811402504, 33.81339091081472),\n",
       "  'result': 214.95990612118183},\n",
       " {'input': (83.45598523784268, 10.765234623583552),\n",
       "  'result': 41.75783462497362},\n",
       " {'input': (73.83175288937122, 19.17127436255229),\n",
       "  'result': 146.20395185761706},\n",
       " {'input': (65.19665154262826, 35.10695138076648), 'result': 0.0},\n",
       " {'input': (69.03680549413198, 5.345118194243947),\n",
       "  'result': 56.04690599782326},\n",
       " {'input': (69.60006928493108, 49.164253896493015), 'result': 0.0},\n",
       " {'input': (89.84712027012637, 21.23180515821656),\n",
       "  'result': 77.80621106527647},\n",
       " {'input': (94.77219188014797, 18.35889081265451),\n",
       "  'result': 95.15196467236818},\n",
       " {'input': (86.33236120894915, 3.9397000501833035),\n",
       "  'result': 28.74839664362341},\n",
       " {'input': (82.91771253218448, 30.338402469037355),\n",
       "  'result': 109.17017410020603},\n",
       " {'input': (70.36990050757251, 10.529334542129515),\n",
       "  'result': 55.23134524402684},\n",
       " {'input': (93.57486041314544, 45.00612972526984),\n",
       "  'result': 115.97459920244498},\n",
       " {'input': (85.41244845230547, 42.47380298243286),\n",
       "  'result': 68.34580275701359},\n",
       " {'input': (78.53667321984994, 4.05326378692889), 'result': 20.18855945610782},\n",
       " {'input': (87.56180498093505, 39.43505979337098), 'result': 96.9044290376897},\n",
       " {'input': (99.14332342060511, 8.659650827131632),\n",
       "  'result': 48.32805920288927},\n",
       " {'input': (82.19446168365864, 37.20070004856027),\n",
       "  'result': 99.51267825241274},\n",
       " {'input': (63.527784227957525, 1.5284725507540675),\n",
       "  'result': 28.908984141650503},\n",
       " {'input': (90.74140450666314, 30.83613901844468),\n",
       "  'result': 163.53298974234812},\n",
       " {'input': (73.8493250993932, 15.684598393511944),\n",
       "  'result': 81.12876477165065},\n",
       " {'input': (62.71552387213681, 31.009016814555128), 'result': 0.0},\n",
       " {'input': (83.9888765630208, 15.95784109989683),\n",
       "  'result': 103.69054382314901},\n",
       " {'input': (63.06477160569372, 47.461617371663245), 'result': 0.0},\n",
       " {'input': (59.45718134915584, 42.913124533076704), 'result': 0.0},\n",
       " {'input': (84.28901340206784, 11.886711472797163),\n",
       "  'result': 50.94020293028962},\n",
       " {'input': (88.77538252338778, 33.56185581042663),\n",
       "  'result': 204.5302743175583},\n",
       " {'input': (51.14525940088905, 7.401841640590706),\n",
       "  'result': 51.30996836829872},\n",
       " {'input': (78.04499277201671, 9.115414656322862),\n",
       "  'result': 73.41207724295172},\n",
       " {'input': (87.32439645637038, 43.74211175680478),\n",
       "  'result': 50.986485927786084},\n",
       " {'input': (98.88333963524767, 32.80445799756744),\n",
       "  'result': 187.69264776378014},\n",
       " {'input': (82.05896425693312, 19.44545376862007),\n",
       "  'result': 135.01734252742048},\n",
       " {'input': (90.30650332329648, 23.077002005573345),\n",
       "  'result': 139.58988735169106},\n",
       " {'input': (97.91130909844871, 49.02493220926776),\n",
       "  'result': 235.36784474459964},\n",
       " {'input': (58.67856813707154, 29.816349196945417), 'result': 0.0},\n",
       " {'input': (98.4529500766904, 25.86942530909051),\n",
       "  'result': 146.88179702361995},\n",
       " {'input': (52.45456778881797, 45.8155392115411), 'result': 0.0},\n",
       " {'input': (66.18442514377898, 1.3303542777923838),\n",
       "  'result': 26.154270784709933},\n",
       " {'input': (97.13815838557535, 45.20117583506899),\n",
       "  'result': 230.2067759952268},\n",
       " {'input': (51.42614510789358, 9.170001027518882), 'result': 17.264146801075},\n",
       " {'input': (96.5627409249057, 12.425062369824607),\n",
       "  'result': 38.62124334906821},\n",
       " {'input': (89.9298258843144, 38.43956220638808),\n",
       "  'result': 125.60571190161198},\n",
       " {'input': (78.37865879855468, 40.38855903697062), 'result': 0.0},\n",
       " {'input': (54.341025876895195, 30.640795477957777), 'result': 0.0},\n",
       " {'input': (91.2056773300295, 44.00960002956953), 'result': 177.7252175366077},\n",
       " {'input': (89.25437879988488, 46.71073510138753),\n",
       "  'result': 31.201405021665657},\n",
       " {'input': (92.24417906046155, 31.90120084998853),\n",
       "  'result': 187.7823840640307},\n",
       " {'input': (73.71423730842095, 10.09385357909866),\n",
       "  'result': 56.705906457913365},\n",
       " {'input': (84.11609878907151, 15.228107006717007),\n",
       "  'result': 63.2984540299077},\n",
       " {'input': (50.37542417420738, 45.00126838289219), 'result': 0.0},\n",
       " {'input': (56.81274290151575, 1.1343072661533726),\n",
       "  'result': 41.21835849606395},\n",
       " {'input': (69.13289027180636, 33.332065013112825), 'result': 0.0},\n",
       " {'input': (60.50700295439307, 22.153155881787423), 'result': 0.0},\n",
       " {'input': (69.3714510565277, 26.07842242878889), 'result': 34.53091366269393},\n",
       " {'input': (55.42341986400589, 43.39462422196527), 'result': 0.0},\n",
       " {'input': (51.31279110487409, 10.8229977885077), 'result': 6.766728026333159},\n",
       " {'input': (91.41499773204313, 43.52397888671513),\n",
       "  'result': 99.76794710862875},\n",
       " {'input': (67.91883599836277, 36.79474542934146), 'result': 0.0},\n",
       " {'input': (97.06097362344462, 6.206591053282107),\n",
       "  'result': 34.784362345647814},\n",
       " {'input': (70.82385584977905, 37.63045482529754), 'result': 0.0},\n",
       " {'input': (51.543883944253274, 33.611854424553634), 'result': 0.0},\n",
       " {'input': (70.47394520148902, 13.573946988084657),\n",
       "  'result': 128.556080154576},\n",
       " {'input': (90.56803635680959, 45.34378370706905),\n",
       "  'result': 107.04038746778323},\n",
       " {'input': (58.45620805667862, 20.710912420939763), 'result': 0.0},\n",
       " {'input': (95.86450673234741, 46.62804519123324),\n",
       "  'result': 145.53588354766003},\n",
       " {'input': (66.22524129860295, 39.8309031453484), 'result': 0.0},\n",
       " {'input': (66.54549791935739, 9.018065461560631),\n",
       "  'result': 60.01047139454646},\n",
       " {'input': (72.79319581088632, 15.32423132003426),\n",
       "  'result': 142.28838621262588},\n",
       " {'input': (89.98055966851426, 24.258961072879504),\n",
       "  'result': 132.72114018959653},\n",
       " {'input': (54.37058737725841, 26.513183354067454), 'result': 0.0}]"
      ]
     },
     "execution_count": 55,
     "metadata": {},
     "output_type": "execute_result"
    }
   ],
   "source": [
    "wineset3()"
   ]
  },
  {
   "cell_type": "code",
   "execution_count": 56,
   "metadata": {
    "collapsed": false
   },
   "outputs": [
    {
     "data": {
      "text/plain": [
       "106.07142857142857"
      ]
     },
     "execution_count": 56,
     "metadata": {},
     "output_type": "execute_result"
    }
   ],
   "source": [
    "wineprice(99.0, 20.0)"
   ]
  },
  {
   "cell_type": "code",
   "execution_count": 57,
   "metadata": {
    "collapsed": false
   },
   "outputs": [
    {
     "data": {
      "text/plain": [
       "92.38176653524901"
      ]
     },
     "execution_count": 57,
     "metadata": {},
     "output_type": "execute_result"
    }
   ],
   "source": [
    " weightedknn(data, [99.0, 20.0])"
   ]
  },
  {
   "cell_type": "code",
   "execution_count": 58,
   "metadata": {
    "collapsed": false
   },
   "outputs": [
    {
     "data": {
      "text/plain": [
       "541.407521156125"
      ]
     },
     "execution_count": 58,
     "metadata": {},
     "output_type": "execute_result"
    }
   ],
   "source": [
    "crossvalidate(weightedknn, data)"
   ]
  },
  {
   "cell_type": "markdown",
   "metadata": {},
   "source": [
    "##확률밀도 추정하기"
   ]
  },
  {
   "cell_type": "markdown",
   "metadata": {},
   "source": [
    "이 경우에는 근처 물품들의 가중평균을 취해 단일 가격을 예측하기보다는 물품이 특정가격 범위내에 떨어질 확률을 아는것이 더 바람직하다. <br>이 예제에서는 99%와 20년이란 입력이 주어졌을 때 가격이 $40과 $80 사이일 확률이 50%이고, $80과 $100사이일 확률이 50%라도 알려주는 함수가 필요하다."
   ]
  },
  {
   "cell_type": "markdown",
   "metadata": {},
   "source": [
    "이 작업을 위해 확률을 뜻하는 0과 1사이 값을 리턴하는 함수를 만든다. "
   ]
  },
  {
   "cell_type": "code",
   "execution_count": 59,
   "metadata": {
    "collapsed": true
   },
   "outputs": [],
   "source": [
    "def probguess(data,vec1,low,high,k=5,weightf=gaussian):\n",
    "  dlist=getdistances(data,vec1)\n",
    "  nweight=0.0\n",
    "  tweight=0.0\n",
    "  \n",
    "  for i in range(k):\n",
    "    dist=dlist[i][0]\n",
    "    idx=dlist[i][1]\n",
    "    weight=weightf(dist)\n",
    "    v=data[idx]['result']\n",
    "    \n",
    "    # Is this point in the range?\n",
    "    if v>=low and v<=high:\n",
    "      nweight+=weight\n",
    "    tweight+=weight\n",
    "  if tweight==0: return 0\n",
    "  \n",
    "  # The probability is the weights in the range\n",
    "  # divided by all the weights\n",
    "  return nweight/tweight"
   ]
  },
  {
   "cell_type": "markdown",
   "metadata": {},
   "source": [
    "knn과 같이 이 함수는 데이터를 vec1에서의 거리로 정렬하여 근처 물품들의 가중치를 결정< br>\n",
    "모든 근처 물품들의 가중치를 더해 tweight를 얻는다. <br>\n",
    "또한 각 이웃 물품의 가격이범위안에 드는지 판단한다. 그런 후 이 가중치를 nweight에 더한다. vec1의 가격이 low와 high 사이에 확률은 nweight를 tweight로 나눈 값이 된다. "
   ]
  },
  {
   "cell_type": "code",
   "execution_count": 60,
   "metadata": {
    "collapsed": false
   },
   "outputs": [
    {
     "data": {
      "text/plain": [
       "0.1416401315773574"
      ]
     },
     "execution_count": 60,
     "metadata": {},
     "output_type": "execute_result"
    }
   ],
   "source": [
    "probguess(data,[99,22],40,80)"
   ]
  },
  {
   "cell_type": "code",
   "execution_count": 61,
   "metadata": {
    "collapsed": false
   },
   "outputs": [
    {
     "data": {
      "text/plain": [
       "0.7975418699223326"
      ]
     },
     "execution_count": 61,
     "metadata": {},
     "output_type": "execute_result"
    }
   ],
   "source": [
    "probguess(data,[99,20],80,120)"
   ]
  },
  {
   "cell_type": "code",
   "execution_count": 62,
   "metadata": {
    "collapsed": false
   },
   "outputs": [
    {
     "data": {
      "text/plain": [
       "0.0"
      ]
     },
     "execution_count": 62,
     "metadata": {},
     "output_type": "execute_result"
    }
   ],
   "source": [
    "probguess(data,[99,20],120,1000)"
   ]
  },
  {
   "cell_type": "code",
   "execution_count": 63,
   "metadata": {
    "collapsed": false
   },
   "outputs": [
    {
     "data": {
      "text/plain": [
       "1.0"
      ]
     },
     "execution_count": 63,
     "metadata": {},
     "output_type": "execute_result"
    }
   ],
   "source": [
    "probguess(data,[99,20],30,1000)"
   ]
  },
  {
   "cell_type": "markdown",
   "metadata": {},
   "source": [
    "이 함수는 좋은 결과를 만든다. <br> 실제 가격 범위 밖에서 확률은 0이 되고, <br>\n",
    "전체 범위의 호가률은 1에 가깝게 출력된다. "
   ]
  },
  {
   "cell_type": "markdown",
   "metadata": {},
   "source": [
    "##확률 그래프 그리기"
   ]
  },
  {
   "cell_type": "code",
   "execution_count": 64,
   "metadata": {
    "collapsed": false
   },
   "outputs": [
    {
     "data": {
      "image/png": "[encoded data removed]",
      "text/plain": [
       "<matplotlib.figure.Figure at 0xa5eeac8>"
      ]
     },
     "metadata": {},
     "output_type": "display_data"
    },
    {
     "data": {
      "image/png": "[encoded data removed]",
      "text/plain": [
       "<matplotlib.figure.Figure at 0xa8fbf60>"
      ]
     },
     "metadata": {},
     "output_type": "display_data"
    }
   ],
   "source": [
    "from pylab import *\n",
    "import matplotlib\n",
    "import numpy as np\n",
    "import matplotlib.pyplot as plt\n",
    "%matplotlib inline  \n",
    "a=array([1,2,3,4])\n",
    "b=array([4,3,2,1])\n",
    "plot(a,b)\n",
    "show()\n",
    "t1=arange(0.0,10.0,0.1)\n",
    "plot(t1,sin(t1))\n",
    "show()"
   ]
  },
  {
   "cell_type": "markdown",
   "metadata": {},
   "source": [
    "이 절에서는 확률 분포를 검사하는 두가지 다른 방식들을 소개한다. "
   ]
  },
  {
   "cell_type": "markdown",
   "metadata": {},
   "source": [
    "1. 누적 활률 <br>\n",
    "누적 확률 그래프는 주어진 값 이하의 결과 확률을 표시한다. <br> \n"
   ]
  },
  {
   "cell_type": "code",
   "execution_count": 67,
   "metadata": {
    "collapsed": true
   },
   "outputs": [],
   "source": [
    "def cumulativegraph(data,vec1,high,k=5,weightf=gaussian):\n",
    "  t1=arange(0.0,high,0.1)\n",
    "  cprob=array([probguess(data,vec1,0,v,k,weightf) for v in t1])\n",
    "  plot(t1,cprob)\n",
    "  show()"
   ]
  },
  {
   "cell_type": "code",
   "execution_count": 69,
   "metadata": {
    "collapsed": false
   },
   "outputs": [
    {
     "data": {
      "image/png": "[encoded data removed]",
      "text/plain": [
       "<matplotlib.figure.Figure at 0xbfc5d30>"
      ]
     },
     "metadata": {},
     "output_type": "display_data"
    }
   ],
   "source": [
    "data=wineset3()\n",
    "cumulativegraph(data,(1,1),6)"
   ]
  },
  {
   "cell_type": "code",
   "execution_count": 72,
   "metadata": {
    "collapsed": false
   },
   "outputs": [
    {
     "data": {
      "image/png": "[encoded data removed]",
      "text/plain": [
       "<matplotlib.figure.Figure at 0xa61fa20>"
      ]
     },
     "metadata": {},
     "output_type": "display_data"
    }
   ],
   "source": [
    "probabilitygraph(data,(1,1),6)"
   ]
  },
  {
   "cell_type": "code",
   "execution_count": null,
   "metadata": {
    "collapsed": true
   },
   "outputs": [],
   "source": []
  }
 ],
 "metadata": {
  "kernelspec": {
   "display_name": "Python 2",
   "language": "python",
   "name": "python2"
  },
  "language_info": {
   "codemirror_mode": {
    "name": "ipython",
    "version": 2
   },
   "file_extension": ".py",
   "mimetype": "text/x-python",
   "name": "python",
   "nbconvert_exporter": "python",
   "pygments_lexer": "ipython2",
   "version": "2.7.9"
  }
 },
 "nbformat": 4,
 "nbformat_minor": 0
}
