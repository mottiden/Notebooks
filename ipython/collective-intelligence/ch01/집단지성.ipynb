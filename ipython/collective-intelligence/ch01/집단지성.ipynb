{
 "cells": [
  {
   "cell_type": "markdown",
   "metadata": {},
   "source": [
    "## 집단지성 "
   ]
  },
  {
   "cell_type": "markdown",
   "metadata": {},
   "source": [
    "동영상[https://www.youtube.com/watch?v=NjKdQznkw1g]"
   ]
  },
  {
   "cell_type": "markdown",
   "metadata": {},
   "source": [
    "집단지성 관련 소설 마이클크라이튼 먹이[http://www.dgupress.com/news/articleView.html?idxno=1385]"
   ]
  },
  {
   "cell_type": "markdown",
   "metadata": {},
   "source": [
    "추적자 <br>황소 무게에 대한 이야기[http://neblog.com/1101]"
   ]
  },
  {
   "cell_type": "markdown",
   "metadata": {},
   "source": [
    "##사전적 의미 "
   ]
  },
  {
   "cell_type": "markdown",
   "metadata": {},
   "source": [
    "집단적 지적 능력을 통해 개체적으로는 미미하게 보이는 박테리아, 동물, 사람의 능력이 충의를 모으는 과정을 통한 결정 능력의 다양한 형태로 한 개체의 능력 범위를 넘어선 힘을 발휘할 수도 있다고 주장한다. "
   ]
  },
  {
   "cell_type": "markdown",
   "metadata": {},
   "source": [
    "##활용 분야"
   ]
  },
  {
   "cell_type": "markdown",
   "metadata": {},
   "source": [
    "###추천 시스템"
   ]
  },
  {
   "cell_type": "markdown",
   "metadata": {},
   "source": [
    "왓차 https://watcha.net/ 영화 추천 시스템"
   ]
  },
  {
   "cell_type": "markdown",
   "metadata": {},
   "source": [
    "추천 시스템[http://www.ddaily.co.kr/news/article.html?no=102913]"
   ]
  },
  {
   "cell_type": "markdown",
   "metadata": {},
   "source": [
    "넷플릭스[https://www.netflix.com/global]"
   ]
  },
  {
   "cell_type": "markdown",
   "metadata": {},
   "source": [
    "###장바구니 추천 시스템"
   ]
  },
  {
   "cell_type": "markdown",
   "metadata": {},
   "source": [
    "아마존 도서 구입시 추천 서적"
   ]
  },
  {
   "cell_type": "markdown",
   "metadata": {
    "collapsed": true
   },
   "source": [
    "<img src=./img/recommandation.png width=800>"
   ]
  },
  {
   "cell_type": "markdown",
   "metadata": {},
   "source": [
    "###생물공학"
   ]
  },
  {
   "cell_type": "markdown",
   "metadata": {},
   "source": [
    "염기분석과 선별기술의 발전으로 다양한 종류의 대량 데이터 세트가 생성.DNA 순여, 단백질 구조체, 복합물 선별, RNA 발현 데이터 세트 등 "
   ]
  },
  {
   "cell_type": "markdown",
   "metadata": {},
   "source": [
    "https://fold.it/portal/ <br>Foldit은 사람이 컴퓨터를 사용하여 풀기 어려운문제-생물학에서는 단백질접힙 [ protein folding , 蛋白質~ ]이라 불림-를 푸는 온라인 게임입니다. <br>http://ko.foldit.wikia.com/wiki/Foldit_%EC%9C%84%ED%82%A4\n"
   ]
  },
  {
   "cell_type": "markdown",
   "metadata": {},
   "source": [
    "아이와이어<br>https://www.youtube.com/watch?v=tKXBSbpvdHQ<br>http://blog.eyewire.org/ko/<br>https://eyewire.org/signup<br> 게임을 통해 뇌구조를 파악하는 집단 지성 게임"
   ]
  },
  {
   "cell_type": "markdown",
   "metadata": {},
   "source": [
    "###주식시장"
   ]
  },
  {
   "cell_type": "markdown",
   "metadata": {},
   "source": [
    "http://www.dbpia.co.kr/Journal/ArticleDetail/2742859<br>인터넷 주식 게시판을 통한 집단지성과 주식시장과의 상관 관계 연구 <br> 인터넷을 통해 기업에 대한 평가 정보를 수집하고 그 결과와 주식의 상승 하강에 대한 관련 연구 "
   ]
  },
  {
   "cell_type": "markdown",
   "metadata": {},
   "source": [
    "##그외 등등등~ (너무 많아서 생략)"
   ]
  },
  {
   "cell_type": "markdown",
   "metadata": {},
   "source": [
    "#어떻게 만들까? ( 개인화 추천을 예제로)"
   ]
  },
  {
   "cell_type": "markdown",
   "metadata": {},
   "source": [
    "### 1. 대상을 선정한다"
   ]
  },
  {
   "cell_type": "markdown",
   "metadata": {},
   "source": [
    "###2.  데이타를 수집한다."
   ]
  },
  {
   "cell_type": "markdown",
   "metadata": {},
   "source": [
    "###3. 데이타를 정리 및 가공"
   ]
  },
  {
   "cell_type": "markdown",
   "metadata": {},
   "source": [
    "###4. 데이터를 군집화 "
   ]
  },
  {
   "cell_type": "markdown",
   "metadata": {},
   "source": [
    "###5. 사용자가 속하는 군집에서 추천할 항목을 점수화 시켜서 추천 "
   ]
  },
  {
   "cell_type": "markdown",
   "metadata": {},
   "source": [
    "##데이타 수집"
   ]
  },
  {
   "cell_type": "markdown",
   "metadata": {},
   "source": [
    "####수작업으로 수집을 하거나,  자동화된 툴을 통해 수집"
   ]
  },
  {
   "cell_type": "markdown",
   "metadata": {},
   "source": [
    "자동화된 툴 예<br>[http://greennuri.info:9190/admin/stat/scrapingStat.jsp],<br> crawler4j[https://code.google.com/p/crawler4j/]<br>\n",
    "scrapy[http://scrapy.org/]"
   ]
  },
  {
   "cell_type": "markdown",
   "metadata": {},
   "source": [
    "##가공, 군집화, 추천 -> 기계학습"
   ]
  },
  {
   "cell_type": "markdown",
   "metadata": {},
   "source": [
    "#기계학습을 쓰는 이유? "
   ]
  },
  {
   "cell_type": "markdown",
   "metadata": {},
   "source": [
    "###1. 데이터가 너무 많다. -> 수작업으로 연산하기엔 오래 걸린다"
   ]
  },
  {
   "cell_type": "markdown",
   "metadata": {},
   "source": [
    "<img src=./img/largedata.png>"
   ]
  },
  {
   "cell_type": "markdown",
   "metadata": {},
   "source": [
    "###2. 예측이 가능해야 한다"
   ]
  },
  {
   "cell_type": "markdown",
   "metadata": {},
   "source": [
    "<img src=./img/bigdataNML.png>"
   ]
  },
  {
   "cell_type": "markdown",
   "metadata": {},
   "source": [
    "#기계학습"
   ]
  },
  {
   "cell_type": "markdown",
   "metadata": {},
   "source": [
    "<img src=./img/machine-learning.png>"
   ]
  },
  {
   "cell_type": "markdown",
   "metadata": {},
   "source": [
    "추천  시스템 만들기.[http://www.slideshare.net/kwnam4u/02-41434707]"
   ]
  },
  {
   "cell_type": "markdown",
   "metadata": {
    "collapsed": true
   },
   "source": [
    "추천시스템 Slide [http://www.slideshare.net/ssuser2fe594/1-ppt-33990067]"
   ]
  },
  {
   "cell_type": "markdown",
   "metadata": {},
   "source": [
    "추천 시스템 예제 [http://www.greennuri.info:8888/notebooks/build_machine_learning_system_with_python/ch08/ch08-2.ipynb]"
   ]
  },
  {
   "cell_type": "code",
   "execution_count": null,
   "metadata": {
    "collapsed": true
   },
   "outputs": [],
   "source": []
  }
 ],
 "metadata": {
  "kernelspec": {
   "display_name": "Python 2",
   "language": "python",
   "name": "python2"
  },
  "language_info": {
   "codemirror_mode": {
    "name": "ipython",
    "version": 2
   },
   "file_extension": ".py",
   "mimetype": "text/x-python",
   "name": "python",
   "nbconvert_exporter": "python",
   "pygments_lexer": "ipython2",
   "version": "2.7.6"
  }
 },
 "nbformat": 4,
 "nbformat_minor": 0
}
