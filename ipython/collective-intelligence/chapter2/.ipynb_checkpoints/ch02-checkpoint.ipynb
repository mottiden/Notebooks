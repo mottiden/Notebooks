{
 "cells": [
  {
   "cell_type": "markdown",
   "metadata": {},
   "source": [
    "#1. 협업 필터링"
   ]
  },
  {
   "cell_type": "markdown",
   "metadata": {},
   "source": [
    "협업 필터링 알고리즘은 큰 무리의 사람들을 검색해서 여러분과 유사한 취향을 가진 작은 집합을 발견하는 방식으로 동작한다. <br>\n",
    "그것은 사람들이 좋아할 만한 여러 것들을 보고 결합하여 추천 목록을 생성한다. <br>\n",
    "어떤 사람들이 유사한지 결정하거나 그들의 선택을 결합하여 목록을 만드는 여러가지 방법이 있는데 이 장에서는 몇몇 가지 방법만 소개 "
   ]
  },
  {
   "cell_type": "markdown",
   "metadata": {},
   "source": [
    "#2. 선호정보 수집"
   ]
  },
  {
   "cell_type": "markdown",
   "metadata": {},
   "source": [
    "선호 정보를 수집 위와 같이 자료형에 데이터를 추가 한다. "
   ]
  },
  {
   "cell_type": "code",
   "execution_count": 1,
   "metadata": {
    "collapsed": true
   },
   "outputs": [],
   "source": [
    "critics={'Lisa Rose': {'Lady in the Water': 2.5, 'Snakes on a Plane': 3.5,\n",
    " 'Just My Luck': 3.0, 'Superman Returns': 3.5, 'You, Me and Dupree': 2.5, \n",
    " 'The Night Listener': 3.0},\n",
    "'Gene Seymour': {'Lady in the Water': 3.0, 'Snakes on a Plane': 3.5, \n",
    " 'Just My Luck': 1.5, 'Superman Returns': 5.0, 'The Night Listener': 3.0, \n",
    " 'You, Me and Dupree': 3.5}, \n",
    "'Michael Phillips': {'Lady in the Water': 2.5, 'Snakes on a Plane': 3.0,\n",
    " 'Superman Returns': 3.5, 'The Night Listener': 4.0},\n",
    "'Claudia Puig': {'Snakes on a Plane': 3.5, 'Just My Luck': 3.0,\n",
    " 'The Night Listener': 4.5, 'Superman Returns': 4.0, \n",
    " 'You, Me and Dupree': 2.5},\n",
    "'Mick LaSalle': {'Lady in the Water': 3.0, 'Snakes on a Plane': 4.0, \n",
    " 'Just My Luck': 2.0, 'Superman Returns': 3.0, 'The Night Listener': 3.0,\n",
    " 'You, Me and Dupree': 2.0}, \n",
    "'Jack Matthews': {'Lady in the Water': 3.0, 'Snakes on a Plane': 4.0,\n",
    " 'The Night Listener': 3.0, 'Superman Returns': 5.0, 'You, Me and Dupree': 3.5},\n",
    "'Toby': {'Snakes on a Plane':4.5,'You, Me and Dupree':1.0,'Superman Returns':4.0}}"
   ]
  },
  {
   "cell_type": "markdown",
   "metadata": {},
   "source": [
    "critics라는 딕션어리형 자료형에 영화에 대한 정보를 입력한다.<br>\n",
    "이와 같은 정보는 목적에 따라 다른 선호도 값을 가진다. <br>\n",
    "공연 티켓의 경우 구매 : 1, 비 구매 : 0 <br>\n",
    "온라인 쇼핑몰의 경우 구매 : 2 , 찾음 : 1 , 비구매 <br>\n",
    "사이트 추천의 경우 좋음 : 1 , 모름 : 0 , 싫음 -1<br>\n",
    "과 같은 기준으로 선호도를 표시 한다. "
   ]
  },
  {
   "cell_type": "markdown",
   "metadata": {},
   "source": [
    "<img src=./img/prefer_table.png>"
   ]
  },
  {
   "cell_type": "markdown",
   "metadata": {},
   "source": [
    "critics 딕션어리에 값이 제대로 있는지 확인"
   ]
  },
  {
   "cell_type": "code",
   "execution_count": 2,
   "metadata": {
    "collapsed": false
   },
   "outputs": [
    {
     "data": {
      "text/plain": [
       "2.5"
      ]
     },
     "execution_count": 2,
     "metadata": {},
     "output_type": "execute_result"
    }
   ],
   "source": [
    "critics['Lisa Rose']['Lady in the Water']"
   ]
  },
  {
   "cell_type": "code",
   "execution_count": 3,
   "metadata": {
    "collapsed": false
   },
   "outputs": [
    {
     "data": {
      "text/plain": [
       "{'Snakes on a Plane': 4.5, 'Superman Returns': 4.0, 'You, Me and Dupree': 1.0}"
      ]
     },
     "execution_count": 3,
     "metadata": {},
     "output_type": "execute_result"
    }
   ],
   "source": [
    "critics['Toby']['Snakes on a Plane']=4.5\n",
    "critics['Toby']"
   ]
  },
  {
   "cell_type": "markdown",
   "metadata": {},
   "source": [
    "#3. 유사 사용자 찾기"
   ]
  },
  {
   "cell_type": "markdown",
   "metadata": {},
   "source": [
    "사람들이 선호하는 정보를 수집 했다면<br>\n",
    "다음 단계는 유사한 사용자를 찾는것이다.<br>\n",
    "유사한 사용자를 찾는 방법은 <br>\n",
    "유클리디안 거리 점수와 피어슨 상관 점수가 있다. "
   ]
  },
  {
   "cell_type": "markdown",
   "metadata": {},
   "source": [
    "## 유클리디안 거리 점수"
   ]
  },
  {
   "cell_type": "markdown",
   "metadata": {},
   "source": [
    "<img src=./img/eucdlian-distance.png>"
   ]
  },
  {
   "cell_type": "markdown",
   "metadata": {
    "collapsed": true
   },
   "source": [
    "사람들 간의 선호 공간"
   ]
  },
  {
   "cell_type": "markdown",
   "metadata": {},
   "source": [
    "snakes, dupree라는 두개의 축을 기준으로 사람을 배열(선호공간)"
   ]
  },
  {
   "cell_type": "markdown",
   "metadata": {},
   "source": [
    "Tobby는 Snakeds영화 축에서 4.5점<br>\n",
    "Dupree 영화축에서 1.0에 위치"
   ]
  },
  {
   "cell_type": "markdown",
   "metadata": {},
   "source": [
    "선호 공간에서 두 사람간의 위치가 가까울 수록 그들 간의 선호도가 더 유사함을 의미.<br>\n",
    "이 차트는 2차원 이기 때문에 동시에 두개의 순위만 볼 수 있다.<br> \n",
    "위의 예제는 2차원 데이타이기 때문에 2차원 데이터로만 표시, 실 데이타는 다차원 데이터로 표시"
   ]
  },
  {
   "cell_type": "markdown",
   "metadata": {},
   "source": [
    "###유클리디안 거리 점수"
   ]
  },
  {
   "cell_type": "markdown",
   "metadata": {},
   "source": [
    "<img src=./img/euclidean-distance-score.png>"
   ]
  },
  {
   "cell_type": "markdown",
   "metadata": {},
   "source": [
    "python code"
   ]
  },
  {
   "cell_type": "code",
   "execution_count": 4,
   "metadata": {
    "collapsed": false
   },
   "outputs": [
    {
     "data": {
      "text/plain": [
       "1.4142135623730951"
      ]
     },
     "execution_count": 4,
     "metadata": {},
     "output_type": "execute_result"
    }
   ],
   "source": [
    "from math import sqrt\n",
    "sqrt(pow(5-4,2) + pow(2-1,2))"
   ]
  },
  {
   "cell_type": "markdown",
   "metadata": {},
   "source": [
    "위 공식으로 거리 계산하면 유사한 사람일수록 작은 값을 가진다.<br>\n",
    "하지만 사람 간에 유사할수록 더 높은 값을 주는 함수가 더 좋다. <br>\n",
    "그렇게 하기 위해서는 다음과 같이 함수에 1을 더 하고 역을 위하면 더 좋은 점수를 구할 수 있다."
   ]
  },
  {
   "cell_type": "markdown",
   "metadata": {},
   "source": [
    "<img src=./img/ext-euc.png>"
   ]
  },
  {
   "cell_type": "markdown",
   "metadata": {},
   "source": [
    "좀 더 효율적인 유클리디안 점수 "
   ]
  },
  {
   "cell_type": "code",
   "execution_count": 5,
   "metadata": {
    "collapsed": false
   },
   "outputs": [
    {
     "data": {
      "text/plain": [
       "0.4142135623730951"
      ]
     },
     "execution_count": 5,
     "metadata": {},
     "output_type": "execute_result"
    }
   ],
   "source": [
    "from math import sqrt\n",
    "1/(1+sqrt(pow(5-4,2) + pow(2-1,2)))"
   ]
  },
  {
   "cell_type": "code",
   "execution_count": 6,
   "metadata": {
    "collapsed": false
   },
   "outputs": [
    {
     "data": {
      "text/plain": [
       "0.4142158893215144"
      ]
     },
     "execution_count": 6,
     "metadata": {},
     "output_type": "execute_result"
    }
   ],
   "source": [
    "1/ (1 + 1.4142)"
   ]
  },
  {
   "cell_type": "markdown",
   "metadata": {},
   "source": [
    "이 함수의 장점은 두 사용자간의 거리가 0~1로 표시 가능<br>\n",
    "가장 멀리 떨어진 두 사용자간의 거리 : 0 <br>\n",
    "가장 가까운 두 사용자의 거리 : 1"
   ]
  },
  {
   "cell_type": "code",
   "execution_count": 7,
   "metadata": {
    "collapsed": true
   },
   "outputs": [],
   "source": [
    "from math import sqrt\n",
    "\n",
    "# Returns a distance-based similarity score for person1 and person2\n",
    "def sim_distance(prefs,person1,person2):\n",
    "  # 공통항목 추출\n",
    "  si={}\n",
    "  for item in prefs[person1]: \n",
    "    if item in prefs[person2]: si[item]=1\n",
    "\n",
    "  # 공통 평가 항목이 없을 경우 0\n",
    "  if len(si)==0: return 0\n",
    "\n",
    "  # 모든 차이의 값을 제곱하여 더함\n",
    "  sum_of_squares=sum([pow(prefs[person1][item]-prefs[person2][item],2) \n",
    "                      for item in prefs[person1] if item in prefs[person2]])\n",
    "\n",
    "  return 1/(1+sum_of_squares)"
   ]
  },
  {
   "cell_type": "markdown",
   "metadata": {},
   "source": [
    "이제 실제 데이타를 적용"
   ]
  },
  {
   "cell_type": "code",
   "execution_count": 8,
   "metadata": {
    "collapsed": false
   },
   "outputs": [
    {
     "data": {
      "text/plain": [
       "0.14814814814814814"
      ]
     },
     "execution_count": 8,
     "metadata": {},
     "output_type": "execute_result"
    }
   ],
   "source": [
    "sim_distance(critics, 'Lisa Rose', 'Gene Seymour')"
   ]
  },
  {
   "cell_type": "markdown",
   "metadata": {},
   "source": [
    "위 결과는 \"Lisa Rose\"와 \"Gene Seymour\" 두 사람간의 유사도 "
   ]
  },
  {
   "cell_type": "markdown",
   "metadata": {},
   "source": [
    "###피어슨 상관점수"
   ]
  },
  {
   "cell_type": "markdown",
   "metadata": {},
   "source": [
    "상관분석(Correlation Analysis)은 확률론과 통계학에서 두 변수간에 어떤 선형적 관계를 갖고 있는 지를 분석하는 방법이다. 두변수는 서로 독립적인 관계로부터 서로 상관된 관계일 수 있으며 이때 두 변수간의 관계의 강도를 상관관계(Correlation, Correlation coefficient)라 한다. 상관분석에서는 상관관계의 정도를 나타내는 단위로 모상관계수 ρ를 사용한다."
   ]
  },
  {
   "cell_type": "markdown",
   "metadata": {},
   "source": [
    "이 방법을 시각화하기 위해 차트에 두 명의 평론가의 평가 결과를 출력"
   ]
  },
  {
   "cell_type": "markdown",
   "metadata": {},
   "source": [
    "<img src=./img/p-score.png width=600>"
   ]
  },
  {
   "cell_type": "markdown",
   "metadata": {},
   "source": [
    "산포도로 두 영화 평론가를 비교하기"
   ]
  },
  {
   "cell_type": "markdown",
   "metadata": {},
   "source": [
    "이 차트에서 한개의 직선이 표시되어 있다. <br>\n",
    "이 직선을 최적 맞춤선(best-fit line)이라고 부르는데, 이는 차트 내 모든 항목글과 가능한 가장 가까운 직선임을 의미<br>\n",
    "모든 평론가가 모든 경화를 동일하게 평가했다면 이 선은 대각선이 될것이고 이 선 위에 모든 항목 들이 있게 된다. <br>\n",
    "이 경우 완전 상관점수인 1 값이된다. <br>\n",
    "위 도표에서 몇몇 영화의 경우 평가점수가 달라 상관점수가 0.4 쯤 된다."
   ]
  },
  {
   "cell_type": "markdown",
   "metadata": {},
   "source": [
    "<img src=./img/p-score1.png width=600>"
   ]
  },
  {
   "cell_type": "markdown",
   "metadata": {},
   "source": [
    "피어슨 점수는 점수 부풀리시(grade inflation)란 흥미로운 특성이 있다. <br>\n",
    "그림에서 잭 매튜가 리사 로스보다 후한 점수를 주어다.<br>\n",
    "그래도 두 사람이 상대적으로 유사한 선호도를 가졌기 때문에 한 직선으로 잘 표현되어 있다. "
   ]
  },
  {
   "cell_type": "markdown",
   "metadata": {},
   "source": [
    "피어슨 상관관계 점수 계산 python code"
   ]
  },
  {
   "cell_type": "code",
   "execution_count": 14,
   "metadata": {
    "collapsed": true
   },
   "outputs": [],
   "source": [
    "def sim_pearson(prefs,p1,p2):\n",
    "  # Get the list of mutually rated items\n",
    "  si={}\n",
    "  for item in prefs[p1]: \n",
    "    if item in prefs[p2]: si[item]=1\n",
    "\n",
    "  # if they are no ratings in common, return 0\n",
    "  if len(si)==0: return 0\n",
    "\n",
    "  # Sum calculations\n",
    "  n=len(si)\n",
    "  \n",
    "  # Sums of all the preferences\n",
    "  sum1=sum([prefs[p1][it] for it in si])\n",
    "  sum2=sum([prefs[p2][it] for it in si])\n",
    "  \n",
    "  # Sums of the squares\n",
    "  sum1Sq=sum([pow(prefs[p1][it],2) for it in si])\n",
    "  sum2Sq=sum([pow(prefs[p2][it],2) for it in si])\t\n",
    "  \n",
    "  # Sum of the products\n",
    "  pSum=sum([prefs[p1][it]*prefs[p2][it] for it in si])\n",
    "  \n",
    "  # Calculate r (Pearson score)\n",
    "  num=pSum-(sum1*sum2/n)\n",
    "  den=sqrt((sum1Sq-pow(sum1,2)/n)*(sum2Sq-pow(sum2,2)/n))\n",
    "  if den==0: return 0\n",
    "\n",
    "  r=num/den\n",
    "\n",
    "  return r"
   ]
  },
  {
   "cell_type": "markdown",
   "metadata": {},
   "source": [
    "이 함수는 -1~1 사이의 값을 리턴한다. 1은 두 사람의 상관 계수가 모드낭목에서 같은 점수를 주어졌을때 점수이다.<br>\n",
    "다음과 같이 상관 관계 점수를 계산하면"
   ]
  },
  {
   "cell_type": "code",
   "execution_count": 16,
   "metadata": {
    "collapsed": false
   },
   "outputs": [
    {
     "name": "stdout",
     "output_type": "stream",
     "text": [
      "0.396059017191\n"
     ]
    }
   ],
   "source": [
    "print sim_pearson(critics, 'Lisa Rose', 'Gene Seymour')"
   ]
  },
  {
   "cell_type": "markdown",
   "metadata": {},
   "source": [
    "###유사도 측정 지표 선택 방법"
   ]
  },
  {
   "cell_type": "markdown",
   "metadata": {},
   "source": [
    "유사도 측정 지표 선택 방법은 유클리디안거리 계산법, 피어슨 상관계수 외 다른 여러 가지 방법이 있다.<br>\n",
    "자카드 상관계수[http://socurites.com/144]<br>\n",
    "맨하튼 거리 [http://www.nicklib.com/algorithm/1697]<br>"
   ]
  },
  {
   "cell_type": "markdown",
   "metadata": {},
   "source": [
    "###평론가 순위"
   ]
  },
  {
   "cell_type": "markdown",
   "metadata": {},
   "source": [
    "두 사람을 비교하는 함수를 만들었으므로, 주어진 사람을 기준으로 다른 모든 사람들과의 점수를 계산하여 가장 근접한 상대편을 찾는 함수를 만들수 있다. <br>\n",
    "이 경우 나와 유사한 성향을 가진 영화 평론가를 찾아 영화를 고를때 어느 평론가의 의견을 믿을지 판단 하면 재미 있을 것이다. "
   ]
  },
  {
   "cell_type": "code",
   "execution_count": 22,
   "metadata": {
    "collapsed": true
   },
   "outputs": [],
   "source": [
    "#선호도 딕셔너리에서 최적의 상대편을 구함\n",
    "#결과 개수와 유사도 함수는 옵션 사항\n",
    "def topMatches(prefs, person, n=5, similarity=sim_pearson):\n",
    "    scores = [(similarity(prefs, person, other), other)\n",
    "             for other in prefs if other != person ]\n",
    "    \n",
    "    #최고점이 상단에 오도록 목적을 정렬\n",
    "    scores.sort()\n",
    "    scores.reverse()\n",
    "    return scores[0:n]"
   ]
  },
  {
   "cell_type": "markdown",
   "metadata": {},
   "source": [
    "위의 코드를 이용하여 특정 이용자와 가장 가까운 평론가를 찾아 보자"
   ]
  },
  {
   "cell_type": "code",
   "execution_count": 23,
   "metadata": {
    "collapsed": false
   },
   "outputs": [
    {
     "data": {
      "text/plain": [
       "[(0.9912407071619299, 'Lisa Rose'),\n",
       " (0.9244734516419049, 'Mick LaSalle'),\n",
       " (0.8934051474415647, 'Claudia Puig')]"
      ]
     },
     "execution_count": 23,
     "metadata": {},
     "output_type": "execute_result"
    }
   ],
   "source": [
    "topMatches(critics, 'Toby', n=3)"
   ]
  },
  {
   "cell_type": "markdown",
   "metadata": {},
   "source": [
    "'Toby'와 가장 유사한 평론가가 검출된 결과를 확인 할 수 있다. <br>\n",
    " similarity인자를 바꾸면 다른 방법으로 유사한 사용자를 추천 받을 수 있다."
   ]
  },
  {
   "cell_type": "markdown",
   "metadata": {},
   "source": [
    "#4. 항목 추천"
   ]
  },
  {
   "cell_type": "markdown",
   "metadata": {},
   "source": [
    "읽어 볼만한 가치 있는 평론가를 찾는 것도 중요하지만, 정말 필요한건 영화 추천이다. <br>\n",
    "나와 가장 유사한 취향을 가진 사람을 찾아 그가좋아하지만 내가 안 본 영화를 찾을 수도 있다. <br>\n",
    "그러나 이건 너무 관대한 판단이다.  <br>\n",
    "평론가 순위를 결정하는 가중점수를 만들어 항목점수를 만들어 항목점수를 계산해야 한다. <br>\n",
    "모든 다른 평론가들의 평가를 계산한후 나와의 유사도를 그들이 각 영화에 준 점수와 곱한다.<br>\n",
    "다음 표와 같이 수행"
   ]
  },
  {
   "cell_type": "markdown",
   "metadata": {},
   "source": [
    "<img src=./img/table2-2.png width=600>"
   ]
  },
  {
   "cell_type": "markdown",
   "metadata": {},
   "source": [
    "위 표는 각 평론가와의 상관점수와 내가 평가하지 않은 세 영화(bight, lady, luck)에 대한 평론가들의 평가 점수를 표시한다.<br>\n",
    "S.x로 시작하는 세로줄은 유사도를 평가점수로 곱한 값<br>\n",
    "나와 유사한 평론가들의 평가가 나와는 다른 평론가들의 평가보다 전체 점수에 더 큰 기여<br>\n"
   ]
  },
  {
   "cell_type": "markdown",
   "metadata": {},
   "source": [
    "많은 평론가가 평가한 영화가 이득을 얻을수 있다. <br>\n",
    "이를 보정하기 위해 평론의 총합에서 평론한 사람의 수를 나누어서 점수를 보정 -> 마지막 가로줄<br>\n"
   ]
  },
  {
   "cell_type": "code",
   "execution_count": 29,
   "metadata": {
    "collapsed": true
   },
   "outputs": [],
   "source": [
    "# Gets recommendations for a person by using a weighted average\n",
    "# of every other user's rankings\n",
    "# 다른 사람과의 순위의 가중평균값을 이용해서 특정 사람에 추천\n",
    "def getRecommendations(prefs,person,similarity=sim_pearson):\n",
    "  totals={}\n",
    "  simSums={}\n",
    "  for other in prefs:\n",
    "    # don't compare me to myself\n",
    "    #자신과는 비교 하지 않는다. \n",
    "    if other==person: continue\n",
    "    sim=similarity(prefs,person,other)\n",
    "\n",
    "    # ignore scores of zero or lower\n",
    "    # 0또는 0보다 작은 값은 비교하지 않는다.\n",
    "    if sim<=0: continue\n",
    "    for item in prefs[other]:\n",
    "      # only score movies I haven't seen yet\n",
    "      # 내가 보지 못한 영화만을 대상으로 한다.\n",
    "      if item not in prefs[person] or prefs[person][item]==0:\n",
    "        # Similarity * Score\n",
    "        # 유사도와 점수를 곱\n",
    "        totals.setdefault(item,0)\n",
    "        totals[item]+=prefs[other][item]*sim\n",
    "        # Sum of similarities\n",
    "        # 유사도 합\n",
    "        simSums.setdefault(item,0)\n",
    "        simSums[item]+=sim\n",
    "\n",
    "  # Create the normalized list\n",
    "  # 결과를 정규화(노말라이즈)\n",
    "  rankings=[(total/simSums[item],item) for item,total in totals.items()]\n",
    "\n",
    "  # Return the sorted list\n",
    "  rankings.sort()\n",
    "  rankings.reverse()\n",
    "  return rankings"
   ]
  },
  {
   "cell_type": "markdown",
   "metadata": {},
   "source": [
    "critics 자료를 통해 Toby에게 추천할 영화(피어슨 상관계수를 이용할때)"
   ]
  },
  {
   "cell_type": "code",
   "execution_count": 30,
   "metadata": {
    "collapsed": false
   },
   "outputs": [
    {
     "data": {
      "text/plain": [
       "[(3.3477895267131013, 'The Night Listener'),\n",
       " (2.8325499182641614, 'Lady in the Water'),\n",
       " (2.5309807037655645, 'Just My Luck')]"
      ]
     },
     "execution_count": 30,
     "metadata": {},
     "output_type": "execute_result"
    }
   ],
   "source": [
    "getRecommendations(critics, 'Toby')"
   ]
  },
  {
   "cell_type": "markdown",
   "metadata": {},
   "source": [
    "critics 자료를 통해 Toby에게 추철한 영화(유클리디안 유사도 평가 기준)"
   ]
  },
  {
   "cell_type": "code",
   "execution_count": 31,
   "metadata": {
    "collapsed": false
   },
   "outputs": [
    {
     "data": {
      "text/plain": [
       "[(3.5002478401415877, 'The Night Listener'),\n",
       " (2.7561242939959363, 'Lady in the Water'),\n",
       " (2.461988486074374, 'Just My Luck')]"
      ]
     },
     "execution_count": 31,
     "metadata": {},
     "output_type": "execute_result"
    }
   ],
   "source": [
    "getRecommendations(critics, 'Toby', similarity=sim_distance)"
   ]
  },
  {
   "cell_type": "markdown",
   "metadata": {},
   "source": [
    "유사도를 평가하는 다른 방법을 이용하면 같은 데이터에도 다른 결과를 얻을 수 있다."
   ]
  },
  {
   "cell_type": "markdown",
   "metadata": {},
   "source": [
    "#5. 항목 매칭"
   ]
  },
  {
   "cell_type": "markdown",
   "metadata": {},
   "source": [
    "한 제품과 다른 제품이 얼마나 유사한지를 찾는 방법을 기술"
   ]
  },
  {
   "cell_type": "markdown",
   "metadata": {},
   "source": [
    "<img src=./img/figure2-4.png width=600>"
   ]
  },
  {
   "cell_type": "markdown",
   "metadata": {},
   "source": [
    "위 그림은 아마존에서 \"파이선 프로그래밍\"과 유사한 제품을 표시"
   ]
  },
  {
   "cell_type": "markdown",
   "metadata": {},
   "source": [
    "데이터의 변환 필요"
   ]
  },
  {
   "cell_type": "markdown",
   "metadata": {},
   "source": [
    "<img src=./img/human-base.png>"
   ]
  },
  {
   "cell_type": "markdown",
   "metadata": {},
   "source": [
    "<img src=./img/item-base.png>"
   ]
  },
  {
   "cell_type": "markdown",
   "metadata": {},
   "source": [
    "평론가를 기준으로 구성된 딕션어리를 영화를 기준으로 구성된 딕션어리로 변환<br>\n",
    "python 코드를 통해 간단히 구현"
   ]
  },
  {
   "cell_type": "code",
   "execution_count": 33,
   "metadata": {
    "collapsed": true
   },
   "outputs": [],
   "source": [
    "def transformPrefs(prefs):\n",
    "  result={}\n",
    "  for person in prefs:\n",
    "    for item in prefs[person]:\n",
    "      result.setdefault(item,{})\n",
    "      \n",
    "      # Flip item and person\n",
    "      # 영화와 평론가의 위치를 바꿈\n",
    "      result[item][person]=prefs[person][item]\n",
    "  return result"
   ]
  },
  {
   "cell_type": "markdown",
   "metadata": {},
   "source": [
    "슈퍼맨 리턴즈와 유사한 영화를 조회한 결과"
   ]
  },
  {
   "cell_type": "code",
   "execution_count": 34,
   "metadata": {
    "collapsed": false
   },
   "outputs": [
    {
     "data": {
      "text/plain": [
       "[(0.6579516949597695, 'You, Me and Dupree'),\n",
       " (0.4879500364742689, 'Lady in the Water'),\n",
       " (0.11180339887498941, 'Snakes on a Plane'),\n",
       " (-0.1798471947990544, 'The Night Listener'),\n",
       " (-0.42289003161103106, 'Just My Luck')]"
      ]
     },
     "execution_count": 34,
     "metadata": {},
     "output_type": "execute_result"
    }
   ],
   "source": [
    "movies = transformPrefs(critics)\n",
    "topMatches(movies, 'Superman Returns')"
   ]
  },
  {
   "cell_type": "markdown",
   "metadata": {},
   "source": [
    "음의 상관 관계는 좋아하지 않는다라고 해석가능"
   ]
  },
  {
   "cell_type": "markdown",
   "metadata": {},
   "source": [
    "<img src=./img/figure2-5.png width=600>"
   ]
  },
  {
   "cell_type": "markdown",
   "metadata": {},
   "source": [
    "특정 영화를 추천하는 평론가를 추출할 수 도 있다."
   ]
  },
  {
   "cell_type": "code",
   "execution_count": 35,
   "metadata": {
    "collapsed": false
   },
   "outputs": [
    {
     "data": {
      "text/plain": [
       "[(4.0, 'Michael Phillips'), (3.0, 'Jack Matthews')]"
      ]
     },
     "execution_count": 35,
     "metadata": {},
     "output_type": "execute_result"
    }
   ],
   "source": [
    "getRecommendations(movies, 'Just My Luck')"
   ]
  },
  {
   "cell_type": "markdown",
   "metadata": {},
   "source": [
    "#6. 딜리셔스 링크 추천 기능 만들기"
   ]
  },
  {
   "cell_type": "markdown",
   "metadata": {},
   "source": [
    "온라인 북마크 사이트인 딜리셔스의 데이터를 이용하여 추천 기능을 만든다."
   ]
  },
  {
   "cell_type": "markdown",
   "metadata": {},
   "source": [
    "설치해야할 라이브러리 : <br>\n",
    "pydelicious : !easy_install pydelicious<br>\n",
    "feedparser : !pip install feedparser"
   ]
  },
  {
   "cell_type": "code",
   "execution_count": 38,
   "metadata": {
    "collapsed": false
   },
   "outputs": [
    {
     "name": "stdout",
     "output_type": "stream",
     "text": [
      "Requirement already satisfied (use --upgrade to upgrade): feedparser in /usr/local/lib/python2.7/site-packages/feedparser-5.2.0-py2.7.egg\n",
      "/usr/local/lib/python2.7/site-packages/pip/_vendor/requests/packages/urllib3/util/ssl_.py:79: InsecurePlatformWarning: A true SSLContext object is not available. This prevents urllib3 from configuring SSL appropriately and may cause certain SSL connections to fail. For more information, see https://urllib3.readthedocs.org/en/latest/security.html#insecureplatformwarning.\n",
      "  InsecurePlatformWarning\n",
      "Collecting feedparser\n",
      "  Downloading feedparser-5.2.0.post1.tar.bz2 (192kB)\n",
      "\u001b[K    100% |████████████████████████████████| 192kB 649kB/s \n",
      "\u001b[?25hInstalling collected packages: feedparser\n",
      "  Found existing installation: feedparser 5.2.0\n",
      "    Uninstalling feedparser-5.2.0:\n",
      "      Successfully uninstalled feedparser-5.2.0\n",
      "  Running setup.py install for feedparser\n",
      "Successfully installed feedparser\n"
     ]
    }
   ],
   "source": [
    "!pip install feedparser\n",
    "!pip install --upgrade feedparser "
   ]
  },
  {
   "cell_type": "markdown",
   "metadata": {},
   "source": [
    "<img src=./img/figure2-6.png width=600>"
   ]
  },
  {
   "cell_type": "code",
   "execution_count": 53,
   "metadata": {
    "collapsed": false
   },
   "outputs": [
    {
     "data": {
      "text/plain": [
       "[{'count': '',\n",
       "  'description': u'something went wrong',\n",
       "  'dt': '',\n",
       "  'extended': '',\n",
       "  'hash': '',\n",
       "  'href': '',\n",
       "  'tags': '',\n",
       "  'user': ''}]"
      ]
     },
     "execution_count": 53,
     "metadata": {},
     "output_type": "execute_result"
    }
   ],
   "source": [
    "from pydelicious import DeliciousAPI\n",
    "pydelicious.get_popular(tag='programming')"
   ]
  },
  {
   "cell_type": "markdown",
   "metadata": {},
   "source": [
    "API오류 생략 [http://stackoverflow.com/questions/29543799/pydelicious-get-popularprogramming-doesnt-return-any-valid-url]"
   ]
  },
  {
   "cell_type": "markdown",
   "metadata": {},
   "source": [
    "#7. 항목 기반 필터링"
   ]
  },
  {
   "cell_type": "markdown",
   "metadata": {},
   "source": [
    "##사용자 기반의 협력 필터링 : <BR>\n",
    "수 많은 사람들의 평가를 기반으로 처리.<BR>\n",
    "많은 사용자가 있을때 유리.<BR>\n",
    "사용자를 그룹화 하는 작업에 오랜 시간 소요 <BR>\n",
    "수많은 제품으로 인해 사용자간의 구입이력이 겹치지 않을때 불리<BR>"
   ]
  },
  {
   "cell_type": "markdown",
   "metadata": {},
   "source": [
    "##항목 기반 협력 필터링 :<BR>\n",
    "항목 별로 유사한 항목을 미리 계산<BR>\n",
    "사용자에게 추천 할때 사용자가 평가한 상위 항목을 보고 이것과 가장 유사한 항목들의 가중치 목록 생성<br>\n",
    "장점 : 항목은 사람에 비해 자주 바뀌지 않는다."
   ]
  },
  {
   "cell_type": "markdown",
   "metadata": {},
   "source": [
    "##항목 비교 데이터 세트 생성"
   ]
  },
  {
   "cell_type": "markdown",
   "metadata": {},
   "source": [
    "항목간의 비교를 위해 먼저 유사 항목들을 담은 완전한 데이터 세트를 생성"
   ]
  },
  {
   "cell_type": "markdown",
   "metadata": {},
   "source": [
    "유사 항목을 구하는 알고리즘"
   ]
  },
  {
   "cell_type": "code",
   "execution_count": 54,
   "metadata": {
    "collapsed": true
   },
   "outputs": [],
   "source": [
    "def calculateSimilarItems(prefs,n=10):\n",
    "  # Create a dictionary of items showing which other items they\n",
    "  # are most similar to.\n",
    "  result={}\n",
    "  # Invert the preference matrix to be item-centric\n",
    "  itemPrefs=transformPrefs(prefs)\n",
    "  c=0\n",
    "  for item in itemPrefs:\n",
    "    # Status updates for large datasets\n",
    "    c+=1\n",
    "    if c%100==0: print \"%d / %d\" % (c,len(itemPrefs))\n",
    "    # Find the most similar items to this one\n",
    "    scores=topMatches(itemPrefs,item,n=n,similarity=sim_distance)\n",
    "    result[item]=scores\n",
    "  return result"
   ]
  },
  {
   "cell_type": "markdown",
   "metadata": {},
   "source": [
    "유사도 데이터셋 확인"
   ]
  },
  {
   "cell_type": "code",
   "execution_count": 55,
   "metadata": {
    "collapsed": false
   },
   "outputs": [
    {
     "data": {
      "text/plain": [
       "{'Just My Luck': [(0.2222222222222222, 'Lady in the Water'),\n",
       "  (0.18181818181818182, 'You, Me and Dupree'),\n",
       "  (0.15384615384615385, 'The Night Listener'),\n",
       "  (0.10526315789473684, 'Snakes on a Plane'),\n",
       "  (0.06451612903225806, 'Superman Returns')],\n",
       " 'Lady in the Water': [(0.4, 'You, Me and Dupree'),\n",
       "  (0.2857142857142857, 'The Night Listener'),\n",
       "  (0.2222222222222222, 'Snakes on a Plane'),\n",
       "  (0.2222222222222222, 'Just My Luck'),\n",
       "  (0.09090909090909091, 'Superman Returns')],\n",
       " 'Snakes on a Plane': [(0.2222222222222222, 'Lady in the Water'),\n",
       "  (0.18181818181818182, 'The Night Listener'),\n",
       "  (0.16666666666666666, 'Superman Returns'),\n",
       "  (0.10526315789473684, 'Just My Luck'),\n",
       "  (0.05128205128205128, 'You, Me and Dupree')],\n",
       " 'Superman Returns': [(0.16666666666666666, 'Snakes on a Plane'),\n",
       "  (0.10256410256410256, 'The Night Listener'),\n",
       "  (0.09090909090909091, 'Lady in the Water'),\n",
       "  (0.06451612903225806, 'Just My Luck'),\n",
       "  (0.05333333333333334, 'You, Me and Dupree')],\n",
       " 'The Night Listener': [(0.2857142857142857, 'Lady in the Water'),\n",
       "  (0.18181818181818182, 'Snakes on a Plane'),\n",
       "  (0.15384615384615385, 'Just My Luck'),\n",
       "  (0.14814814814814814, 'You, Me and Dupree'),\n",
       "  (0.10256410256410256, 'Superman Returns')],\n",
       " 'You, Me and Dupree': [(0.4, 'Lady in the Water'),\n",
       "  (0.18181818181818182, 'Just My Luck'),\n",
       "  (0.14814814814814814, 'The Night Listener'),\n",
       "  (0.05333333333333334, 'Superman Returns'),\n",
       "  (0.05128205128205128, 'Snakes on a Plane')]}"
      ]
     },
     "execution_count": 55,
     "metadata": {},
     "output_type": "execute_result"
    }
   ],
   "source": [
    "itemsim = calculateSimilarItems(critics)\n",
    "itemsim"
   ]
  },
  {
   "cell_type": "markdown",
   "metadata": {},
   "source": [
    "항목 유사도를 최신으로 유지하기 충분할 정도로만 수행.<br>\n",
    "사용자와 평가 수가 작을 때 좀 더 자주 돌려야 함 : 안정화가 덜 되었기 때문 <br>\n",
    "사용자와 평가 수가 점점 많아질수록 항목들간의 유사도 점수는 안정화 되어 간다."
   ]
  },
  {
   "cell_type": "markdown",
   "metadata": {},
   "source": [
    "##추천 생성"
   ]
  },
  {
   "cell_type": "markdown",
   "metadata": {},
   "source": [
    "<img src=./img/table2-3.png width=600>"
   ]
  },
  {
   "cell_type": "markdown",
   "metadata": {},
   "source": [
    "항목 기반 방식을 사용하여 추천 항목을 발견기 위한 테이블<br>\n",
    "이전의 표와는 달리 평론가가 전혀 포함되어 있지 않고 내가 평가한 영화와 내가 평가하지 않은 영화간의 비교만 있음"
   ]
  },
  {
   "cell_type": "markdown",
   "metadata": {},
   "source": []
  },
  {
   "cell_type": "markdown",
   "metadata": {},
   "source": [
    "# 8. 무비렌즈 데이터 세트 이용하기"
   ]
  },
  {
   "cell_type": "markdown",
   "metadata": {},
   "source": [
    "#9. 사용자 기반 필터링과 항목 기반 필터링"
   ]
  },
  {
   "cell_type": "code",
   "execution_count": null,
   "metadata": {
    "collapsed": true
   },
   "outputs": [],
   "source": []
  }
 ],
 "metadata": {
  "kernelspec": {
   "display_name": "Python 2",
   "language": "python",
   "name": "python2"
  },
  "language_info": {
   "codemirror_mode": {
    "name": "ipython",
    "version": 2
   },
   "file_extension": ".py",
   "mimetype": "text/x-python",
   "name": "python",
   "nbconvert_exporter": "python",
   "pygments_lexer": "ipython2",
   "version": "2.7.6"
  }
 },
 "nbformat": 4,
 "nbformat_minor": 0
}
