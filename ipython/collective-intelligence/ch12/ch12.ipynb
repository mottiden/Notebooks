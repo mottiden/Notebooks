{
 "cells": [
  {
   "cell_type": "code",
   "execution_count": 1,
   "metadata": {
    "collapsed": true
   },
   "outputs": [],
   "source": [
    "1.Bayesian Classifier\n"
   ]
  },
  {
   "cell_type": "code",
   "execution_count": 23,
   "metadata": {
    "collapsed": true
   },
   "outputs": [],
   "source": [
    "import re\n",
    "import math\n",
    "\n",
    "import docclass\n",
    "cl=docclass.classifier(docclass.getwords)\n",
    "\n",
    "cl.train('the quick brown fox jumps over the lazy dog','good')\n",
    "cl.train('make quick money in the online casino','bad')"
   ]
  },
  {
   "cell_type": "code",
   "execution_count": 2,
   "metadata": {
    "collapsed": false
   },
   "outputs": [
    {
     "data": {
      "text/plain": [
       "1.0"
      ]
     },
     "execution_count": 2,
     "metadata": {},
     "output_type": "execute_result"
    }
   ],
   "source": [
    "cl.fcount('quick','good')"
   ]
  },
  {
   "cell_type": "code",
   "execution_count": 3,
   "metadata": {
    "collapsed": false
   },
   "outputs": [
    {
     "data": {
      "text/plain": [
       "1.0"
      ]
     },
     "execution_count": 3,
     "metadata": {},
     "output_type": "execute_result"
    }
   ],
   "source": [
    "cl.fcount('quick','bad')"
   ]
  },
  {
   "cell_type": "code",
   "execution_count": 17,
   "metadata": {
    "collapsed": true
   },
   "outputs": [],
   "source": [
    "reload(docclass)\n",
    "cl=docclass.classifier(docclass.getwords)\n",
    "cl=docclass.naivebayes(docclass.getwords)\n",
    "cl.train('Nobody owns the water.','good')\n",
    "cl.train('the quick rabbit jumps fences','good')\n",
    "cl.train('buy pharmaceuticals now','bad')\n",
    "cl.train('make quick money at the online casino','bad')\n",
    "cl.train('the quick brown fox jumps','good')\n"
   ]
  },
  {
   "cell_type": "code",
   "execution_count": 18,
   "metadata": {
    "collapsed": false
   },
   "outputs": [
    {
     "data": {
      "text/plain": [
       "0.6666666666666666"
      ]
     },
     "execution_count": 18,
     "metadata": {},
     "output_type": "execute_result"
    }
   ],
   "source": [
    "cl.fprob('quick','good')"
   ]
  },
  {
   "cell_type": "code",
   "execution_count": 19,
   "metadata": {
    "collapsed": false
   },
   "outputs": [
    {
     "data": {
      "text/plain": [
       "0.5"
      ]
     },
     "execution_count": 19,
     "metadata": {},
     "output_type": "execute_result"
    }
   ],
   "source": [
    "cl.fprob('quick','bad')"
   ]
  },
  {
   "cell_type": "code",
   "execution_count": 22,
   "metadata": {
    "collapsed": false
   },
   "outputs": [
    {
     "data": {
      "text/plain": [
       "'good'"
      ]
     },
     "execution_count": 22,
     "metadata": {},
     "output_type": "execute_result"
    }
   ],
   "source": [
    "cl.classify('quick')"
   ]
  },
  {
   "cell_type": "code",
   "execution_count": 7,
   "metadata": {
    "collapsed": true
   },
   "outputs": [],
   "source": [
    "reload(docclass)\n",
    "docclass.getwords('python is a dynamic language')\n",
    "cl=docclass.naivebayes(docclass.getwords)\n",
    "\n",
    "cl.train('pythons are constrictors','snake')\n",
    "cl.train('python has dynamic types','language')\n",
    "cl.train('python was developed as a scripting language','language')"
   ]
  },
  {
   "cell_type": "code",
   "execution_count": 8,
   "metadata": {
    "collapsed": false
   },
   "outputs": [
    {
     "data": {
      "text/plain": [
       "'language'"
      ]
     },
     "execution_count": 8,
     "metadata": {},
     "output_type": "execute_result"
    }
   ],
   "source": [
    "cl.classify('dynamic programming')"
   ]
  },
  {
   "cell_type": "code",
   "execution_count": 9,
   "metadata": {
    "collapsed": false
   },
   "outputs": [
    {
     "data": {
      "text/plain": [
       "'snake'"
      ]
     },
     "execution_count": 9,
     "metadata": {},
     "output_type": "execute_result"
    }
   ],
   "source": [
    "cl.classify('boa constrictors')"
   ]
  },
  {
   "cell_type": "code",
   "execution_count": null,
   "metadata": {
    "collapsed": true
   },
   "outputs": [],
   "source": [
    "2.Decision Tree Classifier"
   ]
  },
  {
   "cell_type": "code",
   "execution_count": 27,
   "metadata": {
    "collapsed": true
   },
   "outputs": [],
   "source": [
    "import treepredict\n",
    "fruit=[[4,'red','apple'],[4,'green','apple'],[1,'red','cherry'],[1,'green','grape'],[5,'red','apple']]\n",
    "tree=treepredict.buildtree(fruit)"
   ]
  },
  {
   "cell_type": "code",
   "execution_count": 28,
   "metadata": {
    "collapsed": false
   },
   "outputs": [
    {
     "data": {
      "text/plain": [
       "{'cherry': 1}"
      ]
     },
     "execution_count": 28,
     "metadata": {},
     "output_type": "execute_result"
    }
   ],
   "source": [
    "treepredict.classify([2,'red'],tree)"
   ]
  },
  {
   "cell_type": "code",
   "execution_count": 29,
   "metadata": {
    "collapsed": false
   },
   "outputs": [
    {
     "data": {
      "text/plain": [
       "{'apple': 3}"
      ]
     },
     "execution_count": 29,
     "metadata": {},
     "output_type": "execute_result"
    }
   ],
   "source": [
    "treepredict.classify([5,'red'],tree)"
   ]
  },
  {
   "cell_type": "code",
   "execution_count": 30,
   "metadata": {
    "collapsed": false
   },
   "outputs": [
    {
     "data": {
      "text/plain": [
       "{'grape': 1}"
      ]
     },
     "execution_count": 30,
     "metadata": {},
     "output_type": "execute_result"
    }
   ],
   "source": [
    "treepredict.classify([1,'green'],tree)"
   ]
  },
  {
   "cell_type": "code",
   "execution_count": 31,
   "metadata": {
    "collapsed": false
   },
   "outputs": [
    {
     "data": {
      "text/plain": [
       "{'apple': 3}"
      ]
     },
     "execution_count": 31,
     "metadata": {},
     "output_type": "execute_result"
    }
   ],
   "source": [
    "treepredict.classify([120,'red'],tree)"
   ]
  },
  {
   "cell_type": "code",
   "execution_count": 32,
   "metadata": {
    "collapsed": false
   },
   "outputs": [
    {
     "name": "stdout",
     "output_type": "stream",
     "text": [
      "0:4? \n",
      "T-> {'apple': 3}\n",
      "F-> 1:green? \n",
      "  T-> {'grape': 1}\n",
      "  F-> {'cherry': 1}\n"
     ]
    }
   ],
   "source": [
    "treepredict.printtree(tree)"
   ]
  },
  {
   "cell_type": "code",
   "execution_count": 33,
   "metadata": {
    "collapsed": true
   },
   "outputs": [],
   "source": [
    "my_data=[['slashdot','USA','yes',18,'None'],\n",
    "['google','France','yes',23,'Premium'],\n",
    "['digg','USA','yes',24,'Basic'],\n",
    "['kiwitobes','France','yes',23,'Basic'],\n",
    "['google','UK','no',21,'Premium'],\n",
    "['(direct)','New Zealand','no',12,'None'],\n",
    "['(direct)','UK','no',21,'Basic'],\n",
    "['google','USA','no',24,'Premium'],\n",
    "['slashdot','France','yes',19,'None'],\n",
    "['digg','USA','no',18,'None'],\n",
    "['google','UK','no',18,'None'],\n",
    "['kiwitobes','UK','no',19,'None'],\n",
    "['digg','New Zealand','yes',12,'Basic'],\n",
    "['slashdot','UK','no',21,'None'],\n",
    "['google','UK','yes',18,'Basic'],\n",
    "['kiwitobes','France','yes',19,'Basic']]"
   ]
  },
  {
   "cell_type": "code",
   "execution_count": 34,
   "metadata": {
    "collapsed": false
   },
   "outputs": [
    {
     "data": {
      "text/plain": [
       "([['slashdot', 'USA', 'yes', 18, 'None'],\n",
       "  ['google', 'France', 'yes', 23, 'Premium'],\n",
       "  ['digg', 'USA', 'yes', 24, 'Basic'],\n",
       "  ['kiwitobes', 'France', 'yes', 23, 'Basic'],\n",
       "  ['slashdot', 'France', 'yes', 19, 'None'],\n",
       "  ['digg', 'New Zealand', 'yes', 12, 'Basic'],\n",
       "  ['google', 'UK', 'yes', 18, 'Basic'],\n",
       "  ['kiwitobes', 'France', 'yes', 19, 'Basic']],\n",
       " [['google', 'UK', 'no', 21, 'Premium'],\n",
       "  ['(direct)', 'New Zealand', 'no', 12, 'None'],\n",
       "  ['(direct)', 'UK', 'no', 21, 'Basic'],\n",
       "  ['google', 'USA', 'no', 24, 'Premium'],\n",
       "  ['digg', 'USA', 'no', 18, 'None'],\n",
       "  ['google', 'UK', 'no', 18, 'None'],\n",
       "  ['kiwitobes', 'UK', 'no', 19, 'None'],\n",
       "  ['slashdot', 'UK', 'no', 21, 'None']])"
      ]
     },
     "execution_count": 34,
     "metadata": {},
     "output_type": "execute_result"
    }
   ],
   "source": [
    "treepredict.divideset(treepredict.my_data,2,'yes')"
   ]
  },
  {
   "cell_type": "code",
   "execution_count": 38,
   "metadata": {
    "collapsed": false
   },
   "outputs": [
    {
     "data": {
      "text/plain": [
       "([['google', 'France', 'yes', 23, 'Premium'],\n",
       "  ['google', 'UK', 'no', 21, 'Premium'],\n",
       "  ['google', 'USA', 'no', 24, 'Premium'],\n",
       "  ['google', 'UK', 'no', 18, 'None'],\n",
       "  ['google', 'UK', 'yes', 18, 'Basic']],\n",
       " [['slashdot', 'USA', 'yes', 18, 'None'],\n",
       "  ['digg', 'USA', 'yes', 24, 'Basic'],\n",
       "  ['kiwitobes', 'France', 'yes', 23, 'Basic'],\n",
       "  ['(direct)', 'New Zealand', 'no', 12, 'None'],\n",
       "  ['(direct)', 'UK', 'no', 21, 'Basic'],\n",
       "  ['slashdot', 'France', 'yes', 19, 'None'],\n",
       "  ['digg', 'USA', 'no', 18, 'None'],\n",
       "  ['kiwitobes', 'UK', 'no', 19, 'None'],\n",
       "  ['digg', 'New Zealand', 'yes', 12, 'Basic'],\n",
       "  ['slashdot', 'UK', 'no', 21, 'None'],\n",
       "  ['kiwitobes', 'France', 'yes', 19, 'Basic']])"
      ]
     },
     "execution_count": 38,
     "metadata": {},
     "output_type": "execute_result"
    }
   ],
   "source": [
    "treepredict.divideset(treepredict.my_data,0,'google')"
   ]
  },
  {
   "cell_type": "code",
   "execution_count": 51,
   "metadata": {
    "collapsed": false
   },
   "outputs": [
    {
     "name": "stdout",
     "output_type": "stream",
     "text": [
      "0:google? \n",
      "T-> 3:21? \n",
      "  T-> {'Premium': 3}\n",
      "  F-> 2:yes? \n",
      "    T-> {'Basic': 1}\n",
      "    F-> {'None': 1}\n",
      "F-> 0:slashdot? \n",
      "  T-> {'None': 3}\n",
      "  F-> 2:yes? \n",
      "    T-> {'Basic': 4}\n",
      "    F-> 3:21? \n",
      "      T-> {'Basic': 1}\n",
      "      F-> {'None': 3}\n"
     ]
    }
   ],
   "source": [
    "reload(treepredict)\n",
    "tree=treepredict.buildtree(treepredict.my_data)\n",
    "treepredict.prune(tree,0.1)\n",
    "treepredict.printtree(tree)"
   ]
  },
  {
   "cell_type": "code",
   "execution_count": 44,
   "metadata": {
    "collapsed": false
   },
   "outputs": [
    {
     "data": {
      "text/plain": [
       "{'Basic': 4}"
      ]
     },
     "execution_count": 44,
     "metadata": {},
     "output_type": "execute_result"
    }
   ],
   "source": [
    "treepredict.classify(['(direct)','USA','yes',5],tree)"
   ]
  },
  {
   "cell_type": "code",
   "execution_count": 91,
   "metadata": {
    "collapsed": false
   },
   "outputs": [
    {
     "name": "stdout",
     "output_type": "stream",
     "text": [
      "{'None': 7, 'Premium': 3, 'Basic': 6}\n"
     ]
    }
   ],
   "source": [
    "reload(treepredict)\n",
    "tree=treepredict.buildtree(treepredict.my_data)\n",
    "treepredict.prune(tree,1.2)\n",
    "treepredict.printtree(tree)"
   ]
  },
  {
   "cell_type": "code",
   "execution_count": 92,
   "metadata": {
    "collapsed": false
   },
   "outputs": [
    {
     "name": "stdout",
     "output_type": "stream",
     "text": [
      "0:google? \n",
      "T-> 3:21? \n",
      "  T-> {'Premium': 3}\n",
      "  F-> 2:yes? \n",
      "    T-> {'Basic': 1}\n",
      "    F-> {'None': 1}\n",
      "F-> {'None': 6, 'Basic': 5}\n"
     ]
    }
   ],
   "source": [
    "reload(treepredict)\n",
    "tree=treepredict.buildtree(treepredict.my_data)\n",
    "treepredict.prune(tree,1.0)\n",
    "treepredict.printtree(tree)"
   ]
  },
  {
   "cell_type": "code",
   "execution_count": 93,
   "metadata": {
    "collapsed": false
   },
   "outputs": [
    {
     "data": {
      "text/plain": [
       "{'Basic': 5, 'None': 6}"
      ]
     },
     "execution_count": 93,
     "metadata": {},
     "output_type": "execute_result"
    }
   ],
   "source": [
    "treepredict.classify(['(direct)','USA','yes',5],tree)"
   ]
  },
  {
   "cell_type": "code",
   "execution_count": null,
   "metadata": {
    "collapsed": true
   },
   "outputs": [],
   "source": [
    "3.SVM - Kernel Tric"
   ]
  },
  {
   "cell_type": "code",
   "execution_count": 122,
   "metadata": {
    "collapsed": false
   },
   "outputs": [
    {
     "ename": "AttributeError",
     "evalue": "'module' object has no attribute 'C_SVC'",
     "output_type": "error",
     "traceback": [
      "\u001b[1;31m---------------------------------------------------------------------------\u001b[0m",
      "\u001b[1;31mAttributeError\u001b[0m                            Traceback (most recent call last)",
      "\u001b[1;32m<ipython-input-122-0fd2bc383383>\u001b[0m in \u001b[0;36m<module>\u001b[1;34m()\u001b[0m\n\u001b[1;32m----> 1\u001b[1;33m \u001b[1;32mfrom\u001b[0m \u001b[0msvm\u001b[0m \u001b[1;32mimport\u001b[0m \u001b[1;33m*\u001b[0m\u001b[1;33m\u001b[0m\u001b[0m\n\u001b[0m",
      "\u001b[1;32m/home/big/collective-intelligence/all/svm.py\u001b[0m in \u001b[0;36m<module>\u001b[1;34m()\u001b[0m\n\u001b[0;32m      3\u001b[0m \u001b[1;31m#import svmc\u001b[0m\u001b[1;33m\u001b[0m\u001b[1;33m\u001b[0m\u001b[0m\n\u001b[0;32m      4\u001b[0m \u001b[1;33m\u001b[0m\u001b[0m\n\u001b[1;32m----> 5\u001b[1;33m \u001b[1;32mfrom\u001b[0m \u001b[0msvmc\u001b[0m \u001b[1;32mimport\u001b[0m \u001b[0mC_SVC\u001b[0m\u001b[1;33m,\u001b[0m \u001b[0mNU_SVC\u001b[0m\u001b[1;33m,\u001b[0m \u001b[0mONE_CLASS\u001b[0m\u001b[1;33m,\u001b[0m \u001b[0mEPSILON_SVR\u001b[0m\u001b[1;33m,\u001b[0m \u001b[0mNU_SVR\u001b[0m\u001b[1;33m\u001b[0m\u001b[0m\n\u001b[0m\u001b[0;32m      6\u001b[0m \u001b[1;32mfrom\u001b[0m \u001b[0msvmc\u001b[0m \u001b[1;32mimport\u001b[0m \u001b[0mLINEAR\u001b[0m\u001b[1;33m,\u001b[0m \u001b[0mPOLY\u001b[0m\u001b[1;33m,\u001b[0m \u001b[0mRBF\u001b[0m\u001b[1;33m,\u001b[0m \u001b[0mSIGMOID\u001b[0m\u001b[1;33m,\u001b[0m \u001b[0mPRECOMPUTED\u001b[0m\u001b[1;33m\u001b[0m\u001b[0m\n\u001b[0;32m      7\u001b[0m \u001b[1;33m\u001b[0m\u001b[0m\n",
      "\u001b[1;32m/home/big/collective-intelligence/all/svmc.py\u001b[0m in \u001b[0;36m<module>\u001b[1;34m()\u001b[0m\n\u001b[0;32m     53\u001b[0m \u001b[1;33m\u001b[0m\u001b[0m\n\u001b[0;32m     54\u001b[0m \u001b[1;33m\u001b[0m\u001b[0m\n\u001b[1;32m---> 55\u001b[1;33m \u001b[0mC_SVC\u001b[0m \u001b[1;33m=\u001b[0m \u001b[0m_svmc\u001b[0m\u001b[1;33m.\u001b[0m\u001b[0mC_SVC\u001b[0m\u001b[1;33m\u001b[0m\u001b[0m\n\u001b[0m\u001b[0;32m     56\u001b[0m \u001b[0mNU_SVC\u001b[0m \u001b[1;33m=\u001b[0m \u001b[0m_svmc\u001b[0m\u001b[1;33m.\u001b[0m\u001b[0mNU_SVC\u001b[0m\u001b[1;33m\u001b[0m\u001b[0m\n\u001b[0;32m     57\u001b[0m \u001b[0mONE_CLASS\u001b[0m \u001b[1;33m=\u001b[0m \u001b[0m_svmc\u001b[0m\u001b[1;33m.\u001b[0m\u001b[0mONE_CLASS\u001b[0m\u001b[1;33m\u001b[0m\u001b[0m\n",
      "\u001b[1;31mAttributeError\u001b[0m: 'module' object has no attribute 'C_SVC'"
     ]
    }
   ],
   "source": [
    "from svm import *\n"
   ]
  },
  {
   "cell_type": "code",
   "execution_count": 125,
   "metadata": {
    "collapsed": false
   },
   "outputs": [
    {
     "ename": "NameError",
     "evalue": "name 'svm_problem' is not defined",
     "output_type": "error",
     "traceback": [
      "\u001b[1;31m---------------------------------------------------------------------------\u001b[0m",
      "\u001b[1;31mNameError\u001b[0m                                 Traceback (most recent call last)",
      "\u001b[1;32m<ipython-input-125-ecb889c00cb7>\u001b[0m in \u001b[0;36m<module>\u001b[1;34m()\u001b[0m\n\u001b[1;32m----> 1\u001b[1;33m \u001b[0mprob\u001b[0m \u001b[1;33m=\u001b[0m \u001b[0msvm_problem\u001b[0m\u001b[1;33m(\u001b[0m\u001b[1;33m[\u001b[0m\u001b[1;36m1\u001b[0m\u001b[1;33m,\u001b[0m\u001b[1;33m-\u001b[0m\u001b[1;36m1\u001b[0m\u001b[1;33m]\u001b[0m\u001b[1;33m,\u001b[0m\u001b[1;33m[\u001b[0m\u001b[1;33m[\u001b[0m\u001b[1;36m1\u001b[0m\u001b[1;33m,\u001b[0m\u001b[1;36m0\u001b[0m\u001b[1;33m,\u001b[0m\u001b[1;36m1\u001b[0m\u001b[1;33m]\u001b[0m\u001b[1;33m,\u001b[0m\u001b[1;33m[\u001b[0m\u001b[1;33m-\u001b[0m\u001b[1;36m1\u001b[0m\u001b[1;33m,\u001b[0m\u001b[1;36m0\u001b[0m\u001b[1;33m,\u001b[0m\u001b[1;33m-\u001b[0m\u001b[1;36m1\u001b[0m\u001b[1;33m]\u001b[0m\u001b[1;33m]\u001b[0m\u001b[1;33m)\u001b[0m\u001b[1;33m\u001b[0m\u001b[0m\n\u001b[0m\u001b[0;32m      2\u001b[0m \u001b[0mparam\u001b[0m \u001b[1;33m=\u001b[0m \u001b[0msvm_parameter\u001b[0m\u001b[1;33m(\u001b[0m\u001b[0mkernel_type\u001b[0m \u001b[1;33m=\u001b[0m \u001b[0mLINEAR\u001b[0m\u001b[1;33m,\u001b[0m \u001b[0mC\u001b[0m \u001b[1;33m=\u001b[0m \u001b[1;36m10\u001b[0m\u001b[1;33m)\u001b[0m\u001b[1;33m\u001b[0m\u001b[0m\n\u001b[0;32m      3\u001b[0m \u001b[0mm\u001b[0m \u001b[1;33m=\u001b[0m \u001b[0msvm_model\u001b[0m\u001b[1;33m(\u001b[0m\u001b[0mprob\u001b[0m\u001b[1;33m,\u001b[0m \u001b[0mparam\u001b[0m\u001b[1;33m)\u001b[0m\u001b[1;33m\u001b[0m\u001b[0m\n",
      "\u001b[1;31mNameError\u001b[0m: name 'svm_problem' is not defined"
     ]
    }
   ],
   "source": [
    "prob = svm_problem([1,-1],[[1,0,1],[-1,0,-1]])\n",
    "param = svm_parameter(kernel_type = LINEAR, C = 10)\n",
    "m = svm_model(prob, param)"
   ]
  },
  {
   "cell_type": "code",
   "execution_count": 124,
   "metadata": {
    "collapsed": true
   },
   "outputs": [],
   "source": [
    "from random import randint\n",
    "d1=[[randint(-20,20),randint(-20,20)] for i in range(200)]\n",
    "result=[(x**2+y**2)<144 and 1 or 0 for (x,y) in d1]\n",
    "prob=svm_problem(result,d1)\n",
    "param=svm_parameter(kernel_type=RBF)\n",
    "m=svm_model(prob,param)"
   ]
  },
  {
   "cell_type": "code",
   "execution_count": 126,
   "metadata": {
    "collapsed": false
   },
   "outputs": [
    {
     "ename": "NameError",
     "evalue": "name 'cross_validation' is not defined",
     "output_type": "error",
     "traceback": [
      "\u001b[1;31m---------------------------------------------------------------------------\u001b[0m",
      "\u001b[1;31mNameError\u001b[0m                                 Traceback (most recent call last)",
      "\u001b[1;32m<ipython-input-126-93d15981ac8e>\u001b[0m in \u001b[0;36m<module>\u001b[1;34m()\u001b[0m\n\u001b[1;32m----> 1\u001b[1;33m \u001b[0mguesses\u001b[0m\u001b[1;33m=\u001b[0m\u001b[0mcross_validation\u001b[0m\u001b[1;33m(\u001b[0m\u001b[0mprob\u001b[0m\u001b[1;33m,\u001b[0m\u001b[0mparam\u001b[0m\u001b[1;33m,\u001b[0m\u001b[1;36m4\u001b[0m\u001b[1;33m)\u001b[0m\u001b[1;33m\u001b[0m\u001b[0m\n\u001b[0m\u001b[0;32m      2\u001b[0m \u001b[0msum\u001b[0m\u001b[1;33m(\u001b[0m\u001b[1;33m[\u001b[0m\u001b[0mabs\u001b[0m\u001b[1;33m(\u001b[0m\u001b[0mguesses\u001b[0m\u001b[1;33m[\u001b[0m\u001b[0mi\u001b[0m\u001b[1;33m]\u001b[0m\u001b[1;33m-\u001b[0m\u001b[0mresult\u001b[0m\u001b[1;33m[\u001b[0m\u001b[0mi\u001b[0m\u001b[1;33m]\u001b[0m\u001b[1;33m)\u001b[0m \u001b[1;32mfor\u001b[0m \u001b[0mi\u001b[0m \u001b[1;32min\u001b[0m \u001b[0mrange\u001b[0m\u001b[1;33m(\u001b[0m\u001b[0mlen\u001b[0m\u001b[1;33m(\u001b[0m\u001b[0mguesses\u001b[0m\u001b[1;33m)\u001b[0m\u001b[1;33m)\u001b[0m\u001b[1;33m]\u001b[0m\u001b[1;33m)\u001b[0m\u001b[1;33m\u001b[0m\u001b[0m\n",
      "\u001b[1;31mNameError\u001b[0m: name 'cross_validation' is not defined"
     ]
    }
   ],
   "source": [
    "guesses=cross_validation(prob,param,4)\n",
    "sum([abs(guesses[i]-result[i]) for i in range(len(guesses))])"
   ]
  },
  {
   "cell_type": "code",
   "execution_count": null,
   "metadata": {
    "collapsed": true
   },
   "outputs": [],
   "source": [
    "4.kNN"
   ]
  },
  {
   "cell_type": "code",
   "execution_count": 171,
   "metadata": {
    "collapsed": true
   },
   "outputs": [],
   "source": [
    "cameras=[{'input':(7.1,3.8),'result':399},\n",
    "{'input':(5.0,2.4),'result':299},\n",
    "{'input':(6.0,4.0),'result':349},\n",
    "{'input':(6.0,12.0),'result':399},\n",
    "{'input':(6.5,6.0),'result':359},\n",
    "{'input':(6.5,13.0),'result':419},\n",
    "{'input':(8.5,5.0),'result':429},\n",
    "{'input':(8.5,8.0),'result':429},\n",
    "{'input':(10.0,3.0),'result':449}]"
   ]
  },
  {
   "cell_type": "code",
   "execution_count": 172,
   "metadata": {
    "collapsed": false
   },
   "outputs": [],
   "source": [
    " from numpredict import *"
   ]
  },
  {
   "cell_type": "code",
   "execution_count": 173,
   "metadata": {
    "collapsed": false
   },
   "outputs": [
    {
     "data": {
      "text/plain": [
       "354.0"
      ]
     },
     "execution_count": 173,
     "metadata": {},
     "output_type": "execute_result"
    }
   ],
   "source": [
    "numpredict.knnestimate(cameras,(6.0,6.0),k=2)"
   ]
  },
  {
   "cell_type": "code",
   "execution_count": 174,
   "metadata": {
    "collapsed": false
   },
   "outputs": [
    {
     "data": {
      "text/plain": [
       "354.1874121587853"
      ]
     },
     "execution_count": 174,
     "metadata": {},
     "output_type": "execute_result"
    }
   ],
   "source": [
    "numpredict.weightedknn(cameras,(6.0,6.0),k=2)"
   ]
  },
  {
   "cell_type": "code",
   "execution_count": 175,
   "metadata": {
    "collapsed": false
   },
   "outputs": [
    {
     "data": {
      "text/plain": [
       "359.0"
      ]
     },
     "execution_count": 175,
     "metadata": {},
     "output_type": "execute_result"
    }
   ],
   "source": [
    "numpredict.knnestimate(cameras,(6.0,6.0),k=1)"
   ]
  },
  {
   "cell_type": "code",
   "execution_count": 176,
   "metadata": {
    "collapsed": false
   },
   "outputs": [
    {
     "data": {
      "text/plain": [
       "368.3468877978277"
      ]
     },
     "execution_count": 176,
     "metadata": {},
     "output_type": "execute_result"
    }
   ],
   "source": [
    "numpredict.weightedknn(cameras,(6.0,6.0),k=3)"
   ]
  },
  {
   "cell_type": "code",
   "execution_count": 177,
   "metadata": {
    "collapsed": false
   },
   "outputs": [
    {
     "data": {
      "text/plain": [
       "[{'input': [7.1, 7.6], 'result': 399},\n",
       " {'input': [5.0, 4.8], 'result': 299},\n",
       " {'input': [6.0, 8.0], 'result': 349},\n",
       " {'input': [6.0, 24.0], 'result': 399},\n",
       " {'input': [6.5, 12.0], 'result': 359},\n",
       " {'input': [6.5, 26.0], 'result': 419},\n",
       " {'input': [8.5, 10.0], 'result': 429},\n",
       " {'input': [8.5, 16.0], 'result': 429},\n",
       " {'input': [10.0, 6.0], 'result': 449}]"
      ]
     },
     "execution_count": 177,
     "metadata": {},
     "output_type": "execute_result"
    }
   ],
   "source": [
    "scc=numpredict.rescale(cameras,(1,2))\n",
    "scc"
   ]
  },
  {
   "cell_type": "code",
   "execution_count": 187,
   "metadata": {
    "collapsed": false
   },
   "outputs": [
    {
     "ename": "IndexError",
     "evalue": "list index out of range",
     "output_type": "error",
     "traceback": [
      "\u001b[1;31m---------------------------------------------------------------------------\u001b[0m",
      "\u001b[1;31mIndexError\u001b[0m                                Traceback (most recent call last)",
      "\u001b[1;32m<ipython-input-187-8592920f0bcc>\u001b[0m in \u001b[0;36m<module>\u001b[1;34m()\u001b[0m\n\u001b[0;32m      1\u001b[0m \u001b[0mreload\u001b[0m\u001b[1;33m(\u001b[0m\u001b[0mnumpredict\u001b[0m\u001b[1;33m)\u001b[0m\u001b[1;33m\u001b[0m\u001b[0m\n\u001b[1;32m----> 2\u001b[1;33m \u001b[0mnumpredict\u001b[0m\u001b[1;33m.\u001b[0m\u001b[0mcrossvalidate\u001b[0m\u001b[1;33m(\u001b[0m\u001b[0mnumpredict\u001b[0m\u001b[1;33m.\u001b[0m\u001b[0mknnestimate\u001b[0m\u001b[1;33m,\u001b[0m\u001b[0mcameras\u001b[0m\u001b[1;33m)\u001b[0m\u001b[1;33m\u001b[0m\u001b[0m\n\u001b[0m",
      "\u001b[1;32m/home/big/collective-intelligence/all/numpredict.pyc\u001b[0m in \u001b[0;36mcrossvalidate\u001b[1;34m(algf, data, trials, test)\u001b[0m\n\u001b[0;32m    122\u001b[0m   \u001b[1;32mfor\u001b[0m \u001b[0mi\u001b[0m \u001b[1;32min\u001b[0m \u001b[0mrange\u001b[0m\u001b[1;33m(\u001b[0m\u001b[0mtrials\u001b[0m\u001b[1;33m)\u001b[0m\u001b[1;33m:\u001b[0m\u001b[1;33m\u001b[0m\u001b[0m\n\u001b[0;32m    123\u001b[0m     \u001b[0mtrainset\u001b[0m\u001b[1;33m,\u001b[0m\u001b[0mtestset\u001b[0m\u001b[1;33m=\u001b[0m\u001b[0mdividedata\u001b[0m\u001b[1;33m(\u001b[0m\u001b[0mdata\u001b[0m\u001b[1;33m,\u001b[0m\u001b[0mtest\u001b[0m\u001b[1;33m)\u001b[0m\u001b[1;33m\u001b[0m\u001b[0m\n\u001b[1;32m--> 124\u001b[1;33m     \u001b[0merror\u001b[0m\u001b[1;33m+=\u001b[0m\u001b[0mtestalgorithm\u001b[0m\u001b[1;33m(\u001b[0m\u001b[0malgf\u001b[0m\u001b[1;33m,\u001b[0m\u001b[0mtrainset\u001b[0m\u001b[1;33m,\u001b[0m\u001b[0mtestset\u001b[0m\u001b[1;33m)\u001b[0m\u001b[1;33m\u001b[0m\u001b[0m\n\u001b[0m\u001b[0;32m    125\u001b[0m   \u001b[1;32mreturn\u001b[0m \u001b[0merror\u001b[0m\u001b[1;33m/\u001b[0m\u001b[0mtrials\u001b[0m\u001b[1;33m\u001b[0m\u001b[0m\n\u001b[0;32m    126\u001b[0m \u001b[1;33m\u001b[0m\u001b[0m\n",
      "\u001b[1;32m/home/big/collective-intelligence/all/numpredict.pyc\u001b[0m in \u001b[0;36mtestalgorithm\u001b[1;34m(algf, trainset, testset)\u001b[0m\n\u001b[0;32m    111\u001b[0m   \u001b[0merror\u001b[0m\u001b[1;33m=\u001b[0m\u001b[1;36m0.0\u001b[0m\u001b[1;33m\u001b[0m\u001b[0m\n\u001b[0;32m    112\u001b[0m   \u001b[1;32mfor\u001b[0m \u001b[0mrow\u001b[0m \u001b[1;32min\u001b[0m \u001b[0mtestset\u001b[0m\u001b[1;33m:\u001b[0m\u001b[1;33m\u001b[0m\u001b[0m\n\u001b[1;32m--> 113\u001b[1;33m     \u001b[0mguess\u001b[0m\u001b[1;33m=\u001b[0m\u001b[0malgf\u001b[0m\u001b[1;33m(\u001b[0m\u001b[0mtrainset\u001b[0m\u001b[1;33m,\u001b[0m\u001b[0mrow\u001b[0m\u001b[1;33m[\u001b[0m\u001b[1;34m'input'\u001b[0m\u001b[1;33m]\u001b[0m\u001b[1;33m)\u001b[0m\u001b[1;33m\u001b[0m\u001b[0m\n\u001b[0m\u001b[0;32m    114\u001b[0m     \u001b[0merror\u001b[0m\u001b[1;33m+=\u001b[0m\u001b[1;33m(\u001b[0m\u001b[0mrow\u001b[0m\u001b[1;33m[\u001b[0m\u001b[1;34m'result'\u001b[0m\u001b[1;33m]\u001b[0m\u001b[1;33m-\u001b[0m\u001b[0mguess\u001b[0m\u001b[1;33m)\u001b[0m\u001b[1;33m**\u001b[0m\u001b[1;36m2\u001b[0m\u001b[1;33m\u001b[0m\u001b[0m\n\u001b[0;32m    115\u001b[0m     \u001b[1;31m#print row['result'],guess\u001b[0m\u001b[1;33m\u001b[0m\u001b[1;33m\u001b[0m\u001b[0m\n",
      "\u001b[1;32m/home/big/collective-intelligence/all/numpredict.pyc\u001b[0m in \u001b[0;36mknnestimate\u001b[1;34m(data, vec1, k)\u001b[0m\n\u001b[0;32m     64\u001b[0m   \u001b[1;31m# Take the average of the top k results\u001b[0m\u001b[1;33m\u001b[0m\u001b[1;33m\u001b[0m\u001b[0m\n\u001b[0;32m     65\u001b[0m   \u001b[1;32mfor\u001b[0m \u001b[0mi\u001b[0m \u001b[1;32min\u001b[0m \u001b[0mrange\u001b[0m\u001b[1;33m(\u001b[0m\u001b[0mk\u001b[0m\u001b[1;33m)\u001b[0m\u001b[1;33m:\u001b[0m\u001b[1;33m\u001b[0m\u001b[0m\n\u001b[1;32m---> 66\u001b[1;33m     \u001b[0midx\u001b[0m\u001b[1;33m=\u001b[0m\u001b[0mdlist\u001b[0m\u001b[1;33m[\u001b[0m\u001b[0mi\u001b[0m\u001b[1;33m]\u001b[0m\u001b[1;33m[\u001b[0m\u001b[1;36m1\u001b[0m\u001b[1;33m]\u001b[0m\u001b[1;33m\u001b[0m\u001b[0m\n\u001b[0m\u001b[0;32m     67\u001b[0m     \u001b[0mavg\u001b[0m\u001b[1;33m+=\u001b[0m\u001b[0mdata\u001b[0m\u001b[1;33m[\u001b[0m\u001b[0midx\u001b[0m\u001b[1;33m]\u001b[0m\u001b[1;33m[\u001b[0m\u001b[1;34m'result'\u001b[0m\u001b[1;33m]\u001b[0m\u001b[1;33m\u001b[0m\u001b[0m\n\u001b[0;32m     68\u001b[0m   \u001b[0mavg\u001b[0m\u001b[1;33m=\u001b[0m\u001b[0mavg\u001b[0m\u001b[1;33m/\u001b[0m\u001b[0mk\u001b[0m\u001b[1;33m\u001b[0m\u001b[0m\n",
      "\u001b[1;31mIndexError\u001b[0m: list index out of range"
     ]
    }
   ],
   "source": [
    "reload(numpredict)\n",
    "numpredict.crossvalidate(numpredict.knnestimate,cameras)"
   ]
  },
  {
   "cell_type": "code",
   "execution_count": 179,
   "metadata": {
    "collapsed": true
   },
   "outputs": [],
   "source": [
    "def knn1(d,v): return numpredict.knnestimate(d,v,k=1)"
   ]
  },
  {
   "cell_type": "code",
   "execution_count": 197,
   "metadata": {
    "collapsed": false
   },
   "outputs": [
    {
     "data": {
      "text/plain": [
       "2295.333333333333"
      ]
     },
     "execution_count": 197,
     "metadata": {},
     "output_type": "execute_result"
    }
   ],
   "source": [
    "numpredict.crossvalidate(knn1,scc,    test=0.4,trials=5)"
   ]
  },
  {
   "cell_type": "code",
   "execution_count": 198,
   "metadata": {
    "collapsed": false
   },
   "outputs": [
    {
     "data": {
      "text/plain": [
       "1090.0"
      ]
     },
     "execution_count": 198,
     "metadata": {},
     "output_type": "execute_result"
    }
   ],
   "source": [
    "numpredict.crossvalidate(knn1,cameras,    test=0.4,trials=5)"
   ]
  },
  {
   "cell_type": "code",
   "execution_count": null,
   "metadata": {
    "collapsed": true
   },
   "outputs": [],
   "source": [
    "5.k-Means Clustering"
   ]
  },
  {
   "cell_type": "code",
   "execution_count": 200,
   "metadata": {
    "collapsed": false
   },
   "outputs": [],
   "source": [
    "data=[[1.0,8.0],[3.0,8.0],[2.0,7.0],[1.5,1.0],[4.0,2.0]]\n",
    "labels=['A','B','C','D','E']\n",
    "def euclidean(v1,v2): return sum([(v1[i]-v2[i])**2 for i in range(len(v1))])\n",
    "import clusters\n"
   ]
  },
  {
   "cell_type": "code",
   "execution_count": 206,
   "metadata": {
    "collapsed": false
   },
   "outputs": [
    {
     "name": "stdout",
     "output_type": "stream",
     "text": [
      "Iteration 0\n",
      "Iteration 1\n"
     ]
    }
   ],
   "source": [
    "kcl=clusters.kcluster(data,distance=euclidean,k=2)"
   ]
  },
  {
   "cell_type": "code",
   "execution_count": 207,
   "metadata": {
    "collapsed": false
   },
   "outputs": [
    {
     "data": {
      "text/plain": [
       "[[0, 1, 2], [3, 4]]"
      ]
     },
     "execution_count": 207,
     "metadata": {},
     "output_type": "execute_result"
    }
   ],
   "source": [
    "kcl"
   ]
  },
  {
   "cell_type": "code",
   "execution_count": 208,
   "metadata": {
    "collapsed": false
   },
   "outputs": [
    {
     "name": "stdout",
     "output_type": "stream",
     "text": [
      "['A', 'B', 'C']\n",
      "['D', 'E']\n"
     ]
    }
   ],
   "source": [
    "for c in kcl: print [labels[l] for l in c]"
   ]
  },
  {
   "cell_type": "code",
   "execution_count": null,
   "metadata": {
    "collapsed": true
   },
   "outputs": [],
   "source": [
    "hcl=clusters.hcluster(data,distance=euclidean)\n",
    "clusters.drawdendrogram(hcl,labels,jpeg='hcl.jpg')"
   ]
  },
  {
   "cell_type": "code",
   "execution_count": null,
   "metadata": {
    "collapsed": true
   },
   "outputs": [],
   "source": [
    "6.Multidimensional Scaling"
   ]
  },
  {
   "cell_type": "code",
   "execution_count": 209,
   "metadata": {
    "collapsed": true
   },
   "outputs": [],
   "source": [
    "labels=['A','B','C','D']\n",
    "scaleset=[[0.5,0.0,0.3,0.1],\n",
    "[0.4,0.15,0.2,0.1],\n",
    "[0.2,0.4,0.7,0.8],\n",
    "[1.0,0.3,0.6,0.0]]"
   ]
  },
  {
   "cell_type": "code",
   "execution_count": 258,
   "metadata": {
    "collapsed": false
   },
   "outputs": [
    {
     "name": "stdout",
     "output_type": "stream",
     "text": [
      "30.5631646163\n",
      "34.2521432386\n"
     ]
    },
    {
     "data": {
      "text/plain": [
       "[[0.24641255729566233, 0.27207250432653063],\n",
       " [0.018609575998595085, 0.9227782341338042],\n",
       " [0.09323615880816546, 0.15789358198193193],\n",
       " [0.32671325947919083, 0.7737884834182767]]"
      ]
     },
     "execution_count": 258,
     "metadata": {},
     "output_type": "execute_result"
    }
   ],
   "source": [
    "twod=clusters.scaledown(scaleset,distance=euclidean,rate=0.05)\n",
    "twod"
   ]
  },
  {
   "cell_type": "code",
   "execution_count": 259,
   "metadata": {
    "collapsed": false
   },
   "outputs": [
    {
     "name": "stdout",
     "output_type": "stream",
     "text": [
      "33.6314998107\n",
      "24.4006461652\n",
      "17.3679394286\n",
      "10.8818876047\n",
      "5.51521125877\n",
      "2.87111541573\n",
      "2.78344575108\n",
      "2.27898393944\n",
      "2.26648506884\n",
      "1.92788627099\n",
      "1.91011855404\n",
      "1.6806679202\n",
      "1.71152978497\n"
     ]
    },
    {
     "data": {
      "text/plain": [
       "[[0.6433057694013314, 0.5064614805322999],\n",
       " [0.6354078372422435, 0.4420759643442275],\n",
       " [0.18826067679735237, -0.17099547670574003],\n",
       " [0.7245827492754782, 0.9443313499137059]]"
      ]
     },
     "execution_count": 259,
     "metadata": {},
     "output_type": "execute_result"
    }
   ],
   "source": [
    "data=clusters.scaledown(scaleset,distance=euclidean,rate=0.04)\n",
    "data"
   ]
  },
  {
   "cell_type": "code",
   "execution_count": 253,
   "metadata": {
    "collapsed": false
   },
   "outputs": [
    {
     "name": "stdout",
     "output_type": "stream",
     "text": [
      "Iteration 0\n",
      "Iteration 1\n",
      "['B']\n",
      "['A', 'C', 'D']\n"
     ]
    }
   ],
   "source": [
    "kcl=clusters.kcluster(data,distance=euclidean,k=2)\n",
    "for c in kcl: print [labels[l] for l in c]"
   ]
  },
  {
   "cell_type": "code",
   "execution_count": 254,
   "metadata": {
    "collapsed": false
   },
   "outputs": [
    {
     "name": "stdout",
     "output_type": "stream",
     "text": [
      "20.2640807082\n",
      "10.1829700129\n",
      "6.91594873912\n",
      "6.00858438256\n",
      "5.35753246254\n",
      "4.79344558695\n",
      "4.2957816323\n",
      "3.85557703524\n",
      "3.46568989219\n",
      "3.11997083503\n",
      "2.81306594394\n",
      "2.54029910903\n",
      "2.29758123322\n",
      "2.08133455621\n",
      "1.89718216842\n",
      "1.79210658902\n",
      "1.69507329979\n",
      "1.60542877731\n",
      "1.5225813527\n",
      "1.44599338642\n",
      "1.37517481087\n",
      "1.30967773819\n",
      "1.24909191017\n",
      "1.19304082248\n",
      "1.14601329703\n",
      "1.12825291929\n",
      "1.11120832998\n",
      "1.09485365763\n",
      "1.07916230386\n",
      "1.06410731338\n",
      "1.04966168236\n",
      "1.03579861222\n",
      "1.02249171512\n",
      "1.00971517765\n",
      "0.997443888151\n",
      "0.985653533202\n",
      "0.979007620647\n",
      "0.977667004229\n",
      "0.975792379808\n",
      "0.973441862273\n",
      "0.970668171495\n",
      "0.967519153057\n",
      "0.964038242182\n",
      "0.960264877984\n",
      "0.956234874184\n",
      "0.951980751594\n",
      "0.947532036946\n",
      "0.942915532023\n",
      "0.938155556518\n",
      "0.933274167605\n",
      "0.92829135879\n",
      "0.923225240301\n",
      "0.918092202985\n",
      "0.912907067417\n",
      "0.907683219735\n",
      "0.902432735529\n",
      "0.897166492935\n",
      "0.891894275998\n",
      "0.886624869177\n",
      "0.881366143853\n",
      "0.876125137528\n",
      "0.870908126385\n",
      "0.865720691798\n",
      "0.860567781292\n",
      "0.855453764453\n",
      "0.850382484201\n",
      "0.845357303818\n",
      "0.840381150083\n",
      "0.835456552832\n",
      "0.830585681242\n",
      "0.825770377101\n",
      "0.821012185303\n",
      "0.816312381809\n",
      "0.811671999256\n",
      "0.807091850421\n",
      "0.802572549704\n",
      "0.798114532788\n",
      "0.793718074633\n",
      "0.789383305919\n",
      "0.785110228085\n",
      "0.780898727057\n",
      "0.776748585788\n",
      "0.772659495696\n",
      "0.768631067087\n",
      "0.764662838661\n",
      "0.76075428616\n",
      "0.75690483023\n",
      "0.753113843581\n",
      "0.74938065747\n",
      "0.745704567599\n",
      "0.742084839446\n",
      "0.738520713102\n",
      "0.735011407633\n",
      "0.731556125028\n",
      "0.72815405375\n",
      "0.724804371942\n",
      "0.7215062503\n",
      "0.718258854657\n",
      "0.715061348288\n",
      "0.71191289398\n",
      "0.708812655869\n",
      "0.705759801072\n",
      "0.702753501142\n",
      "0.69979293334\n",
      "0.696877281765\n",
      "0.694005738336\n",
      "0.691177503651\n",
      "0.688391787732\n",
      "0.685647810658\n",
      "0.682944803119\n",
      "0.680282006864\n",
      "0.677658675091\n",
      "0.67507407276\n",
      "0.672527476837\n",
      "0.670018176496\n",
      "0.667545473259\n",
      "0.665108681097\n",
      "0.662707126485\n",
      "0.660340148429\n",
      "0.658007098458\n",
      "0.655707340579\n",
      "0.653440251222\n",
      "0.651205219154\n",
      "0.64900164537\n",
      "0.646828942979\n",
      "0.644686537061\n",
      "0.642573864525\n",
      "0.640490373946\n",
      "0.638435525395\n",
      "0.636408790268\n",
      "0.634409651095\n",
      "0.632437601358\n",
      "0.630492145298\n",
      "0.628572797715\n",
      "0.626679083773\n",
      "0.624810538802\n",
      "0.622966708091\n",
      "0.621147146694\n",
      "0.619351419227\n",
      "0.617579099664\n",
      "0.615829771144\n",
      "0.614103025771\n",
      "0.612398464416\n",
      "0.610715696528\n",
      "0.609054339941\n",
      "0.607414020684\n",
      "0.605794372799\n",
      "0.604195038152\n",
      "0.60261566626\n",
      "0.601055914111\n",
      "0.599515445989\n",
      "0.597993933308\n",
      "0.596491054441\n",
      "0.59500649456\n",
      "0.593539945472\n",
      "0.592091105465\n",
      "0.590659679157\n",
      "0.589245377339\n",
      "0.587847916836\n",
      "0.586467020359\n",
      "0.585102416368\n",
      "0.583753838931\n",
      "0.582421027596\n",
      "0.58110372726\n",
      "0.579801688036\n",
      "0.578514665138\n",
      "0.577242418752\n",
      "0.575984713924\n",
      "0.574741320441\n",
      "0.573512012722\n",
      "0.572296569707\n",
      "0.571094774749\n",
      "0.569906415514\n",
      "0.568731283877\n",
      "0.567569175824\n",
      "0.566419891354\n",
      "0.565283234391\n",
      "0.564159012685\n",
      "0.563047037729\n",
      "0.561947124672\n",
      "0.560859092229\n",
      "0.559782762605\n",
      "0.558717961413\n",
      "0.557664517595\n",
      "0.556622263344\n",
      "0.55571843231\n",
      "0.555020129539\n",
      "0.554329230146\n",
      "0.553645625081\n",
      "0.552969207366\n",
      "0.55229987205\n",
      "0.551637516155\n",
      "0.550982038638\n",
      "0.550333340341\n",
      "0.549691323954\n",
      "0.549055893969\n",
      "0.548426956638\n",
      "0.547804419939\n",
      "0.547188193533\n",
      "0.546578188727\n",
      "0.545974318441\n",
      "0.545376497167\n",
      "0.544784640937\n",
      "0.54419866729\n",
      "0.543618495239\n",
      "0.543044045235\n",
      "0.542475239144\n",
      "0.541912000206\n",
      "0.541354253015\n",
      "0.540801923483\n",
      "0.540254938817\n",
      "0.539713227487\n",
      "0.539176719202\n",
      "0.538645344885\n",
      "0.538119036644\n",
      "0.537597727748\n",
      "0.537081352604\n",
      "0.536569846735\n",
      "0.536063146753\n",
      "0.535561190337\n",
      "0.535063916216\n",
      "0.53457126414\n",
      "0.534083174865\n",
      "0.53359959013\n",
      "0.533120452638\n",
      "0.532645706036\n",
      "0.532175294894\n",
      "0.531709164693\n",
      "0.531247261798\n",
      "0.530789533446\n",
      "0.530335927729\n",
      "0.529886393573\n",
      "0.529440880727\n",
      "0.528999339741\n",
      "0.528561721955\n",
      "0.528127979482\n",
      "0.527698065192\n",
      "0.527271932698\n",
      "0.526849536342\n",
      "0.526430831183\n",
      "0.526015772976\n",
      "0.52560431817\n",
      "0.525196423883\n",
      "0.524792047899\n",
      "0.524391148649\n",
      "0.523993685201\n",
      "0.52359961725\n",
      "0.523208905103\n",
      "0.522821509669\n",
      "0.522437392448\n",
      "0.522056515519\n",
      "0.521678841533\n",
      "0.521304333696\n",
      "0.520932955765\n",
      "0.520564672034\n",
      "0.520199447327\n",
      "0.519837246985\n",
      "0.51947803686\n",
      "0.519121783304\n",
      "0.518768453162\n",
      "0.518418013758\n",
      "0.518070432893\n",
      "0.517725678833\n",
      "0.517383720301\n",
      "0.517044526469\n",
      "0.51670806695\n",
      "0.516374311791\n",
      "0.516043231465\n",
      "0.515714796863\n",
      "0.515388979288\n",
      "0.515065750447\n",
      "0.514745082442\n",
      "0.514426947769\n",
      "0.514111319304\n",
      "0.513798170302\n",
      "0.513487474387\n",
      "0.513179205549\n",
      "0.512873338135\n",
      "0.512569846843\n",
      "0.51226870672\n",
      "0.511969893149\n",
      "0.511673381851\n",
      "0.511379148875\n",
      "0.511087170593\n",
      "0.510797423694\n",
      "0.510509885182\n",
      "0.510224532367\n",
      "0.509941342863\n",
      "0.509660294579\n",
      "0.509381365721\n",
      "0.509104534778\n",
      "0.508829780526\n",
      "0.508557082018\n",
      "0.508286418582\n",
      "0.508017769815\n",
      "0.50775111558\n",
      "0.507486436\n",
      "0.507223711456\n",
      "0.506962922583\n",
      "0.506704050263\n",
      "0.506447075623\n",
      "0.506191980033\n",
      "0.505938745099\n",
      "0.505687352659\n",
      "0.505437784784\n",
      "0.50519002377\n",
      "0.504944052134\n",
      "0.504699852616\n",
      "0.504457408168\n",
      "0.504216701959\n",
      "0.503977717363\n",
      "0.503740437963\n",
      "0.503504847543\n",
      "0.50327093009\n",
      "0.503038669784\n",
      "0.502808051002\n",
      "0.50257905831\n",
      "0.502351676463\n",
      "0.502125890402\n",
      "0.501901685248\n",
      "0.501679046303\n",
      "0.501457959048\n",
      "0.501238409136\n",
      "0.501020382393\n",
      "0.500803864812\n",
      "0.500588842557\n",
      "0.500375301953\n",
      "0.500163229489\n",
      "0.499952611811\n",
      "0.499743435725\n",
      "0.49953568819\n",
      "0.49932935632\n",
      "0.499124427376\n",
      "0.498920888772\n",
      "0.498718728064\n",
      "0.498517932953\n",
      "0.498318491285\n",
      "0.498120391043\n",
      "0.497923620348\n",
      "0.497728167458\n",
      "0.497534020767\n",
      "0.497341168797\n",
      "0.497149600204\n",
      "0.496959303772\n",
      "0.49677026841\n",
      "0.496582483154\n",
      "0.496395937161\n",
      "0.496210619713\n",
      "0.496026520208\n",
      "0.495843628164\n",
      "0.495661933217\n",
      "0.495481425116\n",
      "0.495302093724\n",
      "0.495123929015\n",
      "0.494946921075\n",
      "0.494771060097\n",
      "0.494596336384\n",
      "0.494422740342\n",
      "0.494250262483\n",
      "0.494078893422\n",
      "0.493908623875\n",
      "0.493739444659\n",
      "0.493571346689\n",
      "0.49340432098\n",
      "0.49323835864\n",
      "0.493073450874\n",
      "0.492909588982\n",
      "0.492746764354\n",
      "0.492584968473\n",
      "0.492424192912\n",
      "0.492264429332\n",
      "0.492105669484\n",
      "0.491947905202\n",
      "0.49179112841\n",
      "0.491635331113\n",
      "0.4914805054\n",
      "0.491326643445\n",
      "0.4911737375\n",
      "0.491021779898\n",
      "0.490870763051\n",
      "0.490720679451\n",
      "0.490571521664\n",
      "0.490423282336\n",
      "0.490275954184\n",
      "0.490129530002\n",
      "0.489984002658\n",
      "0.489839365089\n",
      "0.489695610306\n",
      "0.489552731391\n",
      "0.489410721495\n",
      "0.489269573836\n",
      "0.489129281702\n",
      "0.488989838449\n",
      "0.488851237497\n",
      "0.488713472333\n",
      "0.488576536508\n",
      "0.488440423636\n",
      "0.488305127397\n",
      "0.488170641531\n",
      "0.488036959839\n",
      "0.487904076184\n",
      "0.487771984491\n",
      "0.48764067874\n",
      "0.487510152972\n",
      "0.487380401288\n",
      "0.487251417842\n",
      "0.487123196847\n",
      "0.486995732573\n",
      "0.486869019341\n",
      "0.486743051531\n",
      "0.486617823576\n",
      "0.486493329959\n",
      "0.486369565219\n",
      "0.486246523947\n",
      "0.486124200782\n",
      "0.486002590419\n",
      "0.485881687598\n",
      "0.485761487112\n",
      "0.485641983802\n",
      "0.485523172556\n",
      "0.485405048313\n",
      "0.485287606057\n",
      "0.485170840819\n",
      "0.485054747677\n",
      "0.484939321755\n",
      "0.484824558219\n",
      "0.484710452285\n",
      "0.484596999208\n",
      "0.484484194291\n",
      "0.484372032876\n",
      "0.484260510352\n",
      "0.484149622146\n",
      "0.484039363729\n",
      "0.483929730614\n",
      "0.483820718352\n",
      "0.483712322537\n",
      "0.483604538801\n",
      "0.483497362817\n",
      "0.483390790295\n",
      "0.483284816986\n",
      "0.483179438677\n",
      "0.483074651193\n",
      "0.482970450397\n",
      "0.482866832189\n",
      "0.482763792505\n",
      "0.482661327316\n",
      "0.48255943263\n",
      "0.48245810449\n",
      "0.482357338975\n",
      "0.482257132195\n",
      "0.482157480298\n",
      "0.482058379464\n",
      "0.481959825906\n",
      "0.48186181587\n",
      "0.481764345636\n",
      "0.481667411515\n",
      "0.481571009851\n",
      "0.481475137019\n",
      "0.481379789424\n",
      "0.481284963505\n",
      "0.481190655729\n",
      "0.481096862594\n",
      "0.481003580628\n",
      "0.480910806389\n",
      "0.480818536465\n",
      "0.480726767471\n",
      "0.480635496052\n",
      "0.480544718881\n",
      "0.48045443266\n",
      "0.480364634118\n",
      "0.480275320012\n",
      "0.480186487125\n",
      "0.48009813227\n",
      "0.480010252282\n",
      "0.479922844026\n",
      "0.479835904393\n",
      "0.479749430299\n",
      "0.479663418684\n",
      "0.479577866517\n",
      "0.479492770789\n",
      "0.479408128516\n",
      "0.479323936742\n",
      "0.47924019253\n",
      "0.479156892971\n",
      "0.479074035178\n",
      "0.47899161629\n",
      "0.478909633465\n",
      "0.478828083889\n",
      "0.478746964767\n",
      "0.478666273329\n",
      "0.478586006826\n",
      "0.478506162532\n",
      "0.478426737743\n",
      "0.478347729776\n",
      "0.478269135971\n",
      "0.478190953687\n",
      "0.478113180307\n",
      "0.478035813232\n",
      "0.477958849886\n",
      "0.477882287712\n",
      "0.477806124174\n",
      "0.477730356756\n",
      "0.477654982962\n",
      "0.477580000315\n",
      "0.477505406359\n",
      "0.477431198656\n",
      "0.477357374786\n",
      "0.477283932352\n",
      "0.477210868972\n",
      "0.477138182283\n",
      "0.477065869942\n",
      "0.476993929623\n",
      "0.476922359019\n",
      "0.47685115584\n",
      "0.476780317813\n",
      "0.476709842686\n",
      "0.476639728219\n",
      "0.476569972194\n",
      "0.476500572408\n",
      "0.476431526674\n",
      "0.476362832824\n",
      "0.476294488705\n",
      "0.476226492179\n",
      "0.476158841128\n",
      "0.476091533448\n",
      "0.476024567049\n",
      "0.475957939861\n",
      "0.475891649826\n",
      "0.475825694904\n",
      "0.475760073068\n",
      "0.475694782308\n",
      "0.475629820629\n",
      "0.47556518605\n",
      "0.475500876605\n",
      "0.475436890344\n",
      "0.475373225329\n",
      "0.475309879639\n",
      "0.475246851366\n",
      "0.475184138615\n",
      "0.475121739508\n",
      "0.475059652178\n",
      "0.474997874774\n",
      "0.474936405455\n",
      "0.474875242399\n",
      "0.474814383792\n",
      "0.474753827836\n",
      "0.474693572747\n",
      "0.474633616751\n",
      "0.47457395809\n",
      "0.474514595017\n",
      "0.474455525797\n",
      "0.474396748711\n",
      "0.474338262047\n",
      "0.474280064111\n",
      "0.474222153217\n",
      "0.474164527693\n",
      "0.47410718588\n",
      "0.474050126128\n",
      "0.473993346801\n",
      "0.473936846274\n",
      "0.473880622934\n",
      "0.473824675179\n",
      "0.473769001419\n",
      "0.473713600074\n",
      "0.473658469576\n",
      "0.473603608369\n",
      "0.473549014906\n",
      "0.473494687653\n",
      "0.473440625086\n",
      "0.47338682569\n",
      "0.473333287964\n",
      "0.473280010414\n",
      "0.473226991558\n",
      "0.473174229926\n",
      "0.473121724056\n",
      "0.473069472496\n",
      "0.473017473806\n",
      "0.472965726555\n",
      "0.472914229321\n",
      "0.472862980692\n",
      "0.472811979268\n",
      "0.472761223657\n",
      "0.472710712475\n",
      "0.47266044435\n",
      "0.472610417919\n",
      "0.472560631827\n",
      "0.472511084729\n",
      "0.472461775291\n",
      "0.472412702184\n",
      "0.472363864092\n",
      "0.472315259706\n",
      "0.472266887726\n",
      "0.472218746861\n",
      "0.472170835829\n",
      "0.472123153357\n",
      "0.472075698178\n",
      "0.472028469038\n",
      "0.471981464687\n",
      "0.471934683886\n",
      "0.471888125404\n",
      "0.471841788017\n",
      "0.471795670511\n",
      "0.471749771678\n",
      "0.471704090321\n",
      "0.471658625247\n",
      "0.471613375274\n",
      "0.471568339227\n",
      "0.471523515938\n",
      "0.471478904249\n",
      "0.471434503006\n",
      "0.471390311065\n",
      "0.47134632729\n",
      "0.471302550551\n",
      "0.471258979726\n",
      "0.471215613701\n",
      "0.471172451368\n",
      "0.471129491626\n",
      "0.471086733383\n",
      "0.471044175554\n",
      "0.471001817058\n",
      "0.470959656825\n",
      "0.47091769379\n",
      "0.470875926894\n",
      "0.470834355087\n",
      "0.470792977323\n",
      "0.470751792567\n",
      "0.470710799785\n",
      "0.470669997955\n",
      "0.470629386058\n",
      "0.470588963084\n",
      "0.470548728027\n",
      "0.470508679889\n",
      "0.470468817677\n",
      "0.470429140408\n",
      "0.4703896471\n",
      "0.470350336781\n",
      "0.470311208484\n",
      "0.470272261248\n",
      "0.470233494118\n",
      "0.470194906145\n",
      "0.470156496387\n",
      "0.470118263907\n",
      "0.470080207773\n",
      "0.470042327061\n",
      "0.47000462085\n",
      "0.469967088229\n",
      "0.469929728289\n",
      "0.469892540127\n",
      "0.469855522847\n",
      "0.469818675558\n",
      "0.469781997375\n",
      "0.469745487418\n",
      "0.469709144812\n",
      "0.469672968688\n",
      "0.469636958183\n",
      "0.469601112438\n",
      "0.469565430599\n",
      "0.469529911821\n",
      "0.469494555259\n",
      "0.469459360076\n",
      "0.46942432544\n",
      "0.469389450525\n",
      "0.469354734507\n",
      "0.469320176569\n",
      "0.4692857759\n",
      "0.469251531693\n",
      "0.469217443145\n",
      "0.469183509459\n",
      "0.469149729841\n",
      "0.469116103506\n",
      "0.469082629669\n",
      "0.469049307553\n",
      "0.469016136383\n",
      "0.468983115392\n",
      "0.468950243814\n",
      "0.468917520891\n",
      "0.468884945866\n",
      "0.468852517991\n",
      "0.468820236518\n",
      "0.468788100706\n",
      "0.468756109818\n",
      "0.468724263121\n",
      "0.468692559886\n",
      "0.468660999391\n",
      "0.468629580915\n",
      "0.468598303742\n",
      "0.468567167162\n",
      "0.468536170467\n",
      "0.468505312954\n",
      "0.468474593926\n",
      "0.468444012687\n",
      "0.468413568547\n",
      "0.468383260819\n",
      "0.468353088822\n",
      "0.468323051877\n",
      "0.468293149309\n",
      "0.468263380448\n",
      "0.468233744628\n",
      "0.468204241186\n",
      "0.468174869464\n",
      "0.468145628806\n",
      "0.468116518561\n",
      "0.468087538083\n",
      "0.468058686727\n",
      "0.468029963854\n",
      "0.468001368828\n",
      "0.467972901016\n",
      "0.46794455979\n",
      "0.467916344524\n",
      "0.467888254597\n",
      "0.467860289391\n",
      "0.467832448292\n",
      "0.467804730689\n",
      "0.467777135974\n",
      "0.467749663544\n",
      "0.467722312798\n",
      "0.467695083139\n",
      "0.467667973975\n",
      "0.467640984713\n",
      "0.467614114768\n",
      "0.467587363557\n",
      "0.467560730499\n",
      "0.467534215017\n",
      "0.467507816538\n",
      "0.467481534491\n",
      "0.467455368309\n",
      "0.467429317429\n",
      "0.467403381289\n",
      "0.467377559332\n",
      "0.467351851004\n",
      "0.467326255754\n",
      "0.467300773032\n",
      "0.467275402295\n",
      "0.467250142999\n",
      "0.467224994607\n",
      "0.467199956582\n",
      "0.46717502839\n",
      "0.467150209503\n",
      "0.467125499392\n",
      "0.467100897535\n",
      "0.467076403408\n",
      "0.467052016495\n",
      "0.46702773628\n",
      "0.46700356225\n",
      "0.466979493895\n",
      "0.466955530709\n",
      "0.466931672187\n",
      "0.466907917828\n",
      "0.466884267133\n",
      "0.466860719608\n",
      "0.466837274757\n",
      "0.466813932092\n",
      "0.466790691124\n",
      "0.466767551369\n",
      "0.466744512344\n",
      "0.466721573569\n",
      "0.466698734567\n",
      "0.466675994864\n",
      "0.466653353988\n",
      "0.466630811469\n",
      "0.466608366841\n",
      "0.46658601964\n",
      "0.466563769404\n",
      "0.466541615673\n",
      "0.466519557991\n",
      "0.466497595904\n",
      "0.46647572896\n",
      "0.466453956709\n",
      "0.466432278705\n",
      "0.466410694503\n",
      "0.466389203661\n",
      "0.46636780574\n",
      "0.466346500302\n",
      "0.466325286911\n",
      "0.466304165136\n",
      "0.466283134546\n",
      "0.466262194713\n",
      "0.466241345211\n",
      "0.466220585617\n",
      "0.46619991551\n",
      "0.466179334469\n",
      "0.46615884208\n",
      "0.466138437927\n",
      "0.466118121598\n",
      "0.466097892683\n",
      "0.466077750774\n",
      "0.466057695465\n",
      "0.466037726353\n",
      "0.466017843036\n",
      "0.465998045114\n",
      "0.465978332191\n",
      "0.465958703871\n",
      "0.465939159762\n",
      "0.465919699472\n",
      "0.465900322612\n",
      "0.465881028795\n",
      "0.465861817637\n",
      "0.465842688755\n",
      "0.465823641767\n",
      "0.465804676296\n",
      "0.465785791963\n",
      "0.465766988395\n",
      "0.465748265218\n",
      "0.465729622062\n",
      "0.465711058557\n",
      "0.465692574336\n",
      "0.465674169034\n",
      "0.465655842288\n",
      "0.465637593736\n",
      "0.465619423019\n",
      "0.465601329778\n",
      "0.465583313659\n",
      "0.465565374307\n",
      "0.46554751137\n",
      "0.465529724497\n",
      "0.465512013341\n",
      "0.465494377554\n",
      "0.465476816792\n",
      "0.46545933071\n",
      "0.465441918969\n",
      "0.465424581228\n",
      "0.465407317149\n",
      "0.465390126396\n",
      "0.465373008634\n",
      "0.465355963532\n",
      "0.465338990757\n",
      "0.465322089981\n",
      "0.465305260876\n",
      "0.465288503116\n",
      "0.465271816376\n",
      "0.465255200333\n",
      "0.465238654668\n",
      "0.46522217906\n",
      "0.465205773192\n",
      "0.465189436747\n",
      "0.465173169411\n",
      "0.46515697087\n",
      "0.465140840814\n",
      "0.465124778933\n",
      "0.465108784919\n",
      "0.465092858464\n",
      "0.465076999263\n",
      "0.465061207014\n",
      "0.465045481413\n",
      "0.465029822161\n",
      "0.465014228958\n",
      "0.464998701507\n",
      "0.464983239511\n",
      "0.464967842677\n",
      "0.464963788685\n",
      "0.464969536356\n"
     ]
    },
    {
     "data": {
      "text/plain": [
       "[[0.7646032204025787, 0.46768135069746725],\n",
       " [0.7636615489479758, 0.5134130274977055],\n",
       " [1.2074188304372389, 1.2401183188438476],\n",
       " [0.8150300818491877, 0.0007401046951346049]]"
      ]
     },
     "execution_count": 254,
     "metadata": {},
     "output_type": "execute_result"
    }
   ],
   "source": [
    "data=clusters.scaledown(scaleset,distance=euclidean,rate=0.02)\n",
    "data"
   ]
  },
  {
   "cell_type": "code",
   "execution_count": 255,
   "metadata": {
    "collapsed": false
   },
   "outputs": [
    {
     "name": "stdout",
     "output_type": "stream",
     "text": [
      "Iteration 0\n",
      "Iteration 1\n",
      "['A', 'B', 'D']\n",
      "['C']\n"
     ]
    }
   ],
   "source": [
    "kcl=clusters.kcluster(data,distance=euclidean,k=2)\n",
    "for c in kcl: print [labels[l] for l in c]"
   ]
  },
  {
   "cell_type": "code",
   "execution_count": 256,
   "metadata": {
    "collapsed": false
   },
   "outputs": [
    {
     "name": "stdout",
     "output_type": "stream",
     "text": [
      "18.5016084154\n",
      "12.636958367\n",
      "9.59859172052\n",
      "7.88988794131\n",
      "6.62595400236\n",
      "5.6148840207\n",
      "4.85945269786\n",
      "4.30306572649\n",
      "3.88475076637\n",
      "3.55856817623\n",
      "3.29362739997\n",
      "3.07015484765\n",
      "2.87575767128\n",
      "2.7026958274\n",
      "2.54608213936\n",
      "2.4027547136\n",
      "2.27059134929\n",
      "2.14809997652\n",
      "2.03417630208\n",
      "1.92796083117\n",
      "1.82875425648\n",
      "1.73596690335\n",
      "1.64908800078\n",
      "1.56766651622\n",
      "1.49129877853\n",
      "1.41962013254\n",
      "1.35229903215\n",
      "1.28903264664\n",
      "1.22954343882\n",
      "1.17357639369\n",
      "1.12089670373\n",
      "1.07128779068\n",
      "1.02454958674\n",
      "0.980497023813\n",
      "0.938958694882\n",
      "0.899775661071\n",
      "0.862800384177\n",
      "0.827895768409\n",
      "0.794934297992\n",
      "0.763797259335\n",
      "0.73437403809\n",
      "0.706561482702\n",
      "0.680263327117\n",
      "0.655389666235\n",
      "0.631856478437\n",
      "0.621204304873\n",
      "0.613866102528\n",
      "0.606748310932\n",
      "0.599847411513\n",
      "0.593159663239\n",
      "0.586681132369\n",
      "0.580407720716\n",
      "0.574335192261\n",
      "0.568459198019\n",
      "0.562775299112\n",
      "0.557278988053\n",
      "0.551965708263\n",
      "0.54683087189\n",
      "0.541869875978\n",
      "0.537078117086\n",
      "0.53245100443\n",
      "0.527983971652\n",
      "0.523672487293\n",
      "0.52038405273\n",
      "0.519561926203\n",
      "0.518731118053\n",
      "0.517894749498\n",
      "0.51705562097\n",
      "0.516216238827\n",
      "0.515378840022\n",
      "0.51454541486\n",
      "0.513717728006\n",
      "0.512897337855\n",
      "0.512085614398\n",
      "0.511283755682\n",
      "0.510492802984\n",
      "0.509713654781\n",
      "0.508947079619\n",
      "0.508193727956\n",
      "0.507454143056\n",
      "0.506728771013\n",
      "0.506017969963\n",
      "0.50532201855\n",
      "0.504641123701\n",
      "0.503975427769\n",
      "0.503325015081\n",
      "0.502689917946\n",
      "0.502070122161\n",
      "0.501465572053\n",
      "0.500876175099\n",
      "0.500301806147\n",
      "0.499742311274\n",
      "0.499197511314\n",
      "0.498667205072\n",
      "0.498151172258\n",
      "0.497649176156\n",
      "0.497160966054\n",
      "0.496686279449\n",
      "0.496224844055\n",
      "0.495776379612\n",
      "0.495340599534\n",
      "0.494917212388\n",
      "0.494505923235\n",
      "0.494106434832\n",
      "0.493718448715\n",
      "0.493341666166\n",
      "0.492975789079\n",
      "0.49262052073\n",
      "0.492275566462\n",
      "0.491940634287\n",
      "0.491615435423\n",
      "0.491299684757\n",
      "0.490993101252\n",
      "0.490695408297\n",
      "0.490406334009\n",
      "0.490125611489\n",
      "0.489852979036\n",
      "0.48958818032\n",
      "0.489330964531\n",
      "0.489081086484\n",
      "0.48883830671\n",
      "0.488602391507\n",
      "0.488373112985\n",
      "0.488150249076\n",
      "0.487933583536\n",
      "0.487722905926\n",
      "0.487518011577\n",
      "0.487318701552\n",
      "0.487124782581\n",
      "0.486936067004\n",
      "0.48675237269\n",
      "0.486573522957\n",
      "0.486399346484\n",
      "0.486229677215\n",
      "0.486064354262\n",
      "0.485903221803\n",
      "0.485746128975\n",
      "0.485592929763\n",
      "0.485443482896\n",
      "0.485297651728\n",
      "0.485155304132\n",
      "0.48501631238\n",
      "0.484880553034\n",
      "0.484747906834\n",
      "0.484618258579\n",
      "0.484491497018\n",
      "0.484367514743\n",
      "0.48424620807\n",
      "0.484127476939\n",
      "0.4840112248\n",
      "0.483897358513\n",
      "0.483785788238\n",
      "0.483676427341\n",
      "0.483569192287\n",
      "0.483464002543\n",
      "0.483360780487\n",
      "0.48325945131\n",
      "0.483159942924\n",
      "0.483062185875\n",
      "0.482966113254\n",
      "0.482871660615\n",
      "0.482778765887\n",
      "0.482687369298\n",
      "0.482597413295\n",
      "0.482508842466\n",
      "0.482421603472\n",
      "0.482335644966\n",
      "0.48225091753\n",
      "0.4821740587\n",
      "0.482170761494\n",
      "0.48216692263\n",
      "0.482162566444\n",
      "0.482157716192\n",
      "0.482152394099\n",
      "0.482146621404\n",
      "0.482140418401\n",
      "0.482133804485\n",
      "0.482126798189\n",
      "0.482119417223\n",
      "0.48211167851\n",
      "0.482103598223\n",
      "0.482095191813\n",
      "0.482086474046\n",
      "0.482077459032\n",
      "0.482068160253\n",
      "0.48205859059\n",
      "0.482048762352\n",
      "0.482038687299\n",
      "0.482028376668\n",
      "0.482017841195\n",
      "0.482007091137\n",
      "0.481996136294\n",
      "0.48198498603\n",
      "0.481973649287\n",
      "0.481962134613\n",
      "0.481950450171\n",
      "0.481938603759\n",
      "0.481926602827\n",
      "0.481914454492\n",
      "0.481902165552\n",
      "0.481889742499\n",
      "0.481877191538\n",
      "0.48186451859\n",
      "0.481851729316\n",
      "0.481838829119\n",
      "0.481825823161\n",
      "0.481812716372\n",
      "0.481799513458\n",
      "0.481786218917\n",
      "0.481772837041\n",
      "0.481759371931\n",
      "0.481745827501\n",
      "0.48173220749\n",
      "0.481718515467\n",
      "0.481704754841\n",
      "0.481690928865\n",
      "0.481677040647\n",
      "0.481663093153\n",
      "0.481649089214\n",
      "0.481635031535\n",
      "0.481620922695\n",
      "0.481606765158\n",
      "0.481592561277\n",
      "0.481578313295\n",
      "0.481564023356\n",
      "0.481549693504\n",
      "0.481535325691\n",
      "0.481520921781\n",
      "0.481506483551\n",
      "0.481492012698\n",
      "0.481477510841\n",
      "0.481462979527\n",
      "0.481448420228\n",
      "0.481433834353\n",
      "0.481419223244\n",
      "0.481404588183\n",
      "0.481389930391\n",
      "0.481375251036\n",
      "0.48136055123\n",
      "0.481345832036\n",
      "0.481331094465\n",
      "0.481316339486\n",
      "0.481301568019\n",
      "0.481286780945\n",
      "0.481271979104\n",
      "0.481257163294\n",
      "0.481242334282\n",
      "0.481227492795\n",
      "0.481212639528\n",
      "0.481197775145\n",
      "0.481182900279\n",
      "0.481168015532\n",
      "0.481153121481\n",
      "0.481138218676\n",
      "0.481123307639\n",
      "0.481108388872\n",
      "0.481093462851\n",
      "0.481078530032\n",
      "0.481063590848\n",
      "0.481048645714\n",
      "0.481033695026\n",
      "0.48101873916\n",
      "0.481003778477\n",
      "0.480988813321\n",
      "0.480973844019\n",
      "0.480958870884\n",
      "0.480943894215\n",
      "0.480928914298\n",
      "0.480913931405\n",
      "0.480898945796\n",
      "0.480883957719\n",
      "0.480868967412\n",
      "0.480853975101\n",
      "0.480838981002\n",
      "0.480823985324\n",
      "0.480808988263\n",
      "0.480793990008\n",
      "0.48077899074\n",
      "0.480763990632\n",
      "0.480748989849\n",
      "0.48073398855\n",
      "0.480718986885\n",
      "0.480703984999\n",
      "0.480688983032\n",
      "0.480673981115\n",
      "0.480658979377\n",
      "0.480643977939\n",
      "0.480628976918\n",
      "0.480613976426\n",
      "0.480598976571\n",
      "0.480583977457\n",
      "0.480568979182\n",
      "0.480553981841\n",
      "0.480538985527\n",
      "0.480523990327\n",
      "0.480508996326\n",
      "0.480494003605\n",
      "0.480479012244\n",
      "0.480464022317\n",
      "0.480449033899\n",
      "0.480434047058\n",
      "0.480419061864\n",
      "0.480404078381\n",
      "0.480389096673\n",
      "0.480374116802\n",
      "0.480359138828\n",
      "0.480344162806\n",
      "0.480329188794\n",
      "0.480314216846\n",
      "0.480299247013\n",
      "0.480284279347\n",
      "0.480269313898\n",
      "0.480254350714\n",
      "0.480239389841\n",
      "0.480224431326\n",
      "0.480209475212\n",
      "0.480194521545\n",
      "0.480179570365\n",
      "0.480164621715\n",
      "0.480149675636\n",
      "0.480134732166\n",
      "0.480119791346\n",
      "0.480104853212\n",
      "0.480089917804\n",
      "0.480074985157\n",
      "0.480060055308\n",
      "0.480045128292\n",
      "0.480030204145\n",
      "0.4800152829\n",
      "0.480000364592\n",
      "0.479985449255\n",
      "0.47997053692\n",
      "0.479955627621\n",
      "0.47994072139\n",
      "0.47992581826\n",
      "0.47991091826\n",
      "0.479896021423\n",
      "0.479881127779\n",
      "0.479866237359\n",
      "0.479851350194\n",
      "0.479836466312\n",
      "0.479821585745\n",
      "0.479806708521\n",
      "0.47979183467\n",
      "0.479776964221\n",
      "0.479762097203\n",
      "0.479747233645\n",
      "0.479732373576\n",
      "0.479717517024\n",
      "0.479702664017\n",
      "0.479687814584\n",
      "0.479672968753\n",
      "0.479658126551\n",
      "0.479643288007\n",
      "0.479628453149\n",
      "0.479613622004\n",
      "0.4795987946\n",
      "0.479583970963\n",
      "0.479569151123\n",
      "0.479554335106\n",
      "0.47953952294\n",
      "0.479524714651\n",
      "0.479509910268\n",
      "0.479495109817\n",
      "0.479480313325\n",
      "0.47946552082\n",
      "0.479450732328\n",
      "0.479435947877\n",
      "0.479421167493\n",
      "0.479406391204\n",
      "0.479391619036\n",
      "0.479376851016\n",
      "0.479362087172\n",
      "0.479347327529\n",
      "0.479332572116\n",
      "0.479317820957\n",
      "0.479303074081\n",
      "0.479288331514\n",
      "0.479273593283\n",
      "0.479258859415\n",
      "0.479244129935\n",
      "0.479229404872\n",
      "0.479214684251\n",
      "0.479199968099\n",
      "0.479185256443\n",
      "0.479170549309\n",
      "0.479155846725\n",
      "0.479141148716\n",
      "0.479126455309\n",
      "0.479111766532\n",
      "0.479097082409\n",
      "0.479082402969\n",
      "0.479067728236\n",
      "0.479053058239\n",
      "0.479038393003\n",
      "0.479023732556\n",
      "0.479009076922\n",
      "0.478994426129\n",
      "0.478979780204\n",
      "0.478965139172\n",
      "0.478950503061\n",
      "0.478935871896\n",
      "0.478921245704\n",
      "0.478906624511\n",
      "0.478892008344\n",
      "0.478877397228\n",
      "0.478862791191\n",
      "0.478848190258\n",
      "0.478833594457\n",
      "0.478819003812\n",
      "0.47880441835\n",
      "0.478789838098\n",
      "0.478775263082\n",
      "0.478760693327\n",
      "0.47874612886\n",
      "0.478731569708\n",
      "0.478717015895\n",
      "0.478702467449\n",
      "0.478687924395\n",
      "0.47867338676\n",
      "0.478658854568\n",
      "0.478644327847\n",
      "0.478629806623\n",
      "0.47861529092\n",
      "0.478600780765\n",
      "0.478586276185\n",
      "0.478571777204\n",
      "0.478557283848\n",
      "0.478542796144\n",
      "0.478528314117\n",
      "0.478513837793\n",
      "0.478499367197\n",
      "0.478484902355\n",
      "0.478470443293\n",
      "0.478455990036\n",
      "0.47844154261\n",
      "0.47842710104\n",
      "0.478412665352\n",
      "0.478398235571\n",
      "0.478383811723\n",
      "0.478369393832\n",
      "0.478354981925\n",
      "0.478340576027\n",
      "0.478326176163\n",
      "0.478311782358\n",
      "0.478297394637\n",
      "0.478283013025\n",
      "0.478268637548\n",
      "0.478254268231\n",
      "0.478239905098\n",
      "0.478225548175\n",
      "0.478211197487\n",
      "0.478196853057\n",
      "0.478182514913\n",
      "0.478168183077\n",
      "0.478153857575\n",
      "0.478139538432\n",
      "0.478125225673\n",
      "0.478110919321\n",
      "0.478096619402\n",
      "0.47808232594\n",
      "0.478068038959\n",
      "0.478053758485\n",
      "0.478039484541\n",
      "0.478025217153\n",
      "0.478010956343\n",
      "0.477996702137\n",
      "0.477982454559\n",
      "0.477968213633\n",
      "0.477953979383\n",
      "0.477939751833\n",
      "0.477925531007\n",
      "0.47791131693\n",
      "0.477897109625\n",
      "0.477882909116\n",
      "0.477868715427\n",
      "0.477854528581\n",
      "0.477840348604\n",
      "0.477826175517\n",
      "0.477812009345\n",
      "0.477797850112\n",
      "0.477783697841\n",
      "0.477769552556\n",
      "0.477755414279\n",
      "0.477741283035\n",
      "0.477727158847\n",
      "0.477713041737\n",
      "0.47769893173\n",
      "0.477684828849\n",
      "0.477670733116\n",
      "0.477656644555\n",
      "0.477642563189\n",
      "0.47762848904\n",
      "0.477614422132\n",
      "0.477600362488\n",
      "0.47758631013\n",
      "0.477572265082\n",
      "0.477558227365\n",
      "0.477544197002\n",
      "0.477530174017\n",
      "0.477516158432\n",
      "0.477502150269\n",
      "0.47748814955\n",
      "0.477474156298\n",
      "0.477460170536\n",
      "0.477446192286\n",
      "0.477432221569\n",
      "0.477418258408\n",
      "0.477404302826\n",
      "0.477390354843\n",
      "0.477376414483\n",
      "0.477362481767\n",
      "0.477348556717\n",
      "0.477334639355\n",
      "0.477320729702\n",
      "0.477306827781\n",
      "0.477292933613\n",
      "0.477279047219\n",
      "0.477265168621\n",
      "0.477251297841\n",
      "0.4772374349\n",
      "0.47722357982\n",
      "0.477209732621\n",
      "0.477195893325\n",
      "0.477182061954\n",
      "0.477168238527\n",
      "0.477154423067\n",
      "0.477140615595\n",
      "0.477126816131\n",
      "0.477113024696\n",
      "0.477099241311\n",
      "0.477085465997\n",
      "0.477071698775\n",
      "0.477057939665\n",
      "0.477044188688\n",
      "0.477030445864\n",
      "0.477016711214\n",
      "0.477002984759\n",
      "0.476989266518\n",
      "0.476975556512\n",
      "0.476961854762\n",
      "0.476948161287\n",
      "0.476934476107\n",
      "0.476920799244\n",
      "0.476907130716\n",
      "0.476893470543\n",
      "0.476879818746\n",
      "0.476866175345\n",
      "0.476852540358\n",
      "0.476838913807\n",
      "0.476825295709\n",
      "0.476811686086\n",
      "0.476798084956\n",
      "0.47678449234\n",
      "0.476770908255\n",
      "0.476757332723\n",
      "0.476743765761\n",
      "0.47673020739\n",
      "0.476716657628\n",
      "0.476703116495\n",
      "0.476689584009\n",
      "0.476676060189\n",
      "0.476662545055\n",
      "0.476649038625\n",
      "0.476635540919\n",
      "0.476622051954\n",
      "0.476608571749\n",
      "0.476595100323\n",
      "0.476581637695\n",
      "0.476568183883\n",
      "0.476554738905\n",
      "0.47654130278\n",
      "0.476527875526\n",
      "0.476514457161\n",
      "0.476501047704\n",
      "0.476487647172\n",
      "0.476474255584\n",
      "0.476460872958\n",
      "0.476447499311\n",
      "0.476434134661\n",
      "0.476420779026\n",
      "0.476407432424\n",
      "0.476394094872\n",
      "0.476380766389\n",
      "0.476367446991\n",
      "0.476354136696\n",
      "0.476340835522\n",
      "0.476327543486\n",
      "0.476314260604\n",
      "0.476300986895\n",
      "0.476287722375\n",
      "0.476274467062\n",
      "0.476261220973\n",
      "0.476247984124\n",
      "0.476234756533\n",
      "0.476221538216\n",
      "0.476208329189\n",
      "0.476195129471\n",
      "0.476181939077\n",
      "0.476168758025\n",
      "0.476155586329\n",
      "0.476142424008\n",
      "0.476129271077\n",
      "0.476116127553\n",
      "0.476102993452\n",
      "0.47608986879\n",
      "0.476076753583\n",
      "0.476063647848\n",
      "0.4760505516\n",
      "0.476037464855\n",
      "0.47602438763\n",
      "0.47601131994\n",
      "0.475998261801\n",
      "0.475985213228\n",
      "0.475972174237\n",
      "0.475959144844\n",
      "0.475946125064\n",
      "0.475933114913\n",
      "0.475920114406\n",
      "0.475907123559\n",
      "0.475894142385\n",
      "0.475881170902\n",
      "0.475868209123\n",
      "0.475855257065\n",
      "0.475842314741\n",
      "0.475829382167\n",
      "0.475816459358\n",
      "0.475803546329\n",
      "0.475790643093\n",
      "0.475777749667\n",
      "0.475764866064\n",
      "0.475751992299\n",
      "0.475739128387\n",
      "0.475726274341\n",
      "0.475713430177\n",
      "0.475700595909\n",
      "0.47568777155\n",
      "0.475674957115\n",
      "0.475662152619\n",
      "0.475649358074\n",
      "0.475636573496\n",
      "0.475623798897\n",
      "0.475611034292\n",
      "0.475598279695\n",
      "0.475585535119\n",
      "0.475572800578\n",
      "0.475560076086\n",
      "0.475547361655\n",
      "0.4755346573\n",
      "0.475521963034\n",
      "0.47550927887\n",
      "0.475496604822\n",
      "0.475483940902\n",
      "0.475471287124\n",
      "0.4754586435\n",
      "0.475446010045\n",
      "0.475433386771\n",
      "0.47542077369\n",
      "0.475408170816\n",
      "0.47539557816\n",
      "0.475382995737\n",
      "0.475370423559\n",
      "0.475357861637\n",
      "0.475345309986\n",
      "0.475332768616\n",
      "0.475320237541\n",
      "0.475307716772\n",
      "0.475295206322\n",
      "0.475282706204\n",
      "0.475270216429\n",
      "0.475257737009\n",
      "0.475245267956\n",
      "0.475232809283\n",
      "0.475220361001\n",
      "0.475207923122\n",
      "0.475195495657\n",
      "0.475183078618\n",
      "0.475170672018\n",
      "0.475158275867\n",
      "0.475145890177\n",
      "0.475133514959\n",
      "0.475121150225\n",
      "0.475108795986\n",
      "0.475096452253\n",
      "0.475084119038\n",
      "0.475071796351\n",
      "0.475059484203\n",
      "0.475047182606\n",
      "0.475034891571\n",
      "0.475022611108\n",
      "0.475010341227\n",
      "0.474998081941\n",
      "0.474985833259\n",
      "0.474973595192\n",
      "0.474961367751\n",
      "0.474949150945\n",
      "0.474936944787\n",
      "0.474924749285\n",
      "0.47491256445\n",
      "0.474900390292\n",
      "0.474888226822\n",
      "0.474876074049\n",
      "0.474863931985\n",
      "0.474851800637\n",
      "0.474839680017\n",
      "0.474827570135\n",
      "0.474815471\n",
      "0.474803382621\n",
      "0.474791305009\n",
      "0.474779238173\n",
      "0.474767182123\n",
      "0.474755136868\n",
      "0.474743102418\n",
      "0.474731078781\n",
      "0.474719065968\n",
      "0.474707063987\n",
      "0.474695072848\n",
      "0.474683092559\n",
      "0.47467112313\n",
      "0.47465916457\n",
      "0.474647216888\n",
      "0.474635280092\n",
      "0.474623354192\n",
      "0.474611439195\n",
      "0.474599535111\n",
      "0.474587641949\n",
      "0.474575759716\n",
      "0.474563888422\n",
      "0.474552028075\n",
      "0.474540178683\n",
      "0.474528340254\n",
      "0.474516512798\n",
      "0.474504696321\n",
      "0.474492890832\n",
      "0.474481096339\n",
      "0.474469312851\n",
      "0.474457540375\n",
      "0.474445778918\n",
      "0.47443402849\n",
      "0.474422289097\n",
      "0.474410560748\n",
      "0.474398843449\n",
      "0.474387137209\n",
      "0.474375442035\n",
      "0.474363757934\n",
      "0.474352084915\n",
      "0.474340422984\n",
      "0.474328772148\n",
      "0.474317132415\n",
      "0.474305503792\n",
      "0.474293886286\n",
      "0.474282279904\n",
      "0.474270684654\n",
      "0.474259100541\n",
      "0.474247527573\n",
      "0.474235965757\n",
      "0.4742244151\n",
      "0.474212875607\n",
      "0.474201347287\n",
      "0.474189830145\n",
      "0.474178324187\n",
      "0.474166829421\n",
      "0.474155345853\n",
      "0.474143873489\n",
      "0.474132412336\n",
      "0.474120962399\n",
      "0.474109523684\n",
      "0.474098096199\n",
      "0.474086679949\n",
      "0.474075274939\n",
      "0.474063881176\n",
      "0.474052498666\n",
      "0.474041127415\n",
      "0.474029767428\n",
      "0.474018418711\n",
      "0.47400708127\n",
      "0.47399575511\n",
      "0.473984440236\n",
      "0.473973136655\n",
      "0.473961844372\n",
      "0.473950563392\n",
      "0.47393929372\n",
      "0.473928035361\n",
      "0.473916788322\n",
      "0.473905552606\n",
      "0.473894328219\n",
      "0.473883115167\n",
      "0.473871913453\n",
      "0.473860723083\n",
      "0.473849544062\n",
      "0.473838376394\n",
      "0.473827220085\n",
      "0.473816075138\n",
      "0.47380494156\n",
      "0.473793819353\n",
      "0.473782708523\n",
      "0.473771609074\n",
      "0.47376052101\n",
      "0.473749444337\n",
      "0.473738379057\n",
      "0.473727325176\n",
      "0.473716282697\n",
      "0.473705251625\n",
      "0.473694231964\n",
      "0.473683223718\n",
      "0.47367222689\n",
      "0.473661241485\n",
      "0.473650267507\n",
      "0.473639304959\n",
      "0.473628353844\n",
      "0.473617414168\n",
      "0.473606485933\n",
      "0.473595569142\n",
      "0.473584663801\n",
      "0.473573769911\n",
      "0.473562887476\n",
      "0.4735520165\n",
      "0.473541156987\n",
      "0.473530308938\n",
      "0.473519472358\n",
      "0.47350864725\n",
      "0.473497833616\n",
      "0.47348703146\n",
      "0.473476240785\n",
      "0.473465461593\n",
      "0.473454693888\n",
      "0.473443937673\n",
      "0.473433192949\n",
      "0.473422459721\n",
      "0.47341173799\n",
      "0.473401027759\n",
      "0.473390329031\n",
      "0.473379641809\n",
      "0.473368966094\n",
      "0.473358301889\n",
      "0.473347649197\n",
      "0.473337008019\n",
      "0.473326378359\n",
      "0.473315760218\n",
      "0.473305153598\n",
      "0.473294558502\n",
      "0.473283974932\n",
      "0.473273402889\n",
      "0.473262842376\n",
      "0.473252293394\n",
      "0.473241755946\n",
      "0.473231230032\n",
      "0.473220715655\n",
      "0.473210212817\n",
      "0.47319972152\n",
      "0.473189241763\n",
      "0.473178773551\n",
      "0.473168316883\n",
      "0.473157871761\n",
      "0.473147438187\n",
      "0.473137016162\n",
      "0.473126605687\n",
      "0.473116206764\n",
      "0.473105819393\n",
      "0.473095443576\n",
      "0.473085079315\n",
      "0.473074726609\n",
      "0.47306438546\n",
      "0.47305405587\n",
      "0.473043737838\n",
      "0.473033431366\n",
      "0.473023136454\n",
      "0.473012853104\n",
      "0.473002581316\n",
      "0.47299232109\n",
      "0.472982072428\n",
      "0.472971835329\n",
      "0.472961609795\n",
      "0.472951395826\n",
      "0.472941193422\n",
      "0.472931002583\n",
      "0.472920823311\n",
      "0.472910655604\n",
      "0.472900499464\n",
      "0.472890354891\n",
      "0.472880221885\n",
      "0.472870100445\n",
      "0.472859990572\n",
      "0.472849892266\n",
      "0.472839805527\n",
      "0.472829730355\n",
      "0.472819666749\n",
      "0.47280961471\n",
      "0.472799574237\n",
      "0.47278954533\n",
      "0.472779527988\n",
      "0.472769522212\n",
      "0.472759528\n",
      "0.472749545352\n",
      "0.472739574269\n",
      "0.472729614749\n",
      "0.472719666791\n",
      "0.472709730395\n",
      "0.472699805561\n",
      "0.472689892287\n",
      "0.472679990573\n",
      "0.472670100418\n",
      "0.472660221821\n",
      "0.472650354781\n",
      "0.472640499298\n",
      "0.47263065537\n",
      "0.472620822996\n",
      "0.472611002175\n",
      "0.472601192906\n",
      "0.472591395187\n",
      "0.472581609019\n",
      "0.472571834398\n",
      "0.472562071325\n",
      "0.472552319797\n",
      "0.472542579814\n",
      "0.472532851373\n",
      "0.472523134474\n",
      "0.472513429115\n",
      "0.472503735293\n",
      "0.472494053009\n",
      "0.472484382259\n",
      "0.472474723043\n",
      "0.472465075358\n",
      "0.472455439203\n",
      "0.472445814577\n",
      "0.472436201476\n",
      "0.472426599899\n",
      "0.472417009845\n",
      "0.472407431311\n",
      "0.472397864295\n",
      "0.472388308796\n",
      "0.47237876481\n",
      "0.472369232337\n",
      "0.472359711373\n",
      "0.472350201917\n",
      "0.472340703966\n",
      "0.472331217518\n",
      "0.472321742571\n",
      "0.472312279122\n",
      "0.472302827168\n",
      "0.472293386708\n",
      "0.472283957739\n",
      "0.472274540258\n",
      "0.472265134262\n",
      "0.47225573975\n",
      "0.472246356718\n",
      "0.472236985163\n",
      "0.472227625084\n",
      "0.472218276476\n",
      "0.472208939338\n",
      "0.472199613667\n",
      "0.472190299458\n",
      "0.472180996711\n",
      "0.472171705421\n",
      "0.472162425585\n",
      "0.472153157201\n",
      "0.472143900265\n",
      "0.472134654775\n",
      "0.472125420727\n",
      "0.472116198117\n",
      "0.472106986944\n",
      "0.472097787202\n",
      "0.47208859889\n",
      "0.472079422003\n",
      "0.472070256539\n",
      "0.472061102494\n",
      "0.472051959864\n",
      "0.472042828645\n",
      "0.472033708835\n",
      "0.47202460043\n",
      "0.472015503426\n",
      "0.47200641782\n",
      "0.471997343607\n",
      "0.471988280784\n",
      "0.471979229348\n",
      "0.471970189294\n",
      "0.471961160619\n",
      "0.471952143319\n",
      "0.471943137389\n",
      "0.471934142827\n",
      "0.471925159627\n",
      "0.471916187787\n",
      "0.471907227301\n",
      "0.471898278167\n",
      "0.471889340379\n",
      "0.471880413933\n",
      "0.471871498827\n",
      "0.471862595054\n",
      "0.471853702611\n",
      "0.471844821494\n",
      "0.471835951698\n",
      "0.471827093219\n",
      "0.471818246053\n",
      "0.471809410195\n",
      "0.471800585641\n",
      "0.471791772386\n",
      "0.471782970425\n",
      "0.471774179755\n",
      "0.47176540037\n",
      "0.471756632267\n"
     ]
    },
    {
     "data": {
      "text/plain": [
       "[[0.5312613073846517, 0.16635590289687738],\n",
       " [0.5540207388373655, 0.20600020386174236],\n",
       " [0.5602428477686474, 1.0542485466099791],\n",
       " [0.2681472726886897, -0.2209637693955062]]"
      ]
     },
     "execution_count": 256,
     "metadata": {},
     "output_type": "execute_result"
    }
   ],
   "source": [
    "data=clusters.scaledown(scaleset,distance=euclidean)\n",
    "data"
   ]
  },
  {
   "cell_type": "code",
   "execution_count": 257,
   "metadata": {
    "collapsed": false
   },
   "outputs": [
    {
     "name": "stdout",
     "output_type": "stream",
     "text": [
      "Iteration 0\n",
      "Iteration 1\n",
      "['A', 'B', 'D']\n",
      "['C']\n"
     ]
    }
   ],
   "source": [
    "kcl=clusters.kcluster(data,distance=euclidean,k=2)\n",
    "for c in kcl: print [labels[l] for l in c]"
   ]
  },
  {
   "cell_type": "code",
   "execution_count": null,
   "metadata": {
    "collapsed": true
   },
   "outputs": [],
   "source": []
  },
  {
   "cell_type": "code",
   "execution_count": null,
   "metadata": {
    "collapsed": true
   },
   "outputs": [],
   "source": []
  }
 ],
 "metadata": {
  "kernelspec": {
   "display_name": "Python 2",
   "language": "python",
   "name": "python2"
  },
  "language_info": {
   "codemirror_mode": {
    "name": "ipython",
    "version": 2
   },
   "file_extension": ".py",
   "mimetype": "text/x-python",
   "name": "python",
   "nbconvert_exporter": "python",
   "pygments_lexer": "ipython2",
   "version": "2.7.5"
  }
 },
 "nbformat": 4,
 "nbformat_minor": 0
}
