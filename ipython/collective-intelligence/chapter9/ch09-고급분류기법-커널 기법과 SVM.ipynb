{
 "cells": [
  {
   "cell_type": "markdown",
   "metadata": {},
   "source": [
    "9장. 고급 분류 기법: 커널 기법과 SVM\n",
    "====\n",
    "\n",
    "\n",
    "\n",
    "\n",
    "        (주)디티웨어 대표이사 김덕태\n",
    "\n",
    "              2015. 7. 3.\n",
    "\n",
    "- download data and code examples in book\n",
    "  - https://github.com/cataska/programming-collective-intelligence-code/tree/master/chapter9\n"
   ]
  },
  {
   "cell_type": "markdown",
   "metadata": {},
   "source": [
    "# 목차\n",
    "- 중매 데이터 세트\n",
    "- 데이터를 다루는 어려움\n",
    "- 기본 선형 분류\n",
    "- 분류 데이터의 특성\n",
    "- 데이터 축적 조정\n",
    "- 커널 기법 이해\n",
    "- 지지벡터머신\n",
    "- LIBSVM 사용\n",
    "- 페이스북 매칭\n",
    "- 함께 풀어보기\n"
   ]
  },
  {
   "cell_type": "markdown",
   "metadata": {},
   "source": [
    "# 중매 데이터 세트\n",
    "\n",
    "## 수집 정보\n",
    "- 나이\n",
    "- 흡연 여부\n",
    "- 자녀 희망\n",
    "- 관심 목록\n",
    "- 거주지\n",
    "\n",
    "## 데이터 파일"
   ]
  },
  {
   "cell_type": "code",
   "execution_count": 1,
   "metadata": {
    "collapsed": false
   },
   "outputs": [
    {
     "name": "stdout",
     "output_type": "stream",
     "text": [
      "/Volumes/C/tnb/ai/Programming Collective Intelligence\n",
      "20150410-intro.md\r\n",
      "Programming Collective Intelligence.pdf\r\n",
      "Programming Collective Intelligence.xml\r\n",
      "Programming Collective Intelligence.xml~\r\n",
      "\u001b[30m\u001b[43mbook-git\u001b[m\u001b[m/\r\n",
      "ch02-making-recommendations.xml\r\n",
      "ch04-검색과 랭킹.pdf\r\n",
      "ch05-최적화.pdf\r\n",
      "\u001b[30m\u001b[43mch09-고급분류기법-커널 기법과 SVM\u001b[m\u001b[m/\r\n",
      "ch1-introduction.xml\r\n",
      "\u001b[30m\u001b[43mstudy-git\u001b[m\u001b[m/\r\n"
     ]
    }
   ],
   "source": [
    "%cd ..\n",
    "%ls"
   ]
  },
  {
   "cell_type": "code",
   "execution_count": null,
   "metadata": {
    "collapsed": true
   },
   "outputs": [],
   "source": [
    "%%script c:\\git\\bin\\git clone https://github.com/cataska/programming-collective-intelligence-code book-git"
   ]
  },
  {
   "cell_type": "code",
   "execution_count": 2,
   "metadata": {
    "collapsed": false
   },
   "outputs": [
    {
     "name": "stdout",
     "output_type": "stream",
     "text": [
      "/Volumes/C/tnb/ai/Programming Collective Intelligence/book-git/chapter9\n",
      "advancedclassify.py   facebook.py           matchmaker.csv        svmutil.py\r\n",
      "advancedclassify.pyc  \u001b[30m\u001b[43mlibsvm-3.20\u001b[m\u001b[m/          svm.py                svmutil.pyc\r\n",
      "agesonly.csv          \u001b[30m\u001b[43mlibsvm-git\u001b[m\u001b[m/           svm.pyc               test.model\r\n"
     ]
    }
   ],
   "source": [
    "%cd book-git/chapter9\n",
    "%ls"
   ]
  },
  {
   "cell_type": "markdown",
   "metadata": {},
   "source": [
    "### matchmaker.csv\n",
    "- 각 가로줄: 남자와 여자에 대한 정보\n",
    "- 마지막 세로줄: 0 or 1. 좋은 중매감인지 여부"
   ]
  },
  {
   "cell_type": "code",
   "execution_count": 3,
   "metadata": {
    "collapsed": true
   },
   "outputs": [],
   "source": [
    "%less matchmaker.csv"
   ]
  },
  {
   "cell_type": "markdown",
   "metadata": {},
   "source": [
    "### agesonly.csv\n",
    "- 나이에만 기반한 중매 정보"
   ]
  },
  {
   "cell_type": "code",
   "execution_count": 47,
   "metadata": {
    "collapsed": false
   },
   "outputs": [],
   "source": [
    "%less agesonly.csv"
   ]
  },
  {
   "cell_type": "markdown",
   "metadata": {},
   "source": [
    "### Example code - advancedclassify.py"
   ]
  },
  {
   "cell_type": "code",
   "execution_count": 4,
   "metadata": {
    "collapsed": true
   },
   "outputs": [],
   "source": [
    "# %load advancedclassify.py\n",
    "class matchrow:\n",
    "  def __init__(self,row,allnum=False):\n",
    "    if allnum:\n",
    "      self.data=[float(row[i]) for i in range(len(row)-1)]\n",
    "    else:\n",
    "      self.data=row[0:len(row)-1]\n",
    "    self.match=int(row[len(row)-1])\n",
    "\n",
    "def loadmatch(f,allnum=False):\n",
    "  rows=[]\n",
    "  for line in file(f):\n",
    "    rows.append(matchrow(line.split(','),allnum))\n",
    "  return rows\n",
    " \n",
    "from pylab import *\n",
    "def plotagematches(rows):\n",
    "  xdm,ydm=[r.data[0] for r in rows if r.match==1],\\\n",
    "          [r.data[1] for r in rows if r.match==1]\n",
    "  xdn,ydn=[r.data[0] for r in rows if r.match==0],\\\n",
    "          [r.data[1] for r in rows if r.match==0] \n",
    "  \n",
    "  plot(xdm,ydm,'bo')\n",
    "  plot(xdn,ydn,'b+')\n",
    "  \n",
    "  show()\n",
    "\n",
    "def lineartrain(rows):\n",
    "  averages={}\n",
    "  counts={}\n",
    "  \n",
    "  for row in rows:\n",
    "    # Get the class of this point\n",
    "    cl=row.match\n",
    "    \n",
    "    averages.setdefault(cl,[0.0]*(len(row.data)))\n",
    "    counts.setdefault(cl,0)\n",
    "    \n",
    "    # Add this point to the averages\n",
    "    for i in range(len(row.data)):\n",
    "      averages[cl][i]+=float(row.data[i])\n",
    "      \n",
    "    # Keep track of how many points in each class\n",
    "    counts[cl]+=1\n",
    "    \n",
    "  # Divide sums by counts to get the averages\n",
    "  for cl,avg in averages.items():\n",
    "    for i in range(len(avg)):\n",
    "      avg[i]/=counts[cl]\n",
    "  \n",
    "  return averages\n",
    "\n",
    "def dotproduct(v1,v2):\n",
    "  return sum([v1[i]*v2[i] for i in range(len(v1))])\n",
    "\n",
    "def veclength(v):\n",
    "  return sum([p**2 for p in v])\n",
    "\n",
    "def dpclassify(point,avgs):\n",
    "  b=(dotproduct(avgs[1],avgs[1])-dotproduct(avgs[0],avgs[0]))/2\n",
    "  y=dotproduct(point,avgs[0])-dotproduct(point,avgs[1])+b\n",
    "  if y>0: return 0\n",
    "  else: return 1\n",
    "\n",
    "def yesno(v):\n",
    "  if v=='yes': return 1\n",
    "  elif v=='no': return -1\n",
    "  else: return 0\n",
    "  \n",
    "def matchcount(interest1,interest2):\n",
    "  l1=interest1.split(':')\n",
    "  l2=interest2.split(':')\n",
    "  x=0\n",
    "  for v in l1:\n",
    "    if v in l2: x+=1\n",
    "  return x\n",
    "\n",
    "yahookey=\"YOUR API KEY\"\n",
    "from xml.dom.minidom import parseString\n",
    "from urllib import urlopen,quote_plus\n",
    "\n",
    "loc_cache={}\n",
    "def getlocation(address):\n",
    "  if address in loc_cache: return loc_cache[address]\n",
    "  data=urlopen('http://api.local.yahoo.com/MapsService/V1/'+\\\n",
    "               'geocode?appid=%s&location=%s' %\n",
    "               (yahookey,quote_plus(address))).read()\n",
    "  doc=parseString(data)\n",
    "  lat=doc.getElementsByTagName('Latitude')[0].firstChild.nodeValue\n",
    "  long=doc.getElementsByTagName('Longitude')[0].firstChild.nodeValue  \n",
    "  loc_cache[address]=(float(lat),float(long))\n",
    "  return loc_cache[address]\n",
    "\n",
    "def milesdistance(a1,a2):\n",
    "  lat1,long1=getlocation(a1)\n",
    "  lat2,long2=getlocation(a2)\n",
    "  latdif=69.1*(lat2-lat1)\n",
    "  longdif=53.0*(long2-long1)\n",
    "  return (latdif**2+longdif**2)**.5\n",
    "\n",
    "def loadnumerical():\n",
    "  oldrows=loadmatch('matchmaker.csv')\n",
    "  newrows=[]\n",
    "  for row in oldrows:\n",
    "    d=row.data\n",
    "    data=[float(d[0]),yesno(d[1]),yesno(d[2]),\n",
    "          float(d[5]),yesno(d[6]),yesno(d[7]),\n",
    "          matchcount(d[3],d[8]),\n",
    "          milesdistance(d[4],d[9]),\n",
    "          row.match]\n",
    "    newrows.append(matchrow(data))\n",
    "  return newrows\n",
    "\n",
    "def scaledata(rows):\n",
    "  low=[999999999.0]*len(rows[0].data)\n",
    "  high=[-999999999.0]*len(rows[0].data)\n",
    "  # Find the lowest and highest values\n",
    "  for row in rows:\n",
    "    d=row.data\n",
    "    for i in range(len(d)):\n",
    "      if d[i]<low[i]: low[i]=d[i]\n",
    "      if d[i]>high[i]: high[i]=d[i]\n",
    "  \n",
    "  # Create a function that scales data\n",
    "  def scaleinput(d):\n",
    "     return [(d[i]-low[i])/(high[i]-low[i])\n",
    "            for i in range(len(low))]\n",
    "  \n",
    "  # Scale all the data\n",
    "  newrows=[matchrow(scaleinput(row.data)+[row.match])\n",
    "           for row in rows]\n",
    "  \n",
    "  # Return the new data and the function\n",
    "  return newrows,scaleinput\n",
    "\n",
    "\n",
    "def rbf(v1,v2,gamma=10):\n",
    "  dv=[v1[i]-v2[i] for i in range(len(v1))]\n",
    "  l=veclength(dv)\n",
    "  return math.e**(-gamma*l)\n",
    "\n",
    "def nlclassify(point,rows,offset,gamma=10):\n",
    "  sum0=0.0\n",
    "  sum1=0.0\n",
    "  count0=0\n",
    "  count1=0\n",
    "  \n",
    "  for row in rows:\n",
    "    if row.match==0:\n",
    "      sum0+=rbf(point,row.data,gamma)\n",
    "      count0+=1\n",
    "    else:\n",
    "      sum1+=rbf(point,row.data,gamma)\n",
    "      count1+=1\n",
    "  y=(1.0/count0)*sum0-(1.0/count1)*sum1+offset\n",
    "\n",
    "  if y>0: return 0\n",
    "  else: return 1\n",
    "\n",
    "def getoffset(rows,gamma=10):\n",
    "  l0=[]\n",
    "  l1=[]\n",
    "  for row in rows:\n",
    "    if row.match==0: l0.append(row.data)\n",
    "    else: l1.append(row.data)\n",
    "  sum0=sum(sum([rbf(v1,v2,gamma) for v1 in l0]) for v2 in l0)\n",
    "  sum1=sum(sum([rbf(v1,v2,gamma) for v1 in l1]) for v2 in l1)\n",
    "  \n",
    "  return (1.0/(len(l1)**2))*sum1-(1.0/(len(l0)**2))*sum0\n"
   ]
  },
  {
   "cell_type": "markdown",
   "metadata": {},
   "source": [
    "### loadmatch 함수\n",
    "- mathrow class instance들의 리스트를 만든다."
   ]
  },
  {
   "cell_type": "markdown",
   "metadata": {},
   "source": [
    "## 데이터 세트 (agesonly.csv, matchmaker.csv 파일) 로드"
   ]
  },
  {
   "cell_type": "code",
   "execution_count": 5,
   "metadata": {
    "collapsed": false
   },
   "outputs": [],
   "source": [
    "import advancedclassify\n",
    "agesonly=advancedclassify.loadmatch('agesonly.csv', allnum=True)\n",
    "matchmaker=advancedclassify.loadmatch('matchmaker.csv')"
   ]
  },
  {
   "cell_type": "code",
   "execution_count": 6,
   "metadata": {
    "collapsed": false
   },
   "outputs": [
    {
     "data": {
      "text/plain": [
       "[<advancedclassify.matchrow instance at 0x1059763b0>,\n",
       " <advancedclassify.matchrow instance at 0x1085c4200>,\n",
       " <advancedclassify.matchrow instance at 0x1085c4d40>,\n",
       " <advancedclassify.matchrow instance at 0x1085c4638>,\n",
       " <advancedclassify.matchrow instance at 0x1085c43f8>,\n",
       " <advancedclassify.matchrow instance at 0x1085c4c20>,\n",
       " <advancedclassify.matchrow instance at 0x1085c4c68>,\n",
       " <advancedclassify.matchrow instance at 0x1085c47e8>,\n",
       " <advancedclassify.matchrow instance at 0x1085c4fc8>,\n",
       " <advancedclassify.matchrow instance at 0x1085c4248>,\n",
       " <advancedclassify.matchrow instance at 0x1085c4f80>,\n",
       " <advancedclassify.matchrow instance at 0x1085c46c8>,\n",
       " <advancedclassify.matchrow instance at 0x1085c4dd0>,\n",
       " <advancedclassify.matchrow instance at 0x1085c4998>,\n",
       " <advancedclassify.matchrow instance at 0x1083b5d40>,\n",
       " <advancedclassify.matchrow instance at 0x1083b53b0>,\n",
       " <advancedclassify.matchrow instance at 0x1083b5830>,\n",
       " <advancedclassify.matchrow instance at 0x1083b5290>,\n",
       " <advancedclassify.matchrow instance at 0x1083b5dd0>,\n",
       " <advancedclassify.matchrow instance at 0x1083b5ab8>,\n",
       " <advancedclassify.matchrow instance at 0x1083b5170>,\n",
       " <advancedclassify.matchrow instance at 0x1083b52d8>,\n",
       " <advancedclassify.matchrow instance at 0x1083b5680>,\n",
       " <advancedclassify.matchrow instance at 0x1083b5cb0>,\n",
       " <advancedclassify.matchrow instance at 0x1083b53f8>,\n",
       " <advancedclassify.matchrow instance at 0x1083b5320>,\n",
       " <advancedclassify.matchrow instance at 0x1083b5368>,\n",
       " <advancedclassify.matchrow instance at 0x1083b55a8>,\n",
       " <advancedclassify.matchrow instance at 0x1083b5c20>,\n",
       " <advancedclassify.matchrow instance at 0x10850bbd8>,\n",
       " <advancedclassify.matchrow instance at 0x10850bea8>,\n",
       " <advancedclassify.matchrow instance at 0x10850ba28>,\n",
       " <advancedclassify.matchrow instance at 0x10850b998>,\n",
       " <advancedclassify.matchrow instance at 0x10850be18>,\n",
       " <advancedclassify.matchrow instance at 0x10850b8c0>,\n",
       " <advancedclassify.matchrow instance at 0x10850b0e0>,\n",
       " <advancedclassify.matchrow instance at 0x10850b830>,\n",
       " <advancedclassify.matchrow instance at 0x10850bef0>,\n",
       " <advancedclassify.matchrow instance at 0x10850b7a0>,\n",
       " <advancedclassify.matchrow instance at 0x10850bcb0>,\n",
       " <advancedclassify.matchrow instance at 0x10850b6c8>,\n",
       " <advancedclassify.matchrow instance at 0x10850b560>,\n",
       " <advancedclassify.matchrow instance at 0x10850b518>,\n",
       " <advancedclassify.matchrow instance at 0x108503e18>,\n",
       " <advancedclassify.matchrow instance at 0x108503680>,\n",
       " <advancedclassify.matchrow instance at 0x108503878>,\n",
       " <advancedclassify.matchrow instance at 0x108503320>,\n",
       " <advancedclassify.matchrow instance at 0x1085031b8>,\n",
       " <advancedclassify.matchrow instance at 0x108503440>,\n",
       " <advancedclassify.matchrow instance at 0x108503a70>,\n",
       " <advancedclassify.matchrow instance at 0x108503830>,\n",
       " <advancedclassify.matchrow instance at 0x108503290>,\n",
       " <advancedclassify.matchrow instance at 0x108503c68>,\n",
       " <advancedclassify.matchrow instance at 0x108503170>,\n",
       " <advancedclassify.matchrow instance at 0x1085035f0>,\n",
       " <advancedclassify.matchrow instance at 0x108503638>,\n",
       " <advancedclassify.matchrow instance at 0x108503710>,\n",
       " <advancedclassify.matchrow instance at 0x108503518>,\n",
       " <advancedclassify.matchrow instance at 0x1085034d0>,\n",
       " <advancedclassify.matchrow instance at 0x107ffe3f8>,\n",
       " <advancedclassify.matchrow instance at 0x107ffe518>,\n",
       " <advancedclassify.matchrow instance at 0x1084c9290>,\n",
       " <advancedclassify.matchrow instance at 0x1084c99e0>,\n",
       " <advancedclassify.matchrow instance at 0x1084c9710>,\n",
       " <advancedclassify.matchrow instance at 0x1084c9a28>,\n",
       " <advancedclassify.matchrow instance at 0x1084c9638>,\n",
       " <advancedclassify.matchrow instance at 0x1084c9368>,\n",
       " <advancedclassify.matchrow instance at 0x1084c9098>,\n",
       " <advancedclassify.matchrow instance at 0x1084c9b90>,\n",
       " <advancedclassify.matchrow instance at 0x1084c96c8>,\n",
       " <advancedclassify.matchrow instance at 0x1084c9dd0>,\n",
       " <advancedclassify.matchrow instance at 0x1084c9bd8>,\n",
       " <advancedclassify.matchrow instance at 0x1084c93b0>,\n",
       " <advancedclassify.matchrow instance at 0x1084c9050>,\n",
       " <advancedclassify.matchrow instance at 0x1084c95f0>,\n",
       " <advancedclassify.matchrow instance at 0x1084c9170>,\n",
       " <advancedclassify.matchrow instance at 0x1084d7170>,\n",
       " <advancedclassify.matchrow instance at 0x1084d7050>,\n",
       " <advancedclassify.matchrow instance at 0x1084d73f8>,\n",
       " <advancedclassify.matchrow instance at 0x1084d7c20>,\n",
       " <advancedclassify.matchrow instance at 0x1084d7b48>,\n",
       " <advancedclassify.matchrow instance at 0x1084d7f38>,\n",
       " <advancedclassify.matchrow instance at 0x1084d7cf8>,\n",
       " <advancedclassify.matchrow instance at 0x1084d7b90>,\n",
       " <advancedclassify.matchrow instance at 0x1084d7d88>,\n",
       " <advancedclassify.matchrow instance at 0x1084d7638>,\n",
       " <advancedclassify.matchrow instance at 0x1084d7248>,\n",
       " <advancedclassify.matchrow instance at 0x1084d7560>,\n",
       " <advancedclassify.matchrow instance at 0x1084d7758>,\n",
       " <advancedclassify.matchrow instance at 0x1084d7128>,\n",
       " <advancedclassify.matchrow instance at 0x1084d7830>,\n",
       " <advancedclassify.matchrow instance at 0x1084d7c68>,\n",
       " <advancedclassify.matchrow instance at 0x1084ee170>,\n",
       " <advancedclassify.matchrow instance at 0x1084eedd0>,\n",
       " <advancedclassify.matchrow instance at 0x1084eed88>,\n",
       " <advancedclassify.matchrow instance at 0x1084eee18>,\n",
       " <advancedclassify.matchrow instance at 0x1084ee710>,\n",
       " <advancedclassify.matchrow instance at 0x1084ee368>,\n",
       " <advancedclassify.matchrow instance at 0x1084eeea8>,\n",
       " <advancedclassify.matchrow instance at 0x1084eed40>,\n",
       " <advancedclassify.matchrow instance at 0x1084eec68>,\n",
       " <advancedclassify.matchrow instance at 0x1084ee7a0>,\n",
       " <advancedclassify.matchrow instance at 0x1084eea70>,\n",
       " <advancedclassify.matchrow instance at 0x1084eebd8>,\n",
       " <advancedclassify.matchrow instance at 0x1084ee830>,\n",
       " <advancedclassify.matchrow instance at 0x1084ee560>,\n",
       " <advancedclassify.matchrow instance at 0x1084ee950>,\n",
       " <advancedclassify.matchrow instance at 0x1083bdbd8>,\n",
       " <advancedclassify.matchrow instance at 0x1083bd320>,\n",
       " <advancedclassify.matchrow instance at 0x1083bd638>,\n",
       " <advancedclassify.matchrow instance at 0x1083bd6c8>,\n",
       " <advancedclassify.matchrow instance at 0x1083bd998>,\n",
       " <advancedclassify.matchrow instance at 0x1083bdd40>,\n",
       " <advancedclassify.matchrow instance at 0x1083bd680>,\n",
       " <advancedclassify.matchrow instance at 0x1083bdea8>,\n",
       " <advancedclassify.matchrow instance at 0x1083bd488>,\n",
       " <advancedclassify.matchrow instance at 0x1083bdc68>,\n",
       " <advancedclassify.matchrow instance at 0x1083bd710>,\n",
       " <advancedclassify.matchrow instance at 0x1083bda70>,\n",
       " <advancedclassify.matchrow instance at 0x1083bdcf8>,\n",
       " <advancedclassify.matchrow instance at 0x1083bd4d0>,\n",
       " <advancedclassify.matchrow instance at 0x1083bddd0>,\n",
       " <advancedclassify.matchrow instance at 0x1084fce60>,\n",
       " <advancedclassify.matchrow instance at 0x1084fc680>,\n",
       " <advancedclassify.matchrow instance at 0x1084fcb00>,\n",
       " <advancedclassify.matchrow instance at 0x1084fcc20>,\n",
       " <advancedclassify.matchrow instance at 0x1084fcf38>,\n",
       " <advancedclassify.matchrow instance at 0x1084fc830>,\n",
       " <advancedclassify.matchrow instance at 0x1084fc950>,\n",
       " <advancedclassify.matchrow instance at 0x1084fce18>,\n",
       " <advancedclassify.matchrow instance at 0x1084fcf80>,\n",
       " <advancedclassify.matchrow instance at 0x1084fc2d8>,\n",
       " <advancedclassify.matchrow instance at 0x1084fc488>,\n",
       " <advancedclassify.matchrow instance at 0x1084fcd40>,\n",
       " <advancedclassify.matchrow instance at 0x1084fccf8>,\n",
       " <advancedclassify.matchrow instance at 0x1084fccb0>,\n",
       " <advancedclassify.matchrow instance at 0x1081b9320>,\n",
       " <advancedclassify.matchrow instance at 0x1081b9098>,\n",
       " <advancedclassify.matchrow instance at 0x1081b90e0>,\n",
       " <advancedclassify.matchrow instance at 0x1081b9050>,\n",
       " <advancedclassify.matchrow instance at 0x1081b92d8>,\n",
       " <advancedclassify.matchrow instance at 0x1081b9ab8>,\n",
       " <advancedclassify.matchrow instance at 0x1081b9878>,\n",
       " <advancedclassify.matchrow instance at 0x1081b95f0>,\n",
       " <advancedclassify.matchrow instance at 0x1081b9dd0>,\n",
       " <advancedclassify.matchrow instance at 0x1081b98c0>,\n",
       " <advancedclassify.matchrow instance at 0x1081b9bd8>,\n",
       " <advancedclassify.matchrow instance at 0x1081b9908>,\n",
       " <advancedclassify.matchrow instance at 0x1081b9cb0>,\n",
       " <advancedclassify.matchrow instance at 0x1081b9680>,\n",
       " <advancedclassify.matchrow instance at 0x1081b9ef0>,\n",
       " <advancedclassify.matchrow instance at 0x1081b9c20>,\n",
       " <advancedclassify.matchrow instance at 0x1081b9b90>,\n",
       " <advancedclassify.matchrow instance at 0x1081b9d88>,\n",
       " <advancedclassify.matchrow instance at 0x1084b7908>,\n",
       " <advancedclassify.matchrow instance at 0x1084b7c20>,\n",
       " <advancedclassify.matchrow instance at 0x1084b7cf8>,\n",
       " <advancedclassify.matchrow instance at 0x1084b7f38>,\n",
       " <advancedclassify.matchrow instance at 0x1084b7a70>,\n",
       " <advancedclassify.matchrow instance at 0x1084b7830>,\n",
       " <advancedclassify.matchrow instance at 0x1084b75f0>,\n",
       " <advancedclassify.matchrow instance at 0x1084b7b48>,\n",
       " <advancedclassify.matchrow instance at 0x1084b7050>,\n",
       " <advancedclassify.matchrow instance at 0x1084b7fc8>,\n",
       " <advancedclassify.matchrow instance at 0x1084b79e0>,\n",
       " <advancedclassify.matchrow instance at 0x1084b7098>,\n",
       " <advancedclassify.matchrow instance at 0x1084b71b8>,\n",
       " <advancedclassify.matchrow instance at 0x1084b7950>,\n",
       " <advancedclassify.matchrow instance at 0x1084b78c0>,\n",
       " <advancedclassify.matchrow instance at 0x1084b7d40>,\n",
       " <advancedclassify.matchrow instance at 0x1084a8830>,\n",
       " <advancedclassify.matchrow instance at 0x1084a8d40>,\n",
       " <advancedclassify.matchrow instance at 0x1084a8ab8>,\n",
       " <advancedclassify.matchrow instance at 0x1084a80e0>,\n",
       " <advancedclassify.matchrow instance at 0x1084a8b48>,\n",
       " <advancedclassify.matchrow instance at 0x1084a8a70>,\n",
       " <advancedclassify.matchrow instance at 0x1084a85a8>,\n",
       " <advancedclassify.matchrow instance at 0x1084a8f38>,\n",
       " <advancedclassify.matchrow instance at 0x1084a85f0>,\n",
       " <advancedclassify.matchrow instance at 0x1084a8a28>,\n",
       " <advancedclassify.matchrow instance at 0x108387d88>,\n",
       " <advancedclassify.matchrow instance at 0x108387cf8>,\n",
       " <advancedclassify.matchrow instance at 0x108387998>,\n",
       " <advancedclassify.matchrow instance at 0x108387098>,\n",
       " <advancedclassify.matchrow instance at 0x108387680>,\n",
       " <advancedclassify.matchrow instance at 0x108387b00>,\n",
       " <advancedclassify.matchrow instance at 0x108387c68>,\n",
       " <advancedclassify.matchrow instance at 0x1083870e0>,\n",
       " <advancedclassify.matchrow instance at 0x108387290>,\n",
       " <advancedclassify.matchrow instance at 0x1083875a8>,\n",
       " <advancedclassify.matchrow instance at 0x108387440>,\n",
       " <advancedclassify.matchrow instance at 0x1083875f0>,\n",
       " <advancedclassify.matchrow instance at 0x108387200>,\n",
       " <advancedclassify.matchrow instance at 0x1084e8f80>,\n",
       " <advancedclassify.matchrow instance at 0x1084e8b00>,\n",
       " <advancedclassify.matchrow instance at 0x1084e8e18>,\n",
       " <advancedclassify.matchrow instance at 0x1084e85f0>,\n",
       " <advancedclassify.matchrow instance at 0x1084e8560>,\n",
       " <advancedclassify.matchrow instance at 0x1084e8050>,\n",
       " <advancedclassify.matchrow instance at 0x1084e8b48>,\n",
       " <advancedclassify.matchrow instance at 0x1084e8248>,\n",
       " <advancedclassify.matchrow instance at 0x1084e80e0>,\n",
       " <advancedclassify.matchrow instance at 0x1084e8d40>,\n",
       " <advancedclassify.matchrow instance at 0x1084e8440>,\n",
       " <advancedclassify.matchrow instance at 0x1084e88c0>,\n",
       " <advancedclassify.matchrow instance at 0x1084e8998>,\n",
       " <advancedclassify.matchrow instance at 0x1084e82d8>,\n",
       " <advancedclassify.matchrow instance at 0x1084e8c20>,\n",
       " <advancedclassify.matchrow instance at 0x1084c7e60>,\n",
       " <advancedclassify.matchrow instance at 0x1084c7680>,\n",
       " <advancedclassify.matchrow instance at 0x1084c7d40>,\n",
       " <advancedclassify.matchrow instance at 0x1084c7a28>,\n",
       " <advancedclassify.matchrow instance at 0x1084c7830>,\n",
       " <advancedclassify.matchrow instance at 0x1084c77a0>,\n",
       " <advancedclassify.matchrow instance at 0x1084c7488>,\n",
       " <advancedclassify.matchrow instance at 0x1084c73f8>,\n",
       " <advancedclassify.matchrow instance at 0x1084c7170>,\n",
       " <advancedclassify.matchrow instance at 0x1084c7248>,\n",
       " <advancedclassify.matchrow instance at 0x1084c77e8>,\n",
       " <advancedclassify.matchrow instance at 0x1084c7440>,\n",
       " <advancedclassify.matchrow instance at 0x1084c7320>,\n",
       " <advancedclassify.matchrow instance at 0x1084c7ef0>,\n",
       " <advancedclassify.matchrow instance at 0x1084f6518>,\n",
       " <advancedclassify.matchrow instance at 0x1084f6440>,\n",
       " <advancedclassify.matchrow instance at 0x1084f6560>,\n",
       " <advancedclassify.matchrow instance at 0x1084f61b8>,\n",
       " <advancedclassify.matchrow instance at 0x1084f63b0>,\n",
       " <advancedclassify.matchrow instance at 0x1084f6878>,\n",
       " <advancedclassify.matchrow instance at 0x1084f6a28>,\n",
       " <advancedclassify.matchrow instance at 0x1084f6a70>,\n",
       " <advancedclassify.matchrow instance at 0x1084f6680>,\n",
       " <advancedclassify.matchrow instance at 0x1084f62d8>,\n",
       " <advancedclassify.matchrow instance at 0x1084f6320>,\n",
       " <advancedclassify.matchrow instance at 0x1084f6050>,\n",
       " <advancedclassify.matchrow instance at 0x1084f6ef0>,\n",
       " <advancedclassify.matchrow instance at 0x1084d0998>,\n",
       " <advancedclassify.matchrow instance at 0x1084d0cf8>,\n",
       " <advancedclassify.matchrow instance at 0x1084d0320>,\n",
       " <advancedclassify.matchrow instance at 0x1084d0d88>,\n",
       " <advancedclassify.matchrow instance at 0x1084d0290>,\n",
       " <advancedclassify.matchrow instance at 0x1084d0248>,\n",
       " <advancedclassify.matchrow instance at 0x1084d0050>,\n",
       " <advancedclassify.matchrow instance at 0x1084d0878>,\n",
       " <advancedclassify.matchrow instance at 0x1084d0b00>,\n",
       " <advancedclassify.matchrow instance at 0x1084d07a0>,\n",
       " <advancedclassify.matchrow instance at 0x1084d0128>,\n",
       " <advancedclassify.matchrow instance at 0x1084d07e8>,\n",
       " <advancedclassify.matchrow instance at 0x1084d0710>,\n",
       " <advancedclassify.matchrow instance at 0x1084d01b8>,\n",
       " <advancedclassify.matchrow instance at 0x1084d0b48>,\n",
       " <advancedclassify.matchrow instance at 0x1084d0908>,\n",
       " <advancedclassify.matchrow instance at 0x1083c4950>,\n",
       " <advancedclassify.matchrow instance at 0x1083c4440>,\n",
       " <advancedclassify.matchrow instance at 0x1083c4710>,\n",
       " <advancedclassify.matchrow instance at 0x1083c48c0>,\n",
       " <advancedclassify.matchrow instance at 0x1083c4680>,\n",
       " <advancedclassify.matchrow instance at 0x1083c4e60>,\n",
       " <advancedclassify.matchrow instance at 0x1083c4ea8>,\n",
       " <advancedclassify.matchrow instance at 0x1083c4d88>,\n",
       " <advancedclassify.matchrow instance at 0x1083c4bd8>,\n",
       " <advancedclassify.matchrow instance at 0x1083c4a28>,\n",
       " <advancedclassify.matchrow instance at 0x1083c4908>,\n",
       " <advancedclassify.matchrow instance at 0x1083c47e8>,\n",
       " <advancedclassify.matchrow instance at 0x1083c4638>,\n",
       " <advancedclassify.matchrow instance at 0x1083c4488>,\n",
       " <advancedclassify.matchrow instance at 0x1083c4368>,\n",
       " <advancedclassify.matchrow instance at 0x1083c4248>,\n",
       " <advancedclassify.matchrow instance at 0x1083c4128>,\n",
       " <advancedclassify.matchrow instance at 0x1083c4200>,\n",
       " <advancedclassify.matchrow instance at 0x1083c4320>,\n",
       " <advancedclassify.matchrow instance at 0x1083c43b0>,\n",
       " <advancedclassify.matchrow instance at 0x1083c4fc8>,\n",
       " <advancedclassify.matchrow instance at 0x1083ae3f8>,\n",
       " <advancedclassify.matchrow instance at 0x1083aec68>,\n",
       " <advancedclassify.matchrow instance at 0x1083ae908>,\n",
       " <advancedclassify.matchrow instance at 0x1083ae488>,\n",
       " <advancedclassify.matchrow instance at 0x1083ae248>,\n",
       " <advancedclassify.matchrow instance at 0x1083ae4d0>,\n",
       " <advancedclassify.matchrow instance at 0x1083aecf8>,\n",
       " <advancedclassify.matchrow instance at 0x1083ae5a8>,\n",
       " <advancedclassify.matchrow instance at 0x1083ae950>,\n",
       " <advancedclassify.matchrow instance at 0x1083ae290>,\n",
       " <advancedclassify.matchrow instance at 0x1083ae1b8>,\n",
       " <advancedclassify.matchrow instance at 0x1083ae680>,\n",
       " <advancedclassify.matchrow instance at 0x1083ae710>,\n",
       " <advancedclassify.matchrow instance at 0x1083ae170>,\n",
       " <advancedclassify.matchrow instance at 0x1083ae560>,\n",
       " <advancedclassify.matchrow instance at 0x1083ae440>,\n",
       " <advancedclassify.matchrow instance at 0x1083ae7e8>,\n",
       " <advancedclassify.matchrow instance at 0x1083aeab8>,\n",
       " <advancedclassify.matchrow instance at 0x1083aeb90>,\n",
       " <advancedclassify.matchrow instance at 0x1083aef80>,\n",
       " <advancedclassify.matchrow instance at 0x1083ae7a0>,\n",
       " <advancedclassify.matchrow instance at 0x1083ae518>,\n",
       " <advancedclassify.matchrow instance at 0x1083acbd8>,\n",
       " <advancedclassify.matchrow instance at 0x1083acd88>,\n",
       " <advancedclassify.matchrow instance at 0x1083ac4d0>,\n",
       " <advancedclassify.matchrow instance at 0x1083ac098>,\n",
       " <advancedclassify.matchrow instance at 0x1083ac680>,\n",
       " <advancedclassify.matchrow instance at 0x1083acef0>,\n",
       " <advancedclassify.matchrow instance at 0x1083ac908>,\n",
       " <advancedclassify.matchrow instance at 0x1083acd40>,\n",
       " <advancedclassify.matchrow instance at 0x1083ac830>,\n",
       " <advancedclassify.matchrow instance at 0x1083acab8>,\n",
       " <advancedclassify.matchrow instance at 0x1083ac2d8>,\n",
       " <advancedclassify.matchrow instance at 0x1083ac440>,\n",
       " <advancedclassify.matchrow instance at 0x1083ac7a0>,\n",
       " <advancedclassify.matchrow instance at 0x1083ac9e0>,\n",
       " <advancedclassify.matchrow instance at 0x1083acf38>,\n",
       " <advancedclassify.matchrow instance at 0x1083acb00>,\n",
       " <advancedclassify.matchrow instance at 0x1083ac560>,\n",
       " <advancedclassify.matchrow instance at 0x1083ace60>,\n",
       " <advancedclassify.matchrow instance at 0x1083acb90>,\n",
       " <advancedclassify.matchrow instance at 0x1083ac638>,\n",
       " <advancedclassify.matchrow instance at 0x1083ac710>,\n",
       " <advancedclassify.matchrow instance at 0x1083ac488>,\n",
       " <advancedclassify.matchrow instance at 0x1083ac128>,\n",
       " <advancedclassify.matchrow instance at 0x1083ca950>,\n",
       " <advancedclassify.matchrow instance at 0x1083ca830>,\n",
       " <advancedclassify.matchrow instance at 0x1083ca0e0>,\n",
       " <advancedclassify.matchrow instance at 0x1083cadd0>,\n",
       " <advancedclassify.matchrow instance at 0x1083ca488>,\n",
       " <advancedclassify.matchrow instance at 0x1083ca1b8>,\n",
       " <advancedclassify.matchrow instance at 0x1083ca128>,\n",
       " <advancedclassify.matchrow instance at 0x1083cab00>,\n",
       " <advancedclassify.matchrow instance at 0x1083ca518>,\n",
       " <advancedclassify.matchrow instance at 0x1083ca200>,\n",
       " <advancedclassify.matchrow instance at 0x1083cacb0>,\n",
       " <advancedclassify.matchrow instance at 0x1083ca320>,\n",
       " <advancedclassify.matchrow instance at 0x1083cab90>,\n",
       " <advancedclassify.matchrow instance at 0x1083ca560>,\n",
       " <advancedclassify.matchrow instance at 0x1083ca758>,\n",
       " <advancedclassify.matchrow instance at 0x1083ca908>,\n",
       " <advancedclassify.matchrow instance at 0x1083caa28>,\n",
       " <advancedclassify.matchrow instance at 0x1083cab48>,\n",
       " <advancedclassify.matchrow instance at 0x1083cac68>,\n",
       " <advancedclassify.matchrow instance at 0x1083caea8>,\n",
       " <advancedclassify.matchrow instance at 0x1083cafc8>,\n",
       " <advancedclassify.matchrow instance at 0x1083cea70>,\n",
       " <advancedclassify.matchrow instance at 0x1083ceb90>,\n",
       " <advancedclassify.matchrow instance at 0x1083cecb0>,\n",
       " <advancedclassify.matchrow instance at 0x1083ce830>,\n",
       " <advancedclassify.matchrow instance at 0x1083ce680>,\n",
       " <advancedclassify.matchrow instance at 0x1083ced40>,\n",
       " <advancedclassify.matchrow instance at 0x1083ce290>,\n",
       " <advancedclassify.matchrow instance at 0x1083ce440>,\n",
       " <advancedclassify.matchrow instance at 0x1083cef80>,\n",
       " <advancedclassify.matchrow instance at 0x1083ce4d0>,\n",
       " <advancedclassify.matchrow instance at 0x1083ce1b8>,\n",
       " <advancedclassify.matchrow instance at 0x1083ce368>,\n",
       " <advancedclassify.matchrow instance at 0x1083ce488>,\n",
       " <advancedclassify.matchrow instance at 0x1083ce5a8>,\n",
       " <advancedclassify.matchrow instance at 0x1083ce6c8>,\n",
       " <advancedclassify.matchrow instance at 0x1083ce7e8>,\n",
       " <advancedclassify.matchrow instance at 0x1083ce908>,\n",
       " <advancedclassify.matchrow instance at 0x1083ceb48>,\n",
       " <advancedclassify.matchrow instance at 0x1083cec68>,\n",
       " <advancedclassify.matchrow instance at 0x1083ceea8>,\n",
       " <advancedclassify.matchrow instance at 0x1083cefc8>,\n",
       " <advancedclassify.matchrow instance at 0x1083c6290>,\n",
       " <advancedclassify.matchrow instance at 0x1083c6680>,\n",
       " <advancedclassify.matchrow instance at 0x1083c6710>,\n",
       " <advancedclassify.matchrow instance at 0x1083c6050>,\n",
       " <advancedclassify.matchrow instance at 0x1083c6950>,\n",
       " <advancedclassify.matchrow instance at 0x1083c6b00>,\n",
       " <advancedclassify.matchrow instance at 0x1083c6e60>,\n",
       " <advancedclassify.matchrow instance at 0x1083c63b0>,\n",
       " <advancedclassify.matchrow instance at 0x1083c65f0>,\n",
       " <advancedclassify.matchrow instance at 0x1083c6cb0>,\n",
       " <advancedclassify.matchrow instance at 0x1083c6128>,\n",
       " <advancedclassify.matchrow instance at 0x1083c6248>,\n",
       " <advancedclassify.matchrow instance at 0x1083c6368>,\n",
       " <advancedclassify.matchrow instance at 0x1083c6488>,\n",
       " <advancedclassify.matchrow instance at 0x1083c66c8>,\n",
       " <advancedclassify.matchrow instance at 0x1083c67e8>,\n",
       " <advancedclassify.matchrow instance at 0x1083c6908>,\n",
       " <advancedclassify.matchrow instance at 0x1083c6a28>,\n",
       " <advancedclassify.matchrow instance at 0x1083c6b48>,\n",
       " <advancedclassify.matchrow instance at 0x1083c6c68>,\n",
       " <advancedclassify.matchrow instance at 0x1083c6d88>,\n",
       " <advancedclassify.matchrow instance at 0x1083c6ea8>,\n",
       " <advancedclassify.matchrow instance at 0x1083a63b0>,\n",
       " <advancedclassify.matchrow instance at 0x1083a6200>,\n",
       " <advancedclassify.matchrow instance at 0x1083a6290>,\n",
       " <advancedclassify.matchrow instance at 0x1083a6d40>,\n",
       " <advancedclassify.matchrow instance at 0x1083a6a70>,\n",
       " <advancedclassify.matchrow instance at 0x1083a60e0>,\n",
       " <advancedclassify.matchrow instance at 0x1083a6cb0>,\n",
       " <advancedclassify.matchrow instance at 0x1083a6050>,\n",
       " <advancedclassify.matchrow instance at 0x1083a6b90>,\n",
       " <advancedclassify.matchrow instance at 0x1083a6320>,\n",
       " <advancedclassify.matchrow instance at 0x1083a67a0>,\n",
       " <advancedclassify.matchrow instance at 0x1083a61b8>,\n",
       " <advancedclassify.matchrow instance at 0x1083a6368>,\n",
       " <advancedclassify.matchrow instance at 0x1083a6488>,\n",
       " <advancedclassify.matchrow instance at 0x1083a65a8>,\n",
       " <advancedclassify.matchrow instance at 0x1083a66c8>,\n",
       " <advancedclassify.matchrow instance at 0x1083a67e8>,\n",
       " <advancedclassify.matchrow instance at 0x1083a6998>,\n",
       " <advancedclassify.matchrow instance at 0x1083a6ab8>,\n",
       " <advancedclassify.matchrow instance at 0x1083a6bd8>,\n",
       " <advancedclassify.matchrow instance at 0x1083a6cf8>,\n",
       " <advancedclassify.matchrow instance at 0x1083a6ea8>,\n",
       " <advancedclassify.matchrow instance at 0x1083a6fc8>,\n",
       " <advancedclassify.matchrow instance at 0x1083b20e0>,\n",
       " <advancedclassify.matchrow instance at 0x1083b2950>,\n",
       " <advancedclassify.matchrow instance at 0x1083b2200>,\n",
       " <advancedclassify.matchrow instance at 0x1083b26c8>,\n",
       " <advancedclassify.matchrow instance at 0x1083b2830>,\n",
       " <advancedclassify.matchrow instance at 0x1083b2ef0>,\n",
       " <advancedclassify.matchrow instance at 0x1083b2368>,\n",
       " <advancedclassify.matchrow instance at 0x1083b2908>,\n",
       " <advancedclassify.matchrow instance at 0x1083b2ab8>,\n",
       " <advancedclassify.matchrow instance at 0x1083b2518>,\n",
       " <advancedclassify.matchrow instance at 0x1083b22d8>,\n",
       " <advancedclassify.matchrow instance at 0x1083b2a28>,\n",
       " <advancedclassify.matchrow instance at 0x1083b2758>,\n",
       " <advancedclassify.matchrow instance at 0x1083b2ea8>,\n",
       " <advancedclassify.matchrow instance at 0x1083b2878>,\n",
       " <advancedclassify.matchrow instance at 0x1083b2c68>,\n",
       " <advancedclassify.matchrow instance at 0x1083b2b90>,\n",
       " <advancedclassify.matchrow instance at 0x1083b2710>,\n",
       " <advancedclassify.matchrow instance at 0x1083b2050>,\n",
       " <advancedclassify.matchrow instance at 0x108382170>,\n",
       " <advancedclassify.matchrow instance at 0x108382c20>,\n",
       " <advancedclassify.matchrow instance at 0x108382368>,\n",
       " <advancedclassify.matchrow instance at 0x1083823f8>,\n",
       " <advancedclassify.matchrow instance at 0x108382320>,\n",
       " <advancedclassify.matchrow instance at 0x108382908>,\n",
       " <advancedclassify.matchrow instance at 0x108382950>,\n",
       " <advancedclassify.matchrow instance at 0x108382e60>,\n",
       " <advancedclassify.matchrow instance at 0x108382b48>,\n",
       " <advancedclassify.matchrow instance at 0x1083826c8>,\n",
       " <advancedclassify.matchrow instance at 0x108382248>,\n",
       " <advancedclassify.matchrow instance at 0x108382998>,\n",
       " <advancedclassify.matchrow instance at 0x1083825a8>,\n",
       " <advancedclassify.matchrow instance at 0x108382d88>,\n",
       " <advancedclassify.matchrow instance at 0x108382e18>,\n",
       " <advancedclassify.matchrow instance at 0x108382710>,\n",
       " <advancedclassify.matchrow instance at 0x108382f38>,\n",
       " <advancedclassify.matchrow instance at 0x108382758>,\n",
       " <advancedclassify.matchrow instance at 0x108382fc8>,\n",
       " <advancedclassify.matchrow instance at 0x1083aae18>,\n",
       " <advancedclassify.matchrow instance at 0x1083aa0e0>,\n",
       " <advancedclassify.matchrow instance at 0x1083aa9e0>,\n",
       " <advancedclassify.matchrow instance at 0x1083aa128>,\n",
       " <advancedclassify.matchrow instance at 0x1083aa170>,\n",
       " <advancedclassify.matchrow instance at 0x1083aaf80>,\n",
       " <advancedclassify.matchrow instance at 0x1083aad88>,\n",
       " <advancedclassify.matchrow instance at 0x1083aa200>,\n",
       " <advancedclassify.matchrow instance at 0x1083aa8c0>,\n",
       " <advancedclassify.matchrow instance at 0x1083aad40>,\n",
       " <advancedclassify.matchrow instance at 0x1083aadd0>,\n",
       " <advancedclassify.matchrow instance at 0x1083aa680>,\n",
       " <advancedclassify.matchrow instance at 0x1083aa998>,\n",
       " <advancedclassify.matchrow instance at 0x1083aa3f8>,\n",
       " <advancedclassify.matchrow instance at 0x1083aacf8>,\n",
       " <advancedclassify.matchrow instance at 0x1083aa638>,\n",
       " <advancedclassify.matchrow instance at 0x1083aa6c8>,\n",
       " <advancedclassify.matchrow instance at 0x1083aa098>,\n",
       " <advancedclassify.matchrow instance at 0x1083aaab8>,\n",
       " <advancedclassify.matchrow instance at 0x1083aa518>,\n",
       " <advancedclassify.matchrow instance at 0x1083c7cf8>,\n",
       " <advancedclassify.matchrow instance at 0x1083c7170>,\n",
       " <advancedclassify.matchrow instance at 0x1083c79e0>,\n",
       " <advancedclassify.matchrow instance at 0x1083c7b90>,\n",
       " <advancedclassify.matchrow instance at 0x1083c78c0>,\n",
       " <advancedclassify.matchrow instance at 0x1083c7830>,\n",
       " <advancedclassify.matchrow instance at 0x1083c7560>,\n",
       " <advancedclassify.matchrow instance at 0x1083c7e60>,\n",
       " <advancedclassify.matchrow instance at 0x1083c74d0>,\n",
       " <advancedclassify.matchrow instance at 0x1083c7638>,\n",
       " <advancedclassify.matchrow instance at 0x1083c7f80>,\n",
       " <advancedclassify.matchrow instance at 0x1083c7908>,\n",
       " <advancedclassify.matchrow instance at 0x1083c7b48>,\n",
       " <advancedclassify.matchrow instance at 0x1083c7d88>,\n",
       " <advancedclassify.matchrow instance at 0x1083c7998>,\n",
       " <advancedclassify.matchrow instance at 0x1083c72d8>,\n",
       " <advancedclassify.matchrow instance at 0x1083c7e18>,\n",
       " <advancedclassify.matchrow instance at 0x1083c7488>,\n",
       " <advancedclassify.matchrow instance at 0x1083c7dd0>,\n",
       " <advancedclassify.matchrow instance at 0x1083c7128>,\n",
       " <advancedclassify.matchrow instance at 0x1083c7368>,\n",
       " <advancedclassify.matchrow instance at 0x1083c7098>,\n",
       " <advancedclassify.matchrow instance at 0x1083a8830>,\n",
       " <advancedclassify.matchrow instance at 0x1083a8560>,\n",
       " <advancedclassify.matchrow instance at 0x1083a80e0>,\n",
       " <advancedclassify.matchrow instance at 0x1083a8c20>,\n",
       " <advancedclassify.matchrow instance at 0x1083a8680>,\n",
       " <advancedclassify.matchrow instance at 0x1083a8710>,\n",
       " <advancedclassify.matchrow instance at 0x1083a8050>,\n",
       " <advancedclassify.matchrow instance at 0x1083a8f80>,\n",
       " <advancedclassify.matchrow instance at 0x1083a8dd0>,\n",
       " <advancedclassify.matchrow instance at 0x1083a8320>,\n",
       " <advancedclassify.matchrow instance at 0x1083a8128>,\n",
       " <advancedclassify.matchrow instance at 0x1083a86c8>,\n",
       " <advancedclassify.matchrow instance at 0x1083a8098>,\n",
       " <advancedclassify.matchrow instance at 0x1083a8bd8>,\n",
       " <advancedclassify.matchrow instance at 0x1083a8fc8>,\n",
       " <advancedclassify.matchrow instance at 0x1083a8cf8>]"
      ]
     },
     "execution_count": 6,
     "metadata": {},
     "output_type": "execute_result"
    }
   ],
   "source": [
    "matchmaker"
   ]
  },
  {
   "cell_type": "markdown",
   "metadata": {},
   "source": [
    "#2. 데이터를 다루는 어려움\n",
    "\n",
    "## 중매 데이터의 특성\n",
    "- 비선형(nonlinearity)\n",
    "- 변수 간 상호작용 (interplay)\n",
    "\n",
    "## 시각화\n",
    "- 남성 나이 대 여성 나이 산포도(scatter plot)\n",
    "- O: 베필임\n",
    "- +: 베필 아님\n",
    "- 결론\n",
    "  - 사람들은 각자의 나이 범위 내에서만 만남. 그러나, 이 경계는 나이가 들어감에 따라 불명확해짐\n",
    "  - x: 남자로 추정, y: 여자로 추정\n",
    "  - 남자 나이 25살까지 자기보다 나이어리거나 약간 많은 여자와 배필이 된다.\n",
    "  - 남자 나이 30살 이상이면, 17 ~ 50세의 여자와 배필이 된다.\n",
    "  - 여자 나이 30살이면, 25 ~ 50세의 남자와 배필이 된다."
   ]
  },
  {
   "cell_type": "code",
   "execution_count": 7,
   "metadata": {
    "collapsed": true
   },
   "outputs": [],
   "source": [
    "%matplotlib inline"
   ]
  },
  {
   "cell_type": "code",
   "execution_count": 8,
   "metadata": {
    "collapsed": false
   },
   "outputs": [
    {
     "data": {
      "image/png": "[encoded data removed]",
      "text/plain": [
       "<matplotlib.figure.Figure at 0x108be6a50>"
      ]
     },
     "metadata": {},
     "output_type": "display_data"
    }
   ],
   "source": [
    "advancedclassify.plotagematches(agesonly)"
   ]
  },
  {
   "cell_type": "markdown",
   "metadata": {},
   "source": [
    "## 의사결정트리 분류기\n",
    "### Boundary creaed by a dicision tree\n",
    "\n",
    "![](Boundary created by a dicision tree.png)\n",
    "\n",
    "### Decision tree for curved boundary\n",
    "\n",
    "![](Decision tree for curved boundary.png)\n",
    "\n",
    "\n",
    "- 다중 숫자 입력들을 가진 문제에서 분류 결정이 종종 잘 동작하지 않음\n",
    "\""
   ]
  },
  {
   "cell_type": "markdown",
   "metadata": {
    "collapsed": true
   },
   "source": [
    "### 단점\n",
    "- 의사 결정 트리가 혼란스럽고 경직되어 있음\n",
    "- 다중 숫자 입력들을 가진 문제에서 분류 결정이 종종 잘 동작하지 않음\n"
   ]
  },
  {
   "cell_type": "markdown",
   "metadata": {},
   "source": [
    "#3. 기본 선형 분류\n",
    "\n",
    "## 방법\n",
    "- 각 범주(class) 내 모든 데이터들의 평균점(average point) 계산\n",
    "- 범주의 중앙을 나타내는 점을 생성\n",
    "\n",
    "## 실행 결과\n",
    "\n",
    "- X 점: 각각의 평균점을 의미\n",
    "- 분류 기준: 주어진 점이 어느 중앙점(ceter point, 여기서는 평균점을 사용함)이 가장 근접한지 판단\n",
    "- 분류선: 중앙점으로부터 분류선이 유도됨\n"
   ]
  },
  {
   "cell_type": "code",
   "execution_count": 9,
   "metadata": {
    "collapsed": false
   },
   "outputs": [
    {
     "data": {
      "image/png": "[encoded data removed]",
      "text/plain": [
       "<matplotlib.figure.Figure at 0x108d642d0>"
      ]
     },
     "metadata": {},
     "output_type": "display_data"
    }
   ],
   "source": [
    "xdm,ydm=[r.data[0] for r in agesonly if r.match==1],\\\n",
    "        [r.data[1] for r in agesonly if r.match==1]\n",
    "xdn,ydn=[r.data[0] for r in agesonly if r.match==0],\\\n",
    "        [r.data[1] for r in agesonly if r.match==0] \n",
    "  \n",
    "plot(xdm,ydm,'bo')\n",
    "plot(xdn,ydn,'b+')\n",
    "\n",
    "avgs=advancedclassify.lineartrain(agesonly)\n",
    "\n",
    "plot(avgs[1][0],avgs[1][1],'gx')\n",
    "plot(avgs[0][0],avgs[0][1],'rx')\n",
    "  \n",
    "show()"
   ]
  },
  {
   "cell_type": "markdown",
   "metadata": {},
   "source": [
    "![](Linear classifier using aerages.png)"
   ]
  },
  {
   "cell_type": "code",
   "execution_count": 10,
   "metadata": {
    "collapsed": false
   },
   "outputs": [
    {
     "data": {
      "text/plain": [
       "1"
      ]
     },
     "execution_count": 10,
     "metadata": {},
     "output_type": "execute_result"
    }
   ],
   "source": [
    "advancedclassify.dpclassify([30, 30], avgs)"
   ]
  },
  {
   "cell_type": "code",
   "execution_count": 11,
   "metadata": {
    "collapsed": false
   },
   "outputs": [
    {
     "data": {
      "text/plain": [
       "1"
      ]
     },
     "execution_count": 11,
     "metadata": {},
     "output_type": "execute_result"
    }
   ],
   "source": [
    "advancedclassify.dpclassify([30, 25], avgs)"
   ]
  },
  {
   "cell_type": "code",
   "execution_count": 12,
   "metadata": {
    "collapsed": false
   },
   "outputs": [
    {
     "data": {
      "text/plain": [
       "0"
      ]
     },
     "execution_count": 12,
     "metadata": {},
     "output_type": "execute_result"
    }
   ],
   "source": [
    "advancedclassify.dpclassify([25, 40], avgs)"
   ]
  },
  {
   "cell_type": "code",
   "execution_count": 13,
   "metadata": {
    "collapsed": false
   },
   "outputs": [
    {
     "data": {
      "text/plain": [
       "1"
      ]
     },
     "execution_count": 13,
     "metadata": {},
     "output_type": "execute_result"
    }
   ],
   "source": [
    "advancedclassify.dpclassify([48, 20], avgs)"
   ]
  },
  {
   "cell_type": "markdown",
   "metadata": {},
   "source": [
    "## 단점\n",
    "- 데이터를 직선으로 나눌 수 없는 경우나 다중 영역을 가진 경우 (본 예제처럼)에는 부정확하다\n",
    "  - 예) 남자 48세와 여자 20세가 배필인 것으로 오분류함\n",
    "- 커널 기법을 사용하면 선형 분류기를 개선해서 비선형 분류를 할 수 있다.\n"
   ]
  },
  {
   "cell_type": "markdown",
   "metadata": {},
   "source": [
    "#7. 지지벡터머신(SVM)\n",
    "\n",
    "## Linear average classifier misclassifies points\n",
    "\n",
    "![](Linear average classifier misclassifies points.png)\n",
    "\n",
    "## Finding the best dividing line\n",
    "\n",
    "![](Finding the best dividing line.png)"
   ]
  },
  {
   "cell_type": "markdown",
   "metadata": {},
   "source": [
    "## 방법\n",
    "- 지지 벡터 머신은 각 범주에서 가장 멀리 떨어진 선을 찾는다. 이 선을 최대허용 초평면(maximum-margin hyperplane)이라고 한다.\n",
    "- 구분선 근처의 점들을 지지 벡터(support vector)라고 부른다.\n",
    "- SVM은 지지 벡터를 찾고 이를 이용한 구분선을 찾는 알고리듬이다.\n",
    "\n",
    "## 장점\n",
    "- 고차원 데이터 세트에 잘 동작한다.\n"
   ]
  },
  {
   "cell_type": "markdown",
   "metadata": {},
   "source": [
    "#8. LIBSVM 사용\n",
    "\n",
    "- SVM 오픈 소스 라이브러리\n",
    "- C++ 버전, 자바 버전, svm.py(파이썬 래퍼)"
   ]
  },
  {
   "cell_type": "markdown",
   "metadata": {},
   "source": [
    "## 설치 방법\n",
    "- 다운로드: <http://www.csie.ntu.edu.tw/~cjlin/libsvm>\n",
    "- 책의 설치 방법은 책 github에 포함된 svm.py는 libsvm 최신 버전에 맞게 동작하지 않으므로 다음과 같이 한ㅇ다.\n"
   ]
  },
  {
   "cell_type": "code",
   "execution_count": 14,
   "metadata": {
    "collapsed": false
   },
   "outputs": [
    {
     "name": "stdout",
     "output_type": "stream",
     "text": [
      "/bin/sh: c:gitbingit: command not found\r\n"
     ]
    }
   ],
   "source": [
    "!c:\\git\\bin\\git clone https://github.com/cjlin1/libsvm libsvm-git\n"
   ]
  },
  {
   "cell_type": "markdown",
   "metadata": {},
   "source": [
    "- for 32 bit windows"
   ]
  },
  {
   "cell_type": "code",
   "execution_count": 10,
   "metadata": {
    "collapsed": false
   },
   "outputs": [],
   "source": [
    "#copy libsvm-git/windows/libsvm.dll c:/windows/system32"
   ]
  },
  {
   "cell_type": "raw",
   "metadata": {},
   "source": []
  },
  {
   "cell_type": "markdown",
   "metadata": {},
   "source": [
    "- overwrite svm.py in book github with svm.py in libsvm github"
   ]
  },
  {
   "cell_type": "code",
   "execution_count": 11,
   "metadata": {
    "collapsed": true
   },
   "outputs": [],
   "source": [
    "#copy libsvm-git\\python\\svm.py ."
   ]
  },
  {
   "cell_type": "markdown",
   "metadata": {},
   "source": [
    "## 간단한 libsvm 테스트"
   ]
  },
  {
   "cell_type": "code",
   "execution_count": 15,
   "metadata": {
    "collapsed": false
   },
   "outputs": [
    {
     "ename": "Exception",
     "evalue": "LIBSVM library not found.",
     "output_type": "error",
     "traceback": [
      "\u001b[0;31m---------------------------------------------------------------------------\u001b[0m",
      "\u001b[0;31mException\u001b[0m                                 Traceback (most recent call last)",
      "\u001b[0;32m<ipython-input-15-37ee910a2691>\u001b[0m in \u001b[0;36m<module>\u001b[0;34m()\u001b[0m\n\u001b[0;32m----> 1\u001b[0;31m \u001b[0;32mfrom\u001b[0m \u001b[0msvm\u001b[0m \u001b[0;32mimport\u001b[0m \u001b[0;34m*\u001b[0m\u001b[0;34m\u001b[0m\u001b[0m\n\u001b[0m\u001b[1;32m      2\u001b[0m \u001b[0;32mfrom\u001b[0m \u001b[0msvmutil\u001b[0m \u001b[0;32mimport\u001b[0m \u001b[0;34m*\u001b[0m\u001b[0;34m\u001b[0m\u001b[0m\n\u001b[1;32m      3\u001b[0m \u001b[0;34m\u001b[0m\u001b[0m\n\u001b[1;32m      4\u001b[0m \u001b[0;31m# 첫번째 리스트: 범주\u001b[0m\u001b[0;34m\u001b[0m\u001b[0;34m\u001b[0m\u001b[0m\n\u001b[1;32m      5\u001b[0m \u001b[0;31m# 두번째 리스트: 입력 데이터\u001b[0m\u001b[0;34m\u001b[0m\u001b[0;34m\u001b[0m\u001b[0m\n",
      "\u001b[0;32m/Volumes/C/tnb/ai/Programming Collective Intelligence/book-git/chapter9/svm.py\u001b[0m in \u001b[0;36m<module>\u001b[0;34m()\u001b[0m\n\u001b[1;32m     25\u001b[0m                 \u001b[0mlibsvm\u001b[0m \u001b[0;34m=\u001b[0m \u001b[0mCDLL\u001b[0m\u001b[0;34m(\u001b[0m\u001b[0mfind_library\u001b[0m\u001b[0;34m(\u001b[0m\u001b[0;34m'libsvm'\u001b[0m\u001b[0;34m)\u001b[0m\u001b[0;34m)\u001b[0m\u001b[0;34m\u001b[0m\u001b[0m\n\u001b[1;32m     26\u001b[0m         \u001b[0;32melse\u001b[0m\u001b[0;34m:\u001b[0m\u001b[0;34m\u001b[0m\u001b[0m\n\u001b[0;32m---> 27\u001b[0;31m                 \u001b[0;32mraise\u001b[0m \u001b[0mException\u001b[0m\u001b[0;34m(\u001b[0m\u001b[0;34m'LIBSVM library not found.'\u001b[0m\u001b[0;34m)\u001b[0m\u001b[0;34m\u001b[0m\u001b[0m\n\u001b[0m\u001b[1;32m     28\u001b[0m \u001b[0;34m\u001b[0m\u001b[0m\n\u001b[1;32m     29\u001b[0m \u001b[0mC_SVC\u001b[0m \u001b[0;34m=\u001b[0m \u001b[0;36m0\u001b[0m\u001b[0;34m\u001b[0m\u001b[0m\n",
      "\u001b[0;31mException\u001b[0m: LIBSVM library not found."
     ]
    }
   ],
   "source": [
    "from svm import *\n",
    "from svmutil import *\n",
    "\n",
    "# 첫번째 리스트: 범주\n",
    "# 두번째 리스트: 입력 데이터\n",
    "prob = svm_problem([1,-1], [[1,0,1], [-1,0,1]])\n",
    "\n",
    "# svm_parameter 만들어 사용할 커널 기법을 명시\n",
    "#param = svm_parameter(kernel_type = LINEAR, C = 10)\n",
    "param = svm_parameter()\n",
    "param.kernel_type = LINEAR\n",
    "param.C = 10\n",
    "\n",
    "# 이 모델로 학습\n",
    "m = svm_train(prob, param)\n",
    "\n",
    "# 새로운 데이터로 예측\n",
    "svm_predict([0], [[1, 1, 1]], m)"
   ]
  },
  {
   "cell_type": "code",
   "execution_count": 56,
   "metadata": {
    "collapsed": true
   },
   "outputs": [],
   "source": [
    "## 모델을 저장하고 로드\n",
    "svm_save_model('test.model', m)\n",
    "m = svm_load_model('test.model')"
   ]
  },
  {
   "cell_type": "markdown",
   "metadata": {
    "collapsed": false
   },
   "source": [
    "## 중매 데이터 세트에 SVM 적용하기\n"
   ]
  },
  {
   "cell_type": "code",
   "execution_count": 18,
   "metadata": {
    "collapsed": false
   },
   "outputs": [],
   "source": [
    "answers,inputs = [r.match for r in agesonly], [r.data for r in agesonly]\n",
    "param = svm_parameter()\n",
    "param.kernel_type = RBF\n",
    "prob = svm_problem(answers,inputs)\n",
    "m = svm_train(prob, param)"
   ]
  },
  {
   "cell_type": "code",
   "execution_count": 19,
   "metadata": {
    "collapsed": false
   },
   "outputs": [
    {
     "name": "stdout",
     "output_type": "stream",
     "text": [
      "Accuracy = 0% (0/1) (classification)\n"
     ]
    },
    {
     "data": {
      "text/plain": [
       "([1.0], (0.0, 1.0, nan), [[0.5069428452968884]])"
      ]
     },
     "execution_count": 19,
     "metadata": {},
     "output_type": "execute_result"
    }
   ],
   "source": [
    "# 남자는 자녀를 원하지 않고, 여자는 자녀를 원하는 경우\n",
    "newrow=[28.0,-1,-1,26.0,-1,1,2,0.8]\n",
    "svm_predict([0], [newrow], m)"
   ]
  },
  {
   "cell_type": "code",
   "execution_count": 14,
   "metadata": {
    "collapsed": false
   },
   "outputs": [
    {
     "name": "stdout",
     "output_type": "stream",
     "text": [
      "Accuracy = 0% (0/1) (classification)\n"
     ]
    },
    {
     "data": {
      "text/plain": [
       "([1.0], (0.0, 1.0, nan), [[0.5069428452968884]])"
      ]
     },
     "execution_count": 14,
     "metadata": {},
     "output_type": "execute_result"
    }
   ],
   "source": [
    "# 둘 다 자녀를 원하는 경우\n",
    "newrow=[28.0,-1,-1,26.0,-1,1,2,0.8]\n",
    "svm_predict([0], [newrow], m)"
   ]
  },
  {
   "cell_type": "markdown",
   "metadata": {},
   "source": [
    "### 모델에 대한 교차 검증\n",
    "- 데이터 세트를 다음과 같이 자동 구분\n",
    "  - 학습 세트: 모델 구축에 사용\n",
    "  - 검증 세트로 자동 구분: 예측이 얼마나 잘되었는지 확인\n",
    "- cross_validation(prob, param, n) function in svm.py\n",
    "  - 데이터 세트를 n 부분 세트로 분리한 후, 각 부분 세트를 검사 세트로 사용하고 나머지 부분세트를가지고 모델을 학습\n"
   ]
  },
  {
   "cell_type": "code",
   "execution_count": 21,
   "metadata": {
    "collapsed": false
   },
   "outputs": [
    {
     "ename": "NameError",
     "evalue": "name 'svm_cross_validation' is not defined",
     "output_type": "error",
     "traceback": [
      "\u001b[1;31m---------------------------------------------------------------------------\u001b[0m",
      "\u001b[1;31mNameError\u001b[0m                                 Traceback (most recent call last)",
      "\u001b[1;32m<ipython-input-21-0d0d99295da8>\u001b[0m in \u001b[0;36m<module>\u001b[1;34m()\u001b[0m\n\u001b[1;32m----> 1\u001b[1;33m \u001b[0mguesses\u001b[0m \u001b[1;33m=\u001b[0m \u001b[0msvm_cross_validation\u001b[0m\u001b[1;33m(\u001b[0m\u001b[0mprob\u001b[0m\u001b[1;33m,\u001b[0m \u001b[0mparam\u001b[0m\u001b[1;33m,\u001b[0m \u001b[1;36m4\u001b[0m\u001b[1;33m)\u001b[0m\u001b[1;33m\u001b[0m\u001b[0m\n\u001b[0m\u001b[0;32m      2\u001b[0m \u001b[0mguesses\u001b[0m\u001b[1;33m\u001b[0m\u001b[0m\n\u001b[0;32m      3\u001b[0m \u001b[0msum\u001b[0m\u001b[1;33m(\u001b[0m\u001b[1;33m[\u001b[0m\u001b[0mabs\u001b[0m\u001b[1;33m(\u001b[0m\u001b[0manswers\u001b[0m\u001b[1;33m[\u001b[0m\u001b[0mi\u001b[0m\u001b[1;33m]\u001b[0m\u001b[1;33m-\u001b[0m\u001b[0mguesses\u001b[0m\u001b[1;33m[\u001b[0m\u001b[0mi\u001b[0m\u001b[1;33m]\u001b[0m\u001b[1;33m)\u001b[0m \u001b[1;32mfor\u001b[0m \u001b[0mi\u001b[0m \u001b[1;32min\u001b[0m \u001b[0mrange\u001b[0m\u001b[1;33m(\u001b[0m\u001b[0mlen\u001b[0m\u001b[1;33m(\u001b[0m\u001b[0mguesses\u001b[0m\u001b[1;33m)\u001b[0m\u001b[1;33m)\u001b[0m\u001b[1;33m]\u001b[0m\u001b[1;33m)\u001b[0m\u001b[1;33m\u001b[0m\u001b[0m\n",
      "\u001b[1;31mNameError\u001b[0m: name 'svm_cross_validation' is not defined"
     ]
    }
   ],
   "source": [
    "guesses = svm_cross_validation(prob, param, 4)\n",
    "guesses\n",
    "sum([abs(answers[i]-guesses[i]) for i in range(len(guesses))])"
   ]
  },
  {
   "cell_type": "code",
   "execution_count": 25,
   "metadata": {
    "collapsed": false
   },
   "outputs": [
    {
     "name": "stdout",
     "output_type": "stream",
     "text": [
      "Cross Validation Accuracy = 95.6%\n"
     ]
    },
    {
     "data": {
      "text/plain": [
       "95.0"
      ]
     },
     "execution_count": 25,
     "metadata": {},
     "output_type": "execute_result"
    }
   ],
   "source": [
    "param = svm_parameter()\n",
    "param.cross_validation = True\n",
    "param.nr_fold = 4\n",
    "svm_train(prob, param)\n",
    "guesses\n",
    "# sum([abs(answers[i]-guesses[i]) for i in range(len(guesses))])"
   ]
  },
  {
   "cell_type": "code",
   "execution_count": 24,
   "metadata": {
    "collapsed": false
   },
   "outputs": [
    {
     "data": {
      "text/plain": [
       "95.0"
      ]
     },
     "execution_count": 24,
     "metadata": {},
     "output_type": "execute_result"
    }
   ],
   "source": [
    "guesses"
   ]
  },
  {
   "cell_type": "code",
   "execution_count": null,
   "metadata": {
    "collapsed": true
   },
   "outputs": [],
   "source": []
  }
 ],
 "metadata": {
  "kernelspec": {
   "display_name": "Python 2",
   "language": "python",
   "name": "python2"
  },
  "language_info": {
   "codemirror_mode": {
    "name": "ipython",
    "version": 2
   },
   "file_extension": ".py",
   "mimetype": "text/x-python",
   "name": "python",
   "nbconvert_exporter": "python",
   "pygments_lexer": "ipython2",
   "version": "2.7.10"
  }
 },
 "nbformat": 4,
 "nbformat_minor": 0
}
