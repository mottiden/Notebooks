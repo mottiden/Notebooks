{
 "metadata": {
  "name": "",
  "signature": "sha256:fb66232788be4df9f50b867b0bbdbc29a690bb9c4aedc195cec6ed98351e31ed"
 },
 "nbformat": 3,
 "nbformat_minor": 0,
 "worksheets": [
  {
   "cells": [
    {
     "cell_type": "markdown",
     "metadata": {},
     "source": [
      "**Quick, Non-Comprehensive Introduction to Python Syntax**\n",
      "\n",
      "Based on http://en.wikipedia.org/wiki/Python_syntax_and_semantics"
     ]
    },
    {
     "cell_type": "markdown",
     "metadata": {},
     "source": [
      "**Hello World**\n",
      "As easy as they go"
     ]
    },
    {
     "cell_type": "code",
     "collapsed": false,
     "input": [
      "print('Hello World!')"
     ],
     "language": "python",
     "metadata": {},
     "outputs": [
      {
       "output_type": "stream",
       "stream": "stdout",
       "text": [
        "Hello World!\n"
       ]
      }
     ],
     "prompt_number": 2
    },
    {
     "cell_type": "markdown",
     "metadata": {},
     "source": [
      "As a Script"
     ]
    },
    {
     "cell_type": "code",
     "collapsed": false,
     "input": [
      "#!/usr/bin/env python \n",
      "\n",
      "\n",
      "if __name__ == '__main__':\n",
      "    print('Hello World!')"
     ],
     "language": "python",
     "metadata": {},
     "outputs": [
      {
       "output_type": "stream",
       "stream": "stdout",
       "text": [
        "Hello World!\n"
       ]
      }
     ],
     "prompt_number": 3
    },
    {
     "cell_type": "markdown",
     "metadata": {},
     "source": [
      "**List of Python Keywords**"
     ]
    },
    {
     "cell_type": "code",
     "collapsed": false,
     "input": [
      "from keyword import kwlist\n",
      "for keyword in kwlist:\n",
      "    print(keyword)"
     ],
     "language": "python",
     "metadata": {},
     "outputs": [
      {
       "output_type": "stream",
       "stream": "stdout",
       "text": [
        "False\n",
        "None\n",
        "True\n",
        "and\n",
        "as\n",
        "assert\n",
        "break\n",
        "class\n",
        "continue\n",
        "def\n",
        "del\n",
        "elif\n",
        "else\n",
        "except\n",
        "finally\n",
        "for\n",
        "from\n",
        "global\n",
        "if\n",
        "import\n",
        "in\n",
        "is\n",
        "lambda\n",
        "nonlocal\n",
        "not\n",
        "or\n",
        "pass\n",
        "raise\n",
        "return\n",
        "try\n",
        "while\n",
        "with\n",
        "yield\n"
       ]
      }
     ],
     "prompt_number": 4
    },
    {
     "cell_type": "markdown",
     "metadata": {},
     "source": [
      "**Python uses whitespace to delimit program blocks**"
     ]
    },
    {
     "cell_type": "code",
     "collapsed": false,
     "input": [
      "def isEven(number):\n",
      "    return number%2==0\n",
      "\n",
      "for x in range(1,5):\n",
      "    #Loop starts here\n",
      "    if isEven(x):\n",
      "        print(x,'is even')\n",
      "    else:\n",
      "        print(x,'is odd')\n",
      "    print('This will be printed every iteration')\n",
      "    #Loop ends here\n",
      "print('This will only be printed once')"
     ],
     "language": "python",
     "metadata": {},
     "outputs": [
      {
       "output_type": "stream",
       "stream": "stdout",
       "text": [
        "1 is odd\n",
        "This will be printed every iteration\n",
        "2 is even\n",
        "This will be printed every iteration\n",
        "3 is odd\n",
        "This will be printed every iteration\n",
        "4 is even\n",
        "This will be printed every iteration\n",
        "This will only be printed once\n"
       ]
      }
     ],
     "prompt_number": 15
    },
    {
     "cell_type": "markdown",
     "metadata": {},
     "source": [
      "**Data Structures**"
     ]
    },
    {
     "cell_type": "code",
     "collapsed": false,
     "input": [
      "def a_function(an_argument):\n",
      "  \n",
      "  #An inline comment\n",
      "    \n",
      "  a_string = 'String'\n",
      "  \n",
      "  # Raw strings are useful to avoid string formatting, I mainly use them for file paths\n",
      "    \n",
      "  a_raw_string = r'C:\\Foo\\Bar'\n",
      "    \n",
      "  an_integer = 2\n",
      "    \n",
      "  a_float = 3.14\n",
      "\n",
      "  #Lists are your standard collections\n",
      "  a_list = [1,2,3,'Four']\n",
      "\n",
      "  #Access the list\n",
      "  a_list[0] # is 1\n",
      "\n",
      "  #Dictionaries are key-value stores\n",
      "  a_dictionary = {'Key'       : 'Value',\n",
      "                  'Perth'     : 'Just Right',\n",
      "                  'Melbourne' : 'Bad Weather',\n",
      "                  'Sydney'    : 'Too Busy'}\n",
      "\n",
      "  #Access the Dictionary\n",
      "  a_dictionary['Perth'] # is equal to 'Just Right'\n",
      "    \n",
      "  #Tuples are like lists but are immutable, I personally don't use them very much\n",
      "  a_tuple = ('Perth', 'Melbourne', 'Sydney')\n",
      "\n",
      "  #Access a tuple\n",
      "\n",
      "  a_tuple[0] # == Perth\n",
      "    \n",
      "  #Sets are unordered collections of unique elements, they are very useful for set operations!\n",
      "  a_set = {0, False, 'Perth'}"
     ],
     "language": "python",
     "metadata": {},
     "outputs": [],
     "prompt_number": 5
    },
    {
     "cell_type": "markdown",
     "metadata": {},
     "source": [
      "**Functional Programming**"
     ]
    },
    {
     "cell_type": "code",
     "collapsed": false,
     "input": [
      "#List comprehensions are one of the most useful features of python\n",
      "#Creating complicated lists becomes easy!\n",
      "\n",
      "X = [x for x in range(0,100) if x%3==0]\n",
      "\n",
      "#Anonymous functions\n",
      "\n",
      "double = lambda x: x + x\n",
      "\n",
      "#map may be more readable than list comprehensions if you have already defined a function\n",
      "#In Python 3 it returns an iterable rather than a list for efficiency\n",
      "\n",
      "map(double, range(0,10))\n",
      "\n",
      "for number in map(double, range(0,10)):\n",
      "    print(number)"
     ],
     "language": "python",
     "metadata": {},
     "outputs": [
      {
       "output_type": "stream",
       "stream": "stdout",
       "text": [
        "0\n",
        "2\n",
        "4\n",
        "6\n",
        "8\n",
        "10\n",
        "12\n",
        "14\n",
        "16\n",
        "18\n"
       ]
      }
     ],
     "prompt_number": 14
    }
   ],
   "metadata": {}
  }
 ]
}